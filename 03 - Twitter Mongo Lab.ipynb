{
 "metadata": {
  "name": "",
  "signature": "sha256:bed1bb9004153fb62e3532f1131de2253063aa2b2f70bbc840ab0f4b303c84f8"
 },
 "nbformat": 3,
 "nbformat_minor": 0,
 "worksheets": [
  {
   "cells": [
    {
     "cell_type": "markdown",
     "metadata": {
      "slideshow": {
       "slide_type": "slide"
      }
     },
     "source": [
      "Lab\n",
      "===================\n",
      "Twitter & MongoDB\n",
      "-------------------\n",
      "Alessandro D. Gagliardi"
     ]
    },
    {
     "cell_type": "markdown",
     "metadata": {
      "slideshow": {
       "slide_type": "subslide"
      }
     },
     "source": [
      "Importing Libraries\n",
      "-------------------"
     ]
    },
    {
     "cell_type": "code",
     "collapsed": false,
     "input": [
      "# standard library:\n",
      "import os  \n",
      "\n",
      "from pprint import pprint\n",
      "\n",
      "# other modules:\n",
      "import matplotlib.pyplot as plt\n",
      "import pandas as pd\n",
      "import twitter\n",
      "import yaml\n",
      "\n",
      "from pymongo import MongoClient"
     ],
     "language": "python",
     "metadata": {
      "slideshow": {
       "slide_type": "-"
      }
     },
     "outputs": [],
<<<<<<< HEAD
     "prompt_number": 2
=======
     "prompt_number": 13
>>>>>>> d16d25283f72d0d06ee236059e22eaf2c703b8b9
    },
    {
     "cell_type": "markdown",
     "metadata": {
      "slideshow": {
       "slide_type": "slide"
      }
     },
     "source": [
      "Twitter Trends\n",
      "=============="
     ]
    },
    {
     "cell_type": "heading",
     "level": 3,
     "metadata": {
      "slideshow": {
       "slide_type": "subslide"
      }
     },
     "source": [
      "Connect to Twitter:"
     ]
    },
    {
     "cell_type": "markdown",
     "metadata": {},
     "source": [
      "Create a credentials file in your home directory called `api_cred.yml` (based on `DAT_SF_12/dummy_api_cred.yml`) that looks like:\n",
      "```yaml\n",
      "API_KEY: your_twitter_key\n",
      "API_SECRET: your_twitter_secret\n",
      "ACCESS_TOKEN: your_twitter_access_token\n",
      "ACCESS_TOKEN_SECRET: your_twitter_access_token_secret\n",
      "```"
     ]
    },
    {
     "cell_type": "code",
     "collapsed": false,
     "input": [
      "credentials = yaml.load(open(os.path.expanduser('~/api_cred.yml')))\n",
      "\n",
      "auth = twitter.oauth.OAuth(credentials['ACCESS_TOKEN'], \n",
      "                           credentials['ACCESS_TOKEN_SECRET'],\n",
      "                           credentials['API_KEY'],\n",
      "                           credentials['API_SECRET'])\n",
      "\n",
      "twitter_api = twitter.Twitter(auth=auth)"
     ],
     "language": "python",
     "metadata": {
      "slideshow": {
       "slide_type": "-"
      }
     },
     "outputs": [],
     "prompt_number": 3
    },
    {
     "cell_type": "code",
     "collapsed": false,
     "input": [
      "# The Yahoo! Where On Earth ID for the entire world is 1.\n",
      "# See https://dev.twitter.com/docs/api/1.1/get/trends/place and\n",
      "# http://developer.yahoo.com/geo/geoplanet/\n",
      "\n",
      "WORLD_WOE_ID = 1\n",
      "US_WOE_ID = 23424977\n",
      "\n",
      "# Prefix ID with the underscore for query string parameterization.\n",
      "# Without the underscore, the twitter package appends the ID value\n",
      "# to the URL itself as a special case keyword argument.\n",
      "\n",
      "world_trends = twitter_api.trends.place(_id=WORLD_WOE_ID)\n",
      "us_trends = twitter_api.trends.place(_id=US_WOE_ID)\n",
      "\n",
      "pprint(world_trends)"
     ],
     "language": "python",
     "metadata": {
      "slideshow": {
       "slide_type": "slide"
      }
     },
     "outputs": [
      {
       "output_type": "stream",
       "stream": "stdout",
       "text": [
        "[{u'as_of': u'2015-01-25T20:17:51Z',\n",
        "  u'created_at': u'2015-01-25T20:10:45Z',\n",
        "  u'locations': [{u'name': u'Worldwide', u'woeid': 1}],\n",
        "  u'trends': [{u'name': u'#FiorentinaRoma',\n",
        "               u'promoted_content': None,\n",
        "               u'query': u'%23FiorentinaRoma',\n",
        "               u'url': u'http://twitter.com/search?q=%23FiorentinaRoma'},\n",
        "              {u'name': u'#UkipFilmTitles',\n",
        "               u'promoted_content': None,\n",
        "               u'query': u'%23UkipFilmTitles',\n",
        "               u'url': u'http://twitter.com/search?q=%23UkipFilmTitles'},\n",
        "              {u'name': u'#Grecia2015',\n",
        "               u'promoted_content': None,\n",
        "               u'query': u'%23Grecia2015',\n",
        "               u'url': u'http://twitter.com/search?q=%23Grecia2015'},\n",
        "              {u'name': u'#AkNeferleriSusturamazs\\u0131n\\u0131z',\n",
        "               u'promoted_content': None,\n",
        "               u'query': u'%23AkNeferleriSusturamazs%C4%B1n%C4%B1z',\n",
        "               u'url': u'http://twitter.com/search?q=%23AkNeferleriSusturamazs%C4%B1n%C4%B1z'},\n",
        "              {u'name': u'#sosmafamilleabesoindaide',\n",
        "               u'promoted_content': None,\n",
        "               u'query': u'%23sosmafamilleabesoindaide',\n",
        "               u'url': u'http://twitter.com/search?q=%23sosmafamilleabesoindaide'},\n",
        "              {u'name': u'JB or 1D',\n",
        "               u'promoted_content': None,\n",
        "               u'query': u'%22JB+or+1D%22',\n",
        "               u'url': u'http://twitter.com/search?q=%22JB+or+1D%22'},\n",
        "              {u'name': u'Inside Man',\n",
        "               u'promoted_content': None,\n",
        "               u'query': u'%22Inside+Man%22',\n",
        "               u'url': u'http://twitter.com/search?q=%22Inside+Man%22'},\n",
        "              {u'name': u'Happy Republic Day',\n",
        "               u'promoted_content': None,\n",
        "               u'query': u'%22Happy+Republic+Day%22',\n",
        "               u'url': u'http://twitter.com/search?q=%22Happy+Republic+Day%22'},\n",
        "              {u'name': u'M\\xf6wen',\n",
        "               u'promoted_content': None,\n",
        "               u'query': u'M%C3%B6wen',\n",
        "               u'url': u'http://twitter.com/search?q=M%C3%B6wen'},\n",
        "              {u'name': u'Princesse Mononok\\xe9',\n",
        "               u'promoted_content': None,\n",
        "               u'query': u'%22Princesse+Mononok%C3%A9%22',\n",
        "               u'url': u'http://twitter.com/search?q=%22Princesse+Mononok%C3%A9%22'}]}]\n"
       ]
      }
     ],
     "prompt_number": 4
    },
    {
     "cell_type": "code",
     "collapsed": false,
     "input": [
      "pprint(us_trends)"
     ],
     "language": "python",
     "metadata": {
      "slideshow": {
       "slide_type": "subslide"
      }
     },
     "outputs": [
      {
       "output_type": "stream",
       "stream": "stdout",
       "text": [
        "[{u'as_of': u'2015-01-25T20:17:51Z',\n",
        "  u'created_at': u'2015-01-25T20:10:45Z',\n",
        "  u'locations': [{u'name': u'United States', u'woeid': 23424977}],\n",
        "  u'trends': [{u'name': u'#DUKEvsSJU',\n",
        "               u'promoted_content': None,\n",
        "               u'query': u'%23DUKEvsSJU',\n",
        "               u'url': u'http://twitter.com/search?q=%23DUKEvsSJU'},\n",
        "              {u'name': u'#MoviePlusMovie',\n",
        "               u'promoted_content': None,\n",
        "               u'query': u'%23MoviePlusMovie',\n",
        "               u'url': u'http://twitter.com/search?q=%23MoviePlusMovie'},\n",
        "              {u'name': u'#UVAvsVT',\n",
        "               u'promoted_content': None,\n",
        "               u'query': u'%23UVAvsVT',\n",
        "               u'url': u'http://twitter.com/search?q=%23UVAvsVT'},\n",
        "              {u'name': u'#Worst3WordPickUpLines',\n",
        "               u'promoted_content': None,\n",
        "               u'query': u'%23Worst3WordPickUpLines',\n",
        "               u'url': u'http://twitter.com/search?q=%23Worst3WordPickUpLines'},\n",
        "              {u'name': u'Whiteside',\n",
        "               u'promoted_content': None,\n",
        "               u'query': u'Whiteside',\n",
        "               u'url': u'http://twitter.com/search?q=Whiteside'},\n",
        "              {u'name': u'#FourFiveSeconds',\n",
        "               u'promoted_content': None,\n",
        "               u'query': u'%23FourFiveSeconds',\n",
        "               u'url': u'http://twitter.com/search?q=%23FourFiveSeconds'},\n",
        "              {u'name': u'Holiday Heart',\n",
        "               u'promoted_content': None,\n",
        "               u'query': u'%22Holiday+Heart%22',\n",
        "               u'url': u'http://twitter.com/search?q=%22Holiday+Heart%22'},\n",
        "              {u'name': u'Mark McMorris',\n",
        "               u'promoted_content': None,\n",
        "               u'query': u'%22Mark+McMorris%22',\n",
        "               u'url': u'http://twitter.com/search?q=%22Mark+McMorris%22'},\n",
        "              {u'name': u'Go Hoos',\n",
        "               u'promoted_content': None,\n",
        "               u'query': u'%22Go+Hoos%22',\n",
        "               u'url': u'http://twitter.com/search?q=%22Go+Hoos%22'},\n",
        "              {u'name': u'Hokies',\n",
        "               u'promoted_content': None,\n",
        "               u'query': u'Hokies',\n",
        "               u'url': u'http://twitter.com/search?q=Hokies'}]}]\n"
       ]
      }
     ],
     "prompt_number": 5
    },
    {
     "cell_type": "code",
     "collapsed": false,
     "input": [],
     "language": "python",
     "metadata": {},
     "outputs": [
      {
       "ename": "TypeError",
       "evalue": "list indices must be integers, not str",
       "output_type": "pyerr",
       "traceback": [
        "\u001b[1;31m---------------------------------------------------------------------------\u001b[0m\n\u001b[1;31mTypeError\u001b[0m                                 Traceback (most recent call last)",
        "\u001b[1;32m<ipython-input-10-21d6a28258bc>\u001b[0m in \u001b[0;36m<module>\u001b[1;34m()\u001b[0m\n\u001b[1;32m----> 1\u001b[1;33m \u001b[0mus_trends\u001b[0m\u001b[1;33m[\u001b[0m\u001b[1;34m'trends'\u001b[0m\u001b[1;33m]\u001b[0m\u001b[1;33m[\u001b[0m\u001b[1;36m0\u001b[0m\u001b[1;33m]\u001b[0m\u001b[1;33m\u001b[0m\u001b[0m\n\u001b[0m",
        "\u001b[1;31mTypeError\u001b[0m: list indices must be integers, not str"
       ]
      }
     ],
     "prompt_number": 10
    },
    {
     "cell_type": "heading",
     "level": 3,
     "metadata": {
      "slideshow": {
       "slide_type": "subslide"
      }
     },
     "source": [
      "Do any of these trends intersect?"
     ]
    },
    {
     "cell_type": "code",
     "collapsed": false,
     "input": [
      "l = [1,2,3,4,5]\n",
      "for x in l:\n",
      "    print x**2"
     ],
     "language": "python",
     "metadata": {},
     "outputs": [
      {
       "output_type": "stream",
       "stream": "stdout",
       "text": [
        "1\n",
        "4\n",
        "9\n",
        "16\n",
        "25\n"
       ]
      }
     ],
     "prompt_number": 20
    },
    {
     "cell_type": "code",
     "collapsed": false,
     "input": [
      "[x**2 for x in l]"
     ],
     "language": "python",
     "metadata": {},
     "outputs": [
      {
       "metadata": {},
       "output_type": "pyout",
       "prompt_number": 21,
       "text": [
        "[1, 4, 9, 16, 25]"
       ]
      }
     ],
     "prompt_number": 21
    },
    {
     "cell_type": "code",
     "collapsed": false,
     "input": [
      "l2 = [[1,2,3],[3,4,5],[3,5,6]]\n",
      "for x in l2:\n",
      "    for y in x:\n",
      "        print y"
     ],
     "language": "python",
     "metadata": {},
     "outputs": [
      {
       "output_type": "stream",
       "stream": "stdout",
       "text": [
        "1\n",
        "2\n",
        "3\n",
        "3\n",
        "4\n",
        "5\n",
        "3\n",
        "5\n",
        "6\n"
       ]
      }
     ],
     "prompt_number": 25
    },
    {
     "cell_type": "code",
     "collapsed": false,
     "input": [
      "[y**2 for x in l2 for y in x]"
     ],
     "language": "python",
     "metadata": {},
     "outputs": [
      {
       "metadata": {},
       "output_type": "pyout",
       "prompt_number": 26,
       "text": [
        "[1, 4, 9, 9, 16, 25, 9, 25, 36]"
       ]
      }
     ],
     "prompt_number": 26
    },
    {
     "cell_type": "code",
     "collapsed": false,
     "input": [
      "set([y**2 for x in l2 for y in x])"
     ],
     "language": "python",
     "metadata": {},
     "outputs": [
      {
       "metadata": {},
       "output_type": "pyout",
       "prompt_number": 27,
       "text": [
        "{1, 4, 9, 16, 25, 36}"
       ]
      }
     ],
     "prompt_number": 27
    },
    {
     "cell_type": "code",
     "collapsed": false,
     "input": [
      "world_trends_set = set([trend['name'] for trends in world_trends\n",
      "                        for trend in trends['trends']])\n",
      "\n",
      "us_trends_set = set([trend['name'] for trends in us_trends\n",
      "                     for trend in trends['trends']]) \n",
      "\n",
      "world_trends_set.intersection(us_trends_set)"
     ],
     "language": "python",
     "metadata": {
      "slideshow": {
       "slide_type": "fragment"
      }
     },
     "outputs": [
      {
       "metadata": {},
       "output_type": "pyout",
       "prompt_number": 27,
       "text": [
        "{u'#MakeSexAwkwardIn5Words',\n",
        " u'#sokitimewithdinah',\n",
        " u\"Chocolates for Valentine's Day\",\n",
        " u'Danny Davis',\n",
        " u'Palaku'}"
       ]
      }
     ],
     "prompt_number": 27
    },
    {
     "cell_type": "markdown",
     "metadata": {
      "slideshow": {
       "slide_type": "slide"
      }
     },
     "source": [
      "Twitter Statuses\n",
      "================"
     ]
    },
    {
     "cell_type": "code",
     "collapsed": false,
     "input": [
      "q = world_trends[0]['trends'][0]['name']\n",
      "\n",
      "count = 100\n",
      "\n",
      "# See https://dev.twitter.com/docs/api/1.1/get/search/tweets\n",
      "\n",
      "search_results = twitter_api.search.tweets(q=q, count=count)\n",
      "\n",
      "statuses = search_results['statuses']"
     ],
     "language": "python",
     "metadata": {
      "slideshow": {
       "slide_type": "fragment"
      }
     },
<<<<<<< HEAD
     "outputs": [],
     "prompt_number": 28
=======
     "outputs": [
      {
       "output_type": "stream",
       "stream": "stdout",
       "text": [
        "u'#500kLubaTV'\n"
       ]
      }
     ],
     "prompt_number": 30
>>>>>>> 2dcb583f4a2e2671df222b62e834a35798a83b0d
    },
    {
     "cell_type": "code",
     "collapsed": false,
     "input": [
      "len(statuses)"
     ],
     "language": "python",
     "metadata": {
      "slideshow": {
       "slide_type": "fragment"
      }
     },
     "outputs": [
      {
       "metadata": {},
       "output_type": "pyout",
<<<<<<< HEAD
       "prompt_number": 29,
=======
       "prompt_number": 35,
>>>>>>> 2dcb583f4a2e2671df222b62e834a35798a83b0d
       "text": [
        "100"
       ]
      }
     ],
<<<<<<< HEAD
     "prompt_number": 29
    },
    {
     "cell_type": "code",
     "collapsed": false,
     "input": [
      "q"
     ],
     "language": "python",
     "metadata": {},
     "outputs": [
      {
       "metadata": {},
       "output_type": "pyout",
       "prompt_number": 22,
       "text": [
        "u'#QuisieraTener'"
       ]
      }
     ],
     "prompt_number": 22
=======
     "prompt_number": 35
>>>>>>> 2dcb583f4a2e2671df222b62e834a35798a83b0d
    },
    {
     "cell_type": "heading",
     "level": 3,
     "metadata": {
      "slideshow": {
       "slide_type": "subslide"
      }
     },
     "source": [
      "More?"
     ]
    },
    {
     "cell_type": "code",
     "collapsed": false,
     "input": [
      "search_results['search_metadata'].get('next_results')"
     ],
     "language": "python",
     "metadata": {
      "slideshow": {
       "slide_type": "fragment"
      }
     },
     "outputs": [
      {
       "metadata": {},
       "output_type": "pyout",
<<<<<<< HEAD
       "prompt_number": 17,
       "text": [
        "u'?max_id=558473932274429951&q=%23QuisieraTener&count=100&include_entities=1'"
       ]
      }
     ],
     "prompt_number": 17
=======
       "prompt_number": 36,
       "text": [
        "u'?max_id=558478607333748736&q=%23500kLubaTV&count=100&include_entities=1'"
       ]
      }
     ],
     "prompt_number": 36
>>>>>>> 2dcb583f4a2e2671df222b62e834a35798a83b0d
    },
    {
     "cell_type": "code",
     "collapsed": false,
     "input": [
<<<<<<< HEAD
      "next_results.split('&')"
=======
      "next_results = search_results['search_metadata'].get('next_results')\n",
      "dict([kv.split('=') for kv in next_results[1:].split(\"&\")])\n",
      "    "
>>>>>>> 2dcb583f4a2e2671df222b62e834a35798a83b0d
     ],
     "language": "python",
     "metadata": {},
     "outputs": [
      {
       "metadata": {},
       "output_type": "pyout",
<<<<<<< HEAD
       "prompt_number": 31,
       "text": [
        "[u'?max_id=558473932274429951',\n",
        " u'q=%23QuisieraTener',\n",
        " u'count=100',\n",
        " u'include_entities=1']"
       ]
      }
     ],
     "prompt_number": 31
    },
    {
     "cell_type": "code",
     "collapsed": false,
     "input": [
      "dict([kv.split('=') for kv in next_results[1:].split('&')])"
     ],
     "language": "python",
     "metadata": {},
     "outputs": [
      {
       "metadata": {},
       "output_type": "pyout",
       "prompt_number": 37,
       "text": [
        "{u'count': u'100',\n",
        " u'include_entities': u'1',\n",
        " u'max_id': u'558473932274429951',\n",
        " u'q': u'%23QuisieraTener'}"
       ]
      }
     ],
     "prompt_number": 37
=======
       "prompt_number": 44,
       "text": [
        "{u'count': u'100',\n",
        " u'include_entities': u'1',\n",
        " u'max_id': u'558478607333748736',\n",
        " u'q': u'%23500kLubaTV'}"
       ]
      }
     ],
     "prompt_number": 44
>>>>>>> 2dcb583f4a2e2671df222b62e834a35798a83b0d
    },
    {
     "cell_type": "code",
     "collapsed": false,
     "input": [
      "if 'next_results' in search_results['search_metadata']:\n",
      "    next_results = search_results['search_metadata']['next_results']\n",
      "    kwargs = dict([ kv.split('=') for kv in next_results[1:].split(\"&\") ])\n",
      "    search_results = twitter_api.search.tweets(**kwargs)\n",
      "    statuses += search_results['statuses']\n",
      "\n",
      "len(statuses)"
     ],
     "language": "python",
     "metadata": {
      "slideshow": {
       "slide_type": "fragment"
      }
     },
     "outputs": [
      {
       "metadata": {},
       "output_type": "pyout",
<<<<<<< HEAD
       "prompt_number": 18,
=======
       "prompt_number": 37,
>>>>>>> 2dcb583f4a2e2671df222b62e834a35798a83b0d
       "text": [
        "200"
       ]
      }
     ],
<<<<<<< HEAD
     "prompt_number": 18
=======
     "prompt_number": 37
>>>>>>> 2dcb583f4a2e2671df222b62e834a35798a83b0d
    },
    {
     "cell_type": "markdown",
     "metadata": {
      "slideshow": {
       "slide_type": "slide"
      }
     },
     "source": [
      "Mongo\n",
      "====="
     ]
    },
    {
     "cell_type": "markdown",
     "metadata": {
      "slideshow": {
       "slide_type": "subslide"
      }
     },
     "source": [
      "from the command line:\n",
      "```bash\n",
      "$ mkdir -p data/db\n",
      "$ mongod --dbpath data/db\n",
      "```"
     ]
    },
    {
     "cell_type": "heading",
     "level": 3,
     "metadata": {
      "slideshow": {
       "slide_type": "slide"
      }
     },
     "source": [
      "Connect to our Mongo database management server (DBMS):"
     ]
    },
    {
     "cell_type": "code",
     "collapsed": false,
     "input": [
      "c = MongoClient()"
     ],
     "language": "python",
     "metadata": {
      "slideshow": {
       "slide_type": "fragment"
      }
     },
<<<<<<< HEAD
     "outputs": [
      {
       "ename": "ConnectionFailure",
       "evalue": "[Errno 10061] No connection could be made because the target machine actively refused it",
       "output_type": "pyerr",
       "traceback": [
        "\u001b[1;31m---------------------------------------------------------------------------\u001b[0m\n\u001b[1;31mConnectionFailure\u001b[0m                         Traceback (most recent call last)",
        "\u001b[1;32m<ipython-input-19-fb14cafad3b8>\u001b[0m in \u001b[0;36m<module>\u001b[1;34m()\u001b[0m\n\u001b[1;32m----> 1\u001b[1;33m \u001b[0mc\u001b[0m \u001b[1;33m=\u001b[0m \u001b[0mMongoClient\u001b[0m\u001b[1;33m(\u001b[0m\u001b[1;33m)\u001b[0m\u001b[1;33m\u001b[0m\u001b[0m\n\u001b[0m",
        "\u001b[1;32mC:\\Users\\Zach\\AppData\\Local\\Continuum\\Anaconda\\lib\\site-packages\\pymongo\\mongo_client.pyc\u001b[0m in \u001b[0;36m__init__\u001b[1;34m(self, host, port, max_pool_size, document_class, tz_aware, _connect, **kwargs)\u001b[0m\n\u001b[0;32m    367\u001b[0m             \u001b[1;32mexcept\u001b[0m \u001b[0mAutoReconnect\u001b[0m\u001b[1;33m,\u001b[0m \u001b[0me\u001b[0m\u001b[1;33m:\u001b[0m\u001b[1;33m\u001b[0m\u001b[0m\n\u001b[0;32m    368\u001b[0m                 \u001b[1;31m# ConnectionFailure makes more sense here than AutoReconnect\u001b[0m\u001b[1;33m\u001b[0m\u001b[1;33m\u001b[0m\u001b[0m\n\u001b[1;32m--> 369\u001b[1;33m                 \u001b[1;32mraise\u001b[0m \u001b[0mConnectionFailure\u001b[0m\u001b[1;33m(\u001b[0m\u001b[0mstr\u001b[0m\u001b[1;33m(\u001b[0m\u001b[0me\u001b[0m\u001b[1;33m)\u001b[0m\u001b[1;33m)\u001b[0m\u001b[1;33m\u001b[0m\u001b[0m\n\u001b[0m\u001b[0;32m    370\u001b[0m \u001b[1;33m\u001b[0m\u001b[0m\n\u001b[0;32m    371\u001b[0m         \u001b[1;32mif\u001b[0m \u001b[0musername\u001b[0m\u001b[1;33m:\u001b[0m\u001b[1;33m\u001b[0m\u001b[0m\n",
        "\u001b[1;31mConnectionFailure\u001b[0m: [Errno 10061] No connection could be made because the target machine actively refused it"
       ]
      }
     ],
     "prompt_number": 19
=======
     "outputs": [],
<<<<<<< HEAD
     "prompt_number": 12
>>>>>>> d16d25283f72d0d06ee236059e22eaf2c703b8b9
=======
     "prompt_number": 50
>>>>>>> 2dcb583f4a2e2671df222b62e834a35798a83b0d
    },
    {
     "cell_type": "heading",
     "level": 4,
     "metadata": {
      "slideshow": {
       "slide_type": "fragment"
      }
     },
     "source": [
      "Create a database called `twitter`:"
     ]
    },
    {
     "cell_type": "code",
     "collapsed": false,
     "input": [
      "db = c.twitter"
     ],
     "language": "python",
     "metadata": {
      "slideshow": {
       "slide_type": "fragment"
      }
     },
     "outputs": [],
     "prompt_number": 51
    },
    {
     "cell_type": "markdown",
     "metadata": {
      "slideshow": {
       "slide_type": "notes"
      }
     },
     "source": [
      "##### Yes, it's that easy."
     ]
    },
    {
     "cell_type": "heading",
     "level": 4,
     "metadata": {
      "slideshow": {
       "slide_type": "slide"
      }
     },
     "source": [
      "Insert the results we pulled from Twitter and store them as a document in a collection named `tweets`:"
     ]
    },
    {
     "cell_type": "code",
     "collapsed": false,
     "input": [
      "statuses_ids = db.tweets.insert(statuses)\n",
      "statuses_ids[:5]"
     ],
     "language": "python",
     "metadata": {
      "slideshow": {
       "slide_type": "fragment"
      }
     },
     "outputs": [
      {
       "metadata": {},
       "output_type": "pyout",
       "prompt_number": 52,
       "text": [
        "[ObjectId('54c1d26646d3d338ebd5e9b1'),\n",
        " ObjectId('54c1d26646d3d338ebd5e9b2'),\n",
        " ObjectId('54c1d26646d3d338ebd5e9b3'),\n",
        " ObjectId('54c1d26646d3d338ebd5e9b4'),\n",
        " ObjectId('54c1d26646d3d338ebd5e9b5')]"
       ]
      }
     ],
     "prompt_number": 52
    },
    {
     "cell_type": "heading",
     "level": 3,
     "metadata": {
      "slideshow": {
       "slide_type": "slide"
      }
     },
     "source": [
      "`ObjectId`s"
     ]
    },
    {
     "cell_type": "markdown",
     "metadata": {
      "slideshow": {
       "slide_type": "fragment"
      }
     },
     "source": [
      "**ObjectId** is a 12-byte **BSON** type, constructed using:\n",
      "\n",
      "-    a 4-byte value representing the seconds since the Unix epoch,\n",
      "-    a 3-byte machine identifier,\n",
      "-    a 2-byte process id, and\n",
      "-    a 3-byte counter, starting with a random value.\n",
      "\n",
      "In MongoDB, documents stored in a collection require a unique `_id` field that acts as a **primary key**. Because ObjectIds are small, most likely unique, and fast to generate, MongoDB uses ObjectIds as the default value for the `_id` field if the `_id` field is not specified. \n",
      "\n",
      "<!--small><i>from http://docs.mongodb.org/manual/reference/object-id/</i></small-->"
     ]
    },
    {
     "cell_type": "markdown",
     "metadata": {
      "slideshow": {
       "slide_type": "notes"
      }
     },
     "source": [
      "Using ObjectIds for the `_id` field provides the following additional benefits:\n",
      "\n",
      "- you can access the insertion time of the ObjectId, using the `.generation_time` property in pymongo. \n",
      "- sorting on an `_id` field that stores ObjectId values is roughly equivalent to sorting by insertion time."
     ]
    },
    {
     "cell_type": "heading",
     "level": 3,
     "metadata": {
      "slideshow": {
       "slide_type": "slide"
      }
     },
     "source": [
      "Test the contents of our database:"
     ]
    },
    {
     "cell_type": "code",
     "collapsed": false,
     "input": [
      "c.database_names()"
     ],
     "language": "python",
     "metadata": {
      "slideshow": {
       "slide_type": "fragment"
      }
     },
     "outputs": [
      {
       "metadata": {},
       "output_type": "pyout",
       "prompt_number": 53,
       "text": [
        "[u'local', u'twitter']"
       ]
      }
     ],
     "prompt_number": 53
    },
    {
     "cell_type": "code",
     "collapsed": false,
     "input": [
      "db = c.twitter\n",
      "db.collection_names()"
     ],
     "language": "python",
     "metadata": {
      "slideshow": {
       "slide_type": "fragment"
      }
     },
     "outputs": [
      {
       "metadata": {},
       "output_type": "pyout",
       "prompt_number": 54,
       "text": [
        "[u'system.indexes', u'tweets']"
       ]
      }
     ],
     "prompt_number": 54
    },
    {
     "cell_type": "code",
     "collapsed": false,
     "input": [
      "db.tweets.find_one()"
     ],
     "language": "python",
     "metadata": {
      "slideshow": {
       "slide_type": "fragment"
      }
     },
     "outputs": [
      {
       "metadata": {},
       "output_type": "pyout",
       "prompt_number": 55,
       "text": [
        "{u'_id': ObjectId('54c1d26646d3d338ebd5e9b1'),\n",
        " u'contributors': None,\n",
        " u'coordinates': None,\n",
        " u'created_at': u'Fri Jan 23 04:23:34 +0000 2015',\n",
        " u'entities': {u'hashtags': [{u'indices': [84, 95], u'text': u'500kLubaTV'}],\n",
        "  u'media': [{u'display_url': u'pic.twitter.com/1zhgdIaxsl',\n",
        "    u'expanded_url': u'http://twitter.com/LubaTV/status/558474724968529921/photo/1',\n",
        "    u'id': 558474718849007616L,\n",
        "    u'id_str': u'558474718849007616',\n",
        "    u'indices': [96, 118],\n",
        "    u'media_url': u'http://pbs.twimg.com/media/B8AZzEEIAAAFGY0.jpg',\n",
        "    u'media_url_https': u'https://pbs.twimg.com/media/B8AZzEEIAAAFGY0.jpg',\n",
        "    u'sizes': {u'large': {u'h': 270, u'resize': u'fit', u'w': 750},\n",
        "     u'medium': {u'h': 216, u'resize': u'fit', u'w': 600},\n",
        "     u'small': {u'h': 122, u'resize': u'fit', u'w': 340},\n",
        "     u'thumb': {u'h': 150, u'resize': u'crop', u'w': 150}},\n",
        "    u'source_status_id': 558474724968529921L,\n",
        "    u'source_status_id_str': u'558474724968529921',\n",
        "    u'source_user_id': 121517065,\n",
        "    u'source_user_id_str': u'121517065',\n",
        "    u'type': u'photo',\n",
        "    u'url': u'http://t.co/1zhgdIaxsl'}],\n",
        "  u'symbols': [],\n",
        "  u'urls': [],\n",
        "  u'user_mentions': [{u'id': 121517065,\n",
        "    u'id_str': u'121517065',\n",
        "    u'indices': [3, 10],\n",
        "    u'name': u'Lucas Feuersch\\xfctte',\n",
        "    u'screen_name': u'LubaTV'}]},\n",
        " u'favorite_count': 0,\n",
        " u'favorited': False,\n",
        " u'geo': None,\n",
        " u'id': 558480131778691072L,\n",
        " u'id_str': u'558480131778691072',\n",
        " u'in_reply_to_screen_name': None,\n",
        " u'in_reply_to_status_id': None,\n",
        " u'in_reply_to_status_id_str': None,\n",
        " u'in_reply_to_user_id': None,\n",
        " u'in_reply_to_user_id_str': None,\n",
        " u'lang': u'pt',\n",
        " u'metadata': {u'iso_language_code': u'pt', u'result_type': u'recent'},\n",
        " u'place': None,\n",
        " u'possibly_sensitive': False,\n",
        " u'retweet_count': 395,\n",
        " u'retweeted': False,\n",
        " u'retweeted_status': {u'contributors': None,\n",
        "  u'coordinates': None,\n",
        "  u'created_at': u'Fri Jan 23 04:02:05 +0000 2015',\n",
        "  u'entities': {u'hashtags': [{u'indices': [72, 83], u'text': u'500kLubaTV'}],\n",
        "   u'media': [{u'display_url': u'pic.twitter.com/1zhgdIaxsl',\n",
        "     u'expanded_url': u'http://twitter.com/LubaTV/status/558474724968529921/photo/1',\n",
        "     u'id': 558474718849007616L,\n",
        "     u'id_str': u'558474718849007616',\n",
        "     u'indices': [84, 106],\n",
        "     u'media_url': u'http://pbs.twimg.com/media/B8AZzEEIAAAFGY0.jpg',\n",
        "     u'media_url_https': u'https://pbs.twimg.com/media/B8AZzEEIAAAFGY0.jpg',\n",
        "     u'sizes': {u'large': {u'h': 270, u'resize': u'fit', u'w': 750},\n",
        "      u'medium': {u'h': 216, u'resize': u'fit', u'w': 600},\n",
        "      u'small': {u'h': 122, u'resize': u'fit', u'w': 340},\n",
        "      u'thumb': {u'h': 150, u'resize': u'crop', u'w': 150}},\n",
        "     u'type': u'photo',\n",
        "     u'url': u'http://t.co/1zhgdIaxsl'}],\n",
        "   u'symbols': [],\n",
        "   u'urls': [],\n",
        "   u'user_mentions': []},\n",
        "  u'favorite_count': 901,\n",
        "  u'favorited': False,\n",
        "  u'geo': None,\n",
        "  u'id': 558474724968529921L,\n",
        "  u'id_str': u'558474724968529921',\n",
        "  u'in_reply_to_screen_name': None,\n",
        "  u'in_reply_to_status_id': None,\n",
        "  u'in_reply_to_status_id_str': None,\n",
        "  u'in_reply_to_user_id': None,\n",
        "  u'in_reply_to_user_id_str': None,\n",
        "  u'lang': u'pt',\n",
        "  u'metadata': {u'iso_language_code': u'pt', u'result_type': u'recent'},\n",
        "  u'place': None,\n",
        "  u'possibly_sensitive': False,\n",
        "  u'retweet_count': 395,\n",
        "  u'retweeted': False,\n",
        "  u'source': u'<a href=\"http://twitter.com/download/iphone\" rel=\"nofollow\">Twitter for iPhone</a>',\n",
        "  u'text': u\"\\xc9 oficial, turma. Somos 500 mil agora! Obrigado, obrigado por tudo. =') #500kLubaTV http://t.co/1zhgdIaxsl\",\n",
        "  u'truncated': False,\n",
        "  u'user': {u'contributors_enabled': False,\n",
        "   u'created_at': u'Tue Mar 09 19:04:06 +0000 2010',\n",
        "   u'default_profile': False,\n",
        "   u'default_profile_image': False,\n",
        "   u'description': u'Sou da turma! \\u270c\\ufe0f Contato: lubatv3@gmail.com | Instagram & Facebook: LubaTV | Caixa Postal 174, 88701-970 Tubar\\xe3o - SC | \\xdaltimo v\\xeddeo: \\u2b07\\ufe0f',\n",
        "   u'entities': {u'description': {u'urls': []},\n",
        "    u'url': {u'urls': [{u'display_url': u'youtu.be/ntMBRQYs-hI',\n",
        "       u'expanded_url': u'http://youtu.be/ntMBRQYs-hI',\n",
        "       u'indices': [0, 22],\n",
        "       u'url': u'http://t.co/4n2e3pI9To'}]}},\n",
        "   u'favourites_count': 722,\n",
        "   u'follow_request_sent': False,\n",
        "   u'followers_count': 118167,\n",
        "   u'following': False,\n",
        "   u'friends_count': 548,\n",
        "   u'geo_enabled': True,\n",
        "   u'id': 121517065,\n",
        "   u'id_str': u'121517065',\n",
        "   u'is_translation_enabled': False,\n",
        "   u'is_translator': False,\n",
        "   u'lang': u'pt',\n",
        "   u'listed_count': 261,\n",
        "   u'location': u'',\n",
        "   u'name': u'Lucas Feuersch\\xfctte',\n",
        "   u'notifications': False,\n",
        "   u'profile_background_color': u'FFF04D',\n",
        "   u'profile_background_image_url': u'http://pbs.twimg.com/profile_background_images/520656124547067904/of-yDc4j.jpeg',\n",
        "   u'profile_background_image_url_https': u'https://pbs.twimg.com/profile_background_images/520656124547067904/of-yDc4j.jpeg',\n",
        "   u'profile_background_tile': True,\n",
        "   u'profile_banner_url': u'https://pbs.twimg.com/profile_banners/121517065/1419199713',\n",
        "   u'profile_image_url': u'http://pbs.twimg.com/profile_images/553302094132690944/cEZfRo8r_normal.png',\n",
        "   u'profile_image_url_https': u'https://pbs.twimg.com/profile_images/553302094132690944/cEZfRo8r_normal.png',\n",
        "   u'profile_link_color': u'0099CC',\n",
        "   u'profile_location': None,\n",
        "   u'profile_sidebar_border_color': u'FFFFFF',\n",
        "   u'profile_sidebar_fill_color': u'DDEEF6',\n",
        "   u'profile_text_color': u'333333',\n",
        "   u'profile_use_background_image': True,\n",
        "   u'protected': False,\n",
        "   u'screen_name': u'LubaTV',\n",
        "   u'statuses_count': 36586,\n",
        "   u'time_zone': u'Brasilia',\n",
        "   u'url': u'http://t.co/4n2e3pI9To',\n",
        "   u'utc_offset': -7200,\n",
        "   u'verified': False}},\n",
        " u'source': u'<a href=\"http://twitter.com\" rel=\"nofollow\">Twitter Web Client</a>',\n",
        " u'text': u\"RT @LubaTV: \\xc9 oficial, turma. Somos 500 mil agora! Obrigado, obrigado por tudo. =') #500kLubaTV http://t.co/1zhgdIaxsl\",\n",
        " u'truncated': False,\n",
        " u'user': {u'contributors_enabled': False,\n",
        "  u'created_at': u'Thu Dec 20 20:15:56 +0000 2012',\n",
        "  u'default_profile': False,\n",
        "  u'default_profile_image': False,\n",
        "  u'description': u'F\\xe3 de uns carinhas ai do YouTube \\u2665 1/1/15 - Rafa respondeu *u*                       19/01/15 - Nay Respondeu *u* #Forfun\\xe1tica',\n",
        "  u'entities': {u'description': {u'urls': []}},\n",
        "  u'favourites_count': 596,\n",
        "  u'follow_request_sent': False,\n",
        "  u'followers_count': 36,\n",
        "  u'following': False,\n",
        "  u'friends_count': 94,\n",
        "  u'geo_enabled': False,\n",
        "  u'id': 1024945802,\n",
        "  u'id_str': u'1024945802',\n",
        "  u'is_translation_enabled': False,\n",
        "  u'is_translator': False,\n",
        "  u'lang': u'pt',\n",
        "  u'listed_count': 1,\n",
        "  u'location': u'Rio de Janeiro',\n",
        "  u'name': u'Biah #ADR ',\n",
        "  u'notifications': False,\n",
        "  u'profile_background_color': u'ACDED6',\n",
        "  u'profile_background_image_url': u'http://abs.twimg.com/images/themes/theme18/bg.gif',\n",
        "  u'profile_background_image_url_https': u'https://abs.twimg.com/images/themes/theme18/bg.gif',\n",
        "  u'profile_background_tile': False,\n",
        "  u'profile_banner_url': u'https://pbs.twimg.com/profile_banners/1024945802/1421771885',\n",
        "  u'profile_image_url': u'http://pbs.twimg.com/profile_images/556923388615090176/UiQb8z54_normal.jpeg',\n",
        "  u'profile_image_url_https': u'https://pbs.twimg.com/profile_images/556923388615090176/UiQb8z54_normal.jpeg',\n",
        "  u'profile_link_color': u'9266CC',\n",
        "  u'profile_location': None,\n",
        "  u'profile_sidebar_border_color': u'FFFFFF',\n",
        "  u'profile_sidebar_fill_color': u'F6F6F6',\n",
        "  u'profile_text_color': u'333333',\n",
        "  u'profile_use_background_image': True,\n",
        "  u'protected': False,\n",
        "  u'screen_name': u'_beatriz_27',\n",
        "  u'statuses_count': 838,\n",
        "  u'time_zone': u'Brasilia',\n",
        "  u'url': None,\n",
        "  u'utc_offset': -7200,\n",
        "  u'verified': False}}"
       ]
      }
     ],
     "prompt_number": 55
    },
    {
     "cell_type": "markdown",
     "metadata": {
      "slideshow": {
       "slide_type": "notes"
      }
     },
     "source": [
      "Notice the `_id` included in the document along with the values we already saw before."
     ]
    },
    {
     "cell_type": "markdown",
     "metadata": {
      "slideshow": {
       "slide_type": "slide"
      }
     },
     "source": [
      "Now that we have our data in MongoDB, we can use some of it's search functionality. For example:"
     ]
    },
    {
     "cell_type": "code",
     "collapsed": false,
     "input": [
      "popular_tweets = db.tweets.find({'retweet_count': {\"$gte\": 100}})\n",
      "popular_tweets.count()"
     ],
     "language": "python",
     "metadata": {
      "slideshow": {
       "slide_type": "fragment"
      }
     },
     "outputs": [
      {
       "metadata": {},
       "output_type": "pyout",
       "prompt_number": 59,
       "text": [
        "76"
       ]
      }
     ],
     "prompt_number": 59
    },
    {
     "cell_type": "markdown",
     "metadata": {
      "slideshow": {
       "slide_type": "slide"
      }
     },
     "source": [
      "Making Sense with Pandas\n",
      "========================"
     ]
    },
    {
     "cell_type": "code",
     "collapsed": false,
     "input": [
      "pd.DataFrame(db.tweets.find(fields=['created_at', 'retweet_count', 'favorite_count']))"
     ],
     "language": "python",
     "metadata": {
      "slideshow": {
       "slide_type": "slide"
      }
     },
     "outputs": [
      {
<<<<<<< HEAD
       "ename": "NameError",
       "evalue": "name 'db' is not defined",
       "output_type": "pyerr",
       "traceback": [
        "\u001b[1;31m---------------------------------------------------------------------------\u001b[0m\n\u001b[1;31mNameError\u001b[0m                                 Traceback (most recent call last)",
        "\u001b[1;32m<ipython-input-11-87a1cfed5405>\u001b[0m in \u001b[0;36m<module>\u001b[1;34m()\u001b[0m\n\u001b[1;32m----> 1\u001b[1;33m \u001b[0mpd\u001b[0m\u001b[1;33m.\u001b[0m\u001b[0mDataFrame\u001b[0m\u001b[1;33m(\u001b[0m\u001b[0mdb\u001b[0m\u001b[1;33m.\u001b[0m\u001b[0mtweets\u001b[0m\u001b[1;33m.\u001b[0m\u001b[0mfind\u001b[0m\u001b[1;33m(\u001b[0m\u001b[0mfields\u001b[0m\u001b[1;33m=\u001b[0m\u001b[1;33m[\u001b[0m\u001b[1;34m'created_at'\u001b[0m\u001b[1;33m,\u001b[0m \u001b[1;34m'retweet_count'\u001b[0m\u001b[1;33m,\u001b[0m \u001b[1;34m'favorite_count'\u001b[0m\u001b[1;33m]\u001b[0m\u001b[1;33m)\u001b[0m\u001b[1;33m)\u001b[0m\u001b[1;33m\u001b[0m\u001b[0m\n\u001b[0m",
        "\u001b[1;31mNameError\u001b[0m: name 'db' is not defined"
       ]
      }
     ],
     "prompt_number": 11
=======
       "ename": "TypeError",
       "evalue": "data argument can't be an iterator",
       "output_type": "pyerr",
       "traceback": [
        "\u001b[0;31m---------------------------------------------------------------------------\u001b[0m\n\u001b[0;31mTypeError\u001b[0m                                 Traceback (most recent call last)",
        "\u001b[0;32m<ipython-input-60-87a1cfed5405>\u001b[0m in \u001b[0;36m<module>\u001b[0;34m()\u001b[0m\n\u001b[0;32m----> 1\u001b[0;31m \u001b[0mpd\u001b[0m\u001b[0;34m.\u001b[0m\u001b[0mDataFrame\u001b[0m\u001b[0;34m(\u001b[0m\u001b[0mdb\u001b[0m\u001b[0;34m.\u001b[0m\u001b[0mtweets\u001b[0m\u001b[0;34m.\u001b[0m\u001b[0mfind\u001b[0m\u001b[0;34m(\u001b[0m\u001b[0mfields\u001b[0m\u001b[0;34m=\u001b[0m\u001b[0;34m[\u001b[0m\u001b[0;34m'created_at'\u001b[0m\u001b[0;34m,\u001b[0m \u001b[0;34m'retweet_count'\u001b[0m\u001b[0;34m,\u001b[0m \u001b[0;34m'favorite_count'\u001b[0m\u001b[0;34m]\u001b[0m\u001b[0;34m)\u001b[0m\u001b[0;34m)\u001b[0m\u001b[0;34m\u001b[0m\u001b[0m\n\u001b[0m",
        "\u001b[0;32m/Users/alessandro.gagliardi/anaconda/lib/python2.7/site-packages/pandas/core/frame.pyc\u001b[0m in \u001b[0;36m__init__\u001b[0;34m(self, data, index, columns, dtype, copy)\u001b[0m\n\u001b[1;32m    264\u001b[0m                                          copy=copy)\n\u001b[1;32m    265\u001b[0m         \u001b[0;32melif\u001b[0m \u001b[0misinstance\u001b[0m\u001b[0;34m(\u001b[0m\u001b[0mdata\u001b[0m\u001b[0;34m,\u001b[0m \u001b[0mcollections\u001b[0m\u001b[0;34m.\u001b[0m\u001b[0mIterator\u001b[0m\u001b[0;34m)\u001b[0m\u001b[0;34m:\u001b[0m\u001b[0;34m\u001b[0m\u001b[0m\n\u001b[0;32m--> 266\u001b[0;31m             \u001b[0;32mraise\u001b[0m \u001b[0mTypeError\u001b[0m\u001b[0;34m(\u001b[0m\u001b[0;34m\"data argument can't be an iterator\"\u001b[0m\u001b[0;34m)\u001b[0m\u001b[0;34m\u001b[0m\u001b[0m\n\u001b[0m\u001b[1;32m    267\u001b[0m         \u001b[0;32melse\u001b[0m\u001b[0;34m:\u001b[0m\u001b[0;34m\u001b[0m\u001b[0m\n\u001b[1;32m    268\u001b[0m             \u001b[0;32mtry\u001b[0m\u001b[0;34m:\u001b[0m\u001b[0;34m\u001b[0m\u001b[0m\n",
        "\u001b[0;31mTypeError\u001b[0m: data argument can't be an iterator"
       ]
      }
     ],
     "prompt_number": 60
>>>>>>> 2dcb583f4a2e2671df222b62e834a35798a83b0d
    },
    {
     "cell_type": "code",
     "collapsed": false,
     "input": [
      "retweet_favorites = pd.DataFrame(list(db.tweets.find(fields=['created_at','retweet_count','favorite_count'])))\n",
      "retweet_favorites.head()"
     ],
     "language": "python",
     "metadata": {
      "slideshow": {
       "slide_type": "subslide"
      }
     },
     "outputs": [
      {
       "html": [
        "<div style=\"max-height:1000px;max-width:1500px;overflow:auto;\">\n",
        "<table border=\"1\" class=\"dataframe\">\n",
        "  <thead>\n",
        "    <tr style=\"text-align: right;\">\n",
        "      <th></th>\n",
        "      <th>_id</th>\n",
        "      <th>created_at</th>\n",
        "      <th>favorite_count</th>\n",
        "      <th>retweet_count</th>\n",
        "    </tr>\n",
        "  </thead>\n",
        "  <tbody>\n",
        "    <tr>\n",
        "      <th>0</th>\n",
        "      <td> 54c1d26646d3d338ebd5e9b1</td>\n",
        "      <td> Fri Jan 23 04:23:34 +0000 2015</td>\n",
        "      <td> 0</td>\n",
        "      <td> 395</td>\n",
        "    </tr>\n",
        "    <tr>\n",
        "      <th>1</th>\n",
        "      <td> 54c1d26646d3d338ebd5e9b2</td>\n",
        "      <td> Fri Jan 23 04:23:30 +0000 2015</td>\n",
        "      <td> 0</td>\n",
        "      <td> 115</td>\n",
        "    </tr>\n",
        "    <tr>\n",
        "      <th>2</th>\n",
        "      <td> 54c1d26646d3d338ebd5e9b3</td>\n",
        "      <td> Fri Jan 23 04:23:29 +0000 2015</td>\n",
        "      <td> 0</td>\n",
        "      <td>   0</td>\n",
        "    </tr>\n",
        "    <tr>\n",
        "      <th>3</th>\n",
        "      <td> 54c1d26646d3d338ebd5e9b4</td>\n",
        "      <td> Fri Jan 23 04:23:23 +0000 2015</td>\n",
        "      <td> 0</td>\n",
        "      <td> 395</td>\n",
        "    </tr>\n",
        "    <tr>\n",
        "      <th>4</th>\n",
        "      <td> 54c1d26646d3d338ebd5e9b5</td>\n",
        "      <td> Fri Jan 23 04:23:19 +0000 2015</td>\n",
        "      <td> 0</td>\n",
        "      <td> 222</td>\n",
        "    </tr>\n",
        "  </tbody>\n",
        "</table>\n",
        "</div>"
       ],
       "metadata": {},
       "output_type": "pyout",
       "prompt_number": 61,
       "text": [
        "                        _id                      created_at  favorite_count  \\\n",
        "0  54c1d26646d3d338ebd5e9b1  Fri Jan 23 04:23:34 +0000 2015               0   \n",
        "1  54c1d26646d3d338ebd5e9b2  Fri Jan 23 04:23:30 +0000 2015               0   \n",
        "2  54c1d26646d3d338ebd5e9b3  Fri Jan 23 04:23:29 +0000 2015               0   \n",
        "3  54c1d26646d3d338ebd5e9b4  Fri Jan 23 04:23:23 +0000 2015               0   \n",
        "4  54c1d26646d3d338ebd5e9b5  Fri Jan 23 04:23:19 +0000 2015               0   \n",
        "\n",
        "   retweet_count  \n",
        "0            395  \n",
        "1            115  \n",
        "2              0  \n",
        "3            395  \n",
        "4            222  "
       ]
      }
     ],
     "prompt_number": 61
    },
    {
     "cell_type": "markdown",
     "metadata": {
      "slideshow": {
       "slide_type": "slide"
      }
     },
     "source": [
      "`.describe()` is a useful method to get the gist of our data."
     ]
    },
    {
     "cell_type": "code",
     "collapsed": false,
     "input": [
      "retweet_favorites.describe()"
     ],
     "language": "python",
     "metadata": {
      "slideshow": {
       "slide_type": "-"
      }
     },
     "outputs": [
      {
       "html": [
        "<div style=\"max-height:1000px;max-width:1500px;overflow:auto;\">\n",
        "<table border=\"1\" class=\"dataframe\">\n",
        "  <thead>\n",
        "    <tr style=\"text-align: right;\">\n",
        "      <th></th>\n",
        "      <th>favorite_count</th>\n",
        "      <th>retweet_count</th>\n",
        "    </tr>\n",
        "  </thead>\n",
        "  <tbody>\n",
        "    <tr>\n",
        "      <th>count</th>\n",
        "      <td> 200.000000</td>\n",
        "      <td> 200.000000</td>\n",
        "    </tr>\n",
        "    <tr>\n",
        "      <th>mean</th>\n",
        "      <td>   0.100000</td>\n",
        "      <td> 109.575000</td>\n",
        "    </tr>\n",
        "    <tr>\n",
        "      <th>std</th>\n",
        "      <td>   0.459408</td>\n",
        "      <td> 141.338662</td>\n",
        "    </tr>\n",
        "    <tr>\n",
        "      <th>min</th>\n",
        "      <td>   0.000000</td>\n",
        "      <td>   0.000000</td>\n",
        "    </tr>\n",
        "    <tr>\n",
        "      <th>25%</th>\n",
        "      <td>   0.000000</td>\n",
        "      <td>   0.000000</td>\n",
        "    </tr>\n",
        "    <tr>\n",
        "      <th>50%</th>\n",
        "      <td>   0.000000</td>\n",
        "      <td>  14.000000</td>\n",
        "    </tr>\n",
        "    <tr>\n",
        "      <th>75%</th>\n",
        "      <td>   0.000000</td>\n",
        "      <td> 228.000000</td>\n",
        "    </tr>\n",
        "    <tr>\n",
        "      <th>max</th>\n",
        "      <td>   4.000000</td>\n",
        "      <td> 402.000000</td>\n",
        "    </tr>\n",
        "  </tbody>\n",
        "</table>\n",
        "</div>"
       ],
       "metadata": {},
       "output_type": "pyout",
       "prompt_number": 62,
       "text": [
        "       favorite_count  retweet_count\n",
        "count      200.000000     200.000000\n",
        "mean         0.100000     109.575000\n",
        "std          0.459408     141.338662\n",
        "min          0.000000       0.000000\n",
        "25%          0.000000       0.000000\n",
        "50%          0.000000      14.000000\n",
        "75%          0.000000     228.000000\n",
        "max          4.000000     402.000000"
       ]
      }
     ],
     "prompt_number": 62
    },
    {
     "cell_type": "markdown",
     "metadata": {
      "slideshow": {
       "slide_type": "subslide"
      }
     },
     "source": [
      "However, when applied to a DataFrame, it only describes numeric columns."
     ]
    },
    {
     "cell_type": "code",
     "collapsed": false,
     "input": [
      "retweet_favorites.dtypes"
     ],
     "language": "python",
     "metadata": {
      "slideshow": {
       "slide_type": "-"
      }
     },
     "outputs": [
      {
       "metadata": {},
       "output_type": "pyout",
       "prompt_number": 63,
       "text": [
        "_id               object\n",
        "created_at        object\n",
        "favorite_count     int64\n",
        "retweet_count      int64\n",
        "dtype: object"
       ]
      }
     ],
     "prompt_number": 63
    },
    {
     "cell_type": "markdown",
     "metadata": {
      "slideshow": {
       "slide_type": "subslide"
      }
     },
     "source": [
      "`.describe()` can be called on individual columns (i.e. `Series`), even if they are not numeric."
     ]
    },
    {
     "cell_type": "code",
     "collapsed": false,
     "input": [
      "retweet_favorites.created_at.describe()"
     ],
     "language": "python",
     "metadata": {
      "slideshow": {
       "slide_type": "-"
      }
     },
     "outputs": [
      {
       "metadata": {},
       "output_type": "pyout",
       "prompt_number": 64,
       "text": [
        "count                                200\n",
        "unique                               166\n",
        "top       Fri Jan 23 04:15:44 +0000 2015\n",
        "freq                                   4\n",
        "Name: created_at, dtype: object"
       ]
      }
     ],
     "prompt_number": 64
    },
    {
     "cell_type": "markdown",
     "metadata": {
      "slideshow": {
       "slide_type": "fragment"
      }
     },
     "source": [
      "However, in this case `created_at` is being treated as a string, which is not very helpful. We can fix that with `pandas.to_datetime`:"
     ]
    },
    {
     "cell_type": "code",
     "collapsed": false,
     "input": [
      "retweet_favorites.created_at.map(pd.to_datetime).describe()"
     ],
     "language": "python",
     "metadata": {
      "slideshow": {
       "slide_type": "fragment"
      }
     },
     "outputs": [
      {
       "metadata": {},
       "output_type": "pyout",
       "prompt_number": 65,
       "text": [
        "count                     200\n",
        "unique                    166\n",
        "top       2015-01-23 04:15:44\n",
        "freq                        4\n",
        "first     2015-01-23 04:13:35\n",
        "last      2015-01-23 04:23:34\n",
        "Name: created_at, dtype: object"
       ]
      }
     ],
     "prompt_number": 65
    },
    {
     "cell_type": "markdown",
     "metadata": {
      "slideshow": {
       "slide_type": "notes"
      }
     },
     "source": [
      "Not all that interesting though, since all of these tweets were collected within a couple seconds of each other."
     ]
    },
    {
     "cell_type": "markdown",
     "metadata": {
      "slideshow": {
       "slide_type": "slide"
      }
     },
     "source": [
      "Mongo allows us to access subfields directly."
     ]
    },
    {
     "cell_type": "code",
     "collapsed": false,
     "input": [
      "db.tweets.find_one(fields=['entities.user_mentions', 'user.followers_count'])"
     ],
     "language": "python",
     "metadata": {},
     "outputs": [
      {
       "metadata": {},
       "output_type": "pyout",
       "prompt_number": 66,
       "text": [
        "{u'_id': ObjectId('54c1d26646d3d338ebd5e9b1'),\n",
        " u'entities': {u'user_mentions': [{u'id': 121517065,\n",
        "    u'id_str': u'121517065',\n",
        "    u'indices': [3, 10],\n",
        "    u'name': u'Lucas Feuersch\\xfctte',\n",
        "    u'screen_name': u'LubaTV'}]},\n",
        " u'user': {u'followers_count': 36}}"
       ]
      }
     ],
     "prompt_number": 66
    },
    {
     "cell_type": "code",
     "collapsed": false,
     "input": [
      "mentions_followers = list(db.tweets.find(fields=['entities.user_mentions', 'user.followers_count']))\n",
      "pd.DataFrame(mentions_followers).head()"
     ],
     "language": "python",
     "metadata": {
      "slideshow": {
       "slide_type": "-"
      }
     },
     "outputs": [
      {
       "html": [
        "<div style=\"max-height:1000px;max-width:1500px;overflow:auto;\">\n",
        "<table border=\"1\" class=\"dataframe\">\n",
        "  <thead>\n",
        "    <tr style=\"text-align: right;\">\n",
        "      <th></th>\n",
        "      <th>_id</th>\n",
        "      <th>entities</th>\n",
        "      <th>user</th>\n",
        "    </tr>\n",
        "  </thead>\n",
        "  <tbody>\n",
        "    <tr>\n",
        "      <th>0</th>\n",
        "      <td> 54c1d26646d3d338ebd5e9b1</td>\n",
        "      <td> {u'user_mentions': [{u'indices': [3, 10], u'sc...</td>\n",
        "      <td>   {u'followers_count': 36}</td>\n",
        "    </tr>\n",
        "    <tr>\n",
        "      <th>1</th>\n",
        "      <td> 54c1d26646d3d338ebd5e9b2</td>\n",
        "      <td> {u'user_mentions': [{u'indices': [3, 10], u'sc...</td>\n",
        "      <td> {u'followers_count': 3334}</td>\n",
        "    </tr>\n",
        "    <tr>\n",
        "      <th>2</th>\n",
        "      <td> 54c1d26646d3d338ebd5e9b3</td>\n",
        "      <td>                            {u'user_mentions': []}</td>\n",
        "      <td>  {u'followers_count': 124}</td>\n",
        "    </tr>\n",
        "    <tr>\n",
        "      <th>3</th>\n",
        "      <td> 54c1d26646d3d338ebd5e9b4</td>\n",
        "      <td> {u'user_mentions': [{u'indices': [3, 10], u'sc...</td>\n",
        "      <td>  {u'followers_count': 168}</td>\n",
        "    </tr>\n",
        "    <tr>\n",
        "      <th>4</th>\n",
        "      <td> 54c1d26646d3d338ebd5e9b5</td>\n",
        "      <td> {u'user_mentions': [{u'indices': [3, 10], u'sc...</td>\n",
        "      <td>   {u'followers_count': 36}</td>\n",
        "    </tr>\n",
        "  </tbody>\n",
        "</table>\n",
        "</div>"
       ],
       "metadata": {},
       "output_type": "pyout",
       "prompt_number": 68,
       "text": [
        "                        _id  \\\n",
        "0  54c1d26646d3d338ebd5e9b1   \n",
        "1  54c1d26646d3d338ebd5e9b2   \n",
        "2  54c1d26646d3d338ebd5e9b3   \n",
        "3  54c1d26646d3d338ebd5e9b4   \n",
        "4  54c1d26646d3d338ebd5e9b5   \n",
        "\n",
        "                                            entities  \\\n",
        "0  {u'user_mentions': [{u'indices': [3, 10], u'sc...   \n",
        "1  {u'user_mentions': [{u'indices': [3, 10], u'sc...   \n",
        "2                             {u'user_mentions': []}   \n",
        "3  {u'user_mentions': [{u'indices': [3, 10], u'sc...   \n",
        "4  {u'user_mentions': [{u'indices': [3, 10], u'sc...   \n",
        "\n",
        "                         user  \n",
        "0    {u'followers_count': 36}  \n",
        "1  {u'followers_count': 3334}  \n",
        "2   {u'followers_count': 124}  \n",
        "3   {u'followers_count': 168}  \n",
        "4    {u'followers_count': 36}  "
       ]
      }
     ],
     "prompt_number": 68
    },
    {
     "cell_type": "markdown",
     "metadata": {
      "slideshow": {
       "slide_type": "subslide"
      }
     },
     "source": [
      "Pandas doesn't know how to parse the sub-documents however, so we must tell it explicitly:"
     ]
    },
    {
     "cell_type": "code",
     "collapsed": false,
     "input": [
      "mentions_followers_df = pd.DataFrame({'user_mentions': len(tweet['entities']['user_mentions']), \n",
      "              'followers_count': tweet['user'].get('followers_count')} for tweet in mentions_followers)\n",
      "mentions_followers_df.head()"
     ],
     "language": "python",
     "metadata": {
      "slideshow": {
       "slide_type": "-"
      }
     },
     "outputs": [
      {
       "html": [
        "<div style=\"max-height:1000px;max-width:1500px;overflow:auto;\">\n",
        "<table border=\"1\" class=\"dataframe\">\n",
        "  <thead>\n",
        "    <tr style=\"text-align: right;\">\n",
        "      <th></th>\n",
        "      <th>followers_count</th>\n",
        "      <th>user_mentions</th>\n",
        "    </tr>\n",
        "  </thead>\n",
        "  <tbody>\n",
        "    <tr>\n",
        "      <th>0</th>\n",
        "      <td>   36</td>\n",
        "      <td> 1</td>\n",
        "    </tr>\n",
        "    <tr>\n",
        "      <th>1</th>\n",
        "      <td> 3334</td>\n",
        "      <td> 1</td>\n",
        "    </tr>\n",
        "    <tr>\n",
        "      <th>2</th>\n",
        "      <td>  124</td>\n",
        "      <td> 0</td>\n",
        "    </tr>\n",
        "    <tr>\n",
        "      <th>3</th>\n",
        "      <td>  168</td>\n",
        "      <td> 1</td>\n",
        "    </tr>\n",
        "    <tr>\n",
        "      <th>4</th>\n",
        "      <td>   36</td>\n",
        "      <td> 1</td>\n",
        "    </tr>\n",
        "  </tbody>\n",
        "</table>\n",
        "</div>"
       ],
       "metadata": {},
       "output_type": "pyout",
       "prompt_number": 69,
       "text": [
        "   followers_count  user_mentions\n",
        "0               36              1\n",
        "1             3334              1\n",
        "2              124              0\n",
        "3              168              1\n",
        "4               36              1"
       ]
      }
     ],
     "prompt_number": 69
    },
    {
     "cell_type": "markdown",
     "metadata": {
      "slideshow": {
       "slide_type": "slide"
      }
     },
     "source": [
      "Perhaps `user_mentions` and `followers_count` are correlated?"
     ]
    },
    {
     "cell_type": "code",
     "collapsed": false,
     "input": [
      "%matplotlib inline"
     ],
     "language": "python",
     "metadata": {},
     "outputs": [],
     "prompt_number": 71
    },
    {
     "cell_type": "code",
     "collapsed": false,
     "input": [
      "plt.scatter(mentions_followers_df.user_mentions, mentions_followers_df.followers_count)\n",
      "mentions_followers_df.corr()"
     ],
     "language": "python",
     "metadata": {
      "slideshow": {
       "slide_type": "-"
      }
     },
     "outputs": [
      {
       "html": [
        "<div style=\"max-height:1000px;max-width:1500px;overflow:auto;\">\n",
        "<table border=\"1\" class=\"dataframe\">\n",
        "  <thead>\n",
        "    <tr style=\"text-align: right;\">\n",
        "      <th></th>\n",
        "      <th>followers_count</th>\n",
        "      <th>user_mentions</th>\n",
        "    </tr>\n",
        "  </thead>\n",
        "  <tbody>\n",
        "    <tr>\n",
        "      <th>followers_count</th>\n",
        "      <td> 1.000000</td>\n",
        "      <td> 0.031624</td>\n",
        "    </tr>\n",
        "    <tr>\n",
        "      <th>user_mentions</th>\n",
        "      <td> 0.031624</td>\n",
        "      <td> 1.000000</td>\n",
        "    </tr>\n",
        "  </tbody>\n",
        "</table>\n",
        "</div>"
       ],
       "metadata": {},
       "output_type": "pyout",
       "prompt_number": 72,
       "text": [
        "                 followers_count  user_mentions\n",
        "followers_count         1.000000       0.031624\n",
        "user_mentions           0.031624       1.000000"
       ]
      },
      {
       "metadata": {},
       "output_type": "display_data",
       "png": "iVBORw0KGgoAAAANSUhEUgAAAYMAAAEACAYAAABRQBpkAAAABHNCSVQICAgIfAhkiAAAAAlwSFlz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\n",
       "text": [
        "<matplotlib.figure.Figure at 0x10cb70d10>"
       ]
      }
     ],
     "prompt_number": 72
    },
    {
     "cell_type": "markdown",
     "metadata": {
      "slideshow": {
       "slide_type": "fragment"
      }
     },
     "source": [
      "Perhaps not."
     ]
    },
    {
     "cell_type": "markdown",
     "metadata": {
      "slideshow": {
       "slide_type": "slide"
      }
     },
     "source": [
      "Lab\n",
      "============\n",
      "1-2 Pairs\n",
      "------------"
     ]
    },
    {
     "cell_type": "markdown",
     "metadata": {
      "slideshow": {
       "slide_type": "notes"
      }
     },
     "source": [
      "Raise two fingers if you understand the material well.  \n",
      "Raise one finger if you understand this material OK.  \n",
      "Now, 1 find a 2 and sit next to them. While you work through this exercise, only 1's can type."
     ]
    },
    {
     "cell_type": "markdown",
     "metadata": {
      "slideshow": {
       "slide_type": "fragment"
      }
     },
     "source": [
      "The [Yahoo! Where On Earth ID](https://developer.yahoo.com/geo/geoplanet/) of Canada is 23424775.  \n",
      "Use it to find Twitter trends in Canada and compare it to US trends. What's the difference between them?  \n",
      "\n",
      "- Insert the last 100 tweets for all Canada-only trends into a `canada` collection.  \n",
      "- Insert the last 100 tweets for all US-only trends into a `us` collections.  \n",
      "- For this (small and not very representative) sample, which users have the highest `follower_count`?"
     ]
    },
    {
     "cell_type": "markdown",
     "metadata": {
      "slideshow": {
       "slide_type": "fragment"
      }
     },
     "source": [
      "Individually:\n",
      "------------\n",
      "Find tweets where `'retweet_count': {\"$gt\": 0}`.  \n",
      "What is their `count`?  \n",
      "Is there anything about them that stands out as retweetable?"
     ]
    },
    {
     "cell_type": "markdown",
     "metadata": {
      "slideshow": {
       "slide_type": "notes"
      }
     },
     "source": [
      "Further exercises:  \n",
      "\n",
      "* Twitter - _Mining-the-Social-Web-2nd-Edition_: [Chapter 1 - Mining Twitter](http://nbviewer.ipython.org/github/ptwobrussell/Mining-the-Social-Web-2nd-Edition/blob/master/ipynb/__Chapter%201%20-%20Mining%20Twitter%20%28Full-Text%20Sampler%29.ipynb)\n",
      "* Mongo - [Aggregation Framework](http://docs.mongodb.org/manual/aggregation/)"
     ]
    },
    {
     "cell_type": "markdown",
     "metadata": {
      "slideshow": {
       "slide_type": "slide"
      }
     },
     "source": [
      "Next week:\n",
      "==============\n",
      "Big Data\n",
      "--------------"
     ]
    }
   ],
   "metadata": {}
  }
 ]
}