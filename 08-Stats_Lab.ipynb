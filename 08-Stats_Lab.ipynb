{
 "metadata": {
  "name": "",
<<<<<<< HEAD
  "signature": "sha256:fd19abe05acf4e254d9bc2642c84df5fc47610738c51d6ef9ec41b9bc06dde04"
=======
  "signature": "sha256:ea44b366ac3da46b592950eac76c3c7d6a27fe56e61ca7614aecfd21488c5a25"
>>>>>>> 614f5817a6aae7dc1f97ddb3bcabd660284af944
 },
 "nbformat": 3,
 "nbformat_minor": 0,
 "worksheets": [
  {
   "cells": [
    {
     "cell_type": "markdown",
     "metadata": {
      "slideshow": {
       "slide_type": "slide"
      }
     },
     "source": [
      "Lab\n",
      "===================\n",
      "Probability and Statistics\n",
      "-------------------\n",
      "Alessandro D. Gagliardi"
     ]
    },
    {
     "cell_type": "markdown",
     "metadata": {
      "slideshow": {
       "slide_type": "slide"
      }
     },
     "source": [
      "On Groundhog Day, February 2, a famous groundhog in Punxsutawney, PA is used to predict whether a winter will be long or not based on whether or not he sees his shadow. [Jonathan Taylor](http://statweb.stanford.edu/~jtaylo/) collected data on whether he saw his shadow or not from [here](http://www.stormfax.com/ghogday.htm). He stored some of this data in this [table](http://stats191.stanford.edu/data/groundhog.table).\n",
      "\n",
      "Although Phil is on the East Coast,\n",
      "Taylor wondered if the information says anything about whether or not we will experience\n",
      "a rainy winter out here in California. For this, he found rainfall data, and saved it in a \n",
      "[table](http://stats191.stanford.edu/data/rainfall.csv). To see how this was extracted\n",
      "see this [notebook](http://nbviewer.ipython.org/url/www.stanford.edu/class/stats191/notebooks/Rainfall%20data.ipynb).\n",
      "\n",
      "1. Make a boxplot of the average rainfall in Northen California comparing the years Phil sees his shadow versus the years he does not.\n",
      "\n",
      "2. Construct a 90% confidence interval for the difference between the mean rainfall in years Phil sees his shadow and years he does not.\n",
      "\n",
      "3. Interpret the interval in part 2.\n",
      "\n",
      "4. At level, $\\alpha = 0.05$ would you reject the null hypothesis that the average rainfall in Northern California during the month of February was the same in years Phil sees his shadow versus years he does not?\n",
      "\n",
      "5. What assumptions are you making in forming your confidence interval and in your hypothesis test?"
     ]
    },
    {
     "cell_type": "code",
     "collapsed": false,
     "input": [
      "%matplotlib inline\n",
      "import os\n",
      "import matplotlib.pyplot as plt\n",
      "import numpy as np\n",
      "import pandas as pd\n",
      "import statsmodels.api as sm\n",
      "import twitter\n",
      "import yaml\n",
      "from pymongo import MongoClient"
     ],
     "language": "python",
     "metadata": {
      "slideshow": {
       "slide_type": "subslide"
      }
     },
     "outputs": [],
     "prompt_number": 1
    },
    {
     "cell_type": "markdown",
     "metadata": {
      "slideshow": {
       "slide_type": "slide"
      }
     },
     "source": [
      "Part 1\n",
      "------"
     ]
    },
    {
     "cell_type": "code",
     "collapsed": false,
     "input": [
      "rainfall = pd.read_csv('http://stats191.stanford.edu/data/rainfall.csv')\n",
      "groundhog = pd.read_csv('http://stats191.stanford.edu/data/groundhog.table')"
     ],
     "language": "python",
     "metadata": {
      "slideshow": {
       "slide_type": "fragment"
      }
     },
     "outputs": [],
     "prompt_number": 2
<<<<<<< HEAD
=======
    },
    {
     "cell_type": "code",
     "collapsed": false,
     "input": [
      "rainfall.head()"
     ],
     "language": "python",
     "metadata": {},
     "outputs": [
      {
       "html": [
        "<div style=\"max-height:1000px;max-width:1500px;overflow:auto;\">\n",
        "<table border=\"1\" class=\"dataframe\">\n",
        "  <thead>\n",
        "    <tr style=\"text-align: right;\">\n",
        "      <th></th>\n",
        "      <th>WY</th>\n",
        "      <th>Oct</th>\n",
        "      <th>Nov</th>\n",
        "      <th>Dec</th>\n",
        "      <th>Jan</th>\n",
        "      <th>Feb</th>\n",
        "      <th>Mar</th>\n",
        "      <th>Apr</th>\n",
        "      <th>May</th>\n",
        "      <th>Jun</th>\n",
        "      <th>Jul</th>\n",
        "      <th>Aug</th>\n",
        "      <th>Sep</th>\n",
        "      <th>Total</th>\n",
        "    </tr>\n",
        "  </thead>\n",
        "  <tbody>\n",
        "    <tr>\n",
        "      <th>0</th>\n",
        "      <td> 1921</td>\n",
        "      <td> 5.25</td>\n",
        "      <td> 12.38</td>\n",
        "      <td> 11.52</td>\n",
        "      <td> 13.12</td>\n",
        "      <td>  3.76</td>\n",
        "      <td> 5.30</td>\n",
        "      <td> 0.94</td>\n",
        "      <td> 3.05</td>\n",
        "      <td> 0.65</td>\n",
        "      <td> 0.00</td>\n",
        "      <td> 0.00</td>\n",
        "      <td> 0.02</td>\n",
        "      <td> 55.99</td>\n",
        "    </tr>\n",
        "    <tr>\n",
        "      <th>1</th>\n",
        "      <td> 1922</td>\n",
        "      <td> 1.39</td>\n",
        "      <td>  3.16</td>\n",
        "      <td> 11.22</td>\n",
        "      <td>  3.21</td>\n",
        "      <td> 14.42</td>\n",
        "      <td> 8.37</td>\n",
        "      <td> 1.58</td>\n",
        "      <td> 2.22</td>\n",
        "      <td> 0.98</td>\n",
        "      <td> 0.14</td>\n",
        "      <td> 0.08</td>\n",
        "      <td> 0.01</td>\n",
        "      <td> 46.78</td>\n",
        "    </tr>\n",
        "    <tr>\n",
        "      <th>2</th>\n",
        "      <td> 1923</td>\n",
        "      <td> 3.59</td>\n",
        "      <td>  6.01</td>\n",
        "      <td> 11.79</td>\n",
        "      <td>  5.95</td>\n",
        "      <td>  1.93</td>\n",
        "      <td> 0.49</td>\n",
        "      <td> 6.86</td>\n",
        "      <td> 0.93</td>\n",
        "      <td> 2.09</td>\n",
        "      <td> 0.20</td>\n",
        "      <td> 0.40</td>\n",
        "      <td> 2.75</td>\n",
        "      <td> 42.99</td>\n",
        "    </tr>\n",
        "    <tr>\n",
        "      <th>3</th>\n",
        "      <td> 1924</td>\n",
        "      <td> 2.15</td>\n",
        "      <td>  0.46</td>\n",
        "      <td>  2.77</td>\n",
        "      <td>  3.55</td>\n",
        "      <td>  3.94</td>\n",
        "      <td> 2.67</td>\n",
        "      <td> 0.89</td>\n",
        "      <td> 0.05</td>\n",
        "      <td> 0.08</td>\n",
        "      <td> 0.00</td>\n",
        "      <td> 0.14</td>\n",
        "      <td> 0.40</td>\n",
        "      <td> 17.10</td>\n",
        "    </tr>\n",
        "    <tr>\n",
        "      <th>4</th>\n",
        "      <td> 1925</td>\n",
        "      <td> 6.63</td>\n",
        "      <td>  4.71</td>\n",
        "      <td>  6.01</td>\n",
        "      <td>  3.47</td>\n",
        "      <td> 15.21</td>\n",
        "      <td> 4.51</td>\n",
        "      <td> 5.46</td>\n",
        "      <td> 2.14</td>\n",
        "      <td> 1.52</td>\n",
        "      <td> 0.11</td>\n",
        "      <td> 0.83</td>\n",
        "      <td> 2.45</td>\n",
        "      <td> 53.05</td>\n",
        "    </tr>\n",
        "  </tbody>\n",
        "</table>\n",
        "</div>"
       ],
       "metadata": {},
       "output_type": "pyout",
       "prompt_number": 14,
       "text": [
        "     WY   Oct    Nov    Dec    Jan    Feb   Mar   Apr   May   Jun   Jul   Aug  \\\n",
        "0  1921  5.25  12.38  11.52  13.12   3.76  5.30  0.94  3.05  0.65  0.00  0.00   \n",
        "1  1922  1.39   3.16  11.22   3.21  14.42  8.37  1.58  2.22  0.98  0.14  0.08   \n",
        "2  1923  3.59   6.01  11.79   5.95   1.93  0.49  6.86  0.93  2.09  0.20  0.40   \n",
        "3  1924  2.15   0.46   2.77   3.55   3.94  2.67  0.89  0.05  0.08  0.00  0.14   \n",
        "4  1925  6.63   4.71   6.01   3.47  15.21  4.51  5.46  2.14  1.52  0.11  0.83   \n",
        "\n",
        "    Sep  Total  \n",
        "0  0.02  55.99  \n",
        "1  0.01  46.78  \n",
        "2  2.75  42.99  \n",
        "3  0.40  17.10  \n",
        "4  2.45  53.05  "
       ]
      }
     ],
     "prompt_number": 14
    },
    {
     "cell_type": "code",
     "collapsed": false,
     "input": [
      "groundhog.head()"
     ],
     "language": "python",
     "metadata": {},
     "outputs": [
      {
       "html": [
        "<div style=\"max-height:1000px;max-width:1500px;overflow:auto;\">\n",
        "<table border=\"1\" class=\"dataframe\">\n",
        "  <thead>\n",
        "    <tr style=\"text-align: right;\">\n",
        "      <th></th>\n",
        "      <th>year</th>\n",
        "      <th>mintemp</th>\n",
        "      <th>shadow</th>\n",
        "    </tr>\n",
        "  </thead>\n",
        "  <tbody>\n",
        "    <tr>\n",
        "      <th>0</th>\n",
        "      <td> 1990</td>\n",
        "      <td> 24</td>\n",
        "      <td> N</td>\n",
        "    </tr>\n",
        "    <tr>\n",
        "      <th>1</th>\n",
        "      <td> 1991</td>\n",
        "      <td> 23</td>\n",
        "      <td> Y</td>\n",
        "    </tr>\n",
        "    <tr>\n",
        "      <th>2</th>\n",
        "      <td> 1992</td>\n",
        "      <td> 22</td>\n",
        "      <td> Y</td>\n",
        "    </tr>\n",
        "    <tr>\n",
        "      <th>3</th>\n",
        "      <td> 1993</td>\n",
        "      <td> 16</td>\n",
        "      <td> Y</td>\n",
        "    </tr>\n",
        "    <tr>\n",
        "      <th>4</th>\n",
        "      <td> 1994</td>\n",
        "      <td> 12</td>\n",
        "      <td> Y</td>\n",
        "    </tr>\n",
        "  </tbody>\n",
        "</table>\n",
        "</div>"
       ],
       "metadata": {},
       "output_type": "pyout",
       "prompt_number": 11,
       "text": [
        "   year  mintemp shadow\n",
        "0  1990       24      N\n",
        "1  1991       23      Y\n",
        "2  1992       22      Y\n",
        "3  1993       16      Y\n",
        "4  1994       12      Y"
       ]
      }
     ],
     "prompt_number": 11
    },
    {
     "cell_type": "code",
     "collapsed": false,
     "input": [
      "rainfall.merge(groundhog, left_on='WY', right_on='year').head()"
     ],
     "language": "python",
     "metadata": {},
     "outputs": [
      {
       "html": [
        "<div style=\"max-height:1000px;max-width:1500px;overflow:auto;\">\n",
        "<table border=\"1\" class=\"dataframe\">\n",
        "  <thead>\n",
        "    <tr style=\"text-align: right;\">\n",
        "      <th></th>\n",
        "      <th>WY</th>\n",
        "      <th>Oct</th>\n",
        "      <th>Nov</th>\n",
        "      <th>Dec</th>\n",
        "      <th>Jan</th>\n",
        "      <th>Feb</th>\n",
        "      <th>Mar</th>\n",
        "      <th>Apr</th>\n",
        "      <th>May</th>\n",
        "      <th>Jun</th>\n",
        "      <th>Jul</th>\n",
        "      <th>Aug</th>\n",
        "      <th>Sep</th>\n",
        "      <th>Total</th>\n",
        "      <th>year</th>\n",
        "      <th>mintemp</th>\n",
        "      <th>shadow</th>\n",
        "    </tr>\n",
        "  </thead>\n",
        "  <tbody>\n",
        "    <tr>\n",
        "      <th>0</th>\n",
        "      <td> 1990</td>\n",
        "      <td> 6.29</td>\n",
        "      <td> 3.08</td>\n",
        "      <td>  0.07</td>\n",
        "      <td>  7.88</td>\n",
        "      <td>  4.60</td>\n",
        "      <td>  3.19</td>\n",
        "      <td> 1.83</td>\n",
        "      <td> 7.55</td>\n",
        "      <td> 0.29</td>\n",
        "      <td> 0.12</td>\n",
        "      <td> 0.54</td>\n",
        "      <td> 0.53</td>\n",
        "      <td> 35.97</td>\n",
        "      <td> 1990</td>\n",
        "      <td> 24</td>\n",
        "      <td> N</td>\n",
        "    </tr>\n",
        "    <tr>\n",
        "      <th>1</th>\n",
        "      <td> 1991</td>\n",
        "      <td> 1.10</td>\n",
        "      <td> 1.56</td>\n",
        "      <td>  1.39</td>\n",
        "      <td>  0.88</td>\n",
        "      <td>  3.11</td>\n",
        "      <td> 17.94</td>\n",
        "      <td> 1.81</td>\n",
        "      <td> 2.51</td>\n",
        "      <td> 1.20</td>\n",
        "      <td> 0.40</td>\n",
        "      <td> 0.22</td>\n",
        "      <td> 0.05</td>\n",
        "      <td> 32.17</td>\n",
        "      <td> 1991</td>\n",
        "      <td> 23</td>\n",
        "      <td> Y</td>\n",
        "    </tr>\n",
        "    <tr>\n",
        "      <th>2</th>\n",
        "      <td> 1992</td>\n",
        "      <td> 3.44</td>\n",
        "      <td> 2.64</td>\n",
        "      <td>  3.97</td>\n",
        "      <td>  2.81</td>\n",
        "      <td> 11.84</td>\n",
        "      <td>  5.35</td>\n",
        "      <td> 2.67</td>\n",
        "      <td> 0.12</td>\n",
        "      <td> 2.73</td>\n",
        "      <td> 0.20</td>\n",
        "      <td> 0.16</td>\n",
        "      <td> 0.08</td>\n",
        "      <td> 36.01</td>\n",
        "      <td> 1992</td>\n",
        "      <td> 22</td>\n",
        "      <td> Y</td>\n",
        "    </tr>\n",
        "    <tr>\n",
        "      <th>3</th>\n",
        "      <td> 1993</td>\n",
        "      <td> 4.77</td>\n",
        "      <td> 1.15</td>\n",
        "      <td> 14.41</td>\n",
        "      <td> 16.53</td>\n",
        "      <td> 10.26</td>\n",
        "      <td>  7.57</td>\n",
        "      <td> 3.66</td>\n",
        "      <td> 4.27</td>\n",
        "      <td> 2.31</td>\n",
        "      <td> 0.00</td>\n",
        "      <td> 0.38</td>\n",
        "      <td> 0.01</td>\n",
        "      <td> 65.32</td>\n",
        "      <td> 1993</td>\n",
        "      <td> 16</td>\n",
        "      <td> Y</td>\n",
        "    </tr>\n",
        "    <tr>\n",
        "      <th>4</th>\n",
        "      <td> 1994</td>\n",
        "      <td> 2.65</td>\n",
        "      <td> 2.81</td>\n",
        "      <td>  7.34</td>\n",
        "      <td>  4.10</td>\n",
        "      <td>  7.62</td>\n",
        "      <td>  1.53</td>\n",
        "      <td> 2.87</td>\n",
        "      <td> 1.96</td>\n",
        "      <td> 0.32</td>\n",
        "      <td> 0.01</td>\n",
        "      <td> 0.00</td>\n",
        "      <td> 0.62</td>\n",
        "      <td> 31.83</td>\n",
        "      <td> 1994</td>\n",
        "      <td> 12</td>\n",
        "      <td> Y</td>\n",
        "    </tr>\n",
        "  </tbody>\n",
        "</table>\n",
        "</div>"
       ],
       "metadata": {},
       "output_type": "pyout",
       "prompt_number": 12,
       "text": [
        "     WY   Oct   Nov    Dec    Jan    Feb    Mar   Apr   May   Jun   Jul   Aug  \\\n",
        "0  1990  6.29  3.08   0.07   7.88   4.60   3.19  1.83  7.55  0.29  0.12  0.54   \n",
        "1  1991  1.10  1.56   1.39   0.88   3.11  17.94  1.81  2.51  1.20  0.40  0.22   \n",
        "2  1992  3.44  2.64   3.97   2.81  11.84   5.35  2.67  0.12  2.73  0.20  0.16   \n",
        "3  1993  4.77  1.15  14.41  16.53  10.26   7.57  3.66  4.27  2.31  0.00  0.38   \n",
        "4  1994  2.65  2.81   7.34   4.10   7.62   1.53  2.87  1.96  0.32  0.01  0.00   \n",
        "\n",
        "    Sep  Total  year  mintemp shadow  \n",
        "0  0.53  35.97  1990       24      N  \n",
        "1  0.05  32.17  1991       23      Y  \n",
        "2  0.08  36.01  1992       22      Y  \n",
        "3  0.01  65.32  1993       16      Y  \n",
        "4  0.62  31.83  1994       12      Y  "
       ]
      }
     ],
     "prompt_number": 12
>>>>>>> 614f5817a6aae7dc1f97ddb3bcabd660284af944
    },
    {
     "cell_type": "code",
     "collapsed": false,
     "input": [
      "df = rainfall.merge(groundhog, left_on='WY', right_on='year')[['Total', 'shadow']]"
     ],
     "language": "python",
     "metadata": {},
     "outputs": [],
     "prompt_number": 3
<<<<<<< HEAD
=======
    },
    {
     "cell_type": "code",
     "collapsed": false,
     "input": [
      "df.tail()"
     ],
     "language": "python",
     "metadata": {},
     "outputs": [
      {
       "html": [
        "<div style=\"max-height:1000px;max-width:1500px;overflow:auto;\">\n",
        "<table border=\"1\" class=\"dataframe\">\n",
        "  <thead>\n",
        "    <tr style=\"text-align: right;\">\n",
        "      <th></th>\n",
        "      <th>Total</th>\n",
        "      <th>shadow</th>\n",
        "    </tr>\n",
        "  </thead>\n",
        "  <tbody>\n",
        "    <tr>\n",
        "      <th>16</th>\n",
        "      <td> 80.15</td>\n",
        "      <td> Y</td>\n",
        "    </tr>\n",
        "    <tr>\n",
        "      <th>17</th>\n",
        "      <td> 37.21</td>\n",
        "      <td> N</td>\n",
        "    </tr>\n",
        "    <tr>\n",
        "      <th>18</th>\n",
        "      <td> 34.99</td>\n",
        "      <td> Y</td>\n",
        "    </tr>\n",
        "    <tr>\n",
        "      <th>19</th>\n",
        "      <td> 46.85</td>\n",
        "      <td> Y</td>\n",
        "    </tr>\n",
        "    <tr>\n",
        "      <th>20</th>\n",
        "      <td> 53.59</td>\n",
        "      <td> Y</td>\n",
        "    </tr>\n",
        "  </tbody>\n",
        "</table>\n",
        "</div>"
       ],
       "metadata": {},
       "output_type": "pyout",
       "prompt_number": 5,
       "text": [
        "    Total shadow\n",
        "16  80.15      Y\n",
        "17  37.21      N\n",
        "18  34.99      Y\n",
        "19  46.85      Y\n",
        "20  53.59      Y"
       ]
      }
     ],
     "prompt_number": 5
>>>>>>> 614f5817a6aae7dc1f97ddb3bcabd660284af944
    },
    {
     "cell_type": "code",
     "collapsed": false,
     "input": [
      "df.boxplot(column='Total', by='shadow')"
     ],
     "language": "python",
     "metadata": {},
     "outputs": [
      {
       "metadata": {},
       "output_type": "pyout",
<<<<<<< HEAD
       "prompt_number": 4,
       "text": [
        "<matplotlib.axes._subplots.AxesSubplot at 0x190b0048>"
=======
       "prompt_number": 6,
       "text": [
        "<matplotlib.axes._subplots.AxesSubplot at 0x109d9f310>"
>>>>>>> 614f5817a6aae7dc1f97ddb3bcabd660284af944
       ]
      },
      {
       "metadata": {},
       "output_type": "display_data",
       "png": "iVBORw0KGgoAAAANSUhEUgAAAXcAAAEaCAYAAADqqhd6AAAABHNCSVQICAgIfAhkiAAAAAlwSFlz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\n",
       "text": [
<<<<<<< HEAD
        "<matplotlib.figure.Figure at 0x3f62550>"
       ]
      }
     ],
     "prompt_number": 4
=======
        "<matplotlib.figure.Figure at 0x109d31d90>"
       ]
      }
     ],
     "prompt_number": 6
>>>>>>> 614f5817a6aae7dc1f97ddb3bcabd660284af944
    },
    {
     "cell_type": "markdown",
     "metadata": {
      "slideshow": {
       "slide_type": "slide"
      }
     },
     "source": [
      "Part 2\n",
      "------"
     ]
    },
    {
     "cell_type": "code",
     "collapsed": false,
     "input": [
      "mod = sm.OLS.from_formula(\"Total ~ shadow == 'Y'\", df)\n",
      "res = mod.fit()\n",
      "print res.summary(alpha = .1)"
     ],
     "language": "python",
     "metadata": {
      "slideshow": {
       "slide_type": "fragment"
      }
     },
     "outputs": [
      {
       "output_type": "stream",
       "stream": "stdout",
       "text": [
        "                            OLS Regression Results                            \n",
        "==============================================================================\n",
        "Dep. Variable:                  Total   R-squared:                       0.016\n",
        "Model:                            OLS   Adj. R-squared:                 -0.036\n",
        "Method:                 Least Squares   F-statistic:                    0.2996\n",
        "Date:                Tue, 10 Feb 2015   Prob (F-statistic):              0.591\n",
<<<<<<< HEAD
        "Time:                        20:01:55   Log-Likelihood:                -88.568\n",
        "No. Observations:                  21   AIC:                             181.1\n",
        "Df Residuals:                      19   BIC:                             183.2\n",
        "Df Model:                           1                                         \n",
=======
        "Time:                        20:14:19   Log-Likelihood:                -88.568\n",
        "No. Observations:                  21   AIC:                             181.1\n",
        "Df Residuals:                      19   BIC:                             183.2\n",
        "Df Model:                           1                                         \n",
        "Covariance Type:            nonrobust                                         \n",
>>>>>>> 614f5817a6aae7dc1f97ddb3bcabd660284af944
        "=========================================================================================\n",
        "                            coef    std err          t      P>|t|      [90.0% Conf. Int.]\n",
        "-----------------------------------------------------------------------------------------\n",
        "Intercept                56.4160      7.721      7.307      0.000        43.066    69.766\n",
        "shadow == 'Y'[T.True]    -4.8410      8.845     -0.547      0.591       -20.135    10.453\n",
        "==============================================================================\n",
        "Omnibus:                        1.662   Durbin-Watson:                   1.830\n",
        "Prob(Omnibus):                  0.436   Jarque-Bera (JB):                1.276\n",
        "Skew:                           0.403   Prob(JB):                        0.528\n",
        "Kurtosis:                       2.102   Cond. No.                         3.88\n",
<<<<<<< HEAD
        "==============================================================================\n"
       ]
      }
     ],
     "prompt_number": 5
=======
        "==============================================================================\n",
        "\n",
        "Warnings:\n",
        "[1] Standard Errors assume that the covariance matrix of the errors is correctly specified.\n"
       ]
      }
     ],
     "prompt_number": 9
>>>>>>> 614f5817a6aae7dc1f97ddb3bcabd660284af944
    },
    {
     "cell_type": "markdown",
     "metadata": {
      "slideshow": {
       "slide_type": "fragment"
      }
     },
     "source": [
      "I report the confidence interval [-20.135, 10.453] for the difference between the `shadow == 'Y'` and the `shadow == 'N'` means."
     ]
    },
    {
     "cell_type": "markdown",
     "metadata": {
      "slideshow": {
       "slide_type": "slide"
      }
     },
     "source": [
      "Part 3\n",
      "------\n",
      "If I repeated this sample of `shadow` and `rainfall` in Northern California (assuming they are IID each year) and I form this confidence interval as `t.test` does. Then, 90% of the intervals will cover the true underlying difference in the rainfall between years the groundhog sees his shadow or not."
     ]
    },
    {
     "cell_type": "markdown",
     "metadata": {
      "slideshow": {
       "slide_type": "slide"
      }
     },
     "source": [
      "Part 4\n",
      "------\n",
      "As the reported $p$-value is 0.591, I fail to reject the null hypothesis at the 5% level."
     ]
    },
    {
     "cell_type": "markdown",
     "metadata": {
      "slideshow": {
       "slide_type": "slide"
      }
     },
     "source": [
      "Part 5\n",
      "------\n",
      "I am assuming that the `rainfall` measurements are independent $N(\\mu_i,\\sigma^2)$ where $\\mu_i=\\mu_N$ in the `shadow == 'N'` years and $\\mu_i=\\mu_Y$ in the `shadow == 'Y'` years."
     ]
    },
    {
     "cell_type": "markdown",
     "metadata": {},
     "source": [
      "---"
     ]
    },
    {
     "cell_type": "markdown",
     "metadata": {
      "slideshow": {
       "slide_type": "slide"
      }
     },
     "source": [
      "1-2 Pairs\n",
      "========\n",
      "\n",
      "Use `enron.db` from Lab 2. It can be found in the data folder.\n",
      "\n",
      "1. Create a boxplot of the message recipient count (`MAX(rno)`), splitting the data based on the `seniority` of the sender.\n",
      "\n",
      "2. Compute the sample mean and standard deviation in the two groups.\n",
      "\n",
      "3. Create a histogram of the recipient count within each group.\n",
      "\n",
      "4. Compute a 90% confidence interval for the difference in recipient count between the two groups. What is a problem with this? How might you fix it?\n",
      "\n",
      "5. At level $\\alpha=5\\%$, test the null hypothesis that the average recipient count does not differ between the two groups. What assumptions are you making? What can you conclude?"
     ]
    },
    {
     "cell_type": "code",
     "collapsed": false,
     "input": [
      "%matplotlib inline\n",
      "import sqlite3\n",
      "import pandas as pd\n",
      "from seaborn import plt\n",
      "conn = sqlite3.connect('enron.db')"
     ],
     "language": "python",
     "metadata": {},
     "outputs": [],
     "prompt_number": 7
    },
    {
     "cell_type": "code",
     "collapsed": false,
     "input": [
      "table = pd.read_sql(\"\"\"SELECT seniority, rno, mid\n",
      "    FROM EmployeeBase \n",
      "    JOIN MessageBase ON eid = from_eid \n",
      "    JOIN RecipientBase USING(mid)\n",
      "    group by mid\"\"\", conn, \"mid\") \n",
      "table.head()"
     ],
     "language": "python",
     "metadata": {},
     "outputs": [
      {
       "html": [
        "<div style=\"max-height:1000px;max-width:1500px;overflow:auto;\">\n",
        "<table border=\"1\" class=\"dataframe\">\n",
        "  <thead>\n",
        "    <tr style=\"text-align: right;\">\n",
        "      <th></th>\n",
        "      <th>seniority</th>\n",
        "      <th>rno</th>\n",
        "    </tr>\n",
        "    <tr>\n",
        "      <th>mid</th>\n",
        "      <th></th>\n",
        "      <th></th>\n",
        "    </tr>\n",
        "  </thead>\n",
        "  <tbody>\n",
        "    <tr>\n",
        "      <th>1</th>\n",
        "      <td> Senior</td>\n",
        "      <td> 1</td>\n",
        "    </tr>\n",
        "    <tr>\n",
        "      <th>2</th>\n",
        "      <td> Senior</td>\n",
        "      <td> 1</td>\n",
        "    </tr>\n",
        "    <tr>\n",
        "      <th>3</th>\n",
        "      <td> Senior</td>\n",
        "      <td> 1</td>\n",
        "    </tr>\n",
        "    <tr>\n",
        "      <th>4</th>\n",
        "      <td> Senior</td>\n",
        "      <td> 4</td>\n",
        "    </tr>\n",
        "    <tr>\n",
        "      <th>5</th>\n",
        "      <td> Senior</td>\n",
        "      <td> 2</td>\n",
        "    </tr>\n",
        "  </tbody>\n",
        "</table>\n",
        "</div>"
       ],
       "metadata": {},
       "output_type": "pyout",
       "prompt_number": 26,
       "text": [
        "    seniority  rno\n",
        "mid               \n",
        "1      Senior    1\n",
        "2      Senior    1\n",
        "3      Senior    1\n",
        "4      Senior    4\n",
        "5      Senior    2"
       ]
      }
     ],
     "prompt_number": 26
    },
    {
     "cell_type": "code",
     "collapsed": false,
     "input": [
      "table.boxplot(column='rno', by='seniority')"
     ],
     "language": "python",
     "metadata": {},
     "outputs": [
      {
       "metadata": {},
       "output_type": "pyout",
       "prompt_number": 27,
       "text": [
        "<matplotlib.axes._subplots.AxesSubplot at 0x1ae0f438>"
       ]
      },
      {
       "metadata": {},
       "output_type": "display_data",
       "png": "iVBORw0KGgoAAAANSUhEUgAAAe0AAAF3CAYAAACISRPeAAAABHNCSVQICAgIfAhkiAAAAAlwSFlz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\n",
       "text": [
        "<matplotlib.figure.Figure at 0x1b0aa198>"
       ]
      }
     ],
     "prompt_number": 27
    },
    {
     "cell_type": "code",
     "collapsed": false,
     "input": [
      "table.groupby(\"seniority\").rno.describe()"
     ],
     "language": "python",
     "metadata": {},
     "outputs": [
      {
       "metadata": {},
       "output_type": "pyout",
       "prompt_number": 28,
       "text": [
        "seniority       \n",
        "Junior     count     9196.000000\n",
        "           mean         1.728795\n",
        "           std          1.533445\n",
        "           min          1.000000\n",
        "           25%          1.000000\n",
        "           50%          1.000000\n",
        "           75%          2.000000\n",
        "           max         24.000000\n",
        "Senior     count    12439.000000\n",
        "           mean         1.808023\n",
        "           std          2.095937\n",
        "           min          1.000000\n",
        "           25%          1.000000\n",
        "           50%          1.000000\n",
        "           75%          2.000000\n",
        "           max         57.000000\n",
        "dtype: float64"
       ]
      }
     ],
     "prompt_number": 28
    },
    {
     "cell_type": "code",
     "collapsed": false,
     "input": [
      "table[table.seniority == \"Senior\"].rno.hist()\n",
      "table[table.seniority == \"Junior\"].rno.hist()"
     ],
     "language": "python",
     "metadata": {},
     "outputs": [
      {
       "metadata": {},
       "output_type": "pyout",
       "prompt_number": 34,
       "text": [
        "<matplotlib.axes._subplots.AxesSubplot at 0x1c3f4518>"
       ]
      },
      {
       "metadata": {},
       "output_type": "display_data",
       "png": "iVBORw0KGgoAAAANSUhEUgAAAfcAAAFXCAYAAAC/aQfJAAAABHNCSVQICAgIfAhkiAAAAAlwSFlz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\nAElFTkSuQmCC\n",
       "text": [
        "<matplotlib.figure.Figure at 0x1c491128>"
       ]
      }
     ],
     "prompt_number": 34
    },
    {
     "cell_type": "code",
     "collapsed": false,
     "input": [
      "mod = sm.OLS.from_formula(\"rno ~ seniority\", table)\n",
      "res = mod.fit()\n",
      "print res.summary(alpha = .05)"
     ],
     "language": "python",
     "metadata": {},
     "outputs": [
      {
       "output_type": "stream",
       "stream": "stdout",
       "text": [
        "                            OLS Regression Results                            \n",
        "==============================================================================\n",
        "Dep. Variable:                    rno   R-squared:                       0.000\n",
        "Model:                            OLS   Adj. R-squared:                  0.000\n",
        "Method:                 Least Squares   F-statistic:                     9.415\n",
        "Date:                Tue, 10 Feb 2015   Prob (F-statistic):            0.00216\n",
        "Time:                        21:20:35   Log-Likelihood:                -44327.\n",
        "No. Observations:               21635   AIC:                         8.866e+04\n",
        "Df Residuals:                   21633   BIC:                         8.867e+04\n",
        "Df Model:                           1                                         \n",
        "=======================================================================================\n",
        "                          coef    std err          t      P>|t|      [95.0% Conf. Int.]\n",
        "---------------------------------------------------------------------------------------\n",
        "Intercept               1.7288      0.020     88.298      0.000         1.690     1.767\n",
        "seniority[T.Senior]     0.0792      0.026      3.068      0.002         0.029     0.130\n",
        "==============================================================================\n",
        "Omnibus:                    30503.915   Durbin-Watson:                   1.886\n",
        "Prob(Omnibus):                  0.000   Jarque-Bera (JB):         21990988.515\n",
        "Skew:                           7.994   Prob(JB):                         0.00\n",
        "Kurtosis:                     158.368   Cond. No.                         2.83\n",
        "==============================================================================\n"
       ]
      }
     ],
     "prompt_number": 40
    },
    {
     "cell_type": "markdown",
     "metadata": {
      "slideshow": {
       "slide_type": "fragment"
      }
     },
     "source": [
      "On your own\n",
      "=========\n",
      "\n"
     ]
    },
    {
     "cell_type": "markdown",
     "metadata": {},
     "source": [
      "Start with the Twitter data on US and Canada trends from Lab 3.\n",
      "\n",
      "1. Create a histogram of `text_len` within each group. (Use `alpha = 0.5` to overlay them.)\n",
      "\n",
      "2. Compute the sample mean and standard deviation in the two groups.\n",
      "\n",
      "3. Create a `DataFrame` concatenating data from each collection adding a `country` column to distinguish US from Canada.  \n",
      "    i.e. given `ca_text_len` and `us_text_len` as `Series` containing the length of each text in the Canadian and US collections respectively:\n",
      "\n",
      "    ```python\n",
      "    text_len_df = pd.concat([pd.DataFrame({'text_len': ca_text_len, 'country': 'CA'}), \n",
      "                             pd.DataFrame({'text_len': us_text_len, 'country': 'US'})])\n",
      "    ```\n",
      "\n",
      "4. Use this `DataFrame` to create a `boxplot` of the `text_len` by `country`.\n",
      "\n",
      "5. Use `OLS` to compute a 90% confidence interval for the difference in `text_len` between the two groups. Name a problem with describing the confidence interval of tweet length in this way.\n",
      "\n",
      "5. At level $\\alpha=5\\%$, test the null hypothesis that the average text length does not differ between the two groups. What can you conclude?\n",
      "\n",
      "6. Repeat the above steps but pick your own tags and try to find a pair with a more significant difference."
     ]
    },
    {
     "cell_type": "markdown",
     "metadata": {},
     "source": [
      "---"
     ]
    },
    {
     "cell_type": "markdown",
     "metadata": {},
     "source": [
      "### Don't forget to submit exit tickets: [http://tinyurl.com/dat-exit-ticket](http://tinyurl.com/dat-exit-ticket)"
     ]
    },
    {
     "cell_type": "code",
     "collapsed": false,
     "input": [],
     "language": "python",
     "metadata": {},
     "outputs": []
    }
   ],
   "metadata": {}
  }
 ]
}