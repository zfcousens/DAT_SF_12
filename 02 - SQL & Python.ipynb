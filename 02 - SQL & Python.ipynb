{
 "metadata": {
  "name": "",
  "signature": "sha256:72729ff11b1b5cc20de7d22f77230f80112f13b7ffa77acb5c6fd81b19557f0c"
 },
 "nbformat": 3,
 "nbformat_minor": 0,
 "worksheets": [
  {
   "cells": [
    {
     "cell_type": "markdown",
     "metadata": {},
     "source": [
      "Data Science\n",
      "=========================\n",
      "2. SQL & Python\n",
      "-------------------------\n",
      "20 January 2015"
     ]
    },
    {
     "cell_type": "markdown",
     "metadata": {},
     "source": [
      "### Last Time:\n",
      "\n",
      "1. Intro to Data Science:\n",
      "    1. What is Data Science?  \n",
      "    2. Origins of Data Science  \n",
      "    3. Goals of the Course \n",
      "2. Relational Databases\n",
      "    1. Database Evolution\n",
      "    2. Normalization\n",
      "    3. Natural and Artificial Keys\n",
      "    4. Star Schema\n",
      "    \n",
      "#### Questions?"
     ]
    },
    {
     "cell_type": "markdown",
     "metadata": {},
     "source": [
      "### Agenda\n",
      "\n",
      "1. Readiness Assessment\n",
      "2. SQL Walk Through\n",
      "3. Lab 1\n",
      "4. Pandas Walk Through\n",
      "5. Lab 2"
     ]
    },
    {
     "cell_type": "markdown",
     "metadata": {},
     "source": [
      "---"
     ]
    },
    {
     "cell_type": "markdown",
     "metadata": {},
     "source": [
      "Readiness Assessment\n",
      "====================\n",
      "\n",
      "Given a table like the following:\n",
      "\n",
      "|Page_Name \t|User_ID \t|Date_of_Birth \t|Access_Time\n",
      "| --- | --- | --- | ---\n",
      "|landing \t|1 \t|1979-01-20 \t|2015-01-19 15:52:24\n",
      "|search \t|1 \t|1979-01-20 \t|2015-01-19 15:52:51\n",
      "|landing \t|2 \t|1986-05-03 \t|2015-01-19 15:53:17\n",
      "|product \t|1 \t|1979-01-20 \t|2015-01-19 15:53:42\n",
      "|landing \t|3 \t|1990-04-01 \t|2015-01-19 15:53:42\n",
      "|search \t|1 \t|1979-01-20 \t|2015-01-19 15:54:02\n",
      "|search \t|2 \t|1986-05-03 \t|2015-01-19 15:54:18\n",
      "| ... | ... | ... | ...\n",
      "\n",
      "1. What is the most likely primary key?\n",
      "2. Is this this table properly normalized? If not, which form(s) does it violate?\n",
      "3. How would you normalize this table?"
     ]
    },
    {
     "cell_type": "markdown",
     "metadata": {},
     "source": [
      "---"
     ]
    },
    {
     "cell_type": "markdown",
     "metadata": {},
     "source": [
      "Enron\n",
      "=====\n",
      "\n",
      "<img src=\"http://upload.wikimedia.org/wikipedia/en/thumb/9/9a/Enron_Logo.svg/150px-Enron_Logo.svg.png\" />\n",
      "\n",
      "### Download the sample database at: [tinyurl.com/enron-db](https://github.com/eklypse/GA_DS_SF_2014_01/raw/master/enron.db)"
     ]
    },
    {
     "cell_type": "markdown",
     "metadata": {},
     "source": [
      "`conda install pip`  \n",
      "\n",
      "`pip install ipython-sql`  \n",
      "**for sql magic**"
     ]
    },
    {
     "cell_type": "code",
     "collapsed": false,
     "input": [
      "%load_ext sql"
     ],
     "language": "python",
     "metadata": {},
     "outputs": [],
     "prompt_number": 1
    },
    {
     "cell_type": "code",
     "collapsed": false,
     "input": [
      "%%cmd\n",
      "sqlite3 enron.db .tables"
     ],
     "language": "python",
     "metadata": {},
     "outputs": [
      {
       "output_type": "stream",
       "stream": "stdout",
       "text": [
        "Microsoft Windows [Version 6.1.7601]\r\n",
        "Copyright (c) 2009 Microsoft Corporation.  All rights reserved.\r\n",
        "\r\n",
        "C:\\git\\DAT_SF_12>sqlite3 enron.db .tables\n",
        "Employee          EmployeeWithVars  MessageBase       RecipientBase   \r\n",
        "EmployeeBase      Message           Recipient       \r\n",
        "\r\n",
        "C:\\git\\DAT_SF_12>"
       ]
      }
     ],
     "prompt_number": 3
    },
    {
     "cell_type": "markdown",
     "metadata": {},
     "source": [
      "We only care about the `*Base` tables:\n",
      "\n",
      "- EmployeeBase\n",
      "- MessageBase\n",
      "- RecipientBase\n",
      "\n",
      "(The other tables are derived from those. We don't need them for this exercise.)"
     ]
    },
    {
     "cell_type": "code",
     "collapsed": false,
     "input": [
      "%%sql sqlite:///enron.db\n",
      "SELECT * FROM EmployeeBase LIMIT 5;"
     ],
     "language": "python",
     "metadata": {},
     "outputs": [
      {
       "output_type": "stream",
       "stream": "stdout",
       "text": [
        "Done.\n"
       ]
      },
      {
       "html": [
        "<table>\n",
        "    <tr>\n",
        "        <th>eid</th>\n",
        "        <th>name</th>\n",
        "        <th>department</th>\n",
        "        <th>longdepartment</th>\n",
        "        <th>title</th>\n",
        "        <th>gender</th>\n",
        "        <th>seniority</th>\n",
        "    </tr>\n",
        "    <tr>\n",
        "        <td>1</td>\n",
        "        <td>John Arnold</td>\n",
        "        <td>Trading</td>\n",
        "        <td>ENA Gas Financial</td>\n",
        "        <td>VP Trading</td>\n",
        "        <td>Male</td>\n",
        "        <td>Senior</td>\n",
        "    </tr>\n",
        "    <tr>\n",
        "        <td>2</td>\n",
        "        <td>Harry Arora</td>\n",
        "        <td>Trading</td>\n",
        "        <td>ENA East Power</td>\n",
        "        <td>VP Trading</td>\n",
        "        <td>Male</td>\n",
        "        <td>Senior</td>\n",
        "    </tr>\n",
        "    <tr>\n",
        "        <td>3</td>\n",
        "        <td>Robert Badeer</td>\n",
        "        <td>Trading</td>\n",
        "        <td>ENA West Power</td>\n",
        "        <td>Mgr Trading</td>\n",
        "        <td>Male</td>\n",
        "        <td>Junior</td>\n",
        "    </tr>\n",
        "    <tr>\n",
        "        <td>4</td>\n",
        "        <td>Susan Bailey</td>\n",
        "        <td>Legal</td>\n",
        "        <td>ENA Legal</td>\n",
        "        <td>Specialist Legal</td>\n",
        "        <td>Female</td>\n",
        "        <td>Junior</td>\n",
        "    </tr>\n",
        "    <tr>\n",
        "        <td>5</td>\n",
        "        <td>Eric Bass</td>\n",
        "        <td>Trading</td>\n",
        "        <td>ENA Gas Texas</td>\n",
        "        <td>Trader</td>\n",
        "        <td>Male</td>\n",
        "        <td>Junior</td>\n",
        "    </tr>\n",
        "</table>"
       ],
       "metadata": {},
       "output_type": "pyout",
       "prompt_number": 8,
       "text": [
        "[(1, u'John Arnold', u'Trading', u'ENA Gas Financial', u'VP Trading', u'Male', u'Senior'),\n",
        " (2, u'Harry Arora', u'Trading', u'ENA East Power', u'VP Trading', u'Male', u'Senior'),\n",
        " (3, u'Robert Badeer', u'Trading', u'ENA West Power', u'Mgr Trading', u'Male', u'Junior'),\n",
        " (4, u'Susan Bailey', u'Legal', u'ENA Legal', u'Specialist Legal', u'Female', u'Junior'),\n",
        " (5, u'Eric Bass', u'Trading', u'ENA Gas Texas', u'Trader', u'Male', u'Junior')]"
       ]
      }
     ],
     "prompt_number": 8
    },
    {
     "cell_type": "code",
     "collapsed": false,
     "input": [
      "%%sql sqlite:///enron.db\n",
      "SELECT * FROM MessageBase LIMIT 5;"
     ],
     "language": "python",
     "metadata": {},
     "outputs": [
      {
       "output_type": "stream",
       "stream": "stdout",
       "text": [
        "Done.\n"
       ]
      },
      {
       "html": [
        "<table>\n",
        "    <tr>\n",
        "        <th>mid</th>\n",
        "        <th>filename</th>\n",
        "        <th>unix_time</th>\n",
        "        <th>subject</th>\n",
        "        <th>from_eid</th>\n",
        "    </tr>\n",
        "    <tr>\n",
        "        <td>1</td>\n",
        "        <td>taylor-m/sent/11</td>\n",
        "        <td>910930020</td>\n",
        "        <td>Cd$ CME letter</td>\n",
        "        <td>138</td>\n",
        "    </tr>\n",
        "    <tr>\n",
        "        <td>2</td>\n",
        "        <td>taylor-m/sent/17</td>\n",
        "        <td>911459940</td>\n",
        "        <td>Indemnification</td>\n",
        "        <td>138</td>\n",
        "    </tr>\n",
        "    <tr>\n",
        "        <td>3</td>\n",
        "        <td>taylor-m/sent/18</td>\n",
        "        <td>911463840</td>\n",
        "        <td>Re: Indemnification</td>\n",
        "        <td>138</td>\n",
        "    </tr>\n",
        "    <tr>\n",
        "        <td>4</td>\n",
        "        <td>taylor-m/sent/23</td>\n",
        "        <td>911874180</td>\n",
        "        <td>Re: Coral Energy, L.P.</td>\n",
        "        <td>138</td>\n",
        "    </tr>\n",
        "    <tr>\n",
        "        <td>5</td>\n",
        "        <td>taylor-m/sent/27</td>\n",
        "        <td>912396120</td>\n",
        "        <td>Bankruptcy Code revisions</td>\n",
        "        <td>138</td>\n",
        "    </tr>\n",
        "</table>"
       ],
       "metadata": {},
       "output_type": "pyout",
       "prompt_number": 9,
       "text": [
        "[(1, u'taylor-m/sent/11', 910930020, u'Cd$ CME letter', 138),\n",
        " (2, u'taylor-m/sent/17', 911459940, u'Indemnification', 138),\n",
        " (3, u'taylor-m/sent/18', 911463840, u'Re: Indemnification', 138),\n",
        " (4, u'taylor-m/sent/23', 911874180, u'Re: Coral Energy, L.P.', 138),\n",
        " (5, u'taylor-m/sent/27', 912396120, u'Bankruptcy Code revisions', 138)]"
       ]
      }
     ],
     "prompt_number": 9
    },
    {
     "cell_type": "markdown",
     "metadata": {},
     "source": [
      "What about the last 5 messages?"
     ]
    },
    {
     "cell_type": "code",
     "collapsed": false,
     "input": [
      "%%sql sqlite:///enron.db\n",
      "SELECT * FROM MessageBase ORDER BY unix_time DESC LIMIT 5"
     ],
     "language": "python",
     "metadata": {},
     "outputs": [
      {
       "output_type": "stream",
       "stream": "stdout",
       "text": [
        "Done.\n"
       ]
      },
      {
       "html": [
        "<table>\n",
        "    <tr>\n",
        "        <th>mid</th>\n",
        "        <th>filename</th>\n",
        "        <th>unix_time</th>\n",
        "        <th>subject</th>\n",
        "        <th>from_eid</th>\n",
        "    </tr>\n",
        "    <tr>\n",
        "        <td>21635</td>\n",
        "        <td>germany-c/inbox/23</td>\n",
        "        <td>1024666654</td>\n",
        "        <td>Master Termination Log</td>\n",
        "        <td>92</td>\n",
        "    </tr>\n",
        "    <tr>\n",
        "        <td>21634</td>\n",
        "        <td>germany-c/inbox/42</td>\n",
        "        <td>1023970571</td>\n",
        "        <td>Netting Agreement Materials</td>\n",
        "        <td>4</td>\n",
        "    </tr>\n",
        "    <tr>\n",
        "        <td>21633</td>\n",
        "        <td>germany-c/personal/1</td>\n",
        "        <td>1023873696</td>\n",
        "        <td>RE: Job Ops</td>\n",
        "        <td>57</td>\n",
        "    </tr>\n",
        "    <tr>\n",
        "        <td>21632</td>\n",
        "        <td>germany-c/sent_items/74</td>\n",
        "        <td>1023873633</td>\n",
        "        <td>Job Ops</td>\n",
        "        <td>39</td>\n",
        "    </tr>\n",
        "    <tr>\n",
        "        <td>21631</td>\n",
        "        <td>germany-c/inbox/49</td>\n",
        "        <td>1023708531</td>\n",
        "        <td>NNG Deals</td>\n",
        "        <td>39</td>\n",
        "    </tr>\n",
        "</table>"
       ],
       "metadata": {},
       "output_type": "pyout",
       "prompt_number": 10,
       "text": [
        "[(21635, u'germany-c/inbox/23', 1024666654, u'Master Termination Log', 92),\n",
        " (21634, u'germany-c/inbox/42', 1023970571, u'Netting Agreement Materials', 4),\n",
        " (21633, u'germany-c/personal/1', 1023873696, u'RE: Job Ops', 57),\n",
        " (21632, u'germany-c/sent_items/74', 1023873633, u'Job Ops', 39),\n",
        " (21631, u'germany-c/inbox/49', 1023708531, u'NNG Deals', 39)]"
       ]
      }
     ],
     "prompt_number": 10
    },
    {
     "cell_type": "markdown",
     "metadata": {},
     "source": [
      "`from_eid` looks like a foreign key"
     ]
    },
    {
     "cell_type": "code",
     "collapsed": false,
     "input": [
      "%%sql sqlite:///enron.db\n",
      "SELECT unix_time, name, department, title, gender, seniority, subject, filename \n",
      "FROM EmployeeBase JOIN MessageBase ON eid = from_eid LIMIT 5;"
     ],
     "language": "python",
     "metadata": {},
     "outputs": [
      {
       "output_type": "stream",
       "stream": "stdout",
       "text": [
        "Done.\n"
       ]
      },
      {
       "html": [
        "<table>\n",
        "    <tr>\n",
        "        <th>unix_time</th>\n",
        "        <th>name</th>\n",
        "        <th>department</th>\n",
        "        <th>title</th>\n",
        "        <th>gender</th>\n",
        "        <th>seniority</th>\n",
        "        <th>subject</th>\n",
        "        <th>filename</th>\n",
        "    </tr>\n",
        "    <tr>\n",
        "        <td>910930020</td>\n",
        "        <td>Mark E. Taylor</td>\n",
        "        <td>Legal</td>\n",
        "        <td>VP &amp; Gen Cnsl</td>\n",
        "        <td>Male</td>\n",
        "        <td>Senior</td>\n",
        "        <td>Cd$ CME letter</td>\n",
        "        <td>taylor-m/sent/11</td>\n",
        "    </tr>\n",
        "    <tr>\n",
        "        <td>911459940</td>\n",
        "        <td>Mark E. Taylor</td>\n",
        "        <td>Legal</td>\n",
        "        <td>VP &amp; Gen Cnsl</td>\n",
        "        <td>Male</td>\n",
        "        <td>Senior</td>\n",
        "        <td>Indemnification</td>\n",
        "        <td>taylor-m/sent/17</td>\n",
        "    </tr>\n",
        "    <tr>\n",
        "        <td>911463840</td>\n",
        "        <td>Mark E. Taylor</td>\n",
        "        <td>Legal</td>\n",
        "        <td>VP &amp; Gen Cnsl</td>\n",
        "        <td>Male</td>\n",
        "        <td>Senior</td>\n",
        "        <td>Re: Indemnification</td>\n",
        "        <td>taylor-m/sent/18</td>\n",
        "    </tr>\n",
        "    <tr>\n",
        "        <td>911874180</td>\n",
        "        <td>Mark E. Taylor</td>\n",
        "        <td>Legal</td>\n",
        "        <td>VP &amp; Gen Cnsl</td>\n",
        "        <td>Male</td>\n",
        "        <td>Senior</td>\n",
        "        <td>Re: Coral Energy, L.P.</td>\n",
        "        <td>taylor-m/sent/23</td>\n",
        "    </tr>\n",
        "    <tr>\n",
        "        <td>912396120</td>\n",
        "        <td>Mark E. Taylor</td>\n",
        "        <td>Legal</td>\n",
        "        <td>VP &amp; Gen Cnsl</td>\n",
        "        <td>Male</td>\n",
        "        <td>Senior</td>\n",
        "        <td>Bankruptcy Code revisions</td>\n",
        "        <td>taylor-m/sent/27</td>\n",
        "    </tr>\n",
        "</table>"
       ],
       "metadata": {},
       "output_type": "pyout",
       "prompt_number": 11,
       "text": [
        "[(910930020, u'Mark E. Taylor', u'Legal', u'VP & Gen Cnsl', u'Male', u'Senior', u'Cd$ CME letter', u'taylor-m/sent/11'),\n",
        " (911459940, u'Mark E. Taylor', u'Legal', u'VP & Gen Cnsl', u'Male', u'Senior', u'Indemnification', u'taylor-m/sent/17'),\n",
        " (911463840, u'Mark E. Taylor', u'Legal', u'VP & Gen Cnsl', u'Male', u'Senior', u'Re: Indemnification', u'taylor-m/sent/18'),\n",
        " (911874180, u'Mark E. Taylor', u'Legal', u'VP & Gen Cnsl', u'Male', u'Senior', u'Re: Coral Energy, L.P.', u'taylor-m/sent/23'),\n",
        " (912396120, u'Mark E. Taylor', u'Legal', u'VP & Gen Cnsl', u'Male', u'Senior', u'Bankruptcy Code revisions', u'taylor-m/sent/27')]"
       ]
      }
     ],
     "prompt_number": 11
    },
    {
     "cell_type": "markdown",
     "metadata": {},
     "source": [
      "Finally, `RecipientBase`:"
     ]
    },
    {
     "cell_type": "code",
     "collapsed": false,
     "input": [
      "%%sql sqlite:///enron.db\n",
      "SELECT * FROM RecipientBase LIMIT 9"
     ],
     "language": "python",
     "metadata": {},
     "outputs": [
      {
       "output_type": "stream",
       "stream": "stdout",
       "text": [
        "Done.\n"
       ]
      },
      {
       "html": [
        "<table>\n",
        "    <tr>\n",
        "        <th>mid</th>\n",
        "        <th>rno</th>\n",
        "        <th>to_eid</th>\n",
        "    </tr>\n",
        "    <tr>\n",
        "        <td>1</td>\n",
        "        <td>1</td>\n",
        "        <td>59</td>\n",
        "    </tr>\n",
        "    <tr>\n",
        "        <td>2</td>\n",
        "        <td>1</td>\n",
        "        <td>15</td>\n",
        "    </tr>\n",
        "    <tr>\n",
        "        <td>3</td>\n",
        "        <td>1</td>\n",
        "        <td>15</td>\n",
        "    </tr>\n",
        "    <tr>\n",
        "        <td>4</td>\n",
        "        <td>1</td>\n",
        "        <td>109</td>\n",
        "    </tr>\n",
        "    <tr>\n",
        "        <td>4</td>\n",
        "        <td>2</td>\n",
        "        <td>49</td>\n",
        "    </tr>\n",
        "    <tr>\n",
        "        <td>4</td>\n",
        "        <td>3</td>\n",
        "        <td>120</td>\n",
        "    </tr>\n",
        "    <tr>\n",
        "        <td>4</td>\n",
        "        <td>4</td>\n",
        "        <td>59</td>\n",
        "    </tr>\n",
        "    <tr>\n",
        "        <td>5</td>\n",
        "        <td>1</td>\n",
        "        <td>45</td>\n",
        "    </tr>\n",
        "    <tr>\n",
        "        <td>5</td>\n",
        "        <td>2</td>\n",
        "        <td>53</td>\n",
        "    </tr>\n",
        "</table>"
       ],
       "metadata": {},
       "output_type": "pyout",
       "prompt_number": 12,
       "text": [
        "[(1, 1, 59),\n",
        " (2, 1, 15),\n",
        " (3, 1, 15),\n",
        " (4, 1, 109),\n",
        " (4, 2, 49),\n",
        " (4, 3, 120),\n",
        " (4, 4, 59),\n",
        " (5, 1, 45),\n",
        " (5, 2, 53)]"
       ]
      }
     ],
     "prompt_number": 12
    },
    {
     "cell_type": "markdown",
     "metadata": {},
     "source": [
      "It looks like we can use this to determine how many recipients each message received  \n",
      "i.e. `MAX(rno)`"
     ]
    },
    {
     "cell_type": "code",
     "collapsed": false,
     "input": [
      "%%sql sqlite:///enron.db\n",
      "SELECT * FROM RecipientBase WHERE rno = 57"
     ],
     "language": "python",
     "metadata": {},
     "outputs": [
      {
       "output_type": "stream",
       "stream": "stdout",
       "text": [
        "Done.\n"
       ]
      },
      {
       "html": [
        "<table>\n",
        "    <tr>\n",
        "        <th>mid</th>\n",
        "        <th>rno</th>\n",
        "        <th>to_eid</th>\n",
        "    </tr>\n",
        "    <tr>\n",
        "        <td>12116</td>\n",
        "        <td>57</td>\n",
        "        <td>51</td>\n",
        "    </tr>\n",
        "    <tr>\n",
        "        <td>12151</td>\n",
        "        <td>57</td>\n",
        "        <td>51</td>\n",
        "    </tr>\n",
        "</table>"
       ],
       "metadata": {},
       "output_type": "pyout",
       "prompt_number": 13,
       "text": [
        "[(12116, 57, 51), (12151, 57, 51)]"
       ]
      }
     ],
     "prompt_number": 13
    },
    {
     "cell_type": "code",
     "collapsed": false,
     "input": [
      "%%sql sqlite:///enron.db\n",
      "SELECT * FROM MessageBase WHERE mid IN (12116, 12151)"
     ],
     "language": "python",
     "metadata": {},
     "outputs": [
      {
       "output_type": "stream",
       "stream": "stdout",
       "text": [
        "Done.\n"
       ]
      },
      {
       "html": [
        "<table>\n",
        "    <tr>\n",
        "        <th>mid</th>\n",
        "        <th>filename</th>\n",
        "        <th>unix_time</th>\n",
        "        <th>subject</th>\n",
        "        <th>from_eid</th>\n",
        "    </tr>\n",
        "    <tr>\n",
        "        <td>12116</td>\n",
        "        <td>baughman-d/all_documents/398</td>\n",
        "        <td>990510780</td>\n",
        "        <td></td>\n",
        "        <td>67</td>\n",
        "    </tr>\n",
        "    <tr>\n",
        "        <td>12151</td>\n",
        "        <td>baughman-d/ect_admin/22</td>\n",
        "        <td>990546780</td>\n",
        "        <td></td>\n",
        "        <td>67</td>\n",
        "    </tr>\n",
        "</table>"
       ],
       "metadata": {},
       "output_type": "pyout",
       "prompt_number": 14,
       "text": [
        "[(12116, u'baughman-d/all_documents/398', 990510780, u'', 67),\n",
        " (12151, u'baughman-d/ect_admin/22', 990546780, u'', 67)]"
       ]
      }
     ],
     "prompt_number": 14
    },
    {
     "cell_type": "code",
     "collapsed": false,
     "input": [
      "%%sql sqlite:///enron.db\n",
      "SELECT * FROM EmployeeBase WHERE eid=67"
     ],
     "language": "python",
     "metadata": {},
     "outputs": [
      {
       "output_type": "stream",
       "stream": "stdout",
       "text": [
        "Done.\n"
       ]
      },
      {
       "html": [
        "<table>\n",
        "    <tr>\n",
        "        <th>eid</th>\n",
        "        <th>name</th>\n",
        "        <th>department</th>\n",
        "        <th>longdepartment</th>\n",
        "        <th>title</th>\n",
        "        <th>gender</th>\n",
        "        <th>seniority</th>\n",
        "    </tr>\n",
        "    <tr>\n",
        "        <td>67</td>\n",
        "        <td>John J. Lavorato</td>\n",
        "        <td>Other</td>\n",
        "        <td>EWS</td>\n",
        "        <td>ENA President &amp; CEO</td>\n",
        "        <td>Male</td>\n",
        "        <td>Senior</td>\n",
        "    </tr>\n",
        "</table>"
       ],
       "metadata": {},
       "output_type": "pyout",
       "prompt_number": 15,
       "text": [
        "[(67, u'John J. Lavorato', u'Other', u'EWS', u'ENA President & CEO', u'Male', u'Senior')]"
       ]
      }
     ],
     "prompt_number": 15
    },
    {
     "cell_type": "markdown",
     "metadata": {},
     "source": [
      "Who sent the email to the most recipients?"
     ]
    },
    {
     "cell_type": "code",
     "collapsed": false,
     "input": [
      "%%sql sqlite:///enron.db\n",
      "SELECT name, title, MAX(rno)\n",
      "FROM EmployeeBase \n",
      "JOIN MessageBase ON eid = from_eid \n",
      "JOIN RecipientBase USING(mid)"
     ],
     "language": "python",
     "metadata": {},
     "outputs": [
      {
       "output_type": "stream",
       "stream": "stdout",
       "text": [
        "Done.\n"
       ]
      },
      {
       "html": [
        "<table>\n",
        "    <tr>\n",
        "        <th>name</th>\n",
        "        <th>title</th>\n",
        "        <th>MAX(rno)</th>\n",
        "    </tr>\n",
        "    <tr>\n",
        "        <td>John J. Lavorato</td>\n",
        "        <td>ENA President &amp; CEO</td>\n",
        "        <td>57</td>\n",
        "    </tr>\n",
        "</table>"
       ],
       "metadata": {},
       "output_type": "pyout",
       "prompt_number": 16,
       "text": [
        "[(u'John J. Lavorato', u'ENA President & CEO', 57)]"
       ]
      }
     ],
     "prompt_number": 16
    },
    {
     "cell_type": "markdown",
     "metadata": {},
     "source": [
      "In Pairs:\n",
      "---------\n",
      "1. Who are the top five senders of mass email?\n",
      "2. Who sent the last email?\n",
      "3. Who received the last email?\n",
      "4. Who didn't send any email?\n",
      "5. Who didn't receive any email?"
     ]
    },
    {
     "cell_type": "markdown",
     "metadata": {},
     "source": [
      "# TAKE A BREAK. \n",
      "## Class will resume at 8:10 with a brief intro to Python, IPython, and IPython Notebook"
     ]
    },
    {
     "cell_type": "code",
     "collapsed": false,
     "input": [],
     "language": "python",
     "metadata": {},
     "outputs": []
    },
    {
     "cell_type": "code",
     "collapsed": false,
     "input": [],
     "language": "python",
     "metadata": {},
     "outputs": []
    },
    {
     "cell_type": "code",
     "collapsed": false,
     "input": [],
     "language": "python",
     "metadata": {},
     "outputs": []
    },
    {
     "cell_type": "code",
     "collapsed": false,
     "input": [],
     "language": "python",
     "metadata": {},
     "outputs": []
    },
    {
     "cell_type": "code",
     "collapsed": false,
     "input": [],
     "language": "python",
     "metadata": {},
     "outputs": []
    },
    {
     "cell_type": "markdown",
     "metadata": {},
     "source": [
      "---"
     ]
    },
    {
     "cell_type": "heading",
     "level": 1,
     "metadata": {},
     "source": [
      "Pandas Data Frames"
     ]
    },
    {
     "cell_type": "code",
     "collapsed": false,
     "input": [
      "%matplotlib inline"
     ],
     "language": "python",
     "metadata": {},
     "outputs": [],
     "prompt_number": 17
    },
    {
     "cell_type": "code",
     "collapsed": false,
     "input": [
      "import sqlite3\n",
      "import pandas as pd\n",
      "conn = sqlite3.connect('enron.db')"
     ],
     "language": "python",
     "metadata": {},
     "outputs": [],
     "prompt_number": 18
    },
    {
     "cell_type": "markdown",
     "metadata": {},
     "source": [
      "Optionally:  \n",
      "\n",
      "```bash\n",
      "$ conda install seaborn\n",
      "```"
     ]
    },
    {
     "cell_type": "code",
     "collapsed": false,
     "input": [
      "from seaborn import plt"
     ],
     "language": "python",
     "metadata": {},
     "outputs": [],
     "prompt_number": 19
    },
    {
     "cell_type": "code",
     "collapsed": false,
     "input": [
      "pd.read_sql(\"\"\"SELECT mid, unix_time, subject, from_eid \n",
      "                FROM MessageBase ORDER BY unix_time DESC \n",
      "                LIMIT 5\"\"\", conn, \"mid\")"
     ],
     "language": "python",
     "metadata": {},
     "outputs": [
      {
       "html": [
        "<div style=\"max-height:1000px;max-width:1500px;overflow:auto;\">\n",
        "<table border=\"1\" class=\"dataframe\">\n",
        "  <thead>\n",
        "    <tr style=\"text-align: right;\">\n",
        "      <th></th>\n",
        "      <th>unix_time</th>\n",
        "      <th>subject</th>\n",
        "      <th>from_eid</th>\n",
        "    </tr>\n",
        "    <tr>\n",
        "      <th>mid</th>\n",
        "      <th></th>\n",
        "      <th></th>\n",
        "      <th></th>\n",
        "    </tr>\n",
        "  </thead>\n",
        "  <tbody>\n",
        "    <tr>\n",
        "      <th>21635</th>\n",
        "      <td> 1024666654</td>\n",
        "      <td>      Master Termination Log</td>\n",
        "      <td> 92</td>\n",
        "    </tr>\n",
        "    <tr>\n",
        "      <th>21634</th>\n",
        "      <td> 1023970571</td>\n",
        "      <td> Netting Agreement Materials</td>\n",
        "      <td>  4</td>\n",
        "    </tr>\n",
        "    <tr>\n",
        "      <th>21633</th>\n",
        "      <td> 1023873696</td>\n",
        "      <td>                 RE: Job Ops</td>\n",
        "      <td> 57</td>\n",
        "    </tr>\n",
        "    <tr>\n",
        "      <th>21632</th>\n",
        "      <td> 1023873633</td>\n",
        "      <td>                     Job Ops</td>\n",
        "      <td> 39</td>\n",
        "    </tr>\n",
        "    <tr>\n",
        "      <th>21631</th>\n",
        "      <td> 1023708531</td>\n",
        "      <td>                   NNG Deals</td>\n",
        "      <td> 39</td>\n",
        "    </tr>\n",
        "  </tbody>\n",
        "</table>\n",
        "</div>"
       ],
       "metadata": {},
       "output_type": "pyout",
       "prompt_number": 20,
       "text": [
        "        unix_time                      subject  from_eid\n",
        "mid                                                     \n",
        "21635  1024666654       Master Termination Log        92\n",
        "21634  1023970571  Netting Agreement Materials         4\n",
        "21633  1023873696                  RE: Job Ops        57\n",
        "21632  1023873633                      Job Ops        39\n",
        "21631  1023708531                    NNG Deals        39"
       ]
      }
     ],
     "prompt_number": 20
    },
    {
     "cell_type": "code",
     "collapsed": false,
     "input": [
      "MessageBase = pd.read_sql(\"\"\"SELECT mid, unix_time, subject, from_eid \n",
      "                FROM MessageBase\"\"\", conn, \"mid\")\n",
      "MessageBase.sort(ascending=False, columns=['unix_time']).head()"
     ],
     "language": "python",
     "metadata": {},
     "outputs": [
      {
       "html": [
        "<div style=\"max-height:1000px;max-width:1500px;overflow:auto;\">\n",
        "<table border=\"1\" class=\"dataframe\">\n",
        "  <thead>\n",
        "    <tr style=\"text-align: right;\">\n",
        "      <th></th>\n",
        "      <th>unix_time</th>\n",
        "      <th>subject</th>\n",
        "      <th>from_eid</th>\n",
        "    </tr>\n",
        "    <tr>\n",
        "      <th>mid</th>\n",
        "      <th></th>\n",
        "      <th></th>\n",
        "      <th></th>\n",
        "    </tr>\n",
        "  </thead>\n",
        "  <tbody>\n",
        "    <tr>\n",
        "      <th>21635</th>\n",
        "      <td> 1024666654</td>\n",
        "      <td>      Master Termination Log</td>\n",
        "      <td> 92</td>\n",
        "    </tr>\n",
        "    <tr>\n",
        "      <th>21634</th>\n",
        "      <td> 1023970571</td>\n",
        "      <td> Netting Agreement Materials</td>\n",
        "      <td>  4</td>\n",
        "    </tr>\n",
        "    <tr>\n",
        "      <th>21633</th>\n",
        "      <td> 1023873696</td>\n",
        "      <td>                 RE: Job Ops</td>\n",
        "      <td> 57</td>\n",
        "    </tr>\n",
        "    <tr>\n",
        "      <th>21632</th>\n",
        "      <td> 1023873633</td>\n",
        "      <td>                     Job Ops</td>\n",
        "      <td> 39</td>\n",
        "    </tr>\n",
        "    <tr>\n",
        "      <th>21631</th>\n",
        "      <td> 1023708531</td>\n",
        "      <td>                   NNG Deals</td>\n",
        "      <td> 39</td>\n",
        "    </tr>\n",
        "  </tbody>\n",
        "</table>\n",
        "</div>"
       ],
       "metadata": {},
       "output_type": "pyout",
       "prompt_number": 21,
       "text": [
        "        unix_time                      subject  from_eid\n",
        "mid                                                     \n",
        "21635  1024666654       Master Termination Log        92\n",
        "21634  1023970571  Netting Agreement Materials         4\n",
        "21633  1023873696                  RE: Job Ops        57\n",
        "21632  1023873633                      Job Ops        39\n",
        "21631  1023708531                    NNG Deals        39"
       ]
      }
     ],
     "prompt_number": 21
    },
    {
     "cell_type": "markdown",
     "metadata": {},
     "source": [
      "SQL JOIN (with USING):"
     ]
    },
    {
     "cell_type": "code",
     "collapsed": false,
     "input": [
      "pd.read_sql(\"\"\"SELECT mid, unix_time, subject, from_eid, rno, to_eid \n",
      "                FROM MessageBase JOIN RecipientBase USING (mid) LIMIT 5\"\"\", conn, \"mid\")"
     ],
     "language": "python",
     "metadata": {},
     "outputs": [
      {
       "html": [
        "<div style=\"max-height:1000px;max-width:1500px;overflow:auto;\">\n",
        "<table border=\"1\" class=\"dataframe\">\n",
        "  <thead>\n",
        "    <tr style=\"text-align: right;\">\n",
        "      <th></th>\n",
        "      <th>unix_time</th>\n",
        "      <th>subject</th>\n",
        "      <th>from_eid</th>\n",
        "      <th>rno</th>\n",
        "      <th>to_eid</th>\n",
        "    </tr>\n",
        "    <tr>\n",
        "      <th>mid</th>\n",
        "      <th></th>\n",
        "      <th></th>\n",
        "      <th></th>\n",
        "      <th></th>\n",
        "      <th></th>\n",
        "    </tr>\n",
        "  </thead>\n",
        "  <tbody>\n",
        "    <tr>\n",
        "      <th>1</th>\n",
        "      <td> 910930020</td>\n",
        "      <td>         Cd$ CME letter</td>\n",
        "      <td> 138</td>\n",
        "      <td> 1</td>\n",
        "      <td>  59</td>\n",
        "    </tr>\n",
        "    <tr>\n",
        "      <th>2</th>\n",
        "      <td> 911459940</td>\n",
        "      <td>        Indemnification</td>\n",
        "      <td> 138</td>\n",
        "      <td> 1</td>\n",
        "      <td>  15</td>\n",
        "    </tr>\n",
        "    <tr>\n",
        "      <th>3</th>\n",
        "      <td> 911463840</td>\n",
        "      <td>    Re: Indemnification</td>\n",
        "      <td> 138</td>\n",
        "      <td> 1</td>\n",
        "      <td>  15</td>\n",
        "    </tr>\n",
        "    <tr>\n",
        "      <th>4</th>\n",
        "      <td> 911874180</td>\n",
        "      <td> Re: Coral Energy, L.P.</td>\n",
        "      <td> 138</td>\n",
        "      <td> 1</td>\n",
        "      <td> 109</td>\n",
        "    </tr>\n",
        "    <tr>\n",
        "      <th>4</th>\n",
        "      <td> 911874180</td>\n",
        "      <td> Re: Coral Energy, L.P.</td>\n",
        "      <td> 138</td>\n",
        "      <td> 2</td>\n",
        "      <td>  49</td>\n",
        "    </tr>\n",
        "  </tbody>\n",
        "</table>\n",
        "</div>"
       ],
       "metadata": {},
       "output_type": "pyout",
       "prompt_number": 22,
       "text": [
        "     unix_time                 subject  from_eid  rno  to_eid\n",
        "mid                                                          \n",
        "1    910930020          Cd$ CME letter       138    1      59\n",
        "2    911459940         Indemnification       138    1      15\n",
        "3    911463840     Re: Indemnification       138    1      15\n",
        "4    911874180  Re: Coral Energy, L.P.       138    1     109\n",
        "4    911874180  Re: Coral Energy, L.P.       138    2      49"
       ]
      }
     ],
     "prompt_number": 22
    },
    {
     "cell_type": "markdown",
     "metadata": {},
     "source": [
      "pandas.DataFrame.join"
     ]
    },
    {
     "cell_type": "code",
     "collapsed": false,
     "input": [
      "RecipientBase = pd.read_sql(\"SELECT * FROM RecipientBase\", conn, \"mid\")\n",
      "MessageBase.join(RecipientBase).head()"
     ],
     "language": "python",
     "metadata": {},
     "outputs": [
      {
       "html": [
        "<div style=\"max-height:1000px;max-width:1500px;overflow:auto;\">\n",
        "<table border=\"1\" class=\"dataframe\">\n",
        "  <thead>\n",
        "    <tr style=\"text-align: right;\">\n",
        "      <th></th>\n",
        "      <th>unix_time</th>\n",
        "      <th>subject</th>\n",
        "      <th>from_eid</th>\n",
        "      <th>rno</th>\n",
        "      <th>to_eid</th>\n",
        "    </tr>\n",
        "    <tr>\n",
        "      <th>mid</th>\n",
        "      <th></th>\n",
        "      <th></th>\n",
        "      <th></th>\n",
        "      <th></th>\n",
        "      <th></th>\n",
        "    </tr>\n",
        "  </thead>\n",
        "  <tbody>\n",
        "    <tr>\n",
        "      <th>1</th>\n",
        "      <td> 910930020</td>\n",
        "      <td>         Cd$ CME letter</td>\n",
        "      <td> 138</td>\n",
        "      <td> 1</td>\n",
        "      <td>  59</td>\n",
        "    </tr>\n",
        "    <tr>\n",
        "      <th>2</th>\n",
        "      <td> 911459940</td>\n",
        "      <td>        Indemnification</td>\n",
        "      <td> 138</td>\n",
        "      <td> 1</td>\n",
        "      <td>  15</td>\n",
        "    </tr>\n",
        "    <tr>\n",
        "      <th>3</th>\n",
        "      <td> 911463840</td>\n",
        "      <td>    Re: Indemnification</td>\n",
        "      <td> 138</td>\n",
        "      <td> 1</td>\n",
        "      <td>  15</td>\n",
        "    </tr>\n",
        "    <tr>\n",
        "      <th>4</th>\n",
        "      <td> 911874180</td>\n",
        "      <td> Re: Coral Energy, L.P.</td>\n",
        "      <td> 138</td>\n",
        "      <td> 1</td>\n",
        "      <td> 109</td>\n",
        "    </tr>\n",
        "    <tr>\n",
        "      <th>4</th>\n",
        "      <td> 911874180</td>\n",
        "      <td> Re: Coral Energy, L.P.</td>\n",
        "      <td> 138</td>\n",
        "      <td> 2</td>\n",
        "      <td>  49</td>\n",
        "    </tr>\n",
        "  </tbody>\n",
        "</table>\n",
        "</div>"
       ],
       "metadata": {},
       "output_type": "pyout",
       "prompt_number": 23,
       "text": [
        "     unix_time                 subject  from_eid  rno  to_eid\n",
        "mid                                                          \n",
        "1    910930020          Cd$ CME letter       138    1      59\n",
        "2    911459940         Indemnification       138    1      15\n",
        "3    911463840     Re: Indemnification       138    1      15\n",
        "4    911874180  Re: Coral Energy, L.P.       138    1     109\n",
        "4    911874180  Re: Coral Energy, L.P.       138    2      49"
       ]
      }
     ],
     "prompt_number": 23
    },
    {
     "cell_type": "markdown",
     "metadata": {},
     "source": [
      "SQL JOIN (with `ON`):"
     ]
    },
    {
     "cell_type": "code",
     "collapsed": false,
     "input": [
      "pd.read_sql(\"\"\"SELECT mid, unix_time, name,  \n",
      "                          title, seniority, subject \n",
      "                     FROM EmployeeBase \n",
      "                     JOIN MessageBase ON eid = from_eid \n",
      "                    LIMIT 5\"\"\", conn, \"mid\")"
     ],
     "language": "python",
     "metadata": {},
     "outputs": [
      {
       "html": [
        "<div style=\"max-height:1000px;max-width:1500px;overflow:auto;\">\n",
        "<table border=\"1\" class=\"dataframe\">\n",
        "  <thead>\n",
        "    <tr style=\"text-align: right;\">\n",
        "      <th></th>\n",
        "      <th>unix_time</th>\n",
        "      <th>name</th>\n",
        "      <th>title</th>\n",
        "      <th>seniority</th>\n",
        "      <th>subject</th>\n",
        "    </tr>\n",
        "    <tr>\n",
        "      <th>mid</th>\n",
        "      <th></th>\n",
        "      <th></th>\n",
        "      <th></th>\n",
        "      <th></th>\n",
        "      <th></th>\n",
        "    </tr>\n",
        "  </thead>\n",
        "  <tbody>\n",
        "    <tr>\n",
        "      <th>1</th>\n",
        "      <td> 910930020</td>\n",
        "      <td> Mark E. Taylor</td>\n",
        "      <td> VP &amp; Gen Cnsl</td>\n",
        "      <td> Senior</td>\n",
        "      <td>            Cd$ CME letter</td>\n",
        "    </tr>\n",
        "    <tr>\n",
        "      <th>2</th>\n",
        "      <td> 911459940</td>\n",
        "      <td> Mark E. Taylor</td>\n",
        "      <td> VP &amp; Gen Cnsl</td>\n",
        "      <td> Senior</td>\n",
        "      <td>           Indemnification</td>\n",
        "    </tr>\n",
        "    <tr>\n",
        "      <th>3</th>\n",
        "      <td> 911463840</td>\n",
        "      <td> Mark E. Taylor</td>\n",
        "      <td> VP &amp; Gen Cnsl</td>\n",
        "      <td> Senior</td>\n",
        "      <td>       Re: Indemnification</td>\n",
        "    </tr>\n",
        "    <tr>\n",
        "      <th>4</th>\n",
        "      <td> 911874180</td>\n",
        "      <td> Mark E. Taylor</td>\n",
        "      <td> VP &amp; Gen Cnsl</td>\n",
        "      <td> Senior</td>\n",
        "      <td>    Re: Coral Energy, L.P.</td>\n",
        "    </tr>\n",
        "    <tr>\n",
        "      <th>5</th>\n",
        "      <td> 912396120</td>\n",
        "      <td> Mark E. Taylor</td>\n",
        "      <td> VP &amp; Gen Cnsl</td>\n",
        "      <td> Senior</td>\n",
        "      <td> Bankruptcy Code revisions</td>\n",
        "    </tr>\n",
        "  </tbody>\n",
        "</table>\n",
        "</div>"
       ],
       "metadata": {},
       "output_type": "pyout",
       "prompt_number": 24,
       "text": [
        "     unix_time            name          title seniority  \\\n",
        "mid                                                       \n",
        "1    910930020  Mark E. Taylor  VP & Gen Cnsl    Senior   \n",
        "2    911459940  Mark E. Taylor  VP & Gen Cnsl    Senior   \n",
        "3    911463840  Mark E. Taylor  VP & Gen Cnsl    Senior   \n",
        "4    911874180  Mark E. Taylor  VP & Gen Cnsl    Senior   \n",
        "5    912396120  Mark E. Taylor  VP & Gen Cnsl    Senior   \n",
        "\n",
        "                       subject  \n",
        "mid                             \n",
        "1               Cd$ CME letter  \n",
        "2              Indemnification  \n",
        "3          Re: Indemnification  \n",
        "4       Re: Coral Energy, L.P.  \n",
        "5    Bankruptcy Code revisions  "
       ]
      }
     ],
     "prompt_number": 24
    },
    {
     "cell_type": "markdown",
     "metadata": {},
     "source": [
      "pandas.DataFrame.merge"
     ]
    },
    {
     "cell_type": "code",
     "collapsed": false,
     "input": [
      "EmployeeBase = pd.read_sql(\"\"\"SELECT eid, name, title, seniority \n",
      "                                    FROM EmployeeBase\"\"\", conn, \"eid\")\n",
      "EmployeeBase.merge(MessageBase, right_on = 'from_eid', left_index = True).head()"
     ],
     "language": "python",
     "metadata": {},
     "outputs": [
      {
       "html": [
        "<div style=\"max-height:1000px;max-width:1500px;overflow:auto;\">\n",
        "<table border=\"1\" class=\"dataframe\">\n",
        "  <thead>\n",
        "    <tr style=\"text-align: right;\">\n",
        "      <th></th>\n",
        "      <th>name</th>\n",
        "      <th>title</th>\n",
        "      <th>seniority</th>\n",
        "      <th>unix_time</th>\n",
        "      <th>subject</th>\n",
        "      <th>from_eid</th>\n",
        "    </tr>\n",
        "    <tr>\n",
        "      <th>mid</th>\n",
        "      <th></th>\n",
        "      <th></th>\n",
        "      <th></th>\n",
        "      <th></th>\n",
        "      <th></th>\n",
        "      <th></th>\n",
        "    </tr>\n",
        "  </thead>\n",
        "  <tbody>\n",
        "    <tr>\n",
        "      <th>1611</th>\n",
        "      <td> John Arnold</td>\n",
        "      <td> VP Trading</td>\n",
        "      <td> Senior</td>\n",
        "      <td> 954317280</td>\n",
        "      <td>        Re: Insurance Call Spread</td>\n",
        "      <td> 1</td>\n",
        "    </tr>\n",
        "    <tr>\n",
        "      <th>1615</th>\n",
        "      <td> John Arnold</td>\n",
        "      <td> VP Trading</td>\n",
        "      <td> Senior</td>\n",
        "      <td> 954328920</td>\n",
        "      <td> New curve generation methodology</td>\n",
        "      <td> 1</td>\n",
        "    </tr>\n",
        "    <tr>\n",
        "      <th>1722</th>\n",
        "      <td> John Arnold</td>\n",
        "      <td> VP Trading</td>\n",
        "      <td> Senior</td>\n",
        "      <td> 955447080</td>\n",
        "      <td> Option Analysis on NG Price Book</td>\n",
        "      <td> 1</td>\n",
        "    </tr>\n",
        "    <tr>\n",
        "      <th>1723</th>\n",
        "      <td> John Arnold</td>\n",
        "      <td> VP Trading</td>\n",
        "      <td> Senior</td>\n",
        "      <td> 955448160</td>\n",
        "      <td>                                 </td>\n",
        "      <td> 1</td>\n",
        "    </tr>\n",
        "    <tr>\n",
        "      <th>1763</th>\n",
        "      <td> John Arnold</td>\n",
        "      <td> VP Trading</td>\n",
        "      <td> Senior</td>\n",
        "      <td> 955701240</td>\n",
        "      <td>                      Re: options</td>\n",
        "      <td> 1</td>\n",
        "    </tr>\n",
        "  </tbody>\n",
        "</table>\n",
        "</div>"
       ],
       "metadata": {},
       "output_type": "pyout",
       "prompt_number": 25,
       "text": [
        "             name       title seniority  unix_time  \\\n",
        "mid                                                  \n",
        "1611  John Arnold  VP Trading    Senior  954317280   \n",
        "1615  John Arnold  VP Trading    Senior  954328920   \n",
        "1722  John Arnold  VP Trading    Senior  955447080   \n",
        "1723  John Arnold  VP Trading    Senior  955448160   \n",
        "1763  John Arnold  VP Trading    Senior  955701240   \n",
        "\n",
        "                               subject  from_eid  \n",
        "mid                                               \n",
        "1611         Re: Insurance Call Spread         1  \n",
        "1615  New curve generation methodology         1  \n",
        "1722  Option Analysis on NG Price Book         1  \n",
        "1723                                           1  \n",
        "1763                       Re: options         1  "
       ]
      }
     ],
     "prompt_number": 25
    },
    {
     "cell_type": "markdown",
     "metadata": {},
     "source": [
      "Histograms are a good way to get a feel for the data. For example:"
     ]
    },
    {
     "cell_type": "code",
     "collapsed": false,
     "input": [
      "MessageBase.unix_time.hist()"
     ],
     "language": "python",
     "metadata": {},
     "outputs": [
      {
       "metadata": {},
       "output_type": "pyout",
       "prompt_number": 26,
       "text": [
        "<matplotlib.axes._subplots.AxesSubplot at 0x10b276c50>"
       ]
      },
      {
       "metadata": {},
       "output_type": "display_data",
       "png": "[encoded data removed]",
       "text": [
        "<matplotlib.figure.Figure at 0x10b276a90>"
       ]
      }
     ],
     "prompt_number": 26
    },
    {
     "cell_type": "code",
     "collapsed": false,
     "input": [
      "MessageBase.unix_time.mean()"
     ],
     "language": "python",
     "metadata": {},
     "outputs": [
      {
       "metadata": {},
       "output_type": "pyout",
       "prompt_number": 27,
       "text": [
        "985319365.65994918"
       ]
      }
     ],
     "prompt_number": 27
    },
    {
     "cell_type": "markdown",
     "metadata": {},
     "source": [
      "What does this tell us? "
     ]
    },
    {
     "cell_type": "markdown",
     "metadata": {},
     "source": [
      "---"
     ]
    },
    {
     "cell_type": "markdown",
     "metadata": {},
     "source": [
      "`unix_time` (i.e. `unixepoch`) is easy for computers to read, but difficult for humans. It is the number of seconds since midnight, January 1, 1970. To make it more readable, we will map datetime.fromtimestamp onto that value to return a datetime object. We can then downsample the data from seconds to weeks. "
     ]
    },
    {
     "cell_type": "code",
     "collapsed": false,
     "input": [
      "from datetime import datetime\n",
      "dt = MessageBase.unix_time.map(datetime.fromtimestamp)\n",
      "plt.plot(MessageBase.groupby(dt).unix_time.count().resample('1W', how='sum'))"
     ],
     "language": "python",
     "metadata": {},
     "outputs": [
      {
       "metadata": {},
       "output_type": "pyout",
       "prompt_number": 31,
       "text": [
        "[<matplotlib.lines.Line2D at 0x10c822950>]"
       ]
      },
      {
       "metadata": {},
       "output_type": "display_data",
       "png": "[encoded data removed]",
       "text": [
        "<matplotlib.figure.Figure at 0x10c618990>"
       ]
      }
     ],
     "prompt_number": 31
    },
    {
     "cell_type": "markdown",
     "metadata": {},
     "source": [
      "What does this tell us?"
     ]
    },
    {
     "cell_type": "markdown",
     "metadata": {},
     "source": [
      "---"
     ]
    },
    {
     "cell_type": "markdown",
     "metadata": {},
     "source": [
      "Perhaps the recipient counts would be interesting as well. This time we will cast `unix_time` to a datetime string in our query. Since this is a new query, we will also make sure it looks okay by calling `.head()` before we do anyting else:"
     ]
    },
    {
     "cell_type": "code",
     "collapsed": false,
     "input": [
      "recipient_counts = pd.read_sql(\"\"\"SELECT mid, datetime(unix_time, 'unixepoch') AS time_sent, MAX(rno) AS recipient_count \n",
      "                        FROM MessageBase JOIN RecipientBase USING (mid) GROUP BY mid, time_sent\"\"\", conn, \"mid\")\n",
      "recipient_counts.head()"
     ],
     "language": "python",
     "metadata": {},
     "outputs": [
      {
       "html": [
        "<div style=\"max-height:1000px;max-width:1500px;overflow:auto;\">\n",
        "<table border=\"1\" class=\"dataframe\">\n",
        "  <thead>\n",
        "    <tr style=\"text-align: right;\">\n",
        "      <th></th>\n",
        "      <th>time_sent</th>\n",
        "      <th>recipient_count</th>\n",
        "    </tr>\n",
        "    <tr>\n",
        "      <th>mid</th>\n",
        "      <th></th>\n",
        "      <th></th>\n",
        "    </tr>\n",
        "  </thead>\n",
        "  <tbody>\n",
        "    <tr>\n",
        "      <th>1</th>\n",
        "      <td> 1998-11-13 04:07:00</td>\n",
        "      <td> 1</td>\n",
        "    </tr>\n",
        "    <tr>\n",
        "      <th>2</th>\n",
        "      <td> 1998-11-19 07:19:00</td>\n",
        "      <td> 1</td>\n",
        "    </tr>\n",
        "    <tr>\n",
        "      <th>3</th>\n",
        "      <td> 1998-11-19 08:24:00</td>\n",
        "      <td> 1</td>\n",
        "    </tr>\n",
        "    <tr>\n",
        "      <th>4</th>\n",
        "      <td> 1998-11-24 02:23:00</td>\n",
        "      <td> 4</td>\n",
        "    </tr>\n",
        "    <tr>\n",
        "      <th>5</th>\n",
        "      <td> 1998-11-30 03:22:00</td>\n",
        "      <td> 2</td>\n",
        "    </tr>\n",
        "  </tbody>\n",
        "</table>\n",
        "</div>"
       ],
       "metadata": {},
       "output_type": "pyout",
       "prompt_number": 29,
       "text": [
        "               time_sent  recipient_count\n",
        "mid                                      \n",
        "1    1998-11-13 04:07:00                1\n",
        "2    1998-11-19 07:19:00                1\n",
        "3    1998-11-19 08:24:00                1\n",
        "4    1998-11-24 02:23:00                4\n",
        "5    1998-11-30 03:22:00                2"
       ]
      }
     ],
     "prompt_number": 29
    },
    {
     "cell_type": "markdown",
     "metadata": {},
     "source": [
      "When using `pandas.DataFrame.groupby` it is sometimes useful to create a grouping object first. In this case, we will do it by mapping the datetime strings we received from SQLite to a weekly period. (This could also have been done in SQL, but it would have come across as a string. This way it exists as a `pandas.Period` object which has more intelligence.)"
     ]
    },
    {
     "cell_type": "code",
     "collapsed": false,
     "input": [
      "w = recipient_counts.time_sent.map(lambda dt: pd.Period(dt, freq='W'))\n",
      "recipient_counts.groupby(w).recipient_count.mean().plot()"
     ],
     "language": "python",
     "metadata": {},
     "outputs": [
      {
       "metadata": {},
       "output_type": "pyout",
       "prompt_number": 30,
       "text": [
        "<matplotlib.axes._subplots.AxesSubplot at 0x10b759fd0>"
       ]
      },
      {
       "metadata": {},
       "output_type": "display_data",
       "png": "[encoded data removed]",
       "text": [
        "<matplotlib.figure.Figure at 0x10b94b050>"
       ]
      }
     ],
     "prompt_number": 30
    },
    {
     "cell_type": "markdown",
     "metadata": {},
     "source": [
      "In Pairs: (Trade Partners)\n",
      "---------\n",
      "1. Plot the max recipient count by week. How many peaks are there?\n",
      "2. What were the subject lines (if any) of the top 5 messages sorted by recipient count (in descending order)?\n",
      "3. Come up with three more questions about these data (and answer them)"
     ]
    },
    {
     "cell_type": "code",
     "collapsed": false,
     "input": [],
     "language": "python",
     "metadata": {},
     "outputs": []
    },
    {
     "cell_type": "code",
     "collapsed": false,
     "input": [],
     "language": "python",
     "metadata": {},
     "outputs": []
    },
    {
     "cell_type": "code",
     "collapsed": false,
     "input": [],
     "language": "python",
     "metadata": {},
     "outputs": []
    },
    {
     "cell_type": "code",
     "collapsed": false,
     "input": [],
     "language": "python",
     "metadata": {},
     "outputs": []
    },
    {
     "cell_type": "markdown",
     "metadata": {},
     "source": [
      "http://tinyurl.com/dat-exit-ticket"
     ]
    },
    {
     "cell_type": "markdown",
     "metadata": {},
     "source": [
      "On your own:\n",
      "------------\n",
      "- Go through [Pandas for SQL Developers](http://localhost:8888/notebooks/DAT_SF_12/Pandas%20for%20SQL%20Developers.ipynb)\n",
      "- Go through tutorials at http://stanford.edu/~mwaskom/software/seaborn/."
     ]
    },
    {
     "cell_type": "markdown",
     "metadata": {},
     "source": [
      "Next Time:\n",
      "============\n",
      "APIs & NoSQL\n",
      "------------\n",
      "1. Go to http://brew.sh/ and follow the instructions to install Homebrew on your Mac.\n",
      "2. Install MongoDB\n",
      "    - `brew update`\n",
      "    - `brew install mongodb`\n",
      "1. If you don't already have a Twitter account, make one.\n",
      "2. Go to [apps.twitter.com](https://apps.twitter.com/) and create a new app.\n"
     ]
    }
   ],
   "metadata": {}
  }
 ]
}