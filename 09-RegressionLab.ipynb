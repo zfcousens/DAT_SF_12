{
 "metadata": {
  "name": "",
  "signature": "sha256:dbd3d69310f71a875e18c2b2ff99130b0d2ce55e31c01aacd29e486f97a02d35"
 },
 "nbformat": 3,
 "nbformat_minor": 0,
 "worksheets": [
  {
   "cells": [
    {
     "cell_type": "markdown",
     "metadata": {
      "slideshow": {
       "slide_type": "slide"
      }
     },
     "source": [
      "Lab\n",
      "==========================\n",
      "Multiple Linear Regression\n",
      "--------------------------\n",
      "Alessandro D. Gagliardi"
     ]
    },
    {
     "cell_type": "code",
     "collapsed": false,
     "input": [
      "%matplotlib inline\n",
      "\n",
      "from __future__ import division\n",
      "\n",
      "import pandas as pd\n",
      "import scipy.stats as stats\n",
      "import seaborn as sns\n",
      "import statsmodels.formula.api as smf\n",
      "from seaborn import plt"
     ],
     "language": "python",
     "metadata": {
      "slideshow": {
       "slide_type": "slide"
      }
     },
     "outputs": [],
     "prompt_number": 4
    },
    {
     "cell_type": "markdown",
     "metadata": {
      "slideshow": {
       "slide_type": "slide"
      }
     },
     "source": [
      "this dataset shows a set of six numeric survey responses $X_i$ (survey responses)  \n",
      "and a dependent variable $Y$ (perceived supervisor quality)  \n",
      "we want to predict $Y$ from the $X$'s  "
     ]
    },
    {
     "cell_type": "code",
     "collapsed": false,
     "input": [
      "x = pd.read_table('http://www.ats.ucla.edu/stat/examples/chp/p054.txt')\n",
      "x.head()"
     ],
     "language": "python",
     "metadata": {
      "slideshow": {
       "slide_type": "fragment"
      }
     },
     "outputs": [
      {
       "html": [
        "<div style=\"max-height:1000px;max-width:1500px;overflow:auto;\">\n",
        "<table border=\"1\" class=\"dataframe\">\n",
        "  <thead>\n",
        "    <tr style=\"text-align: right;\">\n",
        "      <th></th>\n",
        "      <th>Y </th>\n",
        "      <th>X1 </th>\n",
        "      <th>X2 </th>\n",
        "      <th>X3 </th>\n",
        "      <th>X4 </th>\n",
        "      <th>X5 </th>\n",
        "      <th>X6 </th>\n",
        "    </tr>\n",
        "  </thead>\n",
        "  <tbody>\n",
        "    <tr>\n",
        "      <th>0</th>\n",
        "      <td> 43</td>\n",
        "      <td> 51</td>\n",
        "      <td> 30</td>\n",
        "      <td> 39</td>\n",
        "      <td> 61</td>\n",
        "      <td> 92</td>\n",
        "      <td> 45</td>\n",
        "    </tr>\n",
        "    <tr>\n",
        "      <th>1</th>\n",
        "      <td> 63</td>\n",
        "      <td> 64</td>\n",
        "      <td> 51</td>\n",
        "      <td> 54</td>\n",
        "      <td> 63</td>\n",
        "      <td> 73</td>\n",
        "      <td> 47</td>\n",
        "    </tr>\n",
        "    <tr>\n",
        "      <th>2</th>\n",
        "      <td> 71</td>\n",
        "      <td> 70</td>\n",
        "      <td> 68</td>\n",
        "      <td> 69</td>\n",
        "      <td> 76</td>\n",
        "      <td> 86</td>\n",
        "      <td> 48</td>\n",
        "    </tr>\n",
        "    <tr>\n",
        "      <th>3</th>\n",
        "      <td> 61</td>\n",
        "      <td> 63</td>\n",
        "      <td> 45</td>\n",
        "      <td> 47</td>\n",
        "      <td> 54</td>\n",
        "      <td> 84</td>\n",
        "      <td> 35</td>\n",
        "    </tr>\n",
        "    <tr>\n",
        "      <th>4</th>\n",
        "      <td> 81</td>\n",
        "      <td> 78</td>\n",
        "      <td> 56</td>\n",
        "      <td> 66</td>\n",
        "      <td> 71</td>\n",
        "      <td> 83</td>\n",
        "      <td> 47</td>\n",
        "    </tr>\n",
        "  </tbody>\n",
        "</table>\n",
        "</div>"
       ],
       "metadata": {},
       "output_type": "pyout",
       "prompt_number": 5,
       "text": [
        "   Y   X1   X2   X3   X4   X5   X6 \n",
        "0  43   51   30   39   61   92   45\n",
        "1  63   64   51   54   63   73   47\n",
        "2  71   70   68   69   76   86   48\n",
        "3  61   63   45   47   54   84   35\n",
        "4  81   78   56   66   71   83   47"
       ]
      }
     ],
     "prompt_number": 5
    },
    {
     "cell_type": "code",
     "collapsed": false,
     "input": [
      "x.columns"
     ],
     "language": "python",
     "metadata": {},
     "outputs": [
      {
       "metadata": {},
       "output_type": "pyout",
       "prompt_number": 6,
       "text": [
        "Index([u'Y ', u'X1 ', u'X2 ', u'X3 ', u'X4 ', u'X5 ', u'X6 '], dtype='object')"
       ]
      }
     ],
     "prompt_number": 6
    },
    {
     "cell_type": "markdown",
     "metadata": {
      "slideshow": {
       "slide_type": "subslide"
      }
     },
     "source": [
      "the column names have trailing whitespace, so I fix that by mapping `str.strip` onto the `columns`' names."
     ]
    },
    {
     "cell_type": "code",
     "collapsed": false,
     "input": [
      "x.columns = x.columns.map(str.strip)"
     ],
     "language": "python",
     "metadata": {},
     "outputs": [],
     "prompt_number": 7
    },
    {
     "cell_type": "code",
     "collapsed": false,
     "input": [
      "x.columns"
     ],
     "language": "python",
     "metadata": {},
     "outputs": [
      {
       "metadata": {},
       "output_type": "pyout",
       "prompt_number": 8,
       "text": [
        "Index([u'Y', u'X1', u'X2', u'X3', u'X4', u'X5', u'X6'], dtype='object')"
       ]
      }
     ],
     "prompt_number": 8
    },
    {
     "cell_type": "markdown",
     "metadata": {
      "slideshow": {
       "slide_type": "slide"
      }
     },
     "source": [
      "this set of scatterplots gives us an idea of the pairwise relationships present in the dataset"
     ]
    },
    {
     "cell_type": "code",
     "collapsed": false,
     "input": [
      "sns.pairplot(x, size = 1.2, aspect=1.75)"
     ],
     "language": "python",
     "metadata": {},
     "outputs": [
      {
       "metadata": {},
       "output_type": "pyout",
       "prompt_number": 10,
       "text": [
        "<seaborn.axisgrid.PairGrid at 0x113862e10>"
       ]
      },
      {
       "metadata": {},
       "output_type": "display_data",
       "png": "[encoded data removed]",
       "text": [
        "<matplotlib.figure.Figure at 0x113862c90>"
       ]
      }
     ],
     "prompt_number": 10
    },
    {
     "cell_type": "markdown",
     "metadata": {
      "slideshow": {
       "slide_type": "slide"
      }
     },
     "source": [
      "this linear fit represents the \"full model\"; eg, the fit with all of the independent variables included"
     ]
    },
    {
     "cell_type": "code",
     "collapsed": false,
     "input": [
      "lm = smf.ols('Y ~ X1 + X2 + X3 + X4 + X5 + X6', data=x)\n",
      "fit = lm.fit()\n",
      "print fit.summary()"
     ],
     "language": "python",
     "metadata": {},
     "outputs": [
      {
       "output_type": "stream",
       "stream": "stdout",
       "text": [
        "                            OLS Regression Results                            \n",
        "==============================================================================\n",
        "Dep. Variable:                      Y   R-squared:                       0.733\n",
        "Model:                            OLS   Adj. R-squared:                  0.663\n",
        "Method:                 Least Squares   F-statistic:                     10.50\n",
        "Date:                Thu, 12 Feb 2015   Prob (F-statistic):           1.24e-05\n",
        "Time:                        10:20:19   Log-Likelihood:                -97.250\n",
        "No. Observations:                  30   AIC:                             208.5\n",
        "Df Residuals:                      23   BIC:                             218.3\n",
        "Df Model:                           6                                         \n",
        "==============================================================================\n",
        "                 coef    std err          t      P>|t|      [95.0% Conf. Int.]\n",
        "------------------------------------------------------------------------------\n",
        "Intercept     10.7871     11.589      0.931      0.362       -13.187    34.761\n",
        "X1             0.6132      0.161      3.809      0.001         0.280     0.946\n",
        "X2            -0.0731      0.136     -0.538      0.596        -0.354     0.208\n",
        "X3             0.3203      0.169      1.901      0.070        -0.028     0.669\n",
        "X4             0.0817      0.221      0.369      0.715        -0.376     0.540\n",
        "X5             0.0384      0.147      0.261      0.796        -0.266     0.342\n",
        "X6            -0.2171      0.178     -1.218      0.236        -0.586     0.152\n",
        "==============================================================================\n",
        "Omnibus:                        2.386   Durbin-Watson:                   1.795\n",
        "Prob(Omnibus):                  0.303   Jarque-Bera (JB):                1.255\n",
        "Skew:                          -0.081   Prob(JB):                        0.534\n",
        "Kurtosis:                       2.011   Cond. No.                     1.34e+03\n",
        "==============================================================================\n",
        "\n",
        "Warnings:\n",
        "[1] The condition number is large, 1.34e+03. This might indicate that there are\n",
        "strong multicollinearity or other numerical problems.\n"
       ]
      }
     ],
     "prompt_number": 11
    },
    {
     "cell_type": "markdown",
     "metadata": {
      "slideshow": {
       "slide_type": "slide"
      }
     },
     "source": [
      "remove feature w/ lowest (abs) t score"
     ]
    },
    {
     "cell_type": "code",
     "collapsed": false,
     "input": [
      "fit2 = smf.ols('Y ~ X1 + X2 + X3 + X4 + X6', data=x).fit()\n",
      "print fit2.summary()"
     ],
     "language": "python",
     "metadata": {},
     "outputs": [
      {
       "output_type": "stream",
       "stream": "stdout",
       "text": [
        "                            OLS Regression Results                            \n",
        "==============================================================================\n",
        "Dep. Variable:                      Y   R-squared:                       0.732\n",
        "Model:                            OLS   Adj. R-squared:                  0.676\n",
        "Method:                 Least Squares   F-statistic:                     13.10\n",
        "Date:                Thu, 12 Feb 2015   Prob (F-statistic):           3.28e-06\n",
        "Time:                        10:20:20   Log-Likelihood:                -97.294\n",
        "No. Observations:                  30   AIC:                             206.6\n",
        "Df Residuals:                      24   BIC:                             215.0\n",
        "Df Model:                           5                                         \n",
        "==============================================================================\n",
        "                 coef    std err          t      P>|t|      [95.0% Conf. Int.]\n",
        "------------------------------------------------------------------------------\n",
        "Intercept     12.7979      8.491      1.507      0.145        -4.726    30.322\n",
        "X1             0.6131      0.158      3.885      0.001         0.287     0.939\n",
        "X2            -0.0722      0.133     -0.543      0.592        -0.347     0.202\n",
        "X3             0.3117      0.162      1.924      0.066        -0.023     0.646\n",
        "X4             0.0980      0.208      0.470      0.643        -0.332     0.528\n",
        "X6            -0.2111      0.173     -1.218      0.235        -0.569     0.147\n",
        "==============================================================================\n",
        "Omnibus:                        2.254   Durbin-Watson:                   1.775\n",
        "Prob(Omnibus):                  0.324   Jarque-Bera (JB):                1.239\n",
        "Skew:                          -0.110   Prob(JB):                        0.538\n",
        "Kurtosis:                       2.029   Cond. No.                         871.\n",
        "==============================================================================\n"
       ]
      }
     ],
     "prompt_number": 12
    },
    {
     "cell_type": "markdown",
     "metadata": {
      "slideshow": {
       "slide_type": "fragment"
      }
     },
     "source": [
      "note R-sq decreases slightly, but adj R-sq increases slightly"
     ]
    },
    {
     "cell_type": "markdown",
     "metadata": {
      "slideshow": {
       "slide_type": "fragment"
      }
     },
     "source": [
      "--> increasing bias, decreasing variance"
     ]
    },
    {
     "cell_type": "markdown",
     "metadata": {
      "slideshow": {
       "slide_type": "slide"
      }
     },
     "source": [
      "ditto"
     ]
    },
    {
     "cell_type": "code",
     "collapsed": false,
     "input": [
      "fit3 = smf.ols('Y ~ X1 + X2 + X3 + X6', data=x).fit()\n",
      "print fit3.summary()"
     ],
     "language": "python",
     "metadata": {},
     "outputs": [
      {
       "output_type": "stream",
       "stream": "stdout",
       "text": [
        "                            OLS Regression Results                            \n",
        "==============================================================================\n",
        "Dep. Variable:                      Y   R-squared:                       0.729\n",
        "Model:                            OLS   Adj. R-squared:                  0.686\n",
        "Method:                 Least Squares   F-statistic:                     16.84\n",
        "Date:                Thu, 12 Feb 2015   Prob (F-statistic):           8.13e-07\n",
        "Time:                        10:20:21   Log-Likelihood:                -97.432\n",
        "No. Observations:                  30   AIC:                             204.9\n",
        "Df Residuals:                      25   BIC:                             211.9\n",
        "Df Model:                           4                                         \n",
        "==============================================================================\n",
        "                 coef    std err          t      P>|t|      [95.0% Conf. Int.]\n",
        "------------------------------------------------------------------------------\n",
        "Intercept     14.3035      7.740      1.848      0.076        -1.636    30.243\n",
        "X1             0.6534      0.131      5.006      0.000         0.385     0.922\n",
        "X2            -0.0768      0.131     -0.588      0.562        -0.346     0.192\n",
        "X3             0.3239      0.157      2.058      0.050        -0.000     0.648\n",
        "X6            -0.1715      0.149     -1.151      0.261        -0.478     0.135\n",
        "==============================================================================\n",
        "Omnibus:                        2.565   Durbin-Watson:                   1.820\n",
        "Prob(Omnibus):                  0.277   Jarque-Bera (JB):                1.315\n",
        "Skew:                          -0.107   Prob(JB):                        0.518\n",
        "Kurtosis:                       1.997   Cond. No.                         698.\n",
        "==============================================================================\n"
       ]
      }
     ],
     "prompt_number": 13
    },
    {
     "cell_type": "code",
     "collapsed": false,
     "input": [
      "fit4 = smf.ols('Y ~ X1 + X3 + X6', data=x).fit()\n",
      "print fit4.summary()"
     ],
     "language": "python",
     "metadata": {},
     "outputs": [
      {
       "output_type": "stream",
       "stream": "stdout",
       "text": [
        "                            OLS Regression Results                            \n",
        "==============================================================================\n",
        "Dep. Variable:                      Y   R-squared:                       0.726\n",
        "Model:                            OLS   Adj. R-squared:                  0.694\n",
        "Method:                 Least Squares   F-statistic:                     22.92\n",
        "Date:                Thu, 12 Feb 2015   Prob (F-statistic):           1.81e-07\n",
        "Time:                        10:20:21   Log-Likelihood:                -97.638\n",
        "No. Observations:                  30   AIC:                             203.3\n",
        "Df Residuals:                      26   BIC:                             208.9\n",
        "Df Model:                           3                                         \n",
        "==============================================================================\n",
        "                 coef    std err          t      P>|t|      [95.0% Conf. Int.]\n",
        "------------------------------------------------------------------------------\n",
        "Intercept     13.5777      7.544      1.800      0.084        -1.929    29.084\n",
        "X1             0.6227      0.118      5.271      0.000         0.380     0.866\n",
        "X3             0.3124      0.154      2.026      0.053        -0.005     0.629\n",
        "X6            -0.1870      0.145     -1.291      0.208        -0.485     0.111\n",
        "==============================================================================\n",
        "Omnibus:                        2.856   Durbin-Watson:                   1.938\n",
        "Prob(Omnibus):                  0.240   Jarque-Bera (JB):                1.394\n",
        "Skew:                          -0.121   Prob(JB):                        0.498\n",
        "Kurtosis:                       1.972   Cond. No.                         605.\n",
        "==============================================================================\n"
       ]
      }
     ],
     "prompt_number": 14
    },
    {
     "cell_type": "markdown",
     "metadata": {
      "slideshow": {
       "slide_type": "fragment"
      }
     },
     "source": [
      "stopping criteria met: all featuers have `|t| > 1`"
     ]
    },
    {
     "cell_type": "markdown",
     "metadata": {
      "slideshow": {
       "slide_type": "fragment"
      }
     },
     "source": [
      "$\\rightarrow$ optimal bias-variance point reached"
     ]
    },
    {
     "cell_type": "markdown",
     "metadata": {
      "slideshow": {
       "slide_type": "skip"
      }
     },
     "source": [
      "$\\rightarrow$ Residual standard error (RSE) minimized"
     ]
    },
    {
     "cell_type": "code",
     "collapsed": false,
     "input": [
      "fit5 = smf.ols('Y ~ X1 + X3', data=x).fit()\n",
      "print fit5.summary()"
     ],
     "language": "python",
     "metadata": {
      "slideshow": {
       "slide_type": "slide"
      }
     },
     "outputs": [
      {
       "output_type": "stream",
       "stream": "stdout",
       "text": [
        "                            OLS Regression Results                            \n",
        "==============================================================================\n",
        "Dep. Variable:                      Y   R-squared:                       0.708\n",
        "Model:                            OLS   Adj. R-squared:                  0.686\n",
        "Method:                 Least Squares   F-statistic:                     32.74\n",
        "Date:                Thu, 12 Feb 2015   Prob (F-statistic):           6.06e-08\n",
        "Time:                        10:20:23   Log-Likelihood:                -98.569\n",
        "No. Observations:                  30   AIC:                             203.1\n",
        "Df Residuals:                      27   BIC:                             207.3\n",
        "Df Model:                           2                                         \n",
        "==============================================================================\n",
        "                 coef    std err          t      P>|t|      [95.0% Conf. Int.]\n",
        "------------------------------------------------------------------------------\n",
        "Intercept      9.8709      7.061      1.398      0.174        -4.618    24.359\n",
        "X1             0.6435      0.118      5.432      0.000         0.400     0.887\n",
        "X3             0.2112      0.134      1.571      0.128        -0.065     0.487\n",
        "==============================================================================\n",
        "Omnibus:                        6.448   Durbin-Watson:                   1.958\n",
        "Prob(Omnibus):                  0.040   Jarque-Bera (JB):                1.959\n",
        "Skew:                          -0.041   Prob(JB):                        0.375\n",
        "Kurtosis:                       1.751   Cond. No.                         503.\n",
        "==============================================================================\n"
       ]
      }
     ],
     "prompt_number": 15
    },
    {
     "cell_type": "markdown",
     "metadata": {},
     "source": [
      "note this model is weaker (lower $Adj. R^2$)"
     ]
    },
    {
     "cell_type": "code",
     "collapsed": false,
     "input": [
      "fit6 = smf.ols('Y ~ X1', data=x).fit()\n",
      "print fit6.summary()"
     ],
     "language": "python",
     "metadata": {
      "slideshow": {
       "slide_type": "slide"
      }
     },
     "outputs": [
      {
       "output_type": "stream",
       "stream": "stdout",
       "text": [
        "                            OLS Regression Results                            \n",
        "==============================================================================\n",
        "Dep. Variable:                      Y   R-squared:                       0.681\n",
        "Model:                            OLS   Adj. R-squared:                  0.670\n",
        "Method:                 Least Squares   F-statistic:                     59.86\n",
        "Date:                Thu, 12 Feb 2015   Prob (F-statistic):           1.99e-08\n",
        "Time:                        10:20:24   Log-Likelihood:                -99.882\n",
        "No. Observations:                  30   AIC:                             203.8\n",
        "Df Residuals:                      28   BIC:                             206.6\n",
        "Df Model:                           1                                         \n",
        "==============================================================================\n",
        "                 coef    std err          t      P>|t|      [95.0% Conf. Int.]\n",
        "------------------------------------------------------------------------------\n",
        "Intercept     14.3763      6.620      2.172      0.039         0.816    27.937\n",
        "X1             0.7546      0.098      7.737      0.000         0.555     0.954\n",
        "==============================================================================\n",
        "Omnibus:                        7.462   Durbin-Watson:                   2.245\n",
        "Prob(Omnibus):                  0.024   Jarque-Bera (JB):                2.537\n",
        "Skew:                          -0.331   Prob(JB):                        0.281\n",
        "Kurtosis:                       1.739   Cond. No.                         352.\n",
        "==============================================================================\n"
       ]
      }
     ],
     "prompt_number": 16
    },
    {
     "cell_type": "markdown",
     "metadata": {},
     "source": [
      "ditto"
     ]
    },
    {
     "cell_type": "markdown",
     "metadata": {
      "slideshow": {
       "slide_type": "slide"
      }
     },
     "source": [
      "want to see absence of structure in resid scatterplot (\"gaussian white noise\")"
     ]
    },
    {
     "cell_type": "code",
     "collapsed": false,
     "input": [
      "fit4.resid.plot(style='o', figsize=(12,8))"
     ],
     "language": "python",
     "metadata": {},
     "outputs": [
      {
       "metadata": {},
       "output_type": "pyout",
       "prompt_number": 17,
       "text": [
        "<matplotlib.axes._subplots.AxesSubplot at 0x1185bdd10>"
       ]
      },
      {
       "metadata": {},
       "output_type": "display_data",
       "png": "[encoded data removed]",
       "text": [
        "<matplotlib.figure.Figure at 0x117552990>"
       ]
      }
     ],
     "prompt_number": 17
    },
    {
     "cell_type": "markdown",
     "metadata": {
      "slideshow": {
       "slide_type": "subslide"
      }
     },
     "source": [
      "$\\rightarrow$ this plot looks pretty good; also note that resid quartiles look good"
     ]
    },
    {
     "cell_type": "code",
     "collapsed": false,
     "input": [
      "plt.figure(figsize=(12,8))\n",
      "_ = stats.probplot(fit4.resid, dist=\"norm\", plot=plt)"
     ],
     "language": "python",
     "metadata": {},
     "outputs": [
      {
       "metadata": {},
       "output_type": "display_data",
       "png": "[encoded data removed]",
       "text": [
        "<matplotlib.figure.Figure at 0x11903e650>"
       ]
      }
     ],
     "prompt_number": 18
    },
    {
     "cell_type": "markdown",
     "metadata": {},
     "source": [
      "---"
     ]
    },
    {
     "cell_type": "markdown",
     "metadata": {
      "slideshow": {
       "slide_type": "slide"
      }
     },
     "source": [
      "1-2 Pairs\n",
      "=========\n",
      "(Based on [RABE](http://www.ilr.cornell.edu/~hadi/RABE4/) 3.15)\n",
      "---------\n",
      "A national insurance organization wanted to study the consumption pattern of cigarettes in all 50 states and the District of Columbia. The variables chosen for the study are:\n",
      "\n",
      "* Age: Median age of a person living in a state.\n",
      "\n",
      "* HS: Percentage of people over 25 years of age in a state who had completed high school.\n",
      "\n",
      "* Income: Per capita personal income for a state (income in dollars).\n",
      "\n",
      "* Black: Percentage of blacks living in a state.\n",
      "\n",
      "* Female: Percentage of females living in a state.\n",
      "\n",
      "* Price: Weighted average price (in cents) of a pack ofcigarettes in a state.\n",
      "\n",
      "* Sales: Number of packs of cigarettes sold in a state on a per capita basis.\n",
      "\n",
      "The data can be found at [http://www1.aucegypt.edu/faculty/hadi/RABE5/Data5/P088.txt](http://www1.aucegypt.edu/faculty/hadi/RABE5/Data5/P088.txt).\n",
      "\n",
      "Below, specify the null and alternative hypotheses, the test used, and your conclusion using a 5% level of significance.\n",
      "\n",
      "1. Test the hypothesis that the variable `Female` is not needed in the regression equation relating Sales to the six predictor variables.\n",
      "\n",
      "2. Test the hypothesis that the variables `Female` and `HS` are not needed in the above regression equation.\n",
      "\n",
      "3. Compute a 95% confidence interval for the true regression coefficient of the variable `Income`.\n",
      "\n",
      "4. What percentage of the variation in `Sales` can be accounted for when `Income` is removed from the above regression equation? Which model did you use?"
     ]
    },
    {
     "cell_type": "markdown",
     "metadata": {},
     "source": [
      "---"
     ]
    },
    {
     "cell_type": "markdown",
     "metadata": {},
     "source": [
      "Further Exercises\n",
      "========"
     ]
    },
    {
     "cell_type": "markdown",
     "metadata": {},
     "source": [
      "Level 1\n",
      "--------\n",
      "\n",
      "Use `enron.db`.\n",
      "\n",
      "1. Select a `DataFrame` containing the recipient count (as before) and the `department` of the sender for each message.\n",
      "2. Create a histogram of the recipient count using distplot.\n",
      "3. Create a new column based on the `log` of the recipient count.\n",
      "4. Create a histogram of that log.\n",
      "6. Create a boxplot of the log, splitting the data based on the `department` of the sender. (Bonus, try [factorplot](http://stanford.edu/~mwaskom/software/seaborn/tutorial/categorical_linear_models.html))\n",
      "7. Compute the sample mean and standard deviation of the log in the three groups.\n",
      "8. Compute a 95% confidence interval for the difference in recipient count between the three groups. \n",
      "5. At level $\\alpha=5\\%$, test the null hypothesis that the average recipient count does not differ between the three groups. What assumptions are you making? What can you conclude?"
     ]
    },
    {
     "cell_type": "markdown",
     "metadata": {},
     "source": [
      "Level 2\n",
      "-------\n",
      "A criminologist studying the relationship between income level and assults in U.S. cities (among other things) collected the following data for 2215 communities. The dataset can be found in the [UCI machine learning site](http://archive.ics.uci.edu/ml/datasets/Communities+and+Crime+Unnormalized).\n",
      "\n",
      "We are interested in the per capita assult rate and its relation to median income."
     ]
    },
    {
     "cell_type": "code",
     "collapsed": false,
     "input": [
      "crime = pd.read_csv(\"http://archive.ics.uci.edu/ml/machine-learning-databases/00211/CommViolPredUnnormalizedData.txt\", \n",
      "                    header = None, na_values  = '?',\n",
      "                    names = ['communityname', 'state', 'countyCode', 'communityCode', 'fold', 'population', 'householdsize', \n",
      "                             'racepctblack', 'racePctWhite', 'racePctAsian', 'racePctHisp', 'agePct12t21', 'agePct12t29', \n",
      "                             'agePct16t24', 'agePct65up', 'numbUrban', 'pctUrban', 'medIncome', 'pctWWage', 'pctWFarmSelf', \n",
      "                             'pctWInvInc', 'pctWSocSec', 'pctWPubAsst', 'pctWRetire', 'medFamInc', 'perCapInc', 'whitePerCap', \n",
      "                             'blackPerCap', 'indianPerCap', 'AsianPerCap', 'OtherPerCap', 'HispPerCap', 'NumUnderPov', \n",
      "                             'PctPopUnderPov', 'PctLess9thGrade', 'PctNotHSGrad', 'PctBSorMore', 'PctUnemployed', 'PctEmploy', \n",
      "                             'PctEmplManu', 'PctEmplProfServ', 'PctOccupManu', 'PctOccupMgmtProf', 'MalePctDivorce', \n",
      "                             'MalePctNevMarr', 'FemalePctDiv', 'TotalPctDiv', 'PersPerFam', 'PctFam2Par', 'PctKids2Par', \n",
      "                             'PctYoungKids2Par', 'PctTeen2Par', 'PctWorkMomYoungKids', 'PctWorkMom', 'NumKidsBornNeverMar', \n",
      "                             'PctKidsBornNeverMar', 'NumImmig', 'PctImmigRecent', 'PctImmigRec5', 'PctImmigRec8', \n",
      "                             'PctImmigRec10', 'PctRecentImmig', 'PctRecImmig5', 'PctRecImmig8', 'PctRecImmig10', \n",
      "                             'PctSpeakEnglOnly', 'PctNotSpeakEnglWell', 'PctLargHouseFam', 'PctLargHouseOccup', \n",
      "                             'PersPerOccupHous', 'PersPerOwnOccHous', 'PersPerRentOccHous', 'PctPersOwnOccup', \n",
      "                             'PctPersDenseHous', 'PctHousLess3BR', 'MedNumBR', 'HousVacant', 'PctHousOccup', 'PctHousOwnOcc', \n",
      "                             'PctVacantBoarded', 'PctVacMore6Mos', 'MedYrHousBuilt', 'PctHousNoPhone', 'PctWOFullPlumb', \n",
      "                             'OwnOccLowQuart', 'OwnOccMedVal', 'OwnOccHiQuart', 'OwnOccQrange', 'RentLowQ', 'RentMedian', \n",
      "                             'RentHighQ', 'RentQrange', 'MedRent', 'MedRentPctHousInc', 'MedOwnCostPctInc', \n",
      "                             'MedOwnCostPctIncNoMtg', 'NumInShelters', 'NumStreet', 'PctForeignBorn', 'PctBornSameState', \n",
      "                             'PctSameHouse85', 'PctSameCity85', 'PctSameState85', 'LemasSwornFT', 'LemasSwFTPerPop', \n",
      "                             'LemasSwFTFieldOps', 'LemasSwFTFieldPerPop', 'LemasTotalReq', 'LemasTotReqPerPop', \n",
      "                             'PolicReqPerOffic', 'PolicPerPop', 'RacialMatchCommPol', 'PctPolicWhite', 'PctPolicBlack', \n",
      "                             'PctPolicHisp', 'PctPolicAsian', 'PctPolicMinor', 'OfficAssgnDrugUnits', 'NumKindsDrugsSeiz', \n",
      "                             'PolicAveOTWorked', 'LandArea', 'PopDens', 'PctUsePubTrans', 'PolicCars', 'PolicOperBudg', \n",
      "                             'LemasPctPolicOnPatr', 'LemasGangUnitDeploy', 'LemasPctOfficDrugUn', 'PolicBudgPerPop', \n",
      "                             'murders', 'murdPerPop', 'rapes', 'rapesPerPop', 'robberies', 'robbbPerPop', 'assaults', \n",
      "                             'assaultPerPop', 'burglaries', 'burglPerPop', 'larcenies', 'larcPerPop', 'autoTheft', \n",
      "                             'autoTheftPerPop', 'arsons', 'arsonsPerPop', 'ViolentCrimesPerPop', 'nonViolPerPop'])"
     ],
     "language": "python",
     "metadata": {},
     "outputs": [],
     "prompt_number": 24
    },
    {
     "cell_type": "markdown",
     "metadata": {},
     "source": [
      "1. Fit a simple linear regression model to the data with `np.log(crime.assaults)` as the dependent variable and `np.log(crime.medIncome)` as the independent variable. Plot the estimated regression line.\n",
      "\n",
      "4. Test whether there is a linear relationship between `assaults` and `medIncome` at level $\\alpha=0.05$. State the null hypothesis, the alternative, the conclusion and the $p$-value.\n",
      "\n",
      "5. Give a 95% confidence interval for the slope of the regression line. Interpret your interval.\n",
      "\n",
      "6. Report the $R^2$ and the adjusted $R^2$ of the model, as well as an estimate of the variance of the errors in the model.\n",
      "\n",
      "7. Go to [archive.ics.uci.edu/ml/datasets/Communities+and+Crime+Unnormalized](http://archive.ics.uci.edu/ml/datasets/Communities+and+Crime+Unnormalized) and pick out a few other factors that might help you predict `assults`."
     ]
    }
   ],
   "metadata": {}
  }
 ]
}