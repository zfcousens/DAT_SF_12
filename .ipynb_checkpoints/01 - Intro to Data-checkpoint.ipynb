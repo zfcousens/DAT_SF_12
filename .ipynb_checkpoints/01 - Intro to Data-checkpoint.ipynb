{
 "metadata": {
  "name": "",
  "signature": "sha256:8ae9c84aa1d4afd5d36cb405103433d113e2764c7cdac7993a1f2310fca4bef4"
 },
 "nbformat": 3,
 "nbformat_minor": 0,
 "worksheets": [
  {
   "cells": [
    {
     "cell_type": "markdown",
     "metadata": {},
     "source": [
      "Data Science\n",
      "=========================\n",
      "Introduction and Overview\n",
      "-------------------------\n",
      "  \n",
      "Alessandro Gagliardi  \n",
      "Sr. Data Scientist, [Glassdoor.com](Glassdoor.com)"
     ]
    },
    {
     "cell_type": "markdown",
     "metadata": {},
     "source": [
      "# Welcome!"
     ]
    },
    {
     "cell_type": "markdown",
     "metadata": {},
     "source": [
      "<table border=\"0\" style=\"border-collapse:collapse;\" cellspacing=\"0\">\n",
      "<tr><td>Instructor:<td>Alessandro Gagliardi</td></tr>\n",
      "<tr><td>EiRs:<td>Ramesh Sampath</td></tr>\n",
      "<tr><td></td><td>Otto Stegmaier</td></tr>\n",
      "<tr><td></td><td>Alex Chao</td></tr>\n",
      "<tr><td>Classes:<td>6:30pm-9:30pm, Tuesday and Thursdays</td></tr>\n",
      "<tr><td></td><td>January 15 \u2013 March 31</td></tr>\n",
      "<tr><td>Office Hours:<td><b>Alex Chao</b>, 5:30 - 6:30 before class at GA</td></tr>\n",
      "<tr><td></td><td><b>Otto Stegmaier</b>, 9:30 - 10:00 after class at GA</td></tr>\n",
      "<tr><td></td><td><b>Ramesh Sampath</b>, 2:00 - 6:00 Saturdays remote</td></tr>\n",
      "<tr><td></td><td>Can also set by appointment</td></tr>\n",
      "</table>"
     ]
    },
    {
     "cell_type": "markdown",
     "metadata": {},
     "source": [
      "Who am I?\n",
      "=================================\n",
      "Alessandro Gagliardi \n",
      "---------------------------------\n",
      "\n",
      "- 1997 - 2001 - Studied Computer Science at UC Santa Cruz  \n",
      "- 2001 - 2005 - Worked as a web-developer in NYC\n",
      "- 2005 - 2010 - Studient Behavioral and Neural Science at Rutgers \u2013 Newark, NJ\n",
      "- 2010 - 2011 - Taught Psychology and Neuroscience at USF, NDNU, CIIS \n",
      "- 2011 - present - Returned to industry as a Data Scientist at Socialize, Path, and Glassdoor\n",
      "- 2014 - present - Returned to teaching at General Assembly"
     ]
    },
    {
     "cell_type": "markdown",
     "metadata": {},
     "source": [
      "Who are the Experts in Residence?\n",
      "=================================\n",
      "Alex Chao\n",
      "---------------------------------\n",
      "\n",
      "- 2011 - 2015  - UC Berkeley studying Statistics and Computer Science\n",
      "- 2015 - present - Working at Unity Technologies as a Data Mining Analyst\n",
      "- 2015 - present - Started TA'ing for DAT12 at General Assembly"
     ]
    },
    {
     "cell_type": "markdown",
     "metadata": {},
     "source": [
      "Who are the Experts in Residence?\n",
      "=================================\n",
      "Otto Stegmaier\n",
      "---------------------------------\n",
      "\n",
      "- 2004 - 2008 - Studied Economics at Harvard University\n",
      "- 2008 - 2013 - Marine Infantry Officer, deployed to Afghanistan and SE Asia\n",
      "- 2013 - 2014 - Director of Research, Personal Marketing Research, Davenport, IA\n",
      "- Oct - Dec 2014 - Student at General Assembly: Data Science 10, San Francisco, CA\n",
      "- 2014 - Present - Business Analyst at Liftopia, San Francisco, CA"
     ]
    },
    {
     "cell_type": "markdown",
     "metadata": {},
     "source": [
      "Who are the Experts in Residence?\n",
      "=================================\n",
      "Ramesh Sampath\n",
      "---------------------------------\n",
      "\n",
      "* 1990 - 1994 - Studied Electrical Engineering at University of Madras\n",
      "* 1995 - 1996 - Studied Computer Science at Tata Institute of Fundamental Research\n",
      "* 1997 - 2000 - Worked with Leading Edge Systems building database applications\n",
      "* 2000 - 2008 - Worked as consultant building data warehouse applications\n",
      "* 2008 - 2010 - Studied MBA at the University of Texas, Austin\n",
      "* 2010 - 2012 - Worked as a freelance consultant with retail and consumer goods companies\n",
      "* 2013 - 2014 - Co-founded an e-commerce Startup to predict what products are trending in the online store"
     ]
    },
    {
     "cell_type": "markdown",
     "metadata": {},
     "source": [
      "## Who are you?\n",
      "\n",
      "- Your name\n",
      "- Where you work and what you do there\n",
      "- What you hope to get out of this course"
     ]
    },
    {
     "cell_type": "markdown",
     "metadata": {},
     "source": [
      "Today:\n",
      "------\n",
      "\n",
      "1. Intro to Data Science:\n",
      "    1. What is Data Science?  \n",
      "    2. Origins of Data Science  \n",
      "    3. Goals of the Course \n",
      "2. Relational Databases\n",
      "    1. Database Evolution\n",
      "    2. Normalization\n",
      "    3. Natural and Artificial Keys\n",
      "    4. Star Schema"
     ]
    },
    {
     "cell_type": "markdown",
     "metadata": {},
     "source": [
      "A. What is Data Science?\n",
      "========================"
     ]
    },
    {
     "cell_type": "markdown",
     "metadata": {},
     "source": [
      "Data Science = Data + Science\n",
      "-----------------------------"
     ]
    },
    {
     "cell_type": "markdown",
     "metadata": {},
     "source": [
      "## Data can be:"
     ]
    },
    {
     "cell_type": "markdown",
     "metadata": {},
     "source": [
      "### Unstructured (e.g. Email, Photos, Books, etc.)"
     ]
    },
    {
     "cell_type": "markdown",
     "metadata": {},
     "source": [
      "### Semi-Structured (e.g. XML, JSON, NoSQL, APIs, etc.)"
     ]
    },
    {
     "cell_type": "markdown",
     "metadata": {},
     "source": [
      "### Structured (e.g. SQL, Data Frames, etc.)"
     ]
    },
    {
     "cell_type": "markdown",
     "metadata": {},
     "source": [
      "## Science can be:"
     ]
    },
    {
     "cell_type": "markdown",
     "metadata": {},
     "source": [
      "### Explorations / Explanations\n",
      "- Data Visualization (e.g. ggplot2, Tableau, d3.js, etc.)\n",
      "- Unsupervised Machine Learning (e.g. clustering, etc.)\n",
      "- etc....\n",
      "<br />"
     ]
    },
    {
     "cell_type": "markdown",
     "metadata": {},
     "source": [
      "### Inferences / Predictions\n",
      "- Regression Models (e.g. Linear Models, Logistic Regression)\n",
      "- Supervised Machine Learning (e.g. Neural Nets, Genetic Algorithms)\n",
      "- etc....  \n",
      "<br />"
     ]
    },
    {
     "cell_type": "markdown",
     "metadata": {},
     "source": [
      "Data Science Workflow\n",
      "=====================\n",
      "From [a Taxonomy of Data Science](http://www.dataists.com/2010/09/a-taxonomy-of-data-science/) (by Dataists)"
     ]
    },
    {
     "cell_type": "markdown",
     "metadata": {},
     "source": [
      "A. Obtain"
     ]
    },
    {
     "cell_type": "markdown",
     "metadata": {},
     "source": [
      "B. Scrub"
     ]
    },
    {
     "cell_type": "markdown",
     "metadata": {},
     "source": [
      "C. Explore"
     ]
    },
    {
     "cell_type": "markdown",
     "metadata": {},
     "source": [
      "D. Model"
     ]
    },
    {
     "cell_type": "markdown",
     "metadata": {},
     "source": [
      "E. Interpret"
     ]
    },
    {
     "cell_type": "markdown",
     "metadata": {},
     "source": [
      "## Workflow Example:\n",
      "### Problem: what are the leading indicators that a user will make a new purchase?"
     ]
    },
    {
     "cell_type": "markdown",
     "metadata": {},
     "source": [
      "A. Collect data around user retention, user actions within the product, potentially find data outside of company"
     ]
    },
    {
     "cell_type": "markdown",
     "metadata": {},
     "source": [
      "B. Extract aggregated values from raw data  \n",
      "\n",
      "1. How many times did a user share through Facebook within a week? A month?\n",
      "2. How often did they open up our emails?"
     ]
    },
    {
     "cell_type": "markdown",
     "metadata": {},
     "source": [
      "C. Examine data to find common distributions and correlations"
     ]
    },
    {
     "cell_type": "markdown",
     "metadata": {},
     "source": [
      "D. Extract new meaning to predict if user would purchase again"
     ]
    },
    {
     "cell_type": "markdown",
     "metadata": {},
     "source": [
      "E. Share results (and probably also go back to the drawing board)"
     ]
    },
    {
     "cell_type": "markdown",
     "metadata": {},
     "source": [
      "# B. Origins of Data Science"
     ]
    },
    {
     "cell_type": "markdown",
     "metadata": {},
     "source": [
      "1974 - Peter Naur published _Concise Survey of Computer Methods_:\n",
      "> A basic principle of data science is this: The data representation must be chosen with due regard to the transformation to be achieved and the data processing tools available. This stresses the importance of concern for the characteristics of the data processing tools."
     ]
    },
    {
     "cell_type": "markdown",
     "metadata": {},
     "source": [
      "Data Science = Computer Science + Statistics\n",
      "============================================"
     ]
    },
    {
     "cell_type": "markdown",
     "metadata": {},
     "source": [
      "Computer Science\n",
      "----------------\n",
      "1. Artificial Intelligence (Alan Turing)\n",
      "2. Relational Calculus / First-Order Logic (Edgar F. Codd)"
     ]
    },
    {
     "cell_type": "markdown",
     "metadata": {},
     "source": [
      "Statistics\n",
      "----------------\n",
      "1. Probability and Significance (Ronald Fisher)\n",
      "2. Statistical Learning Theory (Vladimir N. Vapnik)"
     ]
    },
    {
     "cell_type": "markdown",
     "metadata": {},
     "source": [
      "Other Fields Contributing to Data Science\n",
      "============================================"
     ]
    },
    {
     "cell_type": "markdown",
     "metadata": {},
     "source": [
      "Psychology\n",
      "----------------\n",
      "1. Signal Detection Theory\n",
      "2. Connectionism & Parallel Distributed Processing"
     ]
    },
    {
     "cell_type": "markdown",
     "metadata": {},
     "source": [
      "Complex Systems\n",
      "----------------\n",
      "1. Artificial Life\n",
      "2. Graph Theory"
     ]
    },
    {
     "cell_type": "markdown",
     "metadata": {},
     "source": [
      "## What else?"
     ]
    },
    {
     "cell_type": "markdown",
     "metadata": {},
     "source": [
      "# C. Goals of the Course"
     ]
    },
    {
     "cell_type": "markdown",
     "metadata": {},
     "source": [
      "## At the completion of this course, you will be able to:"
     ]
    },
    {
     "cell_type": "markdown",
     "metadata": {},
     "source": [
      "#### Explore and present data through visualizations"
     ]
    },
    {
     "cell_type": "markdown",
     "metadata": {},
     "source": [
      "#### Apply the 1st, 2nd, and 3rd Normal Form"
     ]
    },
    {
     "cell_type": "markdown",
     "metadata": {},
     "source": [
      "#### Access data from web-based application programming interfaces (APIs)"
     ]
    },
    {
     "cell_type": "markdown",
     "metadata": {},
     "source": [
      "#### Determine statistical significance"
     ]
    },
    {
     "cell_type": "markdown",
     "metadata": {},
     "source": [
      "#### Apply generalized linear models (GLMs)"
     ]
    },
    {
     "cell_type": "markdown",
     "metadata": {},
     "source": [
      "#### Detect clusters in multivariate data"
     ]
    },
    {
     "cell_type": "markdown",
     "metadata": {},
     "source": [
      "#### Predict categories using supervised machine learning techniques"
     ]
    },
    {
     "cell_type": "markdown",
     "metadata": {},
     "source": [
      "#### Apply these techniques to big data"
     ]
    },
    {
     "cell_type": "markdown",
     "metadata": {},
     "source": [
      "Tentative Course Outline\n",
      "------------------------\n",
      "\n",
      "1. Intro to Data Science, Relational Databases & SQL\n",
      "2. Getting started with IPython & Git\n",
      "3. APIs and semi-structured data\n",
      "4. IPython.parallel & StarCluster\n",
      "5. Hadoop Distributed File System and Spark\n",
      "6. Intro to ML: k-Nearest Neighbor Classification\n",
      "7. Clustering: Hierarchical and K-Means\n",
      "8. Probability, A/B Tests & Statistical Significance\n",
      "9. Linear Regression, ANOVA\n",
      "10. Project Elevator Pitches\n",
      "11. Logistic Regression, Regularization\n",
      "12. Time Series Analysis & Midterm Review\n",
      "13. Principal Components Analysis\n",
      "14. Text Mining & Na\u00efve Bayes\n",
      "15. Nonlinear Models\n",
      "16. Grid Search and Parameter Selection\n",
      "17. Bringing it Together\n",
      "18. Final Project Working Session\n",
      "19. Final Project Working Session\n",
      "20. Final Project Presentations (12 min. each)\n",
      "21. Final Project Presentations (12 min. each)\n",
      "22. Future Directions "
     ]
    },
    {
     "cell_type": "markdown",
     "metadata": {},
     "source": [
      "Project Schedule\n",
      "----------------\n",
      "\n",
      "| Date | Due | Returned |  \n",
      "| ---- | -------- | --- |\n",
      "| 1/22 | Preliminary Project Proposals Due (3-4 sentences) | |\n",
      "| 1/27 | Homework 1 |                                   |\n",
      "| 1/29 |            | EiR Feedback on Project Proposals |\n",
      "| 2/3  |            | EiR Feedback on Homework 1           |\n",
      "| 2/5  | Formal Proposals (including ***data*** and methods chosen) | |\n",
      "| 2/10 | Homework 2 |                                  |\n",
      "| 2/12 |            | EiR Feedback on Formal Proposals |\n",
      "| 2/17 | **Project Elevator Pitch in class (4 minutes each)** | EiR Feedback on Homework 2 | \n",
      "| 2/19 | Project Live on Github | |\n",
      "| 2/24 | Homework 3 | |\n",
      "| 2/26 | Peer Feedback of Projects   | Peer Feedback on Project    |\n",
      "| 3/3  | Peer Feedback of Homework 3 | Peer Feedback on Homework 3 |\n",
      "| 3/10 | ***Midterm Assessment Due*** | |\n",
      "| 3/17 | At least one working model | |\n",
      "| 3/24-26 | **Final Presentations (12 minutes each)** | Midterm Graded |"
     ]
    },
    {
     "cell_type": "markdown",
     "metadata": {},
     "source": [
      "Typical Class\n",
      "----------------\n",
      "\n",
      "* **Pre-work** (0-30 min.) Students investigate a topic and present\n",
      "* **Theory and Background** (30-80 min.) Laptops closed, paper and pen(cil) only\n",
      "* **Code walk-through** (20-45 min.) Laptops open, follow along\n",
      "* **Break** (5-10 min.) You know what this is\n",
      "* **Paired Programming** (30-100 min.) One student drives, the other navigates\n",
      "* **Individual work** (0-40 min.) Time permitting, otherwise homework"
     ]
    },
    {
     "cell_type": "markdown",
     "metadata": {},
     "source": [
      "---"
     ]
    },
    {
     "cell_type": "markdown",
     "metadata": {},
     "source": [
      "Pair Programming\n",
      "----------------\n",
      "\n",
      "1. Start with a reasonably well-defined task.\n",
      "\n",
      "2. Agree on one tiny goal at a time.\n",
      "\n",
      "3. Rely on your partner, support your partner.\n",
      "\n",
      "4. Talk a lot!\n",
      "\n",
      "5. Sync up frequently.\n",
      "\n",
      "6. Take a moment to celebrate as you complete tasks and overcome problems.\n",
      "\n",
      "7. Switch roles often\u2014at least every class\n",
      "\n",
      "Questions?"
     ]
    },
    {
     "cell_type": "markdown",
     "metadata": {},
     "source": [
      "# Relational Databases"
     ]
    },
    {
     "cell_type": "markdown",
     "metadata": {},
     "source": [
      "> Those who cannot remember the past are condemned to repeat it.\n",
      "\n",
      "_The Life of Reason_, by George Santayana"
     ]
    },
    {
     "cell_type": "markdown",
     "metadata": {},
     "source": [
      "DB Evolution\n",
      "------------\n",
      "\n",
      "* 1960s\n",
      "    - Hierarchical data structure (IBM IMS)\n",
      "    - Network data structure (CODASYL)\n",
      "* 1970s\n",
      "    - Relational data model\n",
      "        * A Relational Model of Data for Large Shared Data Banks \u2013 E. F. Codd [1970]\n",
      "    - System R (IBM), Ingres (Berkeley)"
     ]
    },
    {
     "cell_type": "markdown",
     "metadata": {},
     "source": [
      "DB Evolution\n",
      "------------\n",
      "\n",
      "* 1980s\n",
      "    - Commercialization of RDBMS (relational database management systems)\n",
      "        * Oracle, Sybase, IBM DB2, Informix\n",
      "    - SQL (Structured Query Language)\n",
      "    - ACID (**A**tomic, **C**onsistent, **I**solated, **D**urable)\n",
      "* 1990s\n",
      "    - PC RDBMS\n",
      "        * Paradox, Microsoft SQL Server & Access\n",
      "    - Larger DBs, driven by internet\n",
      "    - Consolidation among commercial DB vendors"
     ]
    },
    {
     "cell_type": "markdown",
     "metadata": {},
     "source": [
      "DB Evolution\n",
      "------------\n",
      "\n",
      "* 2000s\n",
      "    - Commercialization of Open Source RDBMS\n",
      "        * MySQL, Postgres\n",
      "    - Evolving requirements expose RDBMS limitations\n",
      "        * Storing complex and dynamic objects\n",
      "        * Processing increasing data volumes\n",
      "        * Analyzing massive amounts of data"
     ]
    },
    {
     "cell_type": "markdown",
     "metadata": {},
     "source": [
      "Keys\n",
      "====\n",
      "* A primary key is a unique identifier of a record in a table\n",
      "* A foreign key (when enforced) indicates a dependancy between two tables \n",
      "    - often (though not necessarily) the primary key of the other table\n",
      "* Keys can be *composite*."
     ]
    },
    {
     "cell_type": "markdown",
     "metadata": {},
     "source": [
      "# Normalization"
     ]
    },
    {
     "cell_type": "markdown",
     "metadata": {},
     "source": [
      "The objectives of normalization were stated as follows by Codd:\n",
      "\n",
      "> 1. To free the collection of relations from undesirable insertion, update and deletion dependencies;\n",
      "> 2. To reduce the need for restructuring the collection of relations, as new types of data are introduced, and thus increase the life span of application programs;\n",
      "> 3. To make the relational model more informative to users;\n",
      "> 4. To make the collection of relations neutral to the query statistics, where these statistics are liable to change as time goes by.  \n",
      "\n",
      "Codd, E.F. \"Further Normalization of the Data Base Relational Model\", p. 34"
     ]
    },
    {
     "cell_type": "markdown",
     "metadata": {},
     "source": [
      "First normal form (1NF) \n",
      "---\n",
      "A relation is in *first normal form* if the domain of each attribute contains only **atomic** values, and the value of each attribute contains only a **single value** from that domain."
     ]
    },
    {
     "cell_type": "markdown",
     "metadata": {},
     "source": [
      "##### The following scenario illustrates how a database design might violate first normal form."
     ]
    },
    {
     "cell_type": "markdown",
     "metadata": {},
     "source": [
      "*Taken from [http://en.wikipedia.org/wiki/First_normal_form](http://en.wikipedia.org/wiki/First_normal_form)*"
     ]
    },
    {
     "cell_type": "markdown",
     "metadata": {},
     "source": [
      "Suppose a designer wishes to record the names and telephone numbers of customers. He defines a customer table which looks like this:\n",
      "\n",
      "\n",
      "### Customer \n",
      "\n",
      "| Customer ID | First Name | Surname   | Telephone Number |\n",
      "| -----------:| ---------- | --------- | ---------------- |\n",
      "|         123 | Robert     | Ingram    | 555-861-2025     |\n",
      "|         456 | Jane       | Wright    | 555-403-1659     |\n",
      "|         789 | Maria      | Fernandez | 555-808-9633     |"
     ]
    },
    {
     "cell_type": "markdown",
     "metadata": {},
     "source": [
      "The designer then becomes aware of a requirement to record **multiple** telephone numbers for some customers. He reasons that the simplest way of doing this is to allow the \"Telephone Number\" field in any given record to contain more than one value:\n",
      "\n",
      "\n",
      "### Customer \n",
      "\n",
      "| Customer ID | First Name | Surname   | Telephone Number |\n",
      "| -----------:| ---------- | --------- | ---------------- |\n",
      "|         123 | Robert     | Ingram    | 555-861-2025     |\n",
      "|         456 | Jane       | Wright    | 555-403-1659     |\n",
      "|             |            |           | 555-776-4100 |\n",
      "|         789 | Maria      | Fernandez | 555-808-9633     |\n",
      "\n",
      "Assuming, however, that the Telephone Number column is defined on some telephone number-like domain, such as the domain of 12-character strings, the representation above is not in first normal form. It is in violation of first normal form as a single field has been allowed to contain multiple values. A typical _relational database management system_ will not allow fields in a table to contain multiple values in this way."
     ]
    },
    {
     "cell_type": "markdown",
     "metadata": {},
     "source": [
      "## A design that complies with 1NF:\n",
      "\n",
      "A design that is unambiguously in first normal form makes use of two tables: a Customer Name table and a Customer Telephone Number table.\n",
      "\n",
      "### Customer Name \n",
      "\n",
      "| Customer ID | First Name | Surname   |\n",
      "| -----------:| ---------- | --------- |\n",
      "|         123 | Robert     | Ingram    |\n",
      "|         456 | Jane       | Wright    |\n",
      "|         789 | Maria      | Fernandez |\n",
      "\n",
      "\n",
      "### Customer Telephone Number \n",
      "\n",
      "| Customer ID | Telephone Number |\n",
      "| ---:| --- |\n",
      "| 123 | 555-861-2025 |\n",
      "| 456 | 555-403-1659 |\n",
      "| 456 | 555-776-4100 |\n",
      "| 789 | 555-808-9633 |\n",
      "\n",
      "Repeating groups of telephone numbers do not occur in this design. Instead, each Customer-to-Telephone Number link appears on its own record. With Customer ID as key, a one-to-many relationship exists between the two tables. A record in the \"parent\" table, Customer Name, can have many telephone number records in the \"child\" table, Customer Telephone Number, but each telephone number belongs to one, and only one customer."
     ]
    },
    {
     "cell_type": "markdown",
     "metadata": {},
     "source": [
      "Second normal form (2NF)\n",
      "---\n",
      "A table is in 2NF *if and only if* it is in 1NF and every *non-prime attribute* of the table is dependent on *the whole of a candidate key*."
     ]
    },
    {
     "cell_type": "markdown",
     "metadata": {},
     "source": [
      "##### Consider a table describing employees' skills:\n",
      "\n",
      "### Employees' Skills \n",
      "\n",
      "| Employee \t|Skill \t|Current Work Location|\n",
      "| - | - | - |\n",
      "| Brown \t|Light Cleaning \t|73 Industrial Way|\n",
      "| Brown \t|Typing \t|73 Industrial Way|\n",
      "| Harrison \t|Light Cleaning \t|73 Industrial Way|\n",
      "| Jones \t|Shorthand \t|114 Main Street|\n",
      "| Jones \t|Typing \t|114 Main Street|\n",
      "| Jones \t|Whittling \t|114 Main Street|\n",
      "\n",
      "Neither {Employee} nor {Skill} is a candidate key for the table. This is because a given Employee might need to appear more than once (he might have multiple Skills), and a given Skill might need to appear more than once (it might be possessed by multiple Employees). Only the composite key {Employee, Skill} qualifies as a candidate key for the table.\n",
      "\n",
      "*Taken from [http://en.wikipedia.org/wiki/Second_normal_form](http://en.wikipedia.org/wiki/Second_normal_form)*"
     ]
    },
    {
     "cell_type": "markdown",
     "metadata": {},
     "source": [
      "The remaining attribute, Current Work Location, is dependent on only part of the candidate key, namely Employee. Therefore the table is not in 2NF. Note the redundancy in the way Current Work Locations are represented: we are told three times that Jones works at 114 Main Street, and twice that Brown works at 73 Industrial Way. This redundancy makes the table vulnerable to update anomalies: it is, for example, possible to update Jones' work location on his \"**Shorthand**\" and \"**Typing**\" records and not update his \"**Whittling**\" record. The resulting data would imply contradictory answers to the question \"What is Jones' current work location?\"\n",
      "\n",
      "### Employees' Skills \n",
      "\n",
      "| Employee \t|Skill \t|Current Work Location|\n",
      "| - | - | - |\n",
      "| Brown \t|Light Cleaning \t|73 Industrial Way|\n",
      "| Brown \t|Typing \t|73 Industrial Way|\n",
      "| Harrison \t|Light Cleaning \t|73 Industrial Way|\n",
      "| Jones \t|Shorthand \t|*414 Brannon Street* |\n",
      "| Jones \t|Typing \t|*414 Brannon Street* |\n",
      "| Jones \t|Whittling \t|114 Main Street|"
     ]
    },
    {
     "cell_type": "markdown",
     "metadata": {},
     "source": [
      "A 2NF alternative to this design would represent the same information in two tables: an \"Employees\" table with candidate key {Employee}, and an \"Employees' Skills\" table with candidate key {Employee, Skill}:\n",
      "\n",
      "\n",
      "### Employees \n",
      "\n",
      "| Employee \t|Current Work Location\n",
      "| --- | ---\n",
      "| Brown \t|73 Industrial Way\n",
      "| Harrison \t|73 Industrial Way\n",
      "| Jones \t|114 Main Street\n",
      "\n",
      "\n",
      "### Employees' Skills\n",
      "\n",
      "|Employee \t|Skill\n",
      "| --- | ---\n",
      "|Brown \t|Light Cleaning\n",
      "|Brown \t|Typing\n",
      "|Harrison \t|Light Cleaning\n",
      "|Jones \t|Shorthand\n",
      "|Jones \t|Typing\n",
      "|Jones \t|Whittling"
     ]
    },
    {
     "cell_type": "markdown",
     "metadata": {},
     "source": [
      "Neither of these tables can suffer from update anomalies."
     ]
    },
    {
     "cell_type": "markdown",
     "metadata": {},
     "source": [
      "Not all 2NF tables are free from update anomalies, however. This brings us to..."
     ]
    },
    {
     "cell_type": "markdown",
     "metadata": {},
     "source": [
      "Third normal form (3NF)\n",
      "---\n",
      "3NF was originally defined by E.F. Codd in 1971\n",
      "\n",
      "A table is in 3NF *if and only if* it is in 2NF and every *non-prime attribute* of the table is *non-transitively* (i.e. directly) dependent on *every superkey* of that table."
     ]
    },
    {
     "cell_type": "markdown",
     "metadata": {},
     "source": [
      "Or...  \n",
      "*\"[Every] non-key [attribute] must provide a fact about the key, the whole key, and nothing but the key (so help me Codd).\"*"
     ]
    },
    {
     "cell_type": "markdown",
     "metadata": {},
     "source": [
      "* Requiring existence of \"the key\" ensures that the table is in 1NF\n",
      "* Requiring that non-key attributes be dependent on \"the whole key\" ensures 2NF\n",
      "* Requiring that non-key attributes be dependent on \"nothing but the key\" ensures 3NF"
     ]
    },
    {
     "cell_type": "markdown",
     "metadata": {},
     "source": [
      "##### An example of a 2NF table that fails to meet the requirements of 3NF is:\n",
      "\n",
      "### Tournament Winners \n",
      "\n",
      "|Tournament \t|Year \t|Winner \t|Winner Date of Birth\n",
      "| --- | --- | --- | ---\n",
      "|Indiana Invitational \t|1998 \t|Al Fredrickson \t|21 July 1975\n",
      "|Cleveland Open \t|1999 \t|Bob Albertson \t|28 September 1968\n",
      "|Des Moines Masters \t|1999 \t|Al Fredrickson \t|21 July 1975\n",
      "|Indiana Invitational \t|1999 \t|Chip Masterson \t|14 March 1977\n",
      "\n",
      "Because each row in the table needs to tell us who won a particular Tournament in a particular Year, the composite key {Tournament, Year} is a minimal set of attributes guaranteed to uniquely identify a row. That is, {Tournament, Year} is a candidate key for the table.\n",
      "\n",
      "The breach of 3NF occurs because the non-prime attribute **Winner Date of Birth** is transitively dependent on the candidate key {Tournament, Year} via the non-prime attribute Winner. The fact that Winner Date of Birth is functionally dependent on Winner makes the table vulnerable to logical inconsistencies, as there is nothing to stop the same person from being shown with different dates of birth on different records.\n",
      "\n",
      "*Taken from [http://en.wikipedia.org/wiki/Third_normal_form](http://en.wikipedia.org/wiki/Third_normal_form)*"
     ]
    },
    {
     "cell_type": "markdown",
     "metadata": {},
     "source": [
      "In order to express the same facts without violating 3NF, it is necessary to split the table into two:\n",
      "\n",
      "###Tournament Winners \n",
      "\n",
      "|Tournament \t|Year \t|Winner\n",
      "| --- | --- | ---\n",
      "|Indiana Invitational \t|1998 \t|Al Fredrickson\n",
      "|Cleveland Open \t|1999 \t|Bob Albertson\n",
      "|Des Moines Masters \t|1999 \t|Al Fredrickson\n",
      "|Indiana Invitational \t|1999 \t|Chip Masterson\n",
      "\n",
      "### Player Dates of Birth \n",
      "\n",
      "|Player \t|Date of Birth\n",
      "| --- | ---\n",
      "|Chip Masterson \t|14 March 1977\n",
      "|Al Fredrickson \t|21 July 1975\n",
      "|Bob Albertson \t|28 September 1968\n",
      "\n",
      "\n",
      "Update anomalies cannot occur in these tables, which are both in 3NF."
     ]
    },
    {
     "cell_type": "markdown",
     "metadata": {},
     "source": [
      "> I believe firmly that anything less than a fully normalized design is strongly contraindicated ... [Y]ou should \"denormalize\" only as a last resort. That is, you should back off from a fully normalized design only if all other strategies for improving performance have somehow failed to meet requirements.\n",
      "\n",
      "Date, C.J. Database in Depth: Relational Theory for Practitioners. O'Reilly (2005), p. 152"
     ]
    },
    {
     "cell_type": "markdown",
     "metadata": {},
     "source": [
      "# Natural vs. Artificial Keys"
     ]
    },
    {
     "cell_type": "markdown",
     "metadata": {},
     "source": [
      "Consider these two representations of our `players` table:\n",
      "\n",
      "|Player (PK) \t|Date of Birth\n",
      "| --- |:---:\n",
      "|Chip Masterson \t|14 March 1977\n",
      "|Al Fredrickson \t|21 July 1975\n",
      "|Bob Albertson \t|28 September 1968\n",
      "\n",
      "| id (PK) |Player \t|Date of Birth\n",
      "|:----:| --- |:---:\n",
      "| 1|Chip Masterson \t|14 March 1977\n",
      "| 2|Al Fredrickson \t|21 July 1975\n",
      "| 3|Bob Albertson \t|28 September 1968\n",
      "\n",
      "Which is better? Why?"
     ]
    },
    {
     "cell_type": "markdown",
     "metadata": {},
     "source": [
      "### Player Dates of Birth \n",
      "\n",
      "| id (PK) |Player \t|Date of Birth\n",
      "|:----:| --- |:---:\n",
      "| 1|Chip Masterson \t|14 March 1977\n",
      "| 2|Al Fredrickson \t|21 July 1975\n",
      "| 3|Bob Albertson \t|28 September 1968\n",
      "\n",
      "###Tournament Winners \n",
      "\n",
      "| id (PK) |Tournament       |Year \t|Winner_id (FK)\n",
      "|:-------:| --------------- | ----- |:---:\n",
      "| 1|Indiana Invitational \t|1998 \t| 2\n",
      "| 2|Cleveland Open      \t|1999 \t| 3\n",
      "| 3|Des Moines Masters   \t|1999 \t| 2\n",
      "| 4|Indiana Invitational \t|1999 \t| 1"
     ]
    },
    {
     "cell_type": "markdown",
     "metadata": {},
     "source": [
      "Star Schema\n",
      "===========\n",
      "<img src=\"assets/Star-schema-example.png\" />"
     ]
    },
    {
     "cell_type": "heading",
     "level": 1,
     "metadata": {},
     "source": [
      "Homework"
     ]
    },
    {
     "cell_type": "markdown",
     "metadata": {},
     "source": [
      "Watch https://www.youtube.com/playlist?list=PL5-da3qGB5IBLMp7LtN8Nc3Efd4hJq0kD before Tuesday"
     ]
    }
   ],
   "metadata": {}
  }
 ]
}