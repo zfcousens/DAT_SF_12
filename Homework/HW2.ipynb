{
 "metadata": {
  "name": "",
  "signature": "sha256:779cd2dec2d93dcaffd0c6660b96bcd8a47e4569897f2379be55e2e6645dc56a"
 },
 "nbformat": 3,
 "nbformat_minor": 0,
 "worksheets": [
  {
   "cells": [
    {
     "cell_type": "markdown",
     "metadata": {},
     "source": [
      "## Homework 2 (Due - Feb'17th) - practice Supervised (KNN) and Un-Supervised (Clustering):\n",
      "\n",
      "Follow the steps below to:\n",
      "    - Read `wine.csv` in the data folder.\n",
      "    - We are going to use this dataset to practice Supervised (KNN) and Un-Supervised (Clustering)\n",
      "    \n",
      "### Supervised (KNN)\n",
      "\n",
      "    - Split the data into Train and Test (30%) using random_state of 42 (so that we all get same results)\n",
      "    - Using KNN, can you predict the Wine class in test\n",
      "    - How Accurate is your prediction\n",
      "    \n",
      "### Un-Supervised (Clustering)\n",
      "    - The First Column contains the Wine Category.  Don't use it in the models below.  We are going to treat it as unsupervized learning and compare the results to the Wine column.\n",
      "    - Try `KMeans` where `n_clusters = 3` and compare the clusters to the `Wine` column.\n",
      "    - Try `Hierarchical Clustering` and plot dendogram\n",
      "    - Compare the results of `KMeans` with that of Wine Column.  Is Clustering identifying the Wine groups correctly? \n",
      "\n",
      "Note that the Wine group codes will not match between Clustering and Wine Category.  What we are looking for is does all the wines in the cluster fall into the same Wine Category)."
     ]
    },
    {
     "cell_type": "code",
     "collapsed": false,
     "input": [],
     "language": "python",
     "metadata": {},
     "outputs": []
    }
   ],
   "metadata": {}
  }
 ]
}