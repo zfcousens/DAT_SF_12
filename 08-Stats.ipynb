{
 "metadata": {
  "name": "",
  "signature": "sha256:ca5682d147240467f5597670e781d50f71ea44dc8b5e129634112da50da94305"
 },
 "nbformat": 3,
 "nbformat_minor": 0,
 "worksheets": [
  {
   "cells": [
    {
     "cell_type": "markdown",
     "metadata": {
      "slideshow": {
       "slide_type": "slide"
      }
     },
     "source": [
      "Data Science\n",
      "================================\n",
      "Probability and Statistics\n",
      "--------------------------------\n",
      "Alessandro D. Gagliardi"
     ]
    },
    {
     "cell_type": "markdown",
     "metadata": {},
     "source": [
      "Fill in the Blank\n",
      "----\n",
      "\n",
      "|         | ??? | ??? |\n",
      "|:-------:|:-------:|:-------:|\n",
      "| **???** | regression | classification |\n",
      "| **???** | dimension reduction | clustering|"
     ]
    },
    {
     "cell_type": "markdown",
     "metadata": {},
     "source": [
      "Projects\n",
      "--------\n",
      "- What class of machine learning method(s) will you use?\n",
      "- Big data vs. small data"
     ]
    },
    {
     "cell_type": "markdown",
     "metadata": {
      "slideshow": {
       "slide_type": "slide"
      }
     },
     "source": [
      "---\n",
      "\n",
      "> There are three kinds of lies: lies, damned lies, and statistics.\n",
      "\n",
      "\u2013 Benjamin Disraeli (?)"
     ]
    },
    {
     "cell_type": "markdown",
     "metadata": {
      "slideshow": {
       "slide_type": "slide"
      }
     },
     "source": [
      "Agenda\n",
      "------\n",
      "\n",
      "* [What is a regression model?](#What-is-a-regression-model?)\n",
      "* [History of Probability](#History-of-Probability)\n",
      "* [Descriptive statistics -- numerical](#Numerical-descriptive-statistics)\n",
      "* [Descriptive statistics -- graphical](#Graphical-statistical-summaries)\n",
      "* [p-values and Hypothesis Testing](#p-values-and-Hypothesis-Testing)\n",
      "* [Inference about a population mean](#Inference-about-a-population-mean)\n",
      "* [Difference between two population means](#Blood-pressure-example)"
     ]
    },
    {
     "cell_type": "code",
     "collapsed": false,
     "input": [
      "%matplotlib inline\n",
      "\n",
      "from __future__ import division\n",
      "\n",
      "import warnings\n",
      "\n",
      "import matplotlib\n",
      "\n",
      "import numpy as np\n",
      "import pandas as pd\n",
<<<<<<< HEAD
      "#import pandas.rpy.common as com\n",
=======
>>>>>>> 614f5817a6aae7dc1f97ddb3bcabd660284af944
      "import seaborn as sns\n",
      "import statsmodels.api as sm\n",
      "\n",
      "from matplotlib.pylab import poly_between\n",
      "from scipy import stats\n",
      "from scipy.stats import binom\n",
      "from scipy.stats import t as tdist\n",
      "from seaborn import plt\n",
      "from sympy import Eq, S, init_printing\n",
      "from sympy.stats import Binomial, Die, P, density, sample, sample_iter\n",
      "\n",
      "warnings.filterwarnings('ignore')\n",
      "\n",
      "init_printing()"
     ],
     "language": "python",
     "metadata": {
      "slideshow": {
       "slide_type": "skip"
      }
     },
     "outputs": [],
     "prompt_number": 2
    },
    {
     "cell_type": "markdown",
     "metadata": {},
     "source": [
      "<img src=\"assets/machine_learning6.png\" width=\"800\" \\>\n",
      "\n",
      "Common linear regression model data problems\n",
      "----\n",
      "\n",
      "I know the prices for all of these other apartments in my area. What could I get for mine?\n",
      "\n",
      "What's the relationship between total number of friends, posting activity, and the number of likes a new post would get on Facebook?\n",
      "\n",
      "**Careful!** Time series data (believe it or not) does not always handle well with simple regression"
     ]
    },
    {
     "cell_type": "heading",
     "level": 1,
     "metadata": {},
     "source": [
      "What is a regression model?"
     ]
    },
    {
     "cell_type": "markdown",
     "metadata": {
      "slideshow": {
       "slide_type": "fragment"
      }
     },
     "source": [
      "A **functional relationship** between **input** & **response variables**"
     ]
    },
    {
     "cell_type": "markdown",
     "metadata": {
      "slideshow": {
       "slide_type": "fragment"
      }
     },
     "source": [
      "A **simple linear regression** model captures a linear relationship between an input x and response variable y"
     ]
    },
    {
     "cell_type": "markdown",
     "metadata": {
      "slideshow": {
       "slide_type": "fragment"
      }
     },
     "source": [
      "$$ y = \\alpha + \\beta x + \\epsilon $$"
     ]
    },
    {
     "cell_type": "markdown",
     "metadata": {
      "slideshow": {
       "slide_type": "fragment"
      }
     },
     "source": [
      "> The purpose of models is not to fit the data but to sharpen the questions. \n",
      "\n",
      "Samuel Karlin (1924-2007), mathematician"
     ]
    },
    {
     "cell_type": "markdown",
     "metadata": {
      "slideshow": {
       "slide_type": "subslide"
      }
     },
     "source": [
      "What do the terms in this model mean?\n",
      "-------------------------------------\n",
      "$y = \\alpha + \\beta x + \\epsilon$"
     ]
    },
    {
     "cell_type": "markdown",
     "metadata": {
      "slideshow": {
       "slide_type": "fragment"
      }
     },
     "source": [
      "$y =$ **response variable** (the one we want to predict)"
     ]
    },
    {
     "cell_type": "markdown",
     "metadata": {
      "slideshow": {
       "slide_type": "fragment"
      }
     },
     "source": [
      "$x =$ **input variable** (the one we use to train the model)"
     ]
    },
    {
     "cell_type": "markdown",
     "metadata": {
      "slideshow": {
       "slide_type": "fragment"
      }
     },
     "source": [
      "$\\alpha =$ **intercept** (where the line crosses the y-axis)"
     ]
    },
    {
     "cell_type": "markdown",
     "metadata": {
      "slideshow": {
       "slide_type": "fragment"
      }
     },
     "source": [
      "$\\beta =$ **regression coefficient** (the model \u201cparameter\u201d)"
     ]
    },
    {
     "cell_type": "markdown",
     "metadata": {
      "slideshow": {
       "slide_type": "fragment"
      }
     },
     "source": [
      "$\\epsilon =$ **residual** (the prediction error)"
     ]
    },
    {
     "cell_type": "markdown",
     "metadata": {
      "slideshow": {
       "slide_type": "notes"
      }
     },
     "source": [
      "$y$ Dependent var, target var, output var  \n",
      "$x$ Indep var, explanatory var, covariate  \n",
      "$\\epsilon$ Error term, disturbance  \n",
      "White noise (usually assumed to follow Gaussian distribution)"
     ]
    },
    {
     "cell_type": "markdown",
     "metadata": {
      "slideshow": {
       "slide_type": "skip"
      }
     },
     "source": [
      "## What is a regression model? \n",
      "\n",
      "\n",
      "A regression model is a model of the relationships between some \n",
      "*covariates (predictors)* and an *outcome*.\n",
      "\n",
      "\n",
      "Specifically, regression is a model of the *average* outcome *given or having fixed* the covariates. \n",
      "    \n",
      "  "
     ]
    },
    {
     "cell_type": "markdown",
     "metadata": {
      "slideshow": {
       "slide_type": "slide"
      }
     },
     "source": [
      "# Heights of mothers and daughters\n",
      "\n",
      "\n",
      "      \n",
      "* We will consider the [heights](http://www.stat.cmu.edu/~roeder/stat707/=data/=data/data/Rlibraries/alr3/html/heights.html) of mothers and daughters collected \n",
      "by Karl Pearson in the late 19th century.\n",
      "\n",
      "* One of our goals is to understand height of the daughter, `D`, knowing the height of the\n",
      "mother, `M`.\n",
      "\n",
      "\n",
      "* A mathematical  model might look like\n",
      "  $$\n",
      "  D = f(M) + \\varepsilon$$\n",
      "  where $f$ gives the average height of the daughter\n",
      "  of a mother of height `M` and\n",
      "  $\\varepsilon$ is *error*: not *every* daughter has the same height.\n",
      "\n",
      "* A statistical question: is there *any*\n",
      "relationship between covariates and outcomes -- is $f$ just a constant?\n",
      "\n"
     ]
    },
    {
     "cell_type": "markdown",
     "metadata": {
      "slideshow": {
       "slide_type": "skip"
      }
     },
     "source": [
      "Let's create a plot of the heights of the mother/daughter pairs."
     ]
    },
    {
     "cell_type": "code",
     "collapsed": false,
     "input": [
      "heights = pd.read_csv('data/heights.csv', index_col=0)\n",
      "heights.describe().T"
     ],
     "language": "python",
     "metadata": {},
     "outputs": [
      {
       "html": [
        "<div style=\"max-height:1000px;max-width:1500px;overflow:auto;\">\n",
        "<table border=\"1\" class=\"dataframe\">\n",
        "  <thead>\n",
        "    <tr style=\"text-align: right;\">\n",
        "      <th></th>\n",
        "      <th>count</th>\n",
        "      <th>mean</th>\n",
        "      <th>std</th>\n",
        "      <th>min</th>\n",
        "      <th>25%</th>\n",
        "      <th>50%</th>\n",
        "      <th>75%</th>\n",
        "      <th>max</th>\n",
        "    </tr>\n",
        "  </thead>\n",
        "  <tbody>\n",
        "    <tr>\n",
        "      <th>Mheight</th>\n",
        "      <td> 1375</td>\n",
        "      <td> 62.452800</td>\n",
        "      <td> 2.355103</td>\n",
        "      <td> 55.4</td>\n",
        "      <td> 60.8</td>\n",
        "      <td> 62.4</td>\n",
        "      <td> 63.9</td>\n",
        "      <td> 70.8</td>\n",
        "    </tr>\n",
        "    <tr>\n",
        "      <th>Dheight</th>\n",
        "      <td> 1375</td>\n",
        "      <td> 63.751055</td>\n",
        "      <td> 2.600053</td>\n",
        "      <td> 55.1</td>\n",
        "      <td> 62.0</td>\n",
        "      <td> 63.6</td>\n",
        "      <td> 65.6</td>\n",
        "      <td> 73.1</td>\n",
        "    </tr>\n",
        "  </tbody>\n",
        "</table>\n",
        "</div>"
       ],
       "metadata": {},
       "output_type": "pyout",
       "prompt_number": 3,
       "text": [
        "         count       mean       std   min   25%   50%   75%   max\n",
        "Mheight   1375  62.452800  2.355103  55.4  60.8  62.4  63.9  70.8\n",
        "Dheight   1375  63.751055  2.600053  55.1  62.0  63.6  65.6  73.1"
       ]
      }
     ],
     "prompt_number": 3
    },
    {
     "cell_type": "code",
     "collapsed": false,
     "input": [
      "heights_fig = plt.figure(figsize=(10,6))\n",
      "axes = heights_fig.gca()\n",
      "axes.scatter(heights.Mheight, heights.Dheight, c='red')\n",
      "axes.set_xlabel(\"Mother's height (inches)\", size=20)\n",
      "axes.set_ylabel(\"Daughter's height (inches)\", size=20)"
     ],
     "language": "python",
     "metadata": {
      "slideshow": {
       "slide_type": "subslide"
      }
     },
     "outputs": [
      {
       "metadata": {},
       "output_type": "pyout",
       "prompt_number": 4,
       "text": [
<<<<<<< HEAD
        "<matplotlib.text.Text at 0x1aa91c88>"
=======
        "<matplotlib.text.Text at 0x10b790350>"
>>>>>>> 614f5817a6aae7dc1f97ddb3bcabd660284af944
       ]
      },
      {
       "metadata": {},
       "output_type": "display_data",
       "png": "iVBORw0KGgoAAAANSUhEUgAAAmoAAAGJCAYAAAA66h/OAAAABHNCSVQICAgIfAhkiAAAAAlwSFlz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\n",
       "text": [
<<<<<<< HEAD
        "<matplotlib.figure.Figure at 0x1a38b978>"
=======
        "<matplotlib.figure.Figure at 0x10b720650>"
>>>>>>> 614f5817a6aae7dc1f97ddb3bcabd660284af944
       ]
      }
     ],
     "prompt_number": 4
    },
    {
     "cell_type": "markdown",
     "metadata": {
      "slideshow": {
       "slide_type": "slide"
      }
     },
     "source": [
      "In the first part of this session we'll talk about fitting a line to this data. Let's do that and remake the plot, including\n",
      "this \"best fitting line\"."
     ]
    },
    {
     "cell_type": "code",
     "collapsed": false,
     "input": [
      "res = sm.OLS.from_formula(\"Dheight ~ Mheight\", heights).fit()"
     ],
     "language": "python",
     "metadata": {},
     "outputs": [],
     "prompt_number": 5
    },
    {
     "cell_type": "code",
     "collapsed": false,
     "input": [
      "axes.plot([heights.Mheight.min(), heights.Mheight.max()], \n",
      "          [res.params.Intercept + res.params.Mheight * heights.Mheight.min(), \n",
      "           res.params.Intercept + res.params.Mheight * heights.Mheight.max()],\n",
      "          linewidth=3)\n",
      "heights_fig"
     ],
     "language": "python",
     "metadata": {
      "slideshow": {
       "slide_type": "fragment"
      }
     },
     "outputs": [
      {
       "metadata": {},
       "output_type": "pyout",
       "png": "iVBORw0KGgoAAAANSUhEUgAAAmoAAAGJCAYAAAA66h/OAAAABHNCSVQICAgIfAhkiAAAAAlwSFlz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\n",
       "prompt_number": 8,
       "text": [
<<<<<<< HEAD
        "<matplotlib.figure.Figure at 0x1a38b978>"
=======
        "<matplotlib.figure.Figure at 0x10b720650>"
>>>>>>> 614f5817a6aae7dc1f97ddb3bcabd660284af944
       ]
      }
     ],
     "prompt_number": 8
    },
    {
     "cell_type": "markdown",
     "metadata": {
      "slideshow": {
       "slide_type": "slide"
      }
     },
     "source": [
      "Linear regression model\n",
      "========================================================\n",
      "\n",
      "* How do find this line? With a model.\n",
      "\n",
      "* We might model the data as\n",
      "$$\n",
      "D = \\beta_0+ \\beta_1 M + \\varepsilon.\n",
      "$$\n",
      "\n",
      "* This model is *linear* in $\\beta_1$, the coefficient of  `M` (the mother's height), it is a \n",
      "*simple linear regression model*."
     ]
    },
    {
     "cell_type": "code",
     "collapsed": false,
     "input": [
      "res.params"
     ],
     "language": "python",
     "metadata": {},
     "outputs": [
      {
       "metadata": {},
       "output_type": "pyout",
       "prompt_number": 9,
       "text": [
        "Intercept    29.917437\n",
        "Mheight       0.541747\n",
        "dtype: float64"
       ]
      }
     ],
     "prompt_number": 9
    },
    {
     "cell_type": "markdown",
     "metadata": {},
     "source": [
      "<!--(too confusing)\n",
      "The following depicts the geometric picture involved in least squares regression.\n",
      "\n",
      "![Axes](assets/axes_simple.svg)\n",
      "\n",
      "It requires some imagination but the picture should be thought as representing vectors in $n$-dimensional space, l where $n$ is the number of points in the scatterplot. In our height data, $n=1375$. The bottom two axes should be thought of as 2-dimensional, while the axis marked \"$\\perp$\" should be thought of as $(n-2)$ dimensional, or, 1373 in this case.\n",
      "-->"
     ]
    },
    {
     "cell_type": "markdown",
     "metadata": {},
     "source": [
      "Polynomial Regression\n",
      "-------------------------------------\n",
      "Consider the following:"
     ]
    },
    {
     "cell_type": "markdown",
     "metadata": {},
     "source": [
      "<img src=\"assets/supervised_learning.png\" width=\"800\" />"
     ]
    },
    {
     "cell_type": "markdown",
     "metadata": {
      "slideshow": {
       "slide_type": "subslide"
      }
     },
     "source": [
      "Consider the following model:\n",
      "$$ D = \\beta_0 + \\beta_1 M + \\beta_2 M^2 + \\beta_3 F + \\varepsilon $$\n",
      "where $F$ is the height of the daughter's father."
     ]
    },
    {
     "cell_type": "markdown",
     "metadata": {
      "slideshow": {
       "slide_type": "fragment"
      }
     },
     "source": [
      "Q: This represents a nonlinear relationship. Is it still a linear model?"
     ]
    },
    {
     "cell_type": "markdown",
     "metadata": {
      "slideshow": {
       "slide_type": "fragment"
      }
     },
     "source": [
      "A: Yes, because it\u2019s linear in the $\\beta$\u2019s!"
     ]
    },
    {
     "cell_type": "markdown",
     "metadata": {
      "slideshow": {
       "slide_type": "subslide"
      }
     },
     "source": [
      "Polynomial Regression\n",
      "-------------------------------------\n",
      "> Although *polynomial regression* fits a nonlinear model to the data, as statistical estimation problem it is linear, in the sense that the regression function $E(y|x)$ is linear in the unknown parameters that are estimated from the data. For this reason, polynomial regression is considered to be a special case of multiple linear regression.\n",
      "\n",
      "(from [Wikipedia](http://en.wikipedia.org/wiki/Polynomial_regression))"
     ]
    },
    {
     "cell_type": "markdown",
     "metadata": {
      "slideshow": {
       "slide_type": "fragment"
      }
     },
     "source": [
      "#### Which model is better? We will need a tool to compare models... more to come later."
     ]
    },
    {
     "cell_type": "markdown",
     "metadata": {
      "slideshow": {
       "slide_type": "slide"
      }
     },
     "source": [
      "# A more complex model\n",
      "\n",
      "* Our example here was rather simple: we only had one independent variable.\n",
      "\n",
      "* Independent variables are sometimes called *features*, *covariates*, or *explanatory* variables.\n",
      "\n",
      "* In practice, we often have many more than one explanatory variable."
     ]
    },
    {
     "cell_type": "markdown",
     "metadata": {
      "slideshow": {
       "slide_type": "slide"
      }
     },
     "source": [
      "# Right-to-work\n",
      "\n",
      "This example considers the effect of [right-to-work legislation](http://en.wikipedia.org/wiki/Right-to-work_law) (which varies by state) on various\n",
      "factors. A [description](http://www.ilr.cornell.edu/~hadi/RABE4/Data4/P005.txt) of the data can be found here.\n",
      "\n",
      "The variables are:\n",
      "\n",
      "* Income: income for a four-person family\n",
      "\n",
      "* COL: cost of living for a four-person family\n",
      "\n",
      "* PD: Population density\n",
      "\n",
      "* URate: rate of unionization in 1978\n",
      "\n",
      "* Pop: Population\n",
      "\n",
      "* Taxes: Property taxes in 1972\n",
      "\n",
      "* RTWL: right-to-work indicator\n",
      "   "
     ]
    },
    {
     "cell_type": "markdown",
     "metadata": {
      "slideshow": {
       "slide_type": "slide"
      }
     },
     "source": [
      "In a study like this, there are many possible questions of interest. Our focus will be on the\n",
      "relationship between `RTWL` and `Income`. However, we should recognize that other variables\n",
      "have an effect on `Income`. Let's look at some of these relationships."
     ]
    },
    {
     "cell_type": "code",
     "collapsed": false,
     "input": [
      "# url = \"http://www.ilr.cornell.edu/~hadi/RABE4/Data4/P005.txt\"\n",
      "rtw = pd.read_table(\"data/P005.txt\")\n",
      "rtw.head()"
     ],
     "language": "python",
     "metadata": {
      "slideshow": {
       "slide_type": "fragment"
      }
     },
     "outputs": [
      {
       "html": [
        "<div style=\"max-height:1000px;max-width:1500px;overflow:auto;\">\n",
        "<table border=\"1\" class=\"dataframe\">\n",
        "  <thead>\n",
        "    <tr style=\"text-align: right;\">\n",
        "      <th></th>\n",
        "      <th>City</th>\n",
        "      <th>COL</th>\n",
        "      <th>PD</th>\n",
        "      <th>URate</th>\n",
        "      <th>Pop</th>\n",
        "      <th>Taxes</th>\n",
        "      <th>Income</th>\n",
        "      <th>RTWL</th>\n",
        "    </tr>\n",
        "  </thead>\n",
        "  <tbody>\n",
        "    <tr>\n",
        "      <th>0</th>\n",
        "      <td>     Atlanta</td>\n",
        "      <td> 169</td>\n",
        "      <td> 414</td>\n",
        "      <td> 13.6</td>\n",
        "      <td> 1790128</td>\n",
        "      <td> 5128</td>\n",
        "      <td> 2961</td>\n",
        "      <td> 1</td>\n",
        "    </tr>\n",
        "    <tr>\n",
        "      <th>1</th>\n",
        "      <td>      Austin</td>\n",
        "      <td> 143</td>\n",
        "      <td> 239</td>\n",
        "      <td> 11.0</td>\n",
        "      <td>  396891</td>\n",
        "      <td> 4303</td>\n",
        "      <td> 1711</td>\n",
        "      <td> 1</td>\n",
        "    </tr>\n",
        "    <tr>\n",
        "      <th>2</th>\n",
        "      <td> Bakersfield</td>\n",
        "      <td> 339</td>\n",
        "      <td>  43</td>\n",
        "      <td> 23.7</td>\n",
        "      <td>  349874</td>\n",
        "      <td> 4166</td>\n",
        "      <td> 2122</td>\n",
        "      <td> 0</td>\n",
        "    </tr>\n",
        "    <tr>\n",
        "      <th>3</th>\n",
        "      <td>   Baltimore</td>\n",
        "      <td> 173</td>\n",
        "      <td> 951</td>\n",
        "      <td> 21.0</td>\n",
        "      <td> 2147850</td>\n",
        "      <td> 5001</td>\n",
        "      <td> 4654</td>\n",
        "      <td> 0</td>\n",
        "    </tr>\n",
        "    <tr>\n",
        "      <th>4</th>\n",
        "      <td> Baton Rouge</td>\n",
        "      <td>  99</td>\n",
        "      <td> 255</td>\n",
        "      <td> 16.0</td>\n",
        "      <td>  411725</td>\n",
        "      <td> 3965</td>\n",
        "      <td> 1620</td>\n",
        "      <td> 1</td>\n",
        "    </tr>\n",
        "  </tbody>\n",
        "</table>\n",
        "</div>"
       ],
       "metadata": {},
       "output_type": "pyout",
       "prompt_number": 10,
       "text": [
        "          City  COL   PD  URate      Pop  Taxes  Income  RTWL\n",
        "0      Atlanta  169  414   13.6  1790128   5128    2961     1\n",
        "1       Austin  143  239   11.0   396891   4303    1711     1\n",
        "2  Bakersfield  339   43   23.7   349874   4166    2122     0\n",
        "3    Baltimore  173  951   21.0  2147850   5001    4654     0\n",
        "4  Baton Rouge   99  255   16.0   411725   3965    1620     1"
       ]
      }
     ],
     "prompt_number": 10
    },
    {
     "cell_type": "markdown",
     "metadata": {
      "slideshow": {
       "slide_type": "slide"
      }
     },
     "source": [
      "A graphical way to \n",
      "visualize the relationship between `Income` and `RTWL`  is the *boxplot*."
     ]
    },
    {
     "cell_type": "code",
     "collapsed": false,
     "input": [
      "rtw.boxplot(column=\"Income\", by=\"RTWL\", figsize=(12,6))"
     ],
     "language": "python",
     "metadata": {
      "slideshow": {
       "slide_type": "fragment"
      }
     },
     "outputs": [
      {
       "metadata": {},
       "output_type": "pyout",
       "prompt_number": 11,
       "text": [
<<<<<<< HEAD
        "<matplotlib.axes._subplots.AxesSubplot at 0x1ab26978>"
=======
        "<matplotlib.axes._subplots.AxesSubplot at 0x10b958110>"
>>>>>>> 614f5817a6aae7dc1f97ddb3bcabd660284af944
       ]
      },
      {
       "metadata": {},
       "output_type": "display_data",
       "png": "iVBORw0KGgoAAAANSUhEUgAAAt4AAAGTCAYAAAAfuhVwAAAABHNCSVQICAgIfAhkiAAAAAlwSFlz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\n",
       "text": [
<<<<<<< HEAD
        "<matplotlib.figure.Figure at 0x1aab8048>"
=======
        "<matplotlib.figure.Figure at 0x10b934c10>"
>>>>>>> 614f5817a6aae7dc1f97ddb3bcabd660284af944
       ]
      }
     ],
     "prompt_number": 11
    },
    {
     "cell_type": "markdown",
     "metadata": {
      "slideshow": {
       "slide_type": "slide"
      }
     },
     "source": [
      "One variable that may have an important effect on the relationship between\n",
      " is the cost of living `COL`. It also varies between right-to-work states."
     ]
    },
    {
     "cell_type": "code",
     "collapsed": false,
     "input": [
      "rtw.boxplot(column=\"COL\", by=\"RTWL\", figsize=(12,6))"
     ],
     "language": "python",
     "metadata": {
      "slideshow": {
       "slide_type": "fragment"
      }
     },
     "outputs": [
      {
       "metadata": {},
       "output_type": "pyout",
       "prompt_number": 9,
       "text": [
        "<matplotlib.axes._subplots.AxesSubplot at 0x10bc02b10>"
       ]
      },
      {
       "metadata": {},
       "output_type": "display_data",
       "png": "iVBORw0KGgoAAAANSUhEUgAAAtgAAAGTCAYAAAASpGU3AAAABHNCSVQICAgIfAhkiAAAAAlwSFlz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\nErABAKCj/wfd1urb9RT19gAAAABJRU5ErkJggg==\n",
       "text": [
        "<matplotlib.figure.Figure at 0x10bc0ca50>"
       ]
      }
     ],
     "prompt_number": 9
    },
    {
     "cell_type": "markdown",
     "metadata": {
      "slideshow": {
       "slide_type": "slide"
      }
     },
     "source": [
      "We may want to include more than one plot in a given display. We can do so with `subplots`."
     ]
    },
    {
     "cell_type": "code",
     "collapsed": false,
     "input": [
      "f, ((ax1, ax2), (ax3, ax4)) = plt.subplots(2, 2, figsize=(12,6))\n",
      "ax1.scatter(rtw.URate, rtw.COL)\n",
      "ax2.scatter(rtw.URate, rtw.Income)\n",
      "ax3.scatter(rtw.URate, rtw.Pop)\n",
      "ax4.scatter(rtw.COL, rtw.Income)"
     ],
     "language": "python",
     "metadata": {
      "slideshow": {
       "slide_type": "fragment"
      }
     },
     "outputs": [
      {
       "metadata": {},
       "output_type": "pyout",
       "prompt_number": 10,
       "text": [
        "<matplotlib.collections.PathCollection at 0x10c2b7c10>"
       ]
      },
      {
       "metadata": {},
       "output_type": "display_data",
       "png": "iVBORw0KGgoAAAANSUhEUgAAAs0AAAFxCAYAAACIr5USAAAABHNCSVQICAgIfAhkiAAAAAlwSFlz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\n",
       "text": [
        "<matplotlib.figure.Figure at 0x10bdb2d90>"
       ]
      }
     ],
     "prompt_number": 10
    },
    {
     "cell_type": "markdown",
     "metadata": {
      "slideshow": {
       "slide_type": "slide"
      }
     },
     "source": [
      "`seaborn` has a function that will try to display all pairwise relationships in a given dataset, the function `pairplot`:"
     ]
    },
    {
     "cell_type": "code",
     "collapsed": false,
     "input": [
      "sns.pairplot(rtw, size=1.4, aspect=1.4)"
     ],
     "language": "python",
     "metadata": {},
     "outputs": [
      {
       "metadata": {},
       "output_type": "pyout",
       "prompt_number": 11,
       "text": [
        "<seaborn.axisgrid.PairGrid at 0x10be676d0>"
       ]
      },
      {
       "metadata": {},
       "output_type": "display_data",
       "png": "iVBORw0KGgoAAAANSUhEUgAAA+MAAAK7CAYAAACZLl7+AAAABHNCSVQICAgIfAhkiAAAAAlwSFlz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\n41QZ74w7juM4juM4juM4TpX5L69NmYhTwCiiAAAAAElFTkSuQmCC\n",
       "text": [
        "<matplotlib.figure.Figure at 0x10bdcd790>"
       ]
      }
     ],
     "prompt_number": 11
    },
    {
     "cell_type": "markdown",
     "metadata": {
      "slideshow": {
       "slide_type": "skip"
      }
     },
     "source": [
      "In looking at all the pairwise relationships. There is a point that stands out from all the rest.\n",
      "This data point is New York City, the 27th row of the table."
     ]
    },
    {
     "cell_type": "code",
     "collapsed": false,
     "input": [
      "rtw.ix[26]"
     ],
     "language": "python",
     "metadata": {
      "slideshow": {
       "slide_type": "skip"
      }
     },
     "outputs": [
      {
       "metadata": {},
       "output_type": "pyout",
       "prompt_number": 12,
       "text": [
        "City      New York\n",
        "COL            323\n",
        "PD            6908\n",
        "URate         39.2\n",
        "Pop        9561089\n",
        "Taxes         5260\n",
        "Income        4862\n",
        "RTWL             0\n",
        "Name: 26, dtype: object"
       ]
      }
     ],
     "prompt_number": 12
    },
    {
     "cell_type": "markdown",
     "metadata": {
      "slideshow": {
       "slide_type": "skip"
      }
     },
     "source": [
      "# Right-to-work example\n",
      "\n",
      "## Building a model\n",
      "\n",
      "Some of the main goals of this session:\n",
      "\n",
      "* Build a statistical model describing the *effect* of `RTWL` on `Income`.\n",
      "\n",
      "* This model should recognize that other variables also affect `Income`.\n",
      "\n",
      "* What sort of *statistical confidence* do we have in our \n",
      "conclusion about `RTWL` and `Income`?\n",
      "\n",
      "* Is the model adequate do describe this dataset?\n",
      "\n",
      "* Are there other (simpler, more complicated) models?\n",
      "   \n"
     ]
    },
    {
     "cell_type": "markdown",
     "metadata": {},
     "source": [
      "--------\n",
      "# Exercise\n",
      "\n",
      "1. Fit an OLS (Ordinary Least Squares) model to `Income ~ RTWL` to see how right-to-work legislation affects income.\n",
      "2. Using the parameters fit by this model, how much more or less can a worker expect to make if she or he lives in a \"right-to-work\" state?"
     ]
    },
    {
     "cell_type": "code",
     "collapsed": false,
     "input": [
      "res = sm.OLS.from_formula(\"Income ~ RTWL\", rtw).fit()"
     ],
     "language": "python",
     "metadata": {},
     "outputs": [],
<<<<<<< HEAD
     "prompt_number": 14
=======
     "prompt_number": 13
>>>>>>> 614f5817a6aae7dc1f97ddb3bcabd660284af944
    },
    {
     "cell_type": "code",
     "collapsed": false,
     "input": [
      "res.params"
     ],
     "language": "python",
     "metadata": {},
     "outputs": [
      {
       "metadata": {},
       "output_type": "pyout",
<<<<<<< HEAD
       "prompt_number": 15,
=======
       "prompt_number": 14,
>>>>>>> 614f5817a6aae7dc1f97ddb3bcabd660284af944
       "text": [
        "Intercept    5335.821429\n",
        "RTWL        -2382.821429\n",
        "dtype: float64"
       ]
      }
     ],
<<<<<<< HEAD
     "prompt_number": 15
=======
     "prompt_number": 14
>>>>>>> 614f5817a6aae7dc1f97ddb3bcabd660284af944
    },
    {
     "cell_type": "markdown",
     "metadata": {},
     "source": [
      "----------------"
     ]
    },
    {
     "cell_type": "heading",
     "level": 1,
     "metadata": {},
     "source": [
      "History of Probability"
     ]
    },
    {
     "cell_type": "markdown",
     "metadata": {
      "slideshow": {
       "slide_type": "slide"
      }
     },
     "source": [
      "Chevalier de M\u00e9r\u00e9 (~1654)\n",
      "----------------\n",
      "### What's likelier: \n",
      "\n",
      "* rolling at least **one six** in **4 throws** of *a single die*\n",
      "* rolling at least **one double six** in **24 throws** of a *pair of dice*"
     ]
    },
    {
     "cell_type": "raw",
     "metadata": {},
     "source": [
      "\n",
      "\n",
      "\n",
      "\n",
      "\n",
      "\n",
      "\n",
      "\n",
      "\n",
      "\n",
      "\n",
      "\n",
      "\n",
      "\n",
      "\n",
      "\n",
      "\n",
      "\n",
      "\n",
      "\n",
      "\n",
      "\n",
      "\n"
     ]
    },
    {
     "cell_type": "markdown",
     "metadata": {
      "slideshow": {
       "slide_type": "slide"
      }
     },
     "source": [
      "Chevalier de M\u00e9r\u00e9's reasoning:\n",
      "\n",
      "* chance of one six $= \\frac{1}{6}$\n",
      "* acerage number in four rolls $= 4 \\times \\left(\\frac{1}{6}\\right) = \\frac{2}{3}$\n",
      "* chance of double six in one roll $= \\frac{1}{36}$\n",
      "* average number in 24 rolls $= 24 \\times \\left(\\frac{1}{36}\\right) = \\frac{2}{3}$"
     ]
    },
    {
     "cell_type": "markdown",
     "metadata": {
      "slideshow": {
       "slide_type": "slide"
      }
     },
     "source": [
      "    iteration  | bet 1 | bet 2 | bet 1: avg | bet 2: avg"
     ]
    },
    {
     "cell_type": "markdown",
     "metadata": {
      "slideshow": {
       "slide_type": "-"
      }
     },
     "source": [
      "            0     win     win     1.0          0.0"
     ]
    },
    {
     "cell_type": "markdown",
     "metadata": {
      "slideshow": {
       "slide_type": "fragment"
      }
     },
     "source": [
      "            1     win     win     1.0          1.0"
     ]
    },
    {
     "cell_type": "markdown",
     "metadata": {
      "slideshow": {
       "slide_type": "fragment"
      }
     },
     "source": [
      "            2     win     win     1.0          1.0"
     ]
    },
    {
     "cell_type": "markdown",
     "metadata": {
      "slideshow": {
       "slide_type": "fragment"
      }
     },
     "source": [
      "            3     lose    lose    0.75         0.75"
     ]
    },
    {
     "cell_type": "markdown",
     "metadata": {
      "slideshow": {
       "slide_type": "fragment"
      }
     },
     "source": [
      "            4     win     lose    0.8          0.6"
     ]
    },
    {
     "cell_type": "markdown",
     "metadata": {
      "slideshow": {
       "slide_type": "fragment"
      }
     },
     "source": [
      "            5     lose    lose    0.667        0.5"
     ]
    },
    {
     "cell_type": "markdown",
     "metadata": {
      "slideshow": {
       "slide_type": "fragment"
      }
     },
     "source": [
      "            6     lose    win     0.571        0.571"
     ]
    },
    {
     "cell_type": "markdown",
     "metadata": {
      "slideshow": {
       "slide_type": "fragment"
      }
     },
     "source": [
      "            7     win     win     0.625        0.625"
     ]
    },
    {
     "cell_type": "markdown",
     "metadata": {
      "slideshow": {
       "slide_type": "fragment"
      }
     },
     "source": [
      "            8     lose    win     0.556        0.667"
     ]
    },
    {
     "cell_type": "markdown",
     "metadata": {
      "slideshow": {
       "slide_type": "fragment"
      }
     },
     "source": [
      "            9     lose    lose    0.5          0.6"
     ]
    },
    {
     "cell_type": "markdown",
     "metadata": {
      "slideshow": {
       "slide_type": "slide"
      }
     },
     "source": [
      "Let's run a simulation:\n",
      "-----------------------\n",
      "First let us instantiate a fair die using the `sympy` library:"
     ]
    },
    {
     "cell_type": "code",
     "collapsed": false,
     "input": [
      "D6 = Die('D6') \n",
      "density(D6).dict"
     ],
     "language": "python",
     "metadata": {
      "slideshow": {
       "slide_type": "-"
      }
     },
     "outputs": [
      {
       "latex": [
        "$$\\begin{Bmatrix}1 : \\frac{1}{6}, & 2 : \\frac{1}{6}, & 3 : \\frac{1}{6}, & 4 : \\frac{1}{6}, & 5 : \\frac{1}{6}, & 6 : \\frac{1}{6}\\end{Bmatrix}$$"
       ],
       "metadata": {},
       "output_type": "pyout",
       "png": "iVBORw0KGgoAAAANSUhEUgAAAY4AAAAcBAMAAACE80WzAAAAMFBMVEX///8AAAAAAAAAAAAAAAAA\nAAAAAAAAAAAAAAAAAAAAAAAAAAAAAAAAAAAAAAAAAAAv3aB7AAAAD3RSTlMAMolUmc0idhCru+9m\n3URozekSAAAEHklEQVRYCdWWPWgUQRiG37vj9jbJ3SWIldUZA6IgplBERDyCgoloUgiiiF4RbFRM\nEfwBIYONiIIpFBUMBrSKSCKiRUS8wlKJhRba5AqxUAT/gv+e87PZ/WZndkcQhAxh8s33PTvvvDdz\nswfYWmbclqW5JXRgjZ2EW8RNpItkep9alxYlF49FsT1yEm4RN6GJZJYZK8m5fGCj8Uw84STcIm5C\nirzqkNpbavEl4C8nMJ6jif/nw9sjdAtfqbqKF5YPtFX4slsGFryPVmFB+cgz6sbcD2/zhDqFAWae\nGq9zZTedwySAxRQwRfLHMzvSCWSXL6WEEpEWZOdNMlo2Jc4g+5sS5ioHkfuZTgAvKWCKtDWbQ+mE\nvw9bKBHz4d+4xmjZlLgM3KeE6WOkG7/SCRSmKWCK5FccpYDluslXMEGRmA9ghNFyboqORPwAuEYP\n1oY4gLcNf44mTQKH5MUyD5kiLfOl4L9JzNR0RIlE50r34W3/pu0vf3Y/03wMzl7SJxQj7VzZiAr1\nYRGJ+bAQN3XVQET6aB0XtREmeryQvb2bZTxfGrUXRTZfFX0yUawpH4kiLY+H1Z4nEnOLhhumiPRx\nVn70yod/V0D2Vv4o8mcH7FWeXfRMlpKJ05A+kkVamScvk0TCn6vjjlDRRYr8FejtlOrBfsjY3pXG\n7fkom70dxbaoonzYSmHuVhjZAr/JsI2ZlVUdeFKTac1Hk7f3cbqPJNoFQcZBeJ+FOQuR69B8WEXQ\nXwungIXgN+JMIyRCEX8XcntlWvMRgiQojJKBLTwATHbbCvO5U9B8zKfJ/4vA6gYZmyE/9zN1M72W\n545Icd1HdrkBr4FXIxN0niQDGfItn6yTpEGsv3LlB73lTBG+yn5GpjAJfl+R/QCUSPkDf0i7r4JJ\n9nlTZDoRZqoo1KJcvnEwGqhoGphNJwDORM0UqQLPozpgEpv494MQwTKM90dwURRG/SHg/AB54nBn\n15gYBhfFCZwG9PfeY+S+xAltCl78LoBkkUEU78UJXaS14tP7Si4j+IkozfQ+fFEXM6iLu00etRL9\nQb+/2eTfsfDtICfDLBOpoJU39zVEWBqVCUloUwArm1dFLVHE67nA5MOU0ETQ1dshCCpCfcinw659\n3TDjg9dhwgg+HdvKc+WaUQgTikiZwi2iCLeI+sku9yOUl8GRavkpD+p6loy8z3jHh0WSioUBUY+l\nydApAkW4RRJ9nO8Gf6/6yYvwP6G9AZwjy4qFikiZAk6RgHCKpJyrBn6mftrcZjt3yf8SmyRSPkvx\nQThEFOEU4VfuAF9GdspYS74u9iOt7ZX78U+EW8RNBMsoVcVKdjPR01YezwmHKe0N1qZURclJuEXc\nRCAyxoRi7rrotfaoi2ljY1DsEfdVWnMTThE4CSXypp62kIVV+wPT0UB5BdceQAAAAABJRU5ErkJg\ngg==\n",
       "prompt_number": 15,
       "text": [
        "{1: 1/6, 2: 1/6, 3: 1/6, 4: 1/6, 5: 1/6, 6: 1/6}"
       ]
      }
     ],
     "prompt_number": 15
    },
    {
     "cell_type": "markdown",
     "metadata": {
      "slideshow": {
       "slide_type": "fragment"
      }
     },
     "source": [
      "Let's simulate one roll of the dice:"
     ]
    },
    {
     "cell_type": "code",
     "collapsed": false,
     "input": [
      "6 in (sample(D6), sample(D6), sample(D6), sample(D6))"
     ],
     "language": "python",
     "metadata": {
      "slideshow": {
       "slide_type": "fragment"
      }
     },
     "outputs": [
      {
       "metadata": {},
       "output_type": "pyout",
       "prompt_number": 16,
       "text": [
        "False"
       ]
      }
     ],
     "prompt_number": 16
    },
    {
     "cell_type": "markdown",
     "metadata": {
      "slideshow": {
       "slide_type": "subslide"
      }
     },
     "source": [
      "Now lets simulate 2000 trials:"
     ]
    },
    {
     "cell_type": "code",
     "collapsed": false,
     "input": [
      "one6in4 = pd.Series(6 in (sample(D6), sample(D6), sample(D6), sample(D6)) for _ in range(2000))\n",
      "(one6in4.cumsum()/one6in4.index).plot(ylim=(0,1))\n",
      "one6in4.mean()"
     ],
     "language": "python",
     "metadata": {
      "slideshow": {
       "slide_type": "-"
      }
     },
     "outputs": [
      {
       "latex": [
        "$$0.548$$"
       ],
       "metadata": {},
       "output_type": "pyout",
       "png": "iVBORw0KGgoAAAANSUhEUgAAAC4AAAAPBAMAAABpZ+CXAAAAMFBMVEX///8AAAAAAAAAAAAAAAAA\nAAAAAAAAAAAAAAAAAAAAAAAAAAAAAAAAAAAAAAAAAAAv3aB7AAAAD3RSTlMAEJmJdjLNVN0iZu+7\nq0QgoRR7AAABE0lEQVQYGW2QP0vDYBCHnyYtadM2DbaD4JCIuEoGJ1EQ9AOUDm5CioJLBr+A0M1F\noTi6tIibg3UvWEe3DHUJFPMVimLRFuudOjh4w/3unve4Py8srK+idug2UpEG1HbWJDhisS3C/fxV\n5Qx8ysfYPcxQcg6G+pztY3UphJRirLHyWB2XEeaATItKjDNR8sODCGfmml08H+e7cXIt8+12BM8f\nG9AJyL1o/QOdlBrCjXnzD4dSi0D51d40xQt++0jdu1UXbsfc3lHxsXRuOcT8rCK86JKbkB9g657F\nEGN8MhpNh55kCdkeRiiRAXnVPkW57xFOWapn3ij43OjBM5wm9jZUd5/gHC62lgVvzhP2V/Tf/rcv\nvhlH0lKE4OcAAAAASUVORK5CYII=\n",
       "prompt_number": 17,
       "text": [
        "0.548"
       ]
      },
      {
       "metadata": {},
       "output_type": "display_data",
       "png": "iVBORw0KGgoAAAANSUhEUgAAAesAAAFVCAYAAADPM8ekAAAABHNCSVQICAgIfAhkiAAAAAlwSFlz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\n59FfadEH4wAAAABJRU5ErkJggg==\n",
       "text": [
        "<matplotlib.figure.Figure at 0x10ee1bb90>"
       ]
      }
     ],
     "prompt_number": 17
    },
    {
     "cell_type": "markdown",
     "metadata": {
      "slideshow": {
       "slide_type": "fragment"
      }
     },
     "source": [
      "Somewhat less than $^2/_3$ but still good if one is betting even odds."
     ]
    },
    {
     "cell_type": "markdown",
     "metadata": {
      "slideshow": {
       "slide_type": "slide"
      }
     },
     "source": [
      "What about two dice?"
     ]
    },
    {
     "cell_type": "code",
     "collapsed": false,
     "input": [
      "A, B = Die('A'), Die('B')\n",
      "density(A + B).dict"
     ],
     "language": "python",
     "metadata": {
      "slideshow": {
       "slide_type": "-"
      }
     },
     "outputs": [
      {
       "latex": [
        "$$\\begin{Bmatrix}2 : \\frac{1}{36}, & 3 : \\frac{1}{18}, & 4 : \\frac{1}{12}, & 5 : \\frac{1}{9}, & 6 : \\frac{5}{36}, & 7 : \\frac{1}{6}, & 8 : \\frac{5}{36}, & 9 : \\frac{1}{9}, & 10 : \\frac{1}{12}, & 11 : \\frac{1}{18}, & 12 : \\frac{1}{36}\\end{Bmatrix}$$"
       ],
       "metadata": {},
       "output_type": "pyout",
       "prompt_number": 18,
       "text": [
        "{2: 1/36, 3: 1/18, 4: 1/12, 5: 1/9, 6: 5/36, 7: 1/6, 8: 5/36, 9: 1/9, 10: 1/12\n",
        ", 11: 1/18, 12: 1/36}"
       ]
      }
     ],
     "prompt_number": 18
    },
    {
     "cell_type": "markdown",
     "metadata": {
      "slideshow": {
       "slide_type": "fragment"
      }
     },
     "source": [
      "Can we get boxcars on 24 rolls of a pair of dice?"
     ]
    },
    {
     "cell_type": "code",
     "collapsed": false,
     "input": [
      "12 in sample_iter(A + B, numsamples=24)"
     ],
     "language": "python",
     "metadata": {
      "slideshow": {
       "slide_type": "fragment"
      }
     },
     "outputs": [
      {
       "metadata": {},
       "output_type": "pyout",
       "prompt_number": 19,
       "text": [
        "True"
       ]
      }
     ],
     "prompt_number": 19
    },
    {
     "cell_type": "markdown",
     "metadata": {
      "slideshow": {
       "slide_type": "slide"
      }
     },
     "source": [
      "Now let's simulate 2000 trials:"
     ]
    },
    {
     "cell_type": "code",
     "collapsed": false,
     "input": [
      "one12in24 = pd.Series(12 in sample_iter(A + B, numsamples=24) for _ in range(2000))\n",
      "(one12in24.cumsum()/one12in24.index).plot(ylim=(0,1))\n",
      "one12in24.mean()"
     ],
     "language": "python",
     "metadata": {
      "slideshow": {
       "slide_type": "-"
      }
     },
     "outputs": [
      {
       "latex": [
        "$$0.5155$$"
       ],
       "metadata": {},
       "output_type": "pyout",
       "png": "iVBORw0KGgoAAAANSUhEUgAAADgAAAAPBAMAAABD1xE4AAAAMFBMVEX///8AAAAAAAAAAAAAAAAA\nAAAAAAAAAAAAAAAAAAAAAAAAAAAAAAAAAAAAAAAAAAAv3aB7AAAAD3RSTlMAEJmJdjLNVN0iZu+7\nq0QgoRR7AAAA7UlEQVQYGXWPPU4CURRGD8PvIAKBhoSCsaA0oaC1s4ewgkkgYRt0VJNM2AAWdjTs\nAHUDTiGNjWyBQDQ0yr33jVbyiu+db07mzh1o9LvomdRHOyjUU3J1SitWufk5gv8q0siivCYbimP8\nFpN5+RCp5KKSUNyrTDQYiDSyqCVUv/Txf7ITUJWPwfujLqZvGlkse+QPKp9Z7pw0sviTUJk56Uhr\np5eOBe/0K5W01gKKutB1SPbbpJGrpSfK+itXIZ7cspCRq7k1XqhDoCS3SKO0zmkPM5/4AavYpFFa\nm/dbiGBxdwO3m+jBkVWZePGcAS8qVLBWTnnRAAAAAElFTkSuQmCC\n",
       "prompt_number": 20,
       "text": [
        "0.5155"
       ]
      },
      {
       "metadata": {},
       "output_type": "display_data",
       "png": "iVBORw0KGgoAAAANSUhEUgAAAesAAAFVCAYAAADPM8ekAAAABHNCSVQICAgIfAhkiAAAAAlwSFlz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\nTkSuQmCC\n",
       "text": [
        "<matplotlib.figure.Figure at 0x10bd6dcd0>"
       ]
      }
     ],
     "prompt_number": 20
    },
    {
     "cell_type": "markdown",
     "metadata": {
      "slideshow": {
       "slide_type": "fragment"
      }
     },
     "source": [
      "Not so good for de M\u00e9r\u00e9"
     ]
    },
    {
     "cell_type": "markdown",
     "metadata": {
      "slideshow": {
       "slide_type": "slide"
      }
     },
     "source": [
      "Why did he *lose more often* with the second gamble?"
     ]
    },
    {
     "cell_type": "markdown",
     "metadata": {
      "slideshow": {
       "slide_type": "fragment"
      }
     },
     "source": [
      "De M\u00e9r\u00e9 asked his friend, Blaise Pascal what was going on."
     ]
    },
    {
     "cell_type": "markdown",
     "metadata": {
      "slideshow": {
       "slide_type": "fragment"
      }
     },
     "source": [
      "Pascal consulted with Pierre de Fermat and the Theory of Probability was born."
     ]
    },
    {
     "cell_type": "markdown",
     "metadata": {
      "slideshow": {
       "slide_type": "slide"
      }
     },
     "source": [
      "What are the chances with one die?\n",
      "----------------------------------"
     ]
    },
    {
     "cell_type": "code",
     "collapsed": false,
     "input": [
      "P(Eq(D6, 6)), P(D6 < 6)"
     ],
     "language": "python",
     "metadata": {
      "slideshow": {
       "slide_type": "fragment"
      }
     },
     "outputs": [
      {
       "latex": [
        "$$\\begin{pmatrix}\\frac{1}{6}, & \\frac{5}{6}\\end{pmatrix}$$"
       ],
       "metadata": {},
       "output_type": "pyout",
       "png": "iVBORw0KGgoAAAANSUhEUgAAAEIAAAAcBAMAAAAn/nRcAAAAMFBMVEX///8AAAAAAAAAAAAAAAAA\nAAAAAAAAAAAAAAAAAAAAAAAAAAAAAAAAAAAAAAAAAAAv3aB7AAAAD3RSTlMAMkS7zRCZdiKJ71Rm\nq90icBAQAAABh0lEQVQoFY1SPUvDUBQ9iUm/aUDB1YCLi1rwDxRnhQ6CYzsopVunCqJQEBxEqJPS\nLbtLBUGwIG9yEATFwUEQHXRVC5VClXpuQkNTU/HA/TwnN3n3BXAx4YUBr93uq4Fy8nGg8FK99+33\nxpld+FU/0U9yTMtSahm6EIUt5Kw4Q7QhimKFRFyRLNJCFGY1KcNfgFg7XAGYHTIVzimEK8aqZotM\nDUg0whXpqjs9rTAlH4pzcQHEc+70SAZX0t99uw/QUtRL4qMO1iSOht7GwmhWGO0Dy38rYi28UmH1\niCGltN65ru4/ZnhvqW8NjeAqjxR7Wgd3Qhn2noQAFmMOa55lU9rbWAXyWUn7iN6YZeYpB/Oy02Pp\np907lEzg3Qa404TNsruxTj9D82Gdyf8Bo4zIAY/0iTlWyqeZ1Ar6E0M+B83hn9CFZcNU7PjINyC3\nf017oLVgKaR8VhI+8sXwTFuhLUkjCEPJjBS/AckCMI3TIM9FZJJZYMdtNyktyVmCuDzkWX63gyK3\n+gGzWlngH+OoqAAAAABJRU5ErkJggg==\n",
       "prompt_number": 21,
       "text": [
        "(1/6, 5/6)"
       ]
      }
     ],
     "prompt_number": 21
    },
    {
     "cell_type": "markdown",
     "metadata": {
      "slideshow": {
       "slide_type": "fragment"
      }
     },
     "source": [
      "What are the chances with two dice?\n",
      "-----------------------------------\n",
      "$$ P(win) = \\frac{1}{6} + \\frac{5}{6} \\times \\frac{1}{6} $$\n",
      "$$ P(lose) = \\frac{5}{6} \\times \\frac{5}{6} $$"
     ]
    },
    {
     "cell_type": "code",
     "collapsed": false,
     "input": [
      "P(Eq(D6, 6)) + P(Eq(D6, 6)) * P(D6 < 6), P(D6 < 6) * P(D6 < 6)"
     ],
     "language": "python",
     "metadata": {
      "slideshow": {
       "slide_type": "fragment"
      }
     },
     "outputs": [
      {
       "latex": [
        "$$\\begin{pmatrix}\\frac{11}{36}, & \\frac{25}{36}\\end{pmatrix}$$"
       ],
       "metadata": {},
       "output_type": "pyout",
       "png": "iVBORw0KGgoAAAANSUhEUgAAAFMAAAAcBAMAAADvkp6KAAAAMFBMVEX///8AAAAAAAAAAAAAAAAA\nAAAAAAAAAAAAAAAAAAAAAAAAAAAAAAAAAAAAAAAAAAAv3aB7AAAAD3RSTlMAMkS7zRCZdiKJ71Rm\nq90icBAQAAABwUlEQVQ4EZWTv0vDQBTHvwajbS22+AsdJEHBRVDBxf/ARSGDoIPQQltEcHAQpKLQ\nycElLhYFB3V1sKCTgnYSLIIFFQXBUTsIiqiLQ3zv2qaXSCI+enff93nfPK53CSCilWYerggmUuju\nvJRpxyPAwx2buMGgVbRxC6nTyrBhWZSgZfrbSTeKvG6IFg/rHky9h12K6FxveFuBM6NvMUWGbX5g\nhiePrsAzpnBIhmZqGPj0swbjVI1laLMkROLZ9RwYQUynjm9AKEfPeVmVdSVagsn/5gXQeMVxZbCW\nou3k0NhAlkkCKPC6+nonBms5DiwLwew6oyUgKZd89KCBYZ+yXNKiGJdzH23qeKJyxKqEyypzM/ef\nrmIDwfQtsLXsakr3U+NaBtdcn6Njq9fXflklTidA5wXM4gormATUD4fd5uL8yc2RxL5YX8up0DLn\n2wrpTNRdfIv3UslwaofNMQo08LWpC/OBLwyQCtsuFjWu0rtatyOKCfUbER2YFlltqvJwkdiD4Fru\nHZE8QD9HVHlzlPCE2KmZHxNdHT7aaZVfcKEpDpRQMHpx5PBxYvPAkKidAF3pe4Rn+ct0hs0bDGfh\nj+wHKO+H27L3cPUAAAAASUVORK5CYII=\n",
       "prompt_number": 22,
       "text": [
        "\u239b11  25\u239e\n",
        "\u239c\u2500\u2500, \u2500\u2500\u239f\n",
        "\u239d36  36\u23a0"
       ]
      }
     ],
     "prompt_number": 22
    },
    {
     "cell_type": "markdown",
     "metadata": {
      "slideshow": {
       "slide_type": "subslide"
      }
     },
     "source": [
      "What about three dice?\n",
      "----------------------\n",
      "$$ P(win) = \\frac{1}{6} + \\frac{5}{6} \\times \\frac{1}{6} + \\frac{5}{6} \\times \\frac{5}{6} \\times \\frac{1}{6}$$\n",
      "$$ P(lose) = \\frac{5}{6} \\times \\frac{5}{6}  \\times \\frac{5}{6}$$"
     ]
    },
    {
     "cell_type": "code",
     "collapsed": false,
     "input": [
      "P(Eq(D6, 6)) + P(Eq(D6, 6)) * P(D6 < 6) + P(Eq(D6, 6)) * P(Eq(D6, 6)) * P(D6 < 6), P(D6 < 6)**3"
     ],
     "language": "python",
     "metadata": {
      "slideshow": {
       "slide_type": "fragment"
      }
     },
     "outputs": [
      {
       "latex": [
        "$$\\begin{pmatrix}\\frac{71}{216}, & \\frac{125}{216}\\end{pmatrix}$$"
       ],
       "metadata": {},
       "output_type": "pyout",
       "png": "iVBORw0KGgoAAAANSUhEUgAAAGQAAAAcBAMAAABlvQfLAAAAMFBMVEX///8AAAAAAAAAAAAAAAAA\nAAAAAAAAAAAAAAAAAAAAAAAAAAAAAAAAAAAAAAAAAAAv3aB7AAAAD3RSTlMAMkS7zRCZdiKJ71Rm\nq90icBAQAAACA0lEQVQ4EZ1UMUtbURg9CVFfNJqiVlwkDwUXqQm4+A9cKrzBYAchgg3SzamCtBAQ\nHFySpVLpElwVlOpkIMnUoVQoKjgIioLVTSq1FDI8v3NfTN59ycvQj9zv3u+c83Hfe/eeAE58SSaB\nvmqhT4KGF9IYGvyh45e2nRi40DGnIvoZp4jbP2t0L1fHwyMWijXMvRD0DrHM2EuCS0yBBPMevsK/\nZQtZc5gyvGIKWcxoy7VoAUrW6HJaZOGypEUZEt3S6ftgwC3eYJ+6G8B45ML5Wv4t4XmRpDKS3stO\nLCQ2Zfi3fAMmkTJFkwU692SWmJLh2xLMBV/cIcu37ikjxlliR8ahWnmToP2FfesTNsi0J/C9qrgG\n1u7PvHKpie7aNsIbObIdebxtomoFBR8x0YpvwgV+Y7oJ3AoyHvBL+KjtCo/eyxmV/9lFPRj9oNyy\n+cGzieMVFxf4hxNq6Af6ImSuN7R4OPliK9TQDzz7j5iVO/1Ha9M4IJJHnKdPP7BlW4nvqxfC6dQ5\nnn6nqZiS8mRFeSKYccTP2c0htIR2dQ3ED7KL8Rfjoos8a6uzm0PKQiBPghYooq2CqAnMEamHxuFI\niHOS4ge+ywOiZUB+7tA4XAk1I4N+YMtrtYtb7+UifI+ueccPdMsIDnS9VPRKnVtVfAHKD/RF5B3/\nRfSgV+pcI6+rm1dPhNaysC3VMdcAAAAASUVORK5CYII=\n",
       "prompt_number": 23,
       "text": [
        "\u239b 71  125\u239e\n",
        "\u239c\u2500\u2500\u2500, \u2500\u2500\u2500\u239f\n",
        "\u239d216  216\u23a0"
       ]
      }
     ],
     "prompt_number": 23
    },
    {
     "cell_type": "markdown",
     "metadata": {
      "slideshow": {
       "slide_type": "subslide"
      }
     },
     "source": [
      "How about four dice?\n",
      "--------------------\n",
      "$$ P(lose) = \\left(\\frac{5}{6}\\right)^4 $$\n",
      "$$ P(win) = 1 - P(lose) $$"
     ]
    },
    {
     "cell_type": "code",
     "collapsed": false,
     "input": [
      "1 - P(D6 < 6)**4, P(D6 < 6)**4"
     ],
     "language": "python",
     "metadata": {
      "slideshow": {
       "slide_type": "fragment"
      }
     },
     "outputs": [
      {
       "latex": [
        "$$\\begin{pmatrix}\\frac{671}{1296}, & \\frac{625}{1296}\\end{pmatrix}$$"
       ],
       "metadata": {},
       "output_type": "pyout",
       "png": "iVBORw0KGgoAAAANSUhEUgAAAHQAAAAcBAMAAABCE4YjAAAAMFBMVEX///8AAAAAAAAAAAAAAAAA\nAAAAAAAAAAAAAAAAAAAAAAAAAAAAAAAAAAAAAAAAAAAv3aB7AAAAD3RSTlMAMkS7zRCZdiKJ71Rm\nq90icBAQAAACaklEQVQ4EaWUS2gTURSG/xkzbV5NRMVtokWwCzUi6ra4caHCLAxuhAa0lOyySkEU\nBwouREhX0eAmuFUwWkEwoLMqIgi+wIXgC3zs2gYjgSjjf+4kdTIPsughuXNyvvPfe+dy/wCDaFzG\n7WIR2Dks+J6Jmzbqx0zt9Q3bR2L56/jkOIXdH31g+PNEvJmwpmZ15++wwucOya/gHN7snTbx1EM8\n6eQro5KxtJ7+wFTVioxaQca7/LbwEFHSZAtI5uMdPS/dwAEZYmqa/uI8YCxHSrOPq+xLdfUFeQIJ\nm8OCZPHfOAhMsRqx4VpJ/wxkKoaVKogA3yjqSmL0kc2r042QzrXQAerS2hMBqly5pLIOsjYaTCOk\nnPgP0iVsswxOwajx3VsqOy2rnmQaIY3ZXHUGezKWu01kbOTUW2Maj4B7lD5RMwUGvZCa1U61jybM\nwTYnCnjhdqXLPOGvwLW19wGZKqzWzaTjrKNRdvlkExfDO8dW9S6OjG0Kb9A2cCacjK3GO/jOpqzj\ni/VRZRiP97eyqrthujRxYR6p8jJA5wYiyLUe3kqbuPQW3tF6VYhz/RHCecKXVBvv0E/krA5qpjgX\nxq9RtZ8D6SYOqdtEdAe1/Ru8juJcYM29ZMMJAhy8Tcm8YCLgWZHSlnIudEsqmxHgiFUwwYMZSH/w\nvyL3XDkX6U2VSpTUyzFnQmsKE8R7vYKr+5RzcV6q/yPA8ZLwgzQIWuX/1KIcFZ0LfrwR4PhCfFZa\niPRlfbtJ8ynnemWhPC3vmSpxoEt3tVfM4zjsOlfavRHgS4q2XZfedxzM1C0o53plzMXFo5zu3kL8\nA9Ku5tW2jMvUAAAAAElFTkSuQmCC\n",
       "prompt_number": 24,
       "text": [
        "\u239b671   625 \u239e\n",
        "\u239c\u2500\u2500\u2500\u2500, \u2500\u2500\u2500\u2500\u239f\n",
        "\u239d1296  1296\u23a0"
       ]
      }
     ],
     "prompt_number": 24
    },
    {
     "cell_type": "code",
     "collapsed": false,
     "input": [
      "(1 - P(D6 < 6)**4).evalf(3)"
     ],
     "language": "python",
     "metadata": {
      "slideshow": {
       "slide_type": "fragment"
      }
     },
     "outputs": [
      {
       "latex": [
        "$$0.518$$"
       ],
       "metadata": {},
       "output_type": "pyout",
       "png": "iVBORw0KGgoAAAANSUhEUgAAAC4AAAAPBAMAAABpZ+CXAAAAMFBMVEX///8AAAAAAAAAAAAAAAAA\nAAAAAAAAAAAAAAAAAAAAAAAAAAAAAAAAAAAAAAAAAAAv3aB7AAAAD3RSTlMAEJmJdjLNVN0iZu+7\nq0QgoRR7AAABB0lEQVQYGW3QvUoDQRDA8f/tGS93l1wWtRAs7kQslRRWgiBor1jYCRsUbH2EdFaB\nwxfIIXYWxidItLPyCm3S5F5BFIMfGGcTEQun2Jn5scwsCzNry9g40nsFTGuY21qV/pj51Hp39AL+\nvXhC9YSgg2uEOXxIcW4HGi/DN1RyvCfruT3Y0bg9nCa1nGho5dejT+1mxAmRDIb+hd0v9xm8r0O7\nTunZ+g3tYuJq1PjjUGlO/Hz/oyCu/8wB9Tb2IOfqmlqCZ/dWDe7X2ENNaUi5R2DfGRqUZNkbS9dn\nqoMyUikoSxYPU7iDUxZ2nVf8hEsB8ahBsAmz24/QgrONRVjptjIOluy//R/fNvtB2n5lmc0AAAAA\nSUVORK5CYII=\n",
       "prompt_number": 25,
       "text": [
        "0.518"
       ]
      }
     ],
     "prompt_number": 25
    },
    {
     "cell_type": "markdown",
     "metadata": {
      "slideshow": {
       "slide_type": "fragment"
      }
     },
     "source": [
      "Better than $^{50}/_{50}$, but not as good as de M\u00e9r\u00e9 thought."
     ]
    },
    {
     "cell_type": "markdown",
     "metadata": {
      "slideshow": {
       "slide_type": "slide"
      }
     },
     "source": [
      "Now, what are the chances of getting 12 on a pair of dice?\n",
      "----------------------------------------------------------"
     ]
    },
    {
     "cell_type": "code",
     "collapsed": false,
     "input": [
      "P(Eq(A + B, 12)), P(A + B < 12)"
     ],
     "language": "python",
     "metadata": {
      "slideshow": {
       "slide_type": "-"
      }
     },
     "outputs": [
      {
       "latex": [
        "$$\\begin{pmatrix}\\frac{1}{36}, & \\frac{35}{36}\\end{pmatrix}$$"
       ],
       "metadata": {},
       "output_type": "pyout",
       "png": "iVBORw0KGgoAAAANSUhEUgAAAFMAAAAcBAMAAADvkp6KAAAAMFBMVEX///8AAAAAAAAAAAAAAAAA\nAAAAAAAAAAAAAAAAAAAAAAAAAAAAAAAAAAAAAAAAAAAv3aB7AAAAD3RSTlMAMkS7zRCZdiKJ71Rm\nq90icBAQAAABuklEQVQ4EZWTz0sCURDHv4Zr/kIlCOoQuxR0CVLo0n/QpcBDUIdAQSOECg9BGAWe\nu2yXhKCDnbsIdeviNQkSIgi6eAoPQRHVRcJmxnXdZ0vZoPtmvvN549s3I2CZJ9H1HGugcI+JsRuH\nQq5nq6EKEm0ig3i7bmdGxAs1bKHn5HCLmVGKh0WzftkVBbKYZGpIKnuTssMd1c4wvbtOwClDG0LC\nFdV28ljFBRERKuj/+AUFvRaQKtJh00CAvmyuVQG9Mo+UQRVfgWBFSFeUTmpWmzD5bZ5pG69kobIs\n6qOJWvIYJRbpJLVO0r/9lVcxjsYLDwiUjtjd44sbzOJJzA1GQo9haUDUNPBEaLRtWd82p25W/lNV\nDsBziZP9vqLUn56uF3HHeZ5Lr3H4A3XodAN0XwDP5QFWAO1dwW1d7p9otizOZX2xmieBQ+duBQ1W\nqdstmcuhIoe22ToWAB+3jebS/4lZ8sI2xU5P12hWPWVJZrQWogawJlHv0dXDddIeRdcrb4hWAfoo\n1tUjMZKX5aRmdVGqKpzMa0e/5kQoDfBcTuFS4TiwdX9CcleduQzn+J+pGs+r6L6kmvgj+gYZ2H5e\n11IZJgAAAABJRU5ErkJggg==\n",
       "prompt_number": 26,
       "text": [
        "\u239b      35\u239e\n",
        "\u239c1/36, \u2500\u2500\u239f\n",
        "\u239d      36\u23a0"
       ]
      }
     ],
     "prompt_number": 26
    },
    {
     "cell_type": "markdown",
     "metadata": {
      "slideshow": {
       "slide_type": "subslide"
      }
     },
     "source": [
      "So far, so good. What about 24 tosses of a pair of dice?\n",
      "----------------------------------------------------------\n",
      "$$ P(lose) = \\left(\\frac{35}{36}\\right)^{24} $$\n",
      "$$ P(win) = 1 - P(lose) $$"
     ]
    },
    {
     "cell_type": "code",
     "collapsed": false,
     "input": [
      "1 - P(A + B < 12)**24, P(A + B < 12)**24"
     ],
     "language": "python",
     "metadata": {
      "slideshow": {
       "slide_type": "fragment"
      }
     },
     "outputs": [
      {
       "latex": [
        "$$\\begin{pmatrix}\\frac{11033126465283976852912127963392284191}{22452257707354557240087211123792674816}, & \\frac{11419131242070580387175083160400390625}{22452257707354557240087211123792674816}\\end{pmatrix}$$"
       ],
       "metadata": {},
       "output_type": "pyout",
       "png": "iVBORw0KGgoAAAANSUhEUgAAAqYAAAAcBAMAAABBm2CWAAAAMFBMVEX///8AAAAAAAAAAAAAAAAA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\n",
       "prompt_number": 27,
       "text": [
        "\u239b11033126465283976852912127963392284191  1141913124207058038717508316040039062\n",
        "\u239c\u2500\u2500\u2500\u2500\u2500\u2500\u2500\u2500\u2500\u2500\u2500\u2500\u2500\u2500\u2500\u2500\u2500\u2500\u2500\u2500\u2500\u2500\u2500\u2500\u2500\u2500\u2500\u2500\u2500\u2500\u2500\u2500\u2500\u2500\u2500\u2500\u2500\u2500, \u2500\u2500\u2500\u2500\u2500\u2500\u2500\u2500\u2500\u2500\u2500\u2500\u2500\u2500\u2500\u2500\u2500\u2500\u2500\u2500\u2500\u2500\u2500\u2500\u2500\u2500\u2500\u2500\u2500\u2500\u2500\u2500\u2500\u2500\u2500\u2500\u2500\n",
        "\u239d22452257707354557240087211123792674816  2245225770735455724008721112379267481\n",
        "\n",
        "5\u239e\n",
        "\u2500\u239f\n",
        "6\u23a0"
       ]
      }
     ],
     "prompt_number": 27
    },
    {
     "cell_type": "code",
     "collapsed": false,
     "input": [
      "(1 - P(A + B < 12)**24).evalf(3)"
     ],
     "language": "python",
     "metadata": {
      "slideshow": {
       "slide_type": "fragment"
      }
     },
     "outputs": [
      {
       "latex": [
        "$$0.491$$"
       ],
       "metadata": {},
       "output_type": "pyout",
       "png": "iVBORw0KGgoAAAANSUhEUgAAAC0AAAAPBAMAAACCUFuUAAAAMFBMVEX///8AAAAAAAAAAAAAAAAA\nAAAAAAAAAAAAAAAAAAAAAAAAAAAAAAAAAAAAAAAAAAAv3aB7AAAAD3RSTlMAEJmJdjLNVN0iZu+7\nq0QgoRR7AAAA+0lEQVQYGW3OMUvDUBDA8X9MTPTVtMU6CA7p4lBQCOLo2N2iH8AIgiDZnJ1dLGS2\ng36ErErB4Bcwgy5C0Y9gURRUtHd5xckb3rv7cdwdLG6uYmMHKTqS+015DlnOrJ/hXDPImL8TNzlu\nUrk3JMwJC+f2SXyhJBhXfp7SSHCl2BZvlNQ/Ko9TogLvx3rUpv6mbrKUmvR/Wr+ImX1VXyLFfcGX\nJp3z57E4BxxP+6PYzgl66qa7K8uqvW0C3dtCHcLpPXMFRu88GY2+7uX3S9vv5cwkUksMMVfsZdY5\nZaXnvKt/4+07R5LofFrdB+hLsvX7yMbaM6zf9C+l/jcmmmk+g6CLp5cAAAAASUVORK5CYII=\n",
       "prompt_number": 28,
       "text": [
        "0.491"
       ]
      }
     ],
     "prompt_number": 28
    },
    {
     "cell_type": "markdown",
     "metadata": {
      "slideshow": {
       "slide_type": "fragment"
      }
     },
     "source": [
      "Now we understand why de M\u00e9r\u00e9 kept losing the second bet."
     ]
    },
    {
     "cell_type": "markdown",
     "metadata": {
      "slideshow": {
       "slide_type": "fragment"
      }
     },
     "source": [
      "Later we will investigate how long it might have taken de M\u00e9r\u00e9 to realize he was wrong, but first..."
     ]
    },
    {
     "cell_type": "markdown",
     "metadata": {},
     "source": [
      "---\n",
      "# Birthday Paradox\n",
      "\n",
      "Given a sample of _n_ people, we would like to calculate the probability _p_ that _at least_ one person has the same birthday as _any_ other person in the group.  \n",
      "\n",
      "How big do you think this class would have to be in order for there to be >50% chance that two people have the same birthday?  \n",
      "\n",
      "Alternatively, what are the chances that two people in this class have the same birthday?\n",
      "\n",
      "### Assumptions:\n",
      "\n",
      "* the probability distribution is uniform\n",
      "* all events are independant from each other"
     ]
    },
    {
     "cell_type": "markdown",
     "metadata": {},
     "source": [
      "--------------------"
     ]
    },
    {
     "cell_type": "heading",
     "level": 1,
     "metadata": {},
     "source": [
      "Numerical descriptive statistics"
     ]
    },
    {
     "cell_type": "markdown",
     "metadata": {
      "slideshow": {
       "slide_type": "slide"
      }
     },
     "source": [
      "## Mean of a sample\n",
      "\n",
      "Given a sample of numbers $X=(X_1, \\dots, X_n)$ the sample mean, \n",
      "$\\overline{X}$ is\n",
      "$$\n",
      "\\overline{X} = \\frac1n \\sum_{i=1}^n X_i.$$\n",
      "   \n",
      "There are many ways to compute this in `python`."
     ]
    },
    {
     "cell_type": "code",
     "collapsed": false,
     "input": [
      "X = [1,3,5,7,8,12,19]\n",
      "print X\n",
      "print np.mean(X)\n",
      "print (X[0]+X[1]+X[2]+X[3]+X[4]+X[5]+X[6])/7\n",
      "print np.sum(X)/len(X)"
     ],
     "language": "python",
     "metadata": {
      "slideshow": {
       "slide_type": "fragment"
      }
     },
     "outputs": [
      {
       "output_type": "stream",
       "stream": "stdout",
       "text": [
        "[1, 3, 5, 7, 8, 12, 19]\n",
        "7.85714285714\n",
        "7.85714285714\n",
        "7.85714285714\n"
       ]
      }
     ],
     "prompt_number": 29
    },
    {
     "cell_type": "markdown",
     "metadata": {
      "slideshow": {
       "slide_type": "slide"
      }
     },
     "source": [
      "We'll also illustrate thes calculations with part of an example we consider below, on differences\n",
      "in blood pressure between two groups."
     ]
    },
    {
     "cell_type": "code",
     "collapsed": false,
     "input": [
      "#url = 'http://lib.stat.cmu.edu/DASL/Datafiles/Calcium.html'\n",
      "calcium = pd.read_table(\"data/Calcium.txt\")\n",
      "treated = calcium.Decrease[calcium.Treatment == 'Calcium']\n",
      "placebo = calcium.Decrease[calcium.Treatment == 'Placebo']\n",
      "treated.mean(), placebo.mean()"
     ],
     "language": "python",
     "metadata": {
      "slideshow": {
       "slide_type": "fragment"
      }
     },
     "outputs": [
      {
       "latex": [
        "$$\\begin{pmatrix}5.0, & -0.272727272727\\end{pmatrix}$$"
       ],
       "metadata": {},
       "output_type": "pyout",
       "png": "iVBORw0KGgoAAAANSUhEUgAAAOAAAAAaBAMAAABcCk2tAAAAMFBMVEX///8AAAAAAAAAAAAAAAAA\nAAAAAAAAAAAAAAAAAAAAAAAAAAAAAAAAAAAAAAAAAAAv3aB7AAAAD3RSTlMAMkS7zRCZdiKJ71Rm\nq90icBAQAAAC90lEQVRIDb2VP2hTURTGf0nz2pc/TYODo+2mi7TSWeku2gwiKGii9V8HsYPWIhQC\nQhEHG0EsAcUKDqIgmVwc2lmURtQuglasokjVFuMfSo3n3Nf23iaFOsQcyDvf/b7z7vfuvee9AJto\nWAyoU6irYX5sV6tIunGG0UnxOime50JH1dXrH0xpXif2jx0x7EjfDkJz/YUCFvknulNsmS4U8gZZ\n2SGNDO/BL0OsUjG7Gyl6H9cxU2o3h3OSvBK3OhKVSmXJIg4RXWBKyJJBVnZII8MgRLOywptDMhk8\nhmsG1FwS40R7hG1NExtvzkHJIl7CPU6JGCArO6SRYVRWV9TKIHbCxPon2lQiLltBbIbW+ag8Zsoi\nHsCbVB6uBsjKWNIgSE7SLg4rhkvQWVw2X5vaSoQXhYqUxVDyVgfRmxZDCA+sIEe2pCBo7tJtpPWJ\naRbvhxgqXRuZLOGfAZ3UlXYptoivaWgyuiJHtqRBLeMcE70p7S9I8n9De97cVn0ZzRMSVaNTKkx7\nOyis2g1VDbKyQwZymW4tg13y+zfDd1KZ0VuwKNklDfxNOUWObMkAhebZo2VwJie3yHNWbam394vE\nbCqTX9lSOQU4q7dYRJ8MW3qUVOTIlgyQ7OQHKXiBvF2S5QwnipJroy1LXJsGhvWia3NQS0mGZm0G\nObIlDcJfNCu8IytMB/NMaa4NKU9osxDPcglP2tlBPMTPkVFXg6zskEZGVqhbmoVZSVzA9JDCqpDu\nau5RbjMMEZKtcFAoS0uO9qz8ERhkZYdUWQp+8VzSCIm7ZHpIFr3bmteJzxxMed/xPxVOzxAXQ4u4\nUrj+Wg4jyzKyskOqLE1c1lXh90+nSZbwxoZTwdul4po4cP4ZzBGRL+YM/n35BKwieiuVP3C5yDKy\nskOqDPKJ7Kw5tG1rnOo7kM6OdVRPOVlN1HEcGaA5XzWf9z8NM2lC41WGiapxXYdPZbZXdZ1xg8ne\nir5vg5p6ygk9P/l2NCwuGqdHDfPjeOOsVp3+AjecLk3CDF7cAAAAAElFTkSuQmCC\n",
       "prompt_number": 30,
       "text": [
        "(5.0, -0.272727272727)"
       ]
      }
     ],
     "prompt_number": 30
    },
    {
     "cell_type": "markdown",
     "metadata": {
      "slideshow": {
       "slide_type": "slide"
      }
     },
     "source": [
      "## Standard deviation of a sample\n",
      "\n",
      "Given a sample of numbers $X=(X_1, \\dots, X_n)$ the sample \n",
      "standard deviation $S_X$ is\n",
      "$$\n",
      "S^2_X = \\frac{1}{n-1}  \\sum_{i=1}^n (X_i-\\overline{X})^2.$$"
     ]
    },
    {
     "cell_type": "code",
     "collapsed": false,
     "input": [
      "S2 = sum((treated - treated.mean())**2) / (len(treated) - 1)\n",
      "print np.sqrt(S2)\n",
      "print treated.std()"
     ],
     "language": "python",
     "metadata": {
      "slideshow": {
       "slide_type": "fragment"
      }
     },
     "outputs": [
      {
       "output_type": "stream",
       "stream": "stdout",
       "text": [
        "8.74325136574\n",
        "8.74325136574\n"
       ]
      }
     ],
     "prompt_number": 31
    },
    {
     "cell_type": "markdown",
     "metadata": {
      "slideshow": {
       "slide_type": "slide"
      }
     },
     "source": [
      "## Median of a sample\n",
      "\n",
      "   Given a sample of numbers $X=(X_1, \\dots, X_n)$ the sample median is\n",
      "   the `middle` of the sample:\n",
      "   if $n$ is even, it is the average of the middle two points.\n",
      "   If $n$ is odd, it is the midpoint.\n"
     ]
    },
    {
     "cell_type": "code",
     "collapsed": false,
     "input": [
      "X = pd.Series([1,3,5,7,8,12,19])\n",
      "X.median()"
     ],
     "language": "python",
     "metadata": {
      "slideshow": {
       "slide_type": "fragment"
      }
     },
     "outputs": [
      {
       "latex": [
        "$$7.0$$"
       ],
       "metadata": {},
       "output_type": "pyout",
       "png": "iVBORw0KGgoAAAANSUhEUgAAABkAAAAOBAMAAAAoFKpzAAAAMFBMVEX///8AAAAAAAAAAAAAAAAA\nAAAAAAAAAAAAAAAAAAAAAAAAAAAAAAAAAAAAAAAAAAAv3aB7AAAAD3RSTlMAMt2rmYlmIkR2uxDN\nVO+L8+I6AAAAmUlEQVQIHU3OvQkCQRCG4Zc18GcNDhswFIwusAATMTE4gxMEa9AObEFBYxFs4Dq4\nK2E7WOxAUOP1m4uMZp6Zb2AYzcqyAPzimsEhpZRLw+AnsISOwB52oNTa9IBYqfbOpjecgurA4D+S\njTem7hfGhaavf/Ubk9fOku5uQncxQJ23muqRSrfzVjdYqYlS3eCCf0pHpV2O314yfsubJJAlHRvg\nAAAAAElFTkSuQmCC\n",
       "prompt_number": 32,
       "text": [
        "7.0"
       ]
      }
     ],
     "prompt_number": 32
    },
    {
     "cell_type": "markdown",
     "metadata": {
      "slideshow": {
       "slide_type": "slide"
      }
     },
     "source": [
      "## Quantiles of a sample\n",
      "\n",
      "Given a sample of numbers $X=(X_1, \\dots, X_n)$ the  $q$-th quantile is\n",
      "a point $x_q$ in the data such that $q \\cdot 100\\%$ of the data lie to the \n",
      "left of $x_q$.\n",
      "\n",
      "### Example\n",
      "\n",
      "The $0.5$-quantile is the median: half \n",
      "of the data lie to the right of the median.\n"
     ]
    },
    {
     "cell_type": "code",
     "collapsed": false,
     "input": [
      "X.quantile(.25)"
     ],
     "language": "python",
     "metadata": {
      "slideshow": {
       "slide_type": "fragment"
      }
     },
     "outputs": [
      {
       "latex": [
        "$$4.0$$"
       ],
       "metadata": {},
       "output_type": "pyout",
       "png": "iVBORw0KGgoAAAANSUhEUgAAABoAAAAPBAMAAAAIf8LVAAAAMFBMVEX///8AAAAAAAAAAAAAAAAA\nAAAAAAAAAAAAAAAAAAAAAAAAAAAAAAAAAAAAAAAAAAAv3aB7AAAAD3RSTlMAMpndu3bvImbNiRBU\nq0Qb3U6NAAAAmElEQVQIHWNgYGAQAmIGhk1LFcG0CZicw7C5AMhgTQHxOBIYuCYA6YopIB7LBQae\n30B6AZjHf4GB7w9QSQGYt1+Bge8rA8NWBjCvfgED4y+gQmQejwCEt38BSOUuBgiPX4GB5w/D2bt3\nv10FmszswMABsoEBbDtrAgMTyHaGLwzcPxkYbBi2CQA5S/7fYLBlYNgVehEkhQQA0FcoqBjQ0P4A\nAAAASUVORK5CYII=\n",
       "prompt_number": 33,
       "text": [
        "4.0"
       ]
      }
     ],
     "prompt_number": 33
    },
    {
     "cell_type": "heading",
     "level": 1,
     "metadata": {},
     "source": [
      "Graphical statistical summaries"
     ]
    },
    {
     "cell_type": "markdown",
     "metadata": {
      "slideshow": {
       "slide_type": "slide"
      }
     },
     "source": [
      "We've already seen a boxplot. Another common statistical summary is a \n",
      "histogram."
     ]
    },
    {
     "cell_type": "code",
     "collapsed": false,
     "input": [
      "treated.hist(figsize=(12,6))\n",
      "plt.title('Treated group')\n",
      "plt.xlabel('Decrease')"
     ],
     "language": "python",
     "metadata": {},
     "outputs": [
      {
       "metadata": {},
       "output_type": "pyout",
       "prompt_number": 34,
       "text": [
        "<matplotlib.text.Text at 0x10bcf2390>"
       ]
      },
      {
       "metadata": {},
       "output_type": "display_data",
       "png": "iVBORw0KGgoAAAANSUhEUgAAAsUAAAGJCAYAAABiuU6SAAAABHNCSVQICAgIfAhkiAAAAAlwSFlz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\ngg==\n",
       "text": [
        "<matplotlib.figure.Figure at 0x10bd0fcd0>"
       ]
      }
     ],
     "prompt_number": 34
    },
    {
     "cell_type": "markdown",
     "metadata": {},
     "source": [
      "---"
     ]
    },
    {
     "cell_type": "heading",
     "level": 1,
     "metadata": {
      "slideshow": {
       "slide_type": "slide"
      }
     },
     "source": [
      "p-values and Hypothesis Testing"
     ]
    },
    {
     "cell_type": "markdown",
     "metadata": {
      "slideshow": {
       "slide_type": "slide"
      }
     },
     "source": [
      "Back to de M\u00e9r\u00e9's *Null Hypothesis* $(H_0)$:\n",
      "$$ P(win) = \\frac{2}{3} $$"
     ]
    },
    {
     "cell_type": "code",
     "collapsed": false,
     "input": [
      "X = Binomial('X', 1, S(2)/3)\n",
      "density(X).dict "
     ],
     "language": "python",
     "metadata": {
      "slideshow": {
       "slide_type": "-"
      }
     },
     "outputs": [
      {
       "latex": [
        "$$\\begin{Bmatrix}0 : \\frac{1}{3}, & 1 : \\frac{2}{3}\\end{Bmatrix}$$"
       ],
       "metadata": {},
       "output_type": "pyout",
       "png": "iVBORw0KGgoAAAANSUhEUgAAAIEAAAAcBAMAAAC0dsH+AAAAMFBMVEX///8AAAAAAAAAAAAAAAAA\nAAAAAAAAAAAAAAAAAAAAAAAAAAAAAAAAAAAAAAAAAAAv3aB7AAAAD3RSTlMAMolUmc0idhCru+9m\n3URozekSAAACNUlEQVQ4EZ2VPUgcURDHZ+/O8xlv4yGpbBSiHHYLKUPwAyyUFAcGQsBii1h7SFKE\nFNkmpLgiafLRBA9UUBASAwE7r5cggSCaJh+FrUciYkC8zMzu2zfv3l0OMsW8mf/M/O69t3t3AG1t\nqK0qxNG1SGRueO2tq1lKJuwrG8G7bmId3dJBh9UPvTOAq1NxeSZ027oR+r/nL3FqsUajvefkW6wb\nASDLYx9oTh4o5XQn+BVqXifHBDX9oEiJtjaEnkgXeR1l/5I8E3oCdcBS4lxC/l0kGwqTnBnCHsCY\nbHAIam0lkg0/4QelhrAJMCE7bsruOH4i6978jQ2SDeEPwEkQd5K//+21SZLIIvQ3mw3SmXClBqBO\nkUCX678gva0lhCOryIQqTuZ/AQyPYK1athpkEhPUR6nBfoTDd1BKCVbZTqxT6FLmM8CnEDOFe+BT\nxJWBJppu0qtFoIYGVZ5WILtAAd7DREBBZ7MIuo2nl2jyK/CRdCGz/EaH6WoTSuMRVU6K6OhZwGOA\nGVy03YY5HaarRcjVczWqmPfBD9Q2KcmzmIZ9gOdlUlKLCcmzyI0UGlQxBFV6RPsx7wPuyLe+9rO7\nR3Xq0O9DjvmGQDVpvKNjqbTGVf7EjgT1sIIT9dYpkT+7y0lHAtBNqn8RoPUmBT0OhwMoOKIUvN+U\n8W9U5r0scIy3sFR3VClUi/kLyr+weC/iRboD2HNF2eCHhR3M+w5ZzK7KGseDy68czRK80niI/xdb\nlvi/yV+kXXtuyQEhDQAAAABJRU5ErkJggg==\n",
       "prompt_number": 35,
       "text": [
        "{0: 1/3, 1: 2/3}"
       ]
      }
     ],
     "prompt_number": 35
    },
    {
     "cell_type": "markdown",
     "metadata": {
      "slideshow": {
       "slide_type": "subslide"
      }
     },
     "source": [
      "If he plays three times, according to $H_0$, he should win:"
     ]
    },
    {
     "cell_type": "code",
     "collapsed": false,
     "input": [
      "X = Binomial('X', 3, S(2)/3)\n",
      "density(X).dict"
     ],
     "language": "python",
     "metadata": {
      "slideshow": {
       "slide_type": "-"
      }
     },
     "outputs": [
      {
       "latex": [
        "$$\\begin{Bmatrix}0 : \\frac{1}{27}, & 1 : \\frac{2}{9}, & 2 : \\frac{4}{9}, & 3 : \\frac{8}{27}\\end{Bmatrix}$$"
       ],
       "metadata": {},
       "output_type": "pyout",
       "png": "iVBORw0KGgoAAAANSUhEUgAAARgAAAAcBAMAAABIRr0dAAAAMFBMVEX///8AAAAAAAAAAAAAAAAA\nAAAAAAAAAAAAAAAAAAAAAAAAAAAAAAAAAAAAAAAAAAAv3aB7AAAAD3RSTlMAMolUmc0idhCru+9m\n3URozekSAAAEMklEQVRIDcVWTYgcRRT+etrt6Z2fnr6I4GWHzZI9aGAgEUIO7iirJIHAQMSgCNt4\n8yA7ghA9pVlyWF3Drgchl7gtCSoedEEEQU1aEA+CEBAiQTBjCB72sORPTUQzvlfV013VXT2zN+vw\n6n3f+17Nt13VvQWYhxWZeZWduxCq0JRHJlLjGvOHNWwA1pHLBlanKsF0T2cKyL5XoPLEt3hbpaw9\nKkpye7KZZmD9aehUqZXJZj7ElOi44YvpmUDtT/JdmKkPnAeGTpV6Y7KZY/4rosN5kaeqsWEXZoBJ\nu2AdNK6t2sWZu22J6zybN35XZpp9uU5ZrLiTzTSWrsj2Gh9AYeb0/FP6imYzU6GmmtMQAWfxE7n1\nsvB90czLs+f1psetX0LBCB8iHMeZQBMZzTifyb5E2ehqLQTeQkU5Rm6/YMbpYiFWu9wepjqCSM00\ntlDhp5QNkxn3wmaYKYDr+E2FlJ8Fvsooe3HxbpxBzqp30LqsUk6Eas5MbSN/GO0ttWWUnwpHGc3W\n8f0fK5DTb4BNX+Gc/JnxLmK9pwiA5zEdCiJ9Mq0NeHdUjXPsfl/FSa6ZqQ+HN3OapVA388P9Tk6B\n3Dbh9PxeKRFmahGw3oX3F3NXZaEsJmbGqa6F1NzcKFsBeE6UigphZo0ewXIb1m0SuV+UL8IVaWac\nyuNlsNbjaBrWvq6gi4oGbanDTkdmTO0qlzwZlcrlzShHFOBjfoGSxD4fPwaUrreTbZL0MBk3Jcyi\nZoZFBcXRTIwWKxQs0/qXGSUUI5V7AvZLVGt1YWsHONNrmWZGqySgumFiM84JUCv7oSdi2qIOHbgI\nvGXpoJtK5eBqmOJRops5MDvi0/kA6OfSYT/dTnOZtO6h9o/CVY4exp7VVWa8WxT4bapu4aEeM3Lw\nTWV6OPx7hNNZM1PdqHbTikysLqpBxr2J1zMgsnqEpnrv2Iv3sDkcRlQUb5MIP2HNJyJ5T/imMr2z\nQ5+03BdKmklUrQF909w/xI8k4dXZuXOcJu/KAyyHuqIRY6GvKK5gJnh/ZzskKjOzcvJdliTfGb6p\n2LAHtH/q5uHIpatxplr2Qf+IroXMJGNpOPyXU/kVcW6hNcgpbix+KrRSgYtYHnTwJFOZGSFQAt9U\nVhj/rpC5dN0HnUUvyNEZdMkMHcgxCtIu0LNrc0+5Gb6pnGVJzME86h2LzmLDXBTs55iJxyuAn8lG\nyOpyM3RTsSJSuDGFkmFHVdqmd0qqTB/CqcF4BSpd4FHwKDXTIEmlTYpxfzceeY1ejJhUZcM6OROM\nV+A76pVfCHHTq2wV1+KbypQ49cVayrjwohQYkxDbRj4jvbbn44TAzS5PL4Qc1SFuKvVYpQx5rV/z\nDbRCfYQPFGRKH95/KMTXonIu5Mk+L4ASxE2lOVAYU+rNPmuiFe76XKAgU3qJ/3n9ypXt2FT/H7n/\nADJtDYIZ6iCDAAAAAElFTkSuQmCC\n",
       "prompt_number": 36,
       "text": [
        "{0: 1/27, 1: 2/9, 2: 4/9, 3: 8/27}"
       ]
      }
     ],
     "prompt_number": 36
    },
    {
     "cell_type": "markdown",
     "metadata": {
      "slideshow": {
       "slide_type": "fragment"
      }
     },
     "source": [
      "If he plays nine times, his odds:"
     ]
    },
    {
     "cell_type": "code",
     "collapsed": false,
     "input": [
      "X = Binomial('X', 9, S(2)/3)\n",
      "density(X).dict"
     ],
     "language": "python",
     "metadata": {
      "slideshow": {
       "slide_type": "fragment"
      }
     },
     "outputs": [
      {
       "latex": [
        "$$\\begin{Bmatrix}0 : \\frac{1}{19683}, & 1 : \\frac{2}{2187}, & 2 : \\frac{16}{2187}, & 3 : \\frac{224}{6561}, & 4 : \\frac{224}{2187}, & 5 : \\frac{448}{2187}, & 6 : \\frac{1792}{6561}, & 7 : \\frac{512}{2187}, & 8 : \\frac{256}{2187}, & 9 : \\frac{512}{19683}\\end{Bmatrix}$$"
       ],
       "metadata": {},
       "output_type": "pyout",
       "png": "iVBORw0KGgoAAAANSUhEUgAAA6QAAAAcBAMAAACE4G9rAAAAMFBMVEX///8AAAAAAAAAAAAAAAAA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\ngg==\n",
       "prompt_number": 37,
       "text": [
        "\u23a7                           16      224      224      448      1792     512   \n",
        "\u23a80: 1/19683, 1: 2/2187, 2: \u2500\u2500\u2500\u2500, 3: \u2500\u2500\u2500\u2500, 4: \u2500\u2500\u2500\u2500, 5: \u2500\u2500\u2500\u2500, 6: \u2500\u2500\u2500\u2500, 7: \u2500\u2500\u2500\u2500, \n",
        "\u23a9                          2187     6561     2187     2187     6561     2187  \n",
        "\n",
        "   256       512 \u23ab\n",
        "8: \u2500\u2500\u2500\u2500, 9: \u2500\u2500\u2500\u2500\u2500\u23ac\n",
        "   2187     19683\u23ad"
       ]
      }
     ],
     "prompt_number": 37
    },
    {
     "cell_type": "code",
     "collapsed": false,
     "input": [
      "plt.figure(figsize=(12,6))\n",
      "colors = matplotlib.rcParams['axes.color_cycle']\n",
      "p = 2/3\n",
      "for k, color in zip(np.arange(4,13), colors):\n",
      "    rv = binom(k, p)\n",
      "    x = np.linspace(0.0, 1.0, k+1)\n",
      "    y = rv.pmf(range(k+1))\n",
      "    plt.plot(x, y, lw=2, color=color, label=k)\n",
      "    plt.fill_between(x, y, color=color, alpha=1/9)\n",
      "plt.legend()\n",
      "plt.title(\"Relative distribution given $p = 2/3$\")\n",
      "plt.tight_layout()\n",
      "plt.ylabel(\"PDF\")\n",
      "plt.xlabel(\"Relative Frequency\")"
     ],
     "language": "python",
     "metadata": {
      "slideshow": {
       "slide_type": "subslide"
      }
     },
     "outputs": [
      {
       "metadata": {},
       "output_type": "pyout",
       "prompt_number": 38,
       "text": [
        "<matplotlib.text.Text at 0x1127c12d0>"
       ]
      },
      {
       "metadata": {},
       "output_type": "display_data",
       "png": "iVBORw0KGgoAAAANSUhEUgAAA2cAAAG3CAYAAAAw6i1jAAAABHNCSVQICAgIfAhkiAAAAAlwSFlz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\nZmZmZmZmVgH+B2DeiDDLPpFjAAAAAElFTkSuQmCC\n",
       "text": [
        "<matplotlib.figure.Figure at 0x1125d30d0>"
       ]
      }
     ],
     "prompt_number": 38
    },
    {
     "cell_type": "markdown",
     "metadata": {
      "slideshow": {
       "slide_type": "subslide"
      }
     },
     "source": [
      "What are the chances of losing 6 out of 12 games, given: $$ H_0: P(win) = \\frac{2}{3} $$"
     ]
    },
    {
     "cell_type": "code",
     "collapsed": false,
     "input": [
      "X = Binomial('X', 12, S(2)/3)\n",
      "P(X <= 6).evalf(3)"
     ],
     "language": "python",
     "metadata": {
      "slideshow": {
       "slide_type": "fragment"
      }
     },
     "outputs": [
      {
       "latex": [
        "$$0.178$$"
       ],
       "metadata": {},
       "output_type": "pyout",
       "png": "iVBORw0KGgoAAAANSUhEUgAAAC4AAAAPBAMAAABpZ+CXAAAAMFBMVEX///8AAAAAAAAAAAAAAAAA\nAAAAAAAAAAAAAAAAAAAAAAAAAAAAAAAAAAAAAAAAAAAv3aB7AAAAD3RSTlMAEJmJdjLNVN0iZu+7\nq0QgoRR7AAAA90lEQVQYGW2QvU7CUBSAv/ZSK1ctN+pA4tAmhFFDgpOTicRVJjeTMrHyCG4sNOEN\nJLwAMDnauDnZxcUFB19AJZKIpJ4SfzB6lnPy5cv5g839MotYMThRqVpl+2hPQJNiN+P5W4NO03RO\nwEYLPUSFgq3rscEWI3F75EPWE9wn4XBiUKDqKsY6p5DgTb+45Ee8d6N6+AHeZInHMH47gIsKzssP\nFxM7bfzhvij909kDfuVXn2PQCYMRhQB3aW4H1uS+Kasx+ntPrDlkre7JDbFDqRb74zyLL8fdQJud\nuvX6yV3hXgN9CFu1O4hg9yqSB1yKcFbK/vZ/fADG3DzkEqTBeAAAAABJRU5ErkJggg==\n",
       "prompt_number": 39,
       "text": [
        "0.178"
       ]
      }
     ],
     "prompt_number": 39
    },
    {
     "cell_type": "markdown",
     "metadata": {
      "slideshow": {
       "slide_type": "fragment"
      }
     },
     "source": [
      "In other words, if we were to play 12 games *100 times*, and $H_0$ *were true*, we could expect to lose half of those 12 about 18% of the time."
     ]
    },
    {
     "cell_type": "markdown",
     "metadata": {
      "slideshow": {
       "slide_type": "subslide"
      }
     },
     "source": [
      "How many games do we need to play before we can conclude, from losing half the time, that $p(win) < \\frac{2}{3}$"
     ]
    },
    {
     "cell_type": "code",
     "collapsed": false,
     "input": [
      "for t in range(12,53,2):\n",
      "    X = Binomial('X', t, S(2)/3)\n",
      "    print \"{} trials: p-value = {}\".format(t, P(X <= t/2).evalf(3))"
     ],
     "language": "python",
     "metadata": {},
     "outputs": [
      {
       "output_type": "stream",
       "stream": "stdout",
       "text": [
        "12 trials: p-value = 0.178\n",
        "14 trials: p-value = 0.149\n",
        "16 trials: p-value = 0.126"
       ]
      },
      {
       "output_type": "stream",
       "stream": "stdout",
       "text": [
        "\n",
        "18 trials: p-value = 0.108\n",
        "20 trials: p-value = 0.0919\n",
        "22 trials: p-value = 0.0787"
       ]
      },
      {
       "output_type": "stream",
       "stream": "stdout",
       "text": [
        "\n",
        "24 trials: p-value = 0.0677\n",
        "26 trials: p-value = 0.0583\n",
        "28 trials: p-value = 0.0503"
       ]
      },
      {
       "output_type": "stream",
       "stream": "stdout",
       "text": [
        "\n",
        "30 trials: p-value = 0.0435\n",
        "32 trials: p-value = 0.0377"
       ]
      },
      {
       "output_type": "stream",
       "stream": "stdout",
       "text": [
        "\n",
        "34 trials: p-value = 0.0327\n",
        "36 trials: p-value = 0.0284"
       ]
      },
      {
       "output_type": "stream",
       "stream": "stdout",
       "text": [
        "\n",
        "38 trials: p-value = 0.0246"
       ]
      },
      {
       "output_type": "stream",
       "stream": "stdout",
       "text": [
        "\n",
        "40 trials: p-value = 0.0214\n",
        "42 trials: p-value = 0.0187"
       ]
      },
      {
       "output_type": "stream",
       "stream": "stdout",
       "text": [
        "\n",
        "44 trials: p-value = 0.0163\n",
        "46 trials: p-value = 0.0142"
       ]
      },
      {
       "output_type": "stream",
       "stream": "stdout",
       "text": [
        "\n",
        "48 trials: p-value = 0.0124\n",
        "50 trials: p-value = 0.0108"
       ]
      },
      {
       "output_type": "stream",
       "stream": "stdout",
       "text": [
        "\n",
        "52 trials: p-value = 0.00946"
       ]
      },
      {
       "output_type": "stream",
       "stream": "stdout",
       "text": [
        "\n"
       ]
      }
     ],
     "prompt_number": 40
    },
    {
     "cell_type": "markdown",
     "metadata": {
      "slideshow": {
       "slide_type": "slide"
      }
     },
     "source": [
      "What is a p-value?\n",
      "=================="
     ]
    },
    {
     "cell_type": "markdown",
     "metadata": {
      "slideshow": {
       "slide_type": "fragment"
      }
     },
     "source": [
      "What it's not:\n",
      "------------------"
     ]
    },
    {
     "cell_type": "markdown",
     "metadata": {
      "slideshow": {
       "slide_type": "fragment"
      }
     },
     "source": [
      "* It is ***not*** the probability that the null hypothesis is true."
     ]
    },
    {
     "cell_type": "markdown",
     "metadata": {
      "slideshow": {
       "slide_type": "fragment"
      }
     },
     "source": [
      "* It is ***not*** the inverse of the probability that the alternative hypothesis *is* true."
     ]
    },
    {
     "cell_type": "markdown",
     "metadata": {
      "slideshow": {
       "slide_type": "fragment"
      }
     },
     "source": [
      "What it is:\n",
      "------------------\n",
      "\n",
      "* The *p-value* is the probability of an observed outcome *if the null hypothesis **were** true*."
     ]
    },
    {
     "cell_type": "markdown",
     "metadata": {
      "slideshow": {
       "slide_type": "fragment"
      }
     },
     "source": [
      "*N.B. Statistics is incapable of proving that anything is true. It can only suggest that something **probably isn't**.*"
     ]
    },
    {
     "cell_type": "code",
     "collapsed": false,
     "input": [
      "plt.figure(figsize=(12,6))\n",
      "k = range(30)\n",
      "H_0 = binom(29, 0.667).pmf(k)\n",
      "plt.plot(k, H_0, lw=2, color=colors[1], label=\"$H_0$\")\n",
      "plt.fill_between(k, H_0, color=colors[1], alpha=.5)\n",
      "H_a = binom(29, 0.491).pmf(k)\n",
      "plt.plot(k, H_a, lw=2, color=colors[0], label=\"$H_a$\")\n",
      "plt.fill_between(k, H_a, color=colors[0], alpha=.5)\n",
      "plt.legend()\n",
      "plt.title(\"Binomial distribution\")\n",
      "plt.tight_layout()\n",
      "plt.ylabel(\"PDF at $k$\")\n",
      "plt.xlabel(\"$k$\")"
     ],
     "language": "python",
     "metadata": {
      "slideshow": {
       "slide_type": "subslide"
      }
     },
     "outputs": [
      {
       "metadata": {},
       "output_type": "pyout",
       "prompt_number": 41,
       "text": [
        "<matplotlib.text.Text at 0x10bc55450>"
       ]
      },
      {
       "metadata": {},
       "output_type": "display_data",
       "png": "iVBORw0KGgoAAAANSUhEUgAAA2oAAAG5CAYAAAD/HsejAAAABHNCSVQICAgIfAhkiAAAAAlwSFlz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\nrkJggg==\n",
       "text": [
        "<matplotlib.figure.Figure at 0x10bc6aa90>"
       ]
      }
     ],
     "prompt_number": 41
    },
    {
     "cell_type": "heading",
     "level": 1,
     "metadata": {},
     "source": [
      "Inference about a population mean"
     ]
    },
    {
     "cell_type": "markdown",
     "metadata": {
      "slideshow": {
       "slide_type": "slide"
      }
     },
     "source": [
      "## A testing scenario\n",
      "\n",
      "* Suppose we want to determine the efficacy of a new drug on blood pressure.\n",
      "\n",
      "* Our study design is: we will treat\n",
      "a large patient population (maybe not so large: budget constraints limit it $n=20$) with the drug and measure their\n",
      "blood pressure before and after taking the drug.\n",
      "\n",
      "* One way to conclude that the drug is effective if the blood pressure has decreased. That is,\n",
      "if the average difference between before and after is positive."
     ]
    },
    {
     "cell_type": "markdown",
     "metadata": {
      "slideshow": {
       "slide_type": "slide"
      }
     },
     "source": [
      "## Setting up the test\n",
      "\n",
      "\n",
      "\n",
      "* The *null hypothesis*, $H_0$ is: *the average difference is less\n",
      "than zero.*\n",
      "\n",
      "* The *alternative hypothesis*, $H_a$, is: *the average difference \n",
      "is greater than zero.*\n",
      "\n",
      "* Sometimes (actually, often), people will test the alternative, $H_a$: *the\n",
      "average difference is not zero* vs. $H_0$: *the average difference is zero.*\n",
      "\n",
      "* The test is performed by estimating\n",
      "the average difference and converting to standardized units.\n"
     ]
    },
    {
     "cell_type": "markdown",
     "metadata": {
      "slideshow": {
       "slide_type": "slide"
      }
     },
     "source": [
      "## Drawing from a box\n",
      "\n",
      "* Formally, could set up the above test as drawing from a box of *differences\n",
      "in blood pressure*.\n",
      "\n",
      "* A box model is a useful theoretical device that describes the experiment\n",
      "under consideration. In our example, we can think of the sample of decreases\n",
      "drawn 20 patients at random from a large population (box) containing all the possible\n",
      "decreases in blood pressure.\n",
      "\n"
     ]
    },
    {
     "cell_type": "markdown",
     "metadata": {
      "slideshow": {
       "slide_type": "slide"
      }
     },
     "source": [
      "## A simulated box model\n",
      "\n",
      "* In our box model, we will assume that the decrease is an integer drawn at random from \n",
      "$-3$ to 6.\n",
      "\n",
      "* We will draw 20 random integers from -3 to 6 with replacement and test whether the mean\n",
      "of our \"box\" is 0 or not."
     ]
    },
    {
     "cell_type": "code",
     "collapsed": false,
     "input": [
      "mysample = np.random.randint(-3, 7, 20)\n",
      "mysample"
     ],
     "language": "python",
     "metadata": {
      "slideshow": {
       "slide_type": "fragment"
      }
     },
     "outputs": [
      {
       "metadata": {},
       "output_type": "pyout",
       "prompt_number": 42,
       "text": [
        "array([-2,  4,  6, -2,  2, -2,  1,  6,  5, -2, -2,  0, -2,  0,  0,  6,  6,\n",
        "        4,  3,  5])"
       ]
      }
     ],
     "prompt_number": 42
    },
    {
     "cell_type": "markdown",
     "metadata": {
      "slideshow": {
       "slide_type": "slide"
      }
     },
     "source": [
      "The test is usually a $T$ test that has the form\n",
      "$$\n",
      "   T = \\frac{\\overline{X}-0}{S_X/\\sqrt{n}} \n",
      "    $$"
     ]
    },
    {
     "cell_type": "code",
     "collapsed": false,
     "input": [
      "T = (mysample.mean() - 0) / (mysample.std() / np.sqrt(20))\n",
      "T"
     ],
     "language": "python",
     "metadata": {
      "slideshow": {
       "slide_type": "fragment"
      }
     },
     "outputs": [
      {
       "latex": [
        "$$2.55069090569$$"
       ],
       "metadata": {},
       "output_type": "pyout",
       "png": "iVBORw0KGgoAAAANSUhEUgAAAH8AAAAOBAMAAAD07d5EAAAAMFBMVEX///8AAAAAAAAAAAAAAAAA\nAAAAAAAAAAAAAAAAAAAAAAAAAAAAAAAAAAAAAAAAAAAv3aB7AAAAD3RSTlMAIpm7MhCriUTv3c12\nVGZoascqAAACEklEQVQoFV2SzWsTURTFf2PyMmkmXwgudGNsxSouEiiIuppdlx1cKNVFgh8LddFQ\n/FgYSP6DpuBGpYK4FDEbxYWaGFQQCwY3LjPbghg/iA1t03jnveAE3+Jw3j3nnrn3MVjTcy5ynPfR\nowbUbFsqduUGwrJwpnI4gENjpo0T8lnsQRAwNRq1DDgd9Qj1kuMs+tYqvOZ8Vj1kf1Yz45mQr8C9\nIMC59XYMG3AHp8wcV+ES6Tp2I1YnVtBsbPwncx+WXAmIBSkaTkDX68nsbEPVi5RI9TMN7L5mxhPK\nNL3/A/7ASueU9Kvf8LmWKREfFgskB5qZgFAWH888gdj3tqtB/ZKA1vZ8u8YDmcAv5ojvTMkEu5oZ\nYyhLa3xTgIhnDTRYcl24ue2zRhWarYNlopv2D5wdzbRHhbK0JgpBgJzTGkzAyOOY57RSVd+0veLr\nrmGBUYWyXGeCvuDkg4fL75MJVlpb0Kvx7V21UyzLCqTX54eGaWMoQ7IkJbgu+9Y0yBt0O7J+z5fy\nkpfJkRoKi/UN055Qhi9YwZellPc0PJZeT55ZJoAXwYbpvjCnZJj2hDLRHMkgIAdPDHxEfsKuvAEb\n2ehPknX2NNKrLGQ1M55Q5sDt5WsUG+xFTBoSHXWXSFmt8cm74MNTFt3kc/XGMOOZkJuj0RaJEtbs\nRc+AqnxwYfmIiz19UmY7t35ZrjO1MdPGUP4LfALh6vqeBsYAAAAASUVORK5CYII=\n",
       "prompt_number": 43,
       "text": [
        "2.55069090569"
       ]
      }
     ],
     "prompt_number": 43
    },
    {
     "cell_type": "markdown",
     "metadata": {
      "slideshow": {
       "slide_type": "slide"
      }
     },
     "source": [
      "This $T$ value is compared to a table for the appropriate $T$ distribution (in this case there are 19 *degrees of freedom*) and the 5% cutoff is"
     ]
    },
    {
     "cell_type": "code",
     "collapsed": false,
     "input": [
      "cutoff = stats.t.ppf(.975, 19)\n",
      "cutoff"
     ],
     "language": "python",
     "metadata": {
      "slideshow": {
       "slide_type": "fragment"
      }
     },
     "outputs": [
      {
       "latex": [
        "$$2.09302405441$$"
       ],
       "metadata": {},
       "output_type": "pyout",
       "png": "iVBORw0KGgoAAAANSUhEUgAAAH4AAAAPBAMAAADQc2bfAAAAMFBMVEX///8AAAAAAAAAAAAAAAAA\nAAAAAAAAAAAAAAAAAAAAAAAAAAAAAAAAAAAAAAAAAAAv3aB7AAAAD3RSTlMAIpm7MhCriUTv3c12\nVGZoascqAAACNElEQVQoFaWSzWsTQRjGf5tm3TTJNmu9ebAh9ePgpSCKt4RePLooWqpCAmqgUtpg\nwR4sJFdPraQI1YMfPYuBoF6UBhGhqHQR9dp4LBalSlptU+M7Mxv/AefwLM8874939p3ByhzLIcs+\n8iqnxMOangqM7WbDcGbmILzwhytSGk135Smcx/kllkRgP2S0ad2mH/ePsd1sEV5yweN+p61K40Oh\n7GvBVVhQm2twkzG4zErAtrFhlqzSN4dT4/m4p0qXFS9y9rDwd2EyJ/4ErPo7UPZvVewdY8PsQJ2e\nAm6LgtSB9VV4LUnhl3zDb8Lsp5+wUkGdX9kgzEp1UgViuyHvJITXonhZT3wZ3w8BGvekf1NmkTbW\nZH1enXyaWJuJdRkiXxSvxfCxLdm0RE6XynKeBqcehRZUdok6AyWiWxxnoILdEF4LhtfjNHyi4ar+\nzryxZtSlfzz0PMBBeC0hPyjtsaXRbIP11+VA3MI5Y5HMzQmfL6nzQ2SDj4rXYvhkQfZB/n9VoZP+\nXsgGxqpsBOFTadzdPTV5K3ZJeC0Y/gOWJ9wifPfl+4yOT7ZprMo+F4u/x+Uf+1q9NSItt1icvPNe\nSUPz8hiTil+Go6x50Q2qciOett2sSnKOSC0i86hJae9QKGp++6evXyNfIx7Y87z1Lzb5hts2VmdS\nK8/iMaM5Ky0NxKYUr0TxS53ONvEC9sybHE7mpNxZZlBuSVmdwVRngpF3V6D/xiEhnexmU0tkbHtC\n/H+tv5TM0w5QnuqdAAAAAElFTkSuQmCC\n",
       "prompt_number": 44,
       "text": [
        "2.09302405441"
       ]
      }
     ],
     "prompt_number": 44
    },
    {
     "cell_type": "markdown",
     "metadata": {
      "slideshow": {
       "slide_type": "fragment"
      }
     },
     "source": [
      "The result of the test is"
     ]
    },
    {
     "cell_type": "code",
     "collapsed": false,
     "input": [
      "result = abs(T) > cutoff\n",
      "result"
     ],
     "language": "python",
     "metadata": {
      "slideshow": {
       "slide_type": "fragment"
      }
     },
     "outputs": [
      {
       "metadata": {},
       "output_type": "pyout",
       "prompt_number": 45,
       "text": [
        "True"
       ]
      }
     ],
     "prompt_number": 45
    },
    {
     "cell_type": "markdown",
     "metadata": {
      "slideshow": {
       "slide_type": "fragment"
      }
     },
     "source": [
      "If `result` is `TRUE`, then we reject $H_0$ the mean is 0, while if it is `FALSE` we do not reject. Of course, in this example we know the mean in our \"box\" is not 0, it is 1.5.\n"
     ]
    },
    {
     "cell_type": "markdown",
     "metadata": {
      "slideshow": {
       "slide_type": "slide"
      }
     },
     "source": [
      "This rule can be visualized with the $T$ density. The code to produce the figure is a little long, but the figure is hopefully clear. The total grey area is 0.05=5%, and the cutoff is chosen to be symmetric\n",
      "around zero and such that this area is exactly 5%.\n",
      "\n",
      "For a test of size $\\alpha$ we write this cutoff $t_{n-1,1-\\alpha/2}$."
     ]
    },
    {
     "cell_type": "code",
     "collapsed": false,
     "input": [
      "density_fig = plt.figure(figsize=(10,6))\n",
      "axes = density_fig.gca()\n",
      "\n",
      "df = 19\n",
      "x = np.linspace(-4,4,101)\n",
      "axes.plot(x,tdist.pdf(x, df), linewidth=2, label=r'$T$, df=%d' % df)\n",
      "\n",
      "xR = np.linspace(cutoff, 4, 101)\n",
      "yR = tdist.pdf(xR, df)\n",
      "xRpoly, yRpoly = poly_between(xR, 0*xR, yR)\n",
      "axes.fill(xRpoly, yRpoly, facecolor='gray', hatch='\\\\', alpha=0.5)\n",
      "\n",
      "xL = np.linspace(-4, -cutoff, 101)\n",
      "yL = tdist.pdf(xL, df)\n",
      "xLpoly, yLpoly = poly_between(xL, 0*xL, yL)\n",
      "axes.fill(xLpoly, yLpoly, facecolor='gray', hatch='\\\\', alpha=0.5)\n",
      "\n",
      "axes.set_xlabel('standardized units')\n",
      "axes.set_ylabel('density')\n",
      "axes.legend()"
     ],
     "language": "python",
     "metadata": {
      "slideshow": {
       "slide_type": "subslide"
      }
     },
     "outputs": [
      {
       "metadata": {},
       "output_type": "pyout",
       "prompt_number": 46,
       "text": [
        "<matplotlib.legend.Legend at 0x112efee10>"
       ]
      },
      {
       "metadata": {},
       "output_type": "display_data",
       "png": "iVBORw0KGgoAAAANSUhEUgAAAmcAAAGACAYAAADoG8W2AAAABHNCSVQICAgIfAhkiAAAAAlwSFlz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\n/wMzalqdIHtfJQAAAABJRU5ErkJggg==\n",
       "text": [
        "<matplotlib.figure.Figure at 0x10bc34c50>"
       ]
      }
     ],
     "prompt_number": 46
    },
    {
     "cell_type": "markdown",
     "metadata": {
      "slideshow": {
       "slide_type": "slide"
      }
     },
     "source": [
      "As mentioned above, sometimes tests are one-sided. If the null hypothesis we tested was that the mean is less than 0, then we would reject this hypothesis if our observed mean was much smaller than 0. This corresponds to a positive $T$ value."
     ]
    },
    {
     "cell_type": "code",
     "collapsed": false,
     "input": [
      "density_fig = plt.figure(figsize=(10,6))\n",
      "axes = density_fig.gca()\n",
      "\n",
      "df = 19\n",
      "cutoff = tdist.isf(0.05,df)\n",
      "\n",
      "x = np.linspace(-4,4,101)\n",
      "axes.plot(x,tdist.pdf(x, df), linewidth=2, label=r'$T$, df=%d' % df)\n",
      "\n",
      "xR = np.linspace(cutoff, 4, 101)\n",
      "yR = tdist.pdf(xR, df)\n",
      "xLpoly, yLpoly = poly_between(xR, 0*xR, yR)\n",
      "axes.fill(xLpoly, yLpoly, facecolor='gray', hatch='\\\\', alpha=0.5)\n",
      "\n",
      "axes.set_xlabel('standardized units')\n",
      "axes.set_ylabel('density')\n",
      "axes.legend()"
     ],
     "language": "python",
     "metadata": {
      "slideshow": {
       "slide_type": "subslide"
      }
     },
     "outputs": [
      {
       "metadata": {},
       "output_type": "pyout",
       "prompt_number": 47,
       "text": [
        "<matplotlib.legend.Legend at 0x10bd6dfd0>"
       ]
      },
      {
       "metadata": {},
       "output_type": "display_data",
       "png": "iVBORw0KGgoAAAANSUhEUgAAAmcAAAGACAYAAADoG8W2AAAABHNCSVQICAgIfAhkiAAAAAlwSFlz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\nxhhjisj/A6ohHHlBZe+TAAAAAElFTkSuQmCC\n",
       "text": [
        "<matplotlib.figure.Figure at 0x112f34890>"
       ]
      }
     ],
     "prompt_number": 47
    },
    {
     "cell_type": "raw",
     "metadata": {
      "slideshow": {
       "slide_type": "slide"
      }
     },
     "source": [
      "The rejection rules are affected by the degrees of freedom. Here is the rejection region\n",
      "when we only have 5 samples from our \"box\"."
     ]
    },
    {
     "cell_type": "code",
     "collapsed": false,
     "input": [
      "density_fig = plt.figure(figsize=(10,6))\n",
      "axes = density_fig.gca()\n",
      "\n",
      "df = 4\n",
      "cutoff = tdist.isf(0.05,df)\n",
      "\n",
      "x = np.linspace(-4,4,101)\n",
      "axes.plot(x,tdist.pdf(x, df), linewidth=2, label=r'$T$, df=%d' % df)\n",
      "\n",
      "xR = np.linspace(cutoff, 4, 101)\n",
      "yR = tdist.pdf(xR, df)\n",
      "xRpoly, yRpoly = poly_between(xR, 0*xR, yR)\n",
      "axes.fill(xRpoly, yRpoly, facecolor='gray', hatch='\\\\', alpha=0.5)\n",
      "\n",
      "axes.set_xlabel('standardized units')\n",
      "axes.set_ylabel('density')\n",
      "axes.legend()"
     ],
     "language": "python",
     "metadata": {
      "slideshow": {
       "slide_type": "fragment"
      }
     },
     "outputs": [
      {
       "metadata": {},
       "output_type": "pyout",
       "prompt_number": 48,
       "text": [
        "<matplotlib.legend.Legend at 0x112f76350>"
       ]
      },
      {
       "metadata": {},
       "output_type": "display_data",
       "png": "iVBORw0KGgoAAAANSUhEUgAAAmcAAAGACAYAAADoG8W2AAAABHNCSVQICAgIfAhkiAAAAAlwSFlz\nAAALEgAACxIB0t1+/AAAIABJREFUeJzs3Xd4XNd97vvvFPRGgkQjSLBzsffeREoiZatYlGRZbnIi\nWy5yi32T3Dg5J8e5jnPixEe+cRw7cWS5y02WZVm9UBQL2CtYF0iwgEQhCtH7lPPHABREggRIYrBn\ngPfzPHzEmT0b89PiEHi59l6/5QoGg4iIiIhIZHA7XYCIiIiIvEvhTERERCSCKJyJiIiIRBCFMxER\nEZEIonAmIiIiEkEUzkREREQiiDdcX9gY4wZ+AMwG2oDHrbVFPbzuv4Fqa+3f9vUcERERkcEqnDNn\nG4BYa+1y4GvAk1e+wBjzWWAmEOzrOSIiIiKDWTjD2QrgNQBr7S5gYfeDxpjlwGLgh4CrL+eIiIiI\nDHbhDGepQH23x/7Oy5YYY3KA/wV8kXeD2XXPERERERkKwnbPGaGQldLtsdtaG+j8/QeBkcArQDaQ\naIw50cs5PQoGg0GXy3W9l4iIiIhEil5DSzjDWT5wH/CsMWYpUNB1wFr7PeB7AMaYPwOMtfZnxpgH\nr3XOtbhcLiorG8JRf1TLyEjRuPRA43I1jUnPNC4907j0TONyNY1JzzIyUnp9TTjD2fPAOmNMfufj\nx4wxHwGSrbVP9fWcMNYnIiIiEnHCFs6stUHgiSueLuzhdT/r5RwRERGRIUM324uIiIhEEIUzERER\nkQiicCYiIiISQRTORERERCKIwpmIiIhIBFE4ExEREYkgCmciIiIiESScTWhFREREBkxx8Tm++90n\nWbXqNjZt2kh2djbTps3gT396nh/96Oe43dExJxUdVYqIiIj04uTJQv7lX77Dhg0P4fF4+NjHPsGG\nDQ/x0Y8+2msw+8QnHsHv9/OlL32WJ574FI2Njdd9fU3NJR588B6Ki8/15/8CoJkzERERGSTGjBmD\n1xuKNufPF5OXNw6AsWPH9en8yspKmpubefrpX1z3dT6fj3/91/9NfHz8rZR7TQpnIiIi0q/+7dlD\nFBRV9+vXnD1xBF95eM51XzNlylQgFMxyc3MvPz95srnqta2trXzjG39PXV0tubmjCQQCPPnkP3Ph\nQjHf/vb/ZtGiJTz33O/ec84XvvAXTJ06ne9//7s88MAH+cUvftIP/2dXUzgTERGRQeX48aNMmzbj\nuq/54x9/z/jxE/j0p5+guPgsf/3XX+Ev//JrfP3rf8df//XfAbBmzR1XnffKKy8ybNgwFi9e2hnO\ngv1ev8KZiIiI9KuvPDyHjIwUKisbHHn/48ePsWDBouu+prj4HMuWrQAgL28cw4YNf8/xTZve4g9/\nePY9z33+81/mlVdeBGDv3t2cPFnIN7/5D3zrW0+Snj6i3+pXOBMREZFB5cSJo3z843923deMGzeB\nw4cPsWrVGkpKLlBXV/ue42vX3snatXdedd5//Md/X/79l770Wf76r/+uX4MZaLWmiIiIDBInTxby\nq1/9nFOnTrFlyzvU1FyiurqKr3/976567YYND1FZWckTT3yKp5/+ISkpqQC4XK6BLvsqrmCw/6+V\nDrCgU9OmkczJ6eRIpnG5msbkav5AgJEjU6i51OR0KRFHn5eeaVyuFilj4vf7+c///B5f/OJXnC4F\ngIyMlF7Tny5risiQV9/UTlFJHadK6igqqeNMeQPBIIzLTmFibiqTctOYmJvGsOQ4p0sVkRsUDAb5\n6EcfdbqMG6JwJiJDUjAYZMuhUl7dVUxFTUuPrznVGdhe5zwAI9PiWbdwDHcsHI07Ai59iEjvvF5v\nv98TFm4KZyIy5FTVtfDTV09w7GwNAHExHsbnpDBpdBoTR4VmyTJGJrP7cOnlGbXTpfVU1bXy640n\n2Wsr+OQ908ganujw/4mIDEYKZyIyZASDQTYfLOW3m07R1u4nOSGGj945mUXTMvFcsbVLcmIssyaM\nYNaE0L+4A4EgB05W8os3Cjl5oY6vP72bB2+byJ2aRRORfqZwJiJDwpWzZQumZPDxuwxpSbF9Ot/t\ndrHAZGLyhvPrtwrZcfQiv9l4kn22gk/ePY2sdM2iiUj/UCsNERn0zpU38PUf7+HY2RqSE2L43P0z\n+PwDM/sczLpLTojh0/fN4EsPzSItKZaTF+r4h5/s4eSF2t5PFhHpA4UzERnUyi81853fHaSlzcfs\niSP45uNLWDwt65Z7Gc2bnME/Pr6EhSaDtg4/3322gAsVjf1UtYgMZQpnIjJo1TS08eRvDtLQ3MGM\n8el88cFZpN7EbNm1JCfE8Nn7ZzB/SgbNbT6e/N1BKmp7XvkpItJXCmciMig1tnTwnd8epLq+lQmj\nUvnCAzPxevr/W57H7eazH5jO1Lxh1DW2853fHKSusa3f30dEhg6FMxEZdNra/Xz32UOUVDUxamQS\nX3l4DvGx4Vv/FOP18KWHZjM2O4WK2ha+87tDNLd2hO39RGRwUzgTkUHF5w/w/ecPU1Raz4jUeP7y\nkbkkJ8SE/X0T4rx89UNzyEpP5HxFI9/9fQFtHf6wv6+IDD4KZyIyqPzidcuRM5dISYzhLz88l+Ep\nA7flUmpiLH/1SOg9T16o48cvH2cQ7F8sIgNM4UxEBo0DJyvZWlBGjNfNVz80h2wHeo+NSAvN1sXH\nethzooJdxy4OeA0iEt0UzkRkUGhobudnr1kAHlo9gXHZqY7VMmpkEh++YzIAv3yjkJoGLRAQkb5T\nOBORQeGXbxRS39TOlDHDuHPRGKfLYdXsHGZPHEFzm4+fvKrLmyLSdwpnIhL1dh27yJ4TFcTFePjU\nPdMiYq9Ll8vFn79/KknxXo6cvsSWQ6VOlyQiUULhTESiWm1jG798I3Q585E7JpExLMHhit41LDmO\nj683APzm7VNUqkGtiPSBwpmIRK1gMMhPXz1BU6uPmePTuW3OKKdLusriaZksnJpJW7ufH798nIAu\nb4pIL8LWldEY4wZ+AMwG2oDHrbVF3Y4/BPwNEASesdb+e+fz+4G6zpedttZ+Klw1ikh021ZQRkFR\nNYlxXh67e9ot75cZDi6Xi0fXT6GwuAZ7vpa39l5gfQTcEycikSt8LbNhAxBrrV1ujFkCPNn5HMYY\nD/DPwAKgCThmjPkl0AxgrV0bxrpEZBC4VN/KrzeeBOBj66YMaD+zG5WSGMufvX8q33vuMM9tLmL2\nxBGOtPkQkegQzsuaK4DXAKy1u4CFXQestX5gqrW2AcgAPEA7MAdINMa8bozZ2BnqRESu8tzm07S2\n+5k3eSRLZ2Q5XU6v5k3OYNmMbDp8AZ7ddMrpckQkgoUznKUC9d0e+zsvdQJgrQ0YYx4EDgCbCM2a\nNQHfttbeBXwOeKb7OSIiAOfKG9hxtByP28Ujd0yOyMuZPXl47UTiYjwcOFlF4flap8sRkQgVzsua\n9UBKt8dua22g+wustX8wxjwP/BT4BPAr4FTnsZPGmGogByi53htlZKRc7/CQpXHpmcblatE0JsFg\nkH/7fQEA962awIzJmWF7r/4el4yMFB5aO4lfvWF5bstp/s+XV+N2R0ew7C6aPi8DSeNyNY3JzQln\nOMsH7gOeNcYsBQq6DhhjUoEXgXXW2nZjTBPgBx4jtIDgC8aYUYRm38p6e6PKyoYwlB/dMjJSNC49\n0LhcLdrG5NCpKgpOVZEY5+X2uaPCVnu4xmXlzCxezj/DyfO1vLK1iCXTI/+SbHfR9nkZKBqXq2lM\netaXwBrOS4bPA63GmHxCiwG+aoz5iDHm09baeuCXwBZjzFYg0Pn4aSDVGLMF+A3w2JWzbSIydPkD\nAZ59J7To+74V40hOiHG4ohsXH+vlgdUTAHhucxEdPn2LE5H3CtvMmbU2CDxxxdOF3Y4/BTx1xXEf\n8Gi4ahKR6La1oIzSqiZGpsVz+/zRTpdz01bOyuHNPecpqWpi474LvG9JntMliUgE0c32IhIVWtt9\n/HHrGQA+uGYiMd7o/fbldrt4eO0kAF7afpbGlg6HKxKRSBK9391EZEh5bVcx9U3tTBiVyqKp4VsE\nMFBmTUhn+rjhNLf5eGn7WafLEZEIonAmIhGvpqGN13YXA/ChtZOipnXG9bhcrtD/C7Bx3wUqtO+m\niHRSOBORiPfCttO0dwSYPyWDKWOGOV1Ov8nLSmH5zGz8gSDPvVPU+wkiMiQonIlIRKuqbWFbQTlu\nl4sPrpnodDn97oHVE/B63Ow5UUFJVZPT5YhIBFA4E5GI9uquYgLBIEumZw7K/SjTU+NZNScHgFd2\nnHW0FhGJDApnIhKxahvb2FoQ6kN999KxDlcTPu9fnIfb5WLXsQrdeyYiCmciErne2HMenz90r1lu\nRrLT5YTNyGEJLJuRRSAY5LVdxU6XIyIOUzgTkYjU2NLBpgOhbXXvWTZ4Z826vH/pWFzAtoJSahvb\nnC5HRBykcCYiEentfRdoa/czY9xwxuekOl1O2I0amcR8k4HPH+SN3eedLkdEHKRwJiIRp7Xdx5t7\nQwHlnmXjnC1mAHXNEG46UKJdA0SGMIUzEYk47xwopanVx8TcVEze4Olr1ptx2anMHJ9OW4eft/Zq\n9kxkqFI4E5GI0uHz8/qe0E3x9y4bNyh2A7gR9y4fB4R2DWhp8zlbjIg4QuFMRCJK/uFy6hrbGZ2R\nzOyJI5wuZ8BNGTOMyaPTaGr1sflgqdPliIgDFM5EJGL4AwFe2XkOgHuXjx1ys2Zduu6ze313MR0+\nv7PFiMiAUzgTkYix53gFVXWtZA5PYKHJdLocx8yakE5eZjJ1Te3kHy53uhwRGWAKZyISEYLB4OUV\nmu9bkofbPTRnzQBcLhd3d67cfHPveYLBoMMVichAUjgTkYhwurSeM2UNJMV7WTYj2+lyHDd/SgbD\nU+Ioq27m2Nkap8sRkQGkcCYiEeGtfRcAWD13FHExHoercZ7X42btvFwAtdUQGWIUzkTEcTUNbew9\nUYHLBbfPG+10ORFj9dxReD1uCoqquVjT7HQ5IjJAFM5ExHHvHCjBHwgyf0oGI9LinS4nYqQmxrJ0\nehZB4O19JU6XIyIDROFMRBzV4fPzzsFQ8Fi3cIzD1USeOxaEZhK3HS5VU1qRIULhTEQctft4BQ3N\nHeRlJjN5dJrT5UScsdkpTBmdRkubn+1H1FZDZChQOBMRx3Rvn3HHwtFDtulsb+7snFF8a98FAmqr\nITLoKZyJiGNOldRRfLGR5IQYlk7PcrqciDVvykjSU+O4eKmZo2cuOV2OiISZwpmIOOatvaH2GbfN\nHUWMV+0zrsXjdnP7/NC9Z11jJiKDl8KZiDjiUn0r+2wlbpfrcvCQa1s9ZxQxXjeHT1dTfkltNUQG\nM4UzEXHEpgMlBIJBFk4NdcKX60tOiGHZjNCl342aPRMZ1BTORGTAdfj8bD5YCsCdC9Q+o6/u6Byr\nbUfK1FZDZBBTOBORAbfXVtLY0kFeVjITc1OdLidqjMlMZsqYYbS1+9l57KLT5YhImCiciciA65o1\nWzM3V+0zbtCauaMA2HyghKDaaogMSgpnIjKgSquaKDxfS1yMhyVqn3HDFpgMkhNiKK5o5Gx5g9Pl\niEgYKJyJyIDqmjVbMj2LhDivw9VEnxivh+Uzs4HQnqQiMvgonInIgOnw+dl+pAyANfNGOVxN9Lqt\n89LmruMXtTBAZBAK2z9bjTFu4AfAbKANeNxaW9Tt+EPA3wBB4Blr7b/3do6IRLe9JyppavUxNiuF\ncdlaCHCzckYkMTVvGCeKa9l5tJy16hMnMqiEc+ZsAxBrrV0OfA14suuAMcYD/DNwB7AM+LwxZkTn\nOXE9nSMi0e+dg6HLcLdp1uyWre6cPXvnYKkWBogMMuEMZyuA1wCstbuAhV0HrLV+YKq1tgHIADxA\ne+c5r/Z0johEt5KqJk5eqCMu1sOSaVoIcKsWTMkkOSGG8xWNnCnTwgCRwSSc4SwVqO/22N952RIA\na23AGPMgcADYBDT1do6IRK/NnbNmS7UQoF/EeN2snJUDvDsjKSKDQzi/Q9YDKd0eu621ge4vsNb+\nwRjzPPBT4BN9OacnGRkpvb1kSNK49EzjcrVwj0lbh58dR0NNUzesnRw1fwaRXueG2yfz2u5i9pyo\n4IsfmkdSQsyAvG+kj4tTNC5X05jcnHCGs3zgPuBZY8xSoKDrgDEmFXgRWGetbTfGNAH+651zPZWV\nmtK/UkZGisalBxqXqw3EmGw/UkZTSwfjslNIi/NExZ9BNHxWYuHywoCXtpwakA3ko2FcnKBxuZrG\npGd9CazhDGfPA+uMMfmdjx8zxnwESLbWPmWM+SWwxRjTARwCftn5uvecE8b6RGSAvNPZ26yrBYT0\nnzXzcjlRXMs7B0pZO087LogMBmELZ9baIPDEFU8Xdjv+FPBUD6deeY6IRLGSykZOdS0E0I4A/W7+\nlAxSEmO4UNnI6bJ6Jo5Kc7okEblFutleRMJq86HQrNmy6VnEx2ohQH/zetys6FwYsPlAqcPViEh/\nUDgTkbDp8AXYcaQceLcvl/S/2+aExnbPiQrtGCAyCCiciUjYHDxVRVOrjzGZyYzN0qqtcMlKT2TK\n6DTaOvzsPVHhdDkicosUzkQkbLYWhC6zrZydoxvVw2zl7NDs2dbDZQ5XIiK3SuFMRMLiUn0rR09f\nwutxsWxGttPlDHoLp2YQF+vh1IU6yqqbnC5HRG6BwpmIhEX+4TKCwLzJGSQPUHPUoSw+1suSaZkA\nbCvQ7JlINFM4E5F+FwgG2dZ5eW3V7ByHqxk6ui5t5h8px+fvdXMVEYlQCmci0u8Ki2uprG0lPTWO\n6ePSnS5nyJg4KpWcEYnUN7Vz+HS10+WIyE1SOBORfre187Laipk5uN1aCDBQXC4XKztnKnVpUyR6\nKZyJSL9qbvWxz4baOazQJc0Bt3xGNm6Xi0OnqqlrbHO6HBG5CQpnItKvdh+/SLsvwNS8YWQOS3C6\nnCEnLTmOOZNGEAgG2XH0otPliMhNUDgTkX7VdUlz1RztCOCUrkubWwtKCQaDDlcjIjdK4UxE+s2F\nykbOlNWTEOdlwZQMp8sZsmZNGEFqUixl1c0UldY7XY6I3CCFMxHpN103oS+ZnkVsjMfhaoYur8fN\n8pmhxr/bCrQZuki0UTgTkX7h8wfYcTS0ybl6mzmv689g1/EKWtu1GbpINFE4E5F+cehUNQ3NHeRm\nJDEuW5ucOy1nRBKTctNoa/ezz1Y6XY6I3ACFMxHpF/mdOwKsnKVNziPFilmhS5v52gxdJKoonInI\nLatraqegqBq3y8VSbXIeMRZNzSLG6+ZEcS2VtS1OlyMifaRwJiK3bNfRcgLBILMnjiAtKdbpcqRT\nYvy7q2a3Hyl3uBoR6SuFMxG5JcFum5x3XUaTyLFiVmhhQP7hMgLqeSYSFRTOROSWFF9s5EJlE8kJ\nMcyZNNLpcuQK08YOJz01jqq6Vk6er3W6HBHpA4UzEbklXTebL52ehdejbymRxu12vdvzTAsDRKKC\nvpOKyE3z+QPsPBbav7Hr8plEnhUzQ382e09UqueZSBRQOBORm3boVDWNLR2MzkgmLyvZ6XLkGrLS\nE5k0Oo22DvU8E4kGCmcictPe7W2Wrd5mEW5lt4UBIhLZFM5E5KZ09TbzuNXbLBosNJnEdvY8q1DP\nM5GIpnAmIjdlZ2dvs1kTRpCq3mYRLzHey3zT2fNMs2ciEU3hTERu2Ht7m2khQLTo+rPafqRcPc9E\nIpjCmYjcsOKLjZRc7m02wulypI+m5b3b86ywWD3PRCKVwpmI3LBt6m0WldTzTCQ66LuqiNyQDl+A\nnUdD+zTqkmb06ep5ts+q55lIpFI4E5EbUlBURVOrT73NolT3nmd7T6jnmUgkUjgTkRuSfzg0a6be\nZtFr5eWFAbq0KRKJFM5EpM+6epu5XS6WqLdZ1Ore86xSPc9EIo43XF/YGOMGfgDMBtqAx621Rd2O\nfwT4C8AHHAY+b60NGmP2A3WdLzttrf1UuGoUkRuzq7O32dxJI0lTb7OolRjvZf6UDHYeu8j2I+Xc\nv3K80yWJSDfhnDnbAMRaa5cDXwOe7DpgjEkA/hFYY61dCaQB9xpj4gGstWs7fymYiUSQbYe7FgJo\n1izarei2nZN6nolElnCGsxXAawDW2l3Awm7HWoFl1trWzsdeoAWYAyQaY143xmw0xiwJY30icgOK\nLzZwobKRpHgvsyeOdLocuUXTxg5neEqo59nJ8+p5JhJJwhnOUoH6bo/9nZc6sdYGrbWVAMaYLwFJ\n1tq3gCbg29bau4DPAc90nSMiznq3t1k2MV79tYx23XuedS3yEJHIELZ7zggFs5Ruj93W2kDXg87Q\n9a/AJOChzqcLgVMA1tqTxphqIAcoud4bZWSkXO/wkKVx6ZnG5Wq9jUmHL8Du4xUA3Lt64pAZw8H+\n/3nv6om8vOMc+wor+IuPzCc+rm8/Egb7uNwsjcvVNCY3J5zhLB+4D3jWGLMUKLji+A8JXd58wFrb\ndcPDY4QWEHzBGDOK0Oxbr2u9Kysb+q3owSIjI0Xj0gONy9X6Mib7Cyupb2onNyOJ1Dj3kBjDofBZ\niXPBxNxUikrqeX37aZbP7L2p8FAYl5uhcbmaxqRnfQms4QxnzwPrjDH5nY8f61yhmQzsBT4JbAHe\nNsYA/BvwNPATY8yWrnO6z7aJiDPyuzY5n5mj3maDzIpZORSV1JN/uLxP4UxEwi9s4axzNuyJK54u\n7PZ7zzVOfTQ8FYnIzahvfre32dIZWU6XI/1s8dRMfv3WSY6fq6GqroWRaQlOlyQy5OmuXhG5rl1H\nL+IPBJk5IZ1hyXFOlyP9LDE+hnmTQ6tvdxzRwgCRSKBwJiLXdfmSpjY5H7RWXu55Vk5QPc9EHKdw\nJiLXVHyxgeKKUG+zuZNGOF2OhMn0cekMS46loraFkxfqej9BRMJK4UxErqmr/9XiaVnEeK91m6hE\nu1DPs3d3DBARZymciUiPfP4AO46GwtnK2bqkOdh1bcm1+0QFbe1+h6sRGdoUzkSkR4dOVdPY0kHu\nyCTGZauR5GCXMyKJibmptLX72WsrnC5HZEhTOBORHnVfCKDeZkPDylm6tCkSCRTOROQqdY1tl3ub\nLevcf1EGv8XTsoj1ujlRXEtFbYvT5YgMWQpnInKVHUcvEggGmT1xBGlJsU6XIwMkIc7LApMBwHbN\nnok4RuFMRN4jGAyyrfMHsxYCDD3de54F1PNMxBEKZyLyHmfKGiitaiIlMYbZE9XbbKgxY4czIjWe\n6vpWTpyrcbockSFJ4UxE3qNr1mzZjGy8Hn2LGGrcLtflthrbdGlTxBH6zisil7V3+Nl17CLw7uUt\nGXq6turaZytpbvU5XI3I0KNwJiKX7T9ZSUubj7HZKYzOTHa6HHFIxrAEpuYNo8MXYPeJi06XIzLk\nKJyJyGX5BZ0LATRrNuR1zZ51fSZEZOAonIkIAJfqWzl2tgavx8WS6VlOlyMOW2gyiY/1UFRaT1l1\nk9PliAwpCmciAkD+kXKCwLzJGSQnxDhdjjgsLtbDoqmZgBYGiAw0hTMRIRgMXt6yR73NpEvXZ2H7\nkXL8gYDD1YgMHQpnIkLh+VoqaloYnhLHjHHpTpcjEWJSbhpZ6YnUNbZz+PQlp8sRGTIUzkSELYdK\ngdBN4G63NjmXEJfLxerO2bOtnZ8REQk/hTORIa6xpYO9thLQJU252vKZ2bhdLg6dqqausc3pckSG\nBIUzkSFu8/4LdPgCTBs7nMxhCU6XIxEmLTmOOZNGEAgGyT9S7nQ5IkNCr+HMGPMDY8yigShGRAbe\nm7vPAbBqjmbNpGer5owCYGtBGUFthi4Sdt4+vGYX8C1jTBbwM+AX1lr980lkEDhX3kDRhTqS4r0s\nmJLhdDkSoWZNSCctOZaLl5o5duYSmSmxTpckMqj1OnNmrf2ZtfYO4G7ABewwxrxkjNkQ9upEJKy2\nFoRu8l46I5sYr8fhaiRSedzuy7tGvLHrnMPViAx+fbrnzBgzHvjzzl8ngeeBR4wxvwhbZSISVu0d\nfnYeDe2buEoLAaQXXZ+RbYdKtRm6SJj15Z6zfOCtzofvs9aut9Y+DTwKrA9ncSISPvsLK2lu8zFp\nzDDyslKcLkciXObwRKbmDaO9w8/u49oMXSSc+jJz9qS1dqK19hvW2mIAY8xYa60PyA5veSISLl29\nzdYvznO4EokWXQsDtqjnmUhYXXNBgDFmDKHw9g1jzN5uh2KAVwBjrdWyHZEoVFHTzIniWmK9blbP\nG01zY6vTJUkUWDAlg18lxHC2vIHiiw2acRUJk+vNnH0DeAeYDGzu9us1QuFMRKLU1oLQPpoLp2aS\npE3OpY9iYzysmT8aePczJCL975ozZ9baxwCMMX9jrf2XgStJRMLJHwhc3uRcCwHkRq1bnMfL+WfY\nebScD62dqFW+ImFwvcuan7HW/jcQb4z5X90OuYCgtfYbYa9ORPrdkdOXqG1sJ2t4AlPGDHO6HIky\nE0cPY2xWCucuNrCvsJKl03XrsUh/u95lTVe3/3b/1f2YiESZzQdDN3OvmjMKl0t/leXGre7cTWLL\nQS0MEAmHa4Yza+0PO//7D8C3rLX/H/ArYB/wzQGpTkT61aX6Vg4VVeFxuy43FRW5UUumZxMb4+ZE\ncS1l1U1OlyMy6PS6fVPnJc1Jxpi/J7Qg4BhwP/DpXs5zAz8AZgNtwOPW2qJuxz8C/AXgAw4Dnyc0\nI3fNc0Tk1mw5VEowCPNNBqlJ2oJHbk5ivJcl07LYWlDG5oOlfPiOyU6XJDKo9KXPWVcQ+wjwjLX2\nTmB+H87bAMRaa5cDXwOe7DpgjEkA/hFYY61dCaQB93aeE9fTOSJya/yBwOUVdmvmjnK4Gol2a+bl\nApB/uIwOn9/hakQGl76EM4+1to1QeHrFGOMBEvtw3gpCbTew1u4CFnY71goss9Z2NVfydj63Anj1\nGueIyC0oKKqmpqGNrPREpo4d7nQ5EuXGZacwNiuFplYfe22l0+WIDCq9XtYE3jLGHAFaeLfX2Yt9\nOC8VqO/22G+McVtrA53NaysBjDFfApKstW8aYz50rXOu90YZGWqE2BONS8+G6rjseOEoAPesGE9m\nZup7jg21f9PiAAAgAElEQVTVMemNxqVnXeNy76oJfP/3h8g/Us4H1ujSpj4vV9OY3Jxew5m19q+M\nMf8OlFhrA8aYL1hrC/rwteuB7n8q7wlZnfek/SswCXioL+dcS2VlQx/KGVoyMlI0Lj0YquNSVdvC\nvuMX8XpczBk//D1jMFTHpDcal551H5fpY9KIi/Vw7MwlDh4rIzcj2eHqnKPPy9U0Jj3rS2Dty8bn\n44AvA08ZY34CfNUY8+M+vH8+cHfn11gKXBnofgjEAQ90u7zZ2zkichO2FJQSBBaaTFIStRBA+kdC\nnJdl07OAd1u0iMit68tlzd8BWzp/denLnprPA+uMMfmdjx/rXKGZDOwFPtn5Nd82xgD8W0/n9OF9\nROQ6fP4AWw91LgTovIlbpL/cNjeXdw6Wkn+knIfWTCQuRjsGiNyqvoQzr7X2r270C3feV/bEFU8X\ndvv9tf4GX3mOiNyCQ6eqqGtqJ2dEIpNHpzldjgwyY7NTGJ+TypmyevYcr2CltgQTuWV9Wa25zRjz\nAWOMroWIRKF3Oi83rZmbqx0BJCy6WrNsPljicCUig0NfwtnDwB+BVmNMoPOXmtqIRIGKmmaOnrlE\njNfN8lnaA1HCY/G0LBLiPBSV1lN8UTeAi9yqvqzW1By1SJTafCg0a7ZoaiZJ8TEOVyODVVysh2Uz\nsnl7fwmbD5by6F3G6ZJEolpftm+KA/4KMIRWbX6Z0F6b7WGuTURugc8fIL9ACwFkYKyZm8vb+0vY\ncbSch9dOJD62L7c0i0hP+nJZ8/uEVlguILQP5mTg6XAWJSK3bu+JCuqbOxidkczEUam9nyByC0Zn\nJjNpdBqt7X52HL3odDkiUa0v4WyBtfZvgXZrbSPwCfq2t6aIOGjj/gsA3LFACwFkYNwxfzQAb++7\nQDDYl45LItKTvoSzwBUrNUcCvXbtFxHnnC2vp6iknsQ4L0unayGADIwFJoO0pFhKqpqwxbVOlyMS\ntfoSzr4LvAVkG2O+C+wj1DBWRCLUxn2hWbOVs3OIi1VTUBkYXo+b2zrbanR9BkXkxl3zjk1jzJ91\ne/gbwEWocez/ATrCXJeI3KSG5nZ2HavABdw+XwsBZGCtmZfLyzvOsf9kJdV1rYxIi3e6JJGoc72Z\ns0XAQuBR4P8ltBAgD/g88GD4SxORm7HlUCk+f4BZE0eQOTzR6XJkiBmWHMcCk0EwCO+oKa3ITblm\nOLPWftFa+yUgFphnrf1K5zZOi4GMgSpQRPrOHwjwzoHQD8Q7Fox2uBoZqro+e5sPltLhU89ykRvV\nl3vOsoD6bo9bUTgTiUiHTlVTXd9G5vAEZoxPd7ocGaIm5aaRl5VMY0sHu49XOF2OSNTpSzh7Edho\njPmiMebLwDvAr8NalYjclK6bsG+fPxq32meIQ1wu17ttNfZrYYDIjeo1nHVeyvweoR0CJgH/bK39\nergLE5EbU1LVxPFzNcTFeFipfTTFYUumZ5EU7+VMWQOnS+t7P0FELuvT/hrW2ueA58Jci4jcgq4Z\nimUzs0nUPprisNgYD6vmjOK1XcVs3HeBCaOmO12SSNToy2VNEYlwza0+th8uB9Q+QyLH7fNycQF7\nTlykvknbMYv0lcKZyCCQf6SMtg4/U/OGMToj2elyRAAYOSyBOZNG4vMH2ay2GiJ9pnAmEuUCgSAb\n9767EEAkktyxMPSZ3HSgBJ9fO/+J9IXCmUiUO3CyioraFkamxTN/irrcSGSZPnY4uRlJ1Da2s+vY\nRafLEYkKCmciUe6NPcUArFs4Brdb7TMksrhcLtYvGgPAG3vOEwwGHa5IJPIpnIlEsdOl9Zy8UEdC\nnJeVs3OcLkekR0unZ5OWFMv5ikaOn6txuhyRiKdwJhLFXt8dmjVbM3cUCXF96owjMuBivG5u79zS\n6fXd5x2uRiTyKZyJRKmq2hb22go8bpf20ZSIt3ZeLrFeN4dPV1NS1eR0OSIRTeFMJEq9te8CwSAs\nmpZJemq80+WIXFdyQgwrZoUuvb/ZeZ+kiPRM4UwkCjW3+thyqBSAuxblOVyNSN+sWzQGF7D9iJrS\nilyPwplIFNpyqJTW9lDT2bHZKU6XI9In2emJnU1pA9oQXeQ6FM5EoozPH+CtfaGbqtcv1qyZRJe7\nFofaary9v4T2Dr/D1YhEJoUzkSizz1Zyqb6N7PREZk8c4XQ5IjdkypjQbG9jSwc7jpY7XY5IRFI4\nE4kiwWDwcvuM9YvG4Hap6axEF5fLdXn27I095wmoKa3IVRTORKJI4flazpY3kJwQw/KZ2U6XI3JT\nFppM0lPjKKtupuBUtdPliEQchTORKPLSjnMA3D4/l9gYj8PViNwcr8fN+oWh2bOXd5zVlk4iV1A4\nE4kSZ8rqOXrmEnGxHu7s/MEmEq1Wzx1FckIMRaX12OJap8sRiSgKZyJR4pXOWbO183JJTohxuBqR\nWxMf6+XOhaGdLV7ecdbRWkQiTdg24zPGuIEfALOBNuBxa23RFa9JBN4EPmmttZ3P7QfqOl9y2lr7\nqXDVKBItSqqa2FdYGboctEizZjI43LFgNK/tKubo2RrOlNUzPifV6ZJEIkI4Z842ALHW2uXA14An\nux80xiwEtgDjgWDnc/EA1tq1nb8UzESAV3eGZs1Wzc5hWHKcw9WI9I+k+BjWzs8F4KXtZ50tRiSC\nhDOcrQBeA7DW7gIWXnE8llCAs92emwMkGmNeN8ZsNMYsCWN9IlGhsraFnUcv4na5eN8SNZ2VwWX9\nojxivG4OnKyipLLR6XJEIkI4w1kqUN/tsb/zUicA1trt1tor9+9oAr5trb0L+BzwTPdzRIai13YV\nEwgGWToji4xhCU6XI9Kv0pJiWTU7tCH6K50zxCJDXdjuOSMUzLpv+ue21gZ6OacQOAVgrT1pjKkG\ncoCS652UkaG9BXuicelZNI3LpfpWth0uw+WCj989PWy1R9OYDCSNS8/6e1w+9v7pbD5Yyq7jFXzy\n/llkj0jq168/UPR5uZrG5OaEM5zlA/cBzxpjlgIFfTjnMUILCL5gjBlFaPatrLeTKisbbqXOQSkj\nI0Xj0oNoG5ffbTpFhy/AgikZxLvD81mPtjEZKBqXnoVjXFzA0hlZ5B8u55lXjvGJ903t168/EPR5\nuZrGpGd9CazhvGT4PNBqjMkntBjgq8aYjxhjPn2dc54GUo0xW4DfAI/1YbZNZFBqbOlg04HQpPE9\ny8c6XI1IeN29dCwuYNvhMmoa2pwuR8RRYZs5s9YGgSeueLqwh9et7fZ7H/BouGoSiSZv77tAW7uf\nmePTGZetFgMyuOWMSGKByWCvreT13cV8+I7JTpck4hjdbC8SgZpbO3hjz3kA7lmmWTMZGu5ZNg6A\ndw6WUNfU7mwxIg5SOBOJQG/sOU9zm4+pecMwecOdLkdkQIzNTmHupJG0dwQu74ghMhQpnIlEmMaW\nd2fNHlg9weFqRAbWhlXjAdh0oET3nsmQpXAmEmFe21VMa+e9ZpNHD3O6HJEBlZeVwkKTgc8f4KUd\nZ50uR8QRCmciEaSuqZ239oVmzTas0qyZDE33rxyPC9hysJSquhanyxEZcApnIhHk1Z3naO8IMHfS\nSCaM0gpNGZpyM5JZMiMLfyDIi/lnnS5HZMApnIlEiJqGtst9zbruuxEZqu5fMR63y0X+4XIu1jQ7\nXY7IgFI4E4kQL+84S4cvwEKTQV6WtjyRoS0rPZHlM7MJBIP8adtZp8sRGVAKZyIRoKquhc0HS3ER\nut9GROC+FePwuF3sPFpOaVWT0+WIDBiFM5EI8NL2s/gDQZbMyCI3I9npckQiQsawBFbNGUUQeGHb\nGafLERkwCmciDquoaWZbQTlul4v7V2jWTKS7e5eNxetxs+dEBcUXtYm2DA0KZyIO+8OW0wSCQZbP\nzCYrPdHpckQiSnpqPGvmjQLguc2nHa5GZGAonIk4qKikjt3HK4jxurVCU+Qa7l0+jvhYD4dPV3P0\nzCWnyxEJO4UzEYcEg0F+u+kUAOsXjSE9Nd7hikQiU2piLPcsGwvA7zadIhAIOlyRSHgpnIk4ZH9h\nJacu1JGSGMPdS8c6XY5IRFu3cAzpqXGcr2hkx9Fyp8sRCSuFMxEH+PwBnn2nCAi1zkiI8zpckUhk\ni43x8NDqiUDoPs22Dr/DFYmEj8KZiAPeOVBCRU0L2emJrJ4zyulyRKLCkhlZjM1KoaahjTf2nHe6\nHJGwUTgTGWDNrR38qXO/wIfXTsTr0V9Dkb5wu1x8aG1o9uyVneeoa2p3uCKR8NBPBZEB9vKOczS2\ndDBlzDDmThrpdDkiUWXauHTmTBxBW7ufP6kxrQxSCmciA6iqtoU3914A4JHbJ+FyuRyuSCT6PLx2\nEm6Xi80HS7WtkwxKCmciA+gPW07j8wdYOj2L8TmpTpcjEpVGjUxi9dxRBIJBnu1sRyMymCiciQyQ\nwvO17Dx2Ea/HxYOrJzhdjkhUu3/leOJiPRwqqubw6WqnyxHpVwpnIgPAHwjwyzcKAXj/krGMHJbg\ncEUi0S0tKfbyXrTPvFlIhy/gcEUi/UfhTGQAvL2/hAuVjYxMi+fuZWo4K9If7lw4mlEjk6ioaeG1\n3cVOlyPSbxTORMKsrqmdP24Nbdj8kTsnExfjcbgikcHB63HzsXVTAHh5+1mqalscrkikfyiciYTZ\ns5tO0dLmZ/bEEWqdIdLPpo0dzpLpWbT7Avx640mnyxHpFwpnImFUeL6W7UfK8XrcfPTOyWqdIRIG\nH1o7ibhYDwdOVlFQVOV0OSK3TOFMJExCiwAsAHcvzSNzeKLDFYkMTsNT4i4vDvjVmyfp8GnfTYlu\nCmciYfL2vhIuVDaFFgEs1SIAkXC6vDigtoVXd2lxgEQ3hTORMKhtbOOP20KLAD66bgqxWgQgElZe\nj5uPdy0O2HGOSi0OkCimcCYSBr/ZeJKWNj9zJ43UIgCRATJ17HCWTs+iwxfgF29YgsGg0yWJ3BSF\nM5F+ts9Wsvt4BXExHj5652SnyxEZUh65fRKJcV6OnL7E9iPlTpcjclMUzkT6UWNLx+VFAB9cM1E7\nAYgMsLTkOD7S+Y+i32w8SV1jm8MVidw4hTORfvTbjSepa2pn8ug01s7PdbockSFp+cxsZk5Ip6nV\nxy/eKNTlTYk63nB9YWOMG/gBMBtoAx631hZd8ZpE4E3gk9Za25dzRCLV4dPV5B8pJ8br5rG7p+FW\nTzMRR7hcLv7srqn8/dO72F9YyV5byaKpmU6XJdJn4Zw52wDEWmuXA18Dnux+0BizENgCjAeCfTlH\nJFK1tPn42WsnANiwajzZ6eppJuKkEWnxPLx2EgC/fMPS0NzucEUifRfOcLYCeA3AWrsLWHjF8VhC\nYczewDkiEenZd4q4VN/G+JwU1i8a43Q5IgLcNncUU/OG0dDcoa2dJKqEM5ylAvXdHvs7L1sCYK3d\nbq29cCPniESi4+dqeOdACR63i8funobHrY+sSCRwu1z8+funEut1s/PoRQ6e1NZOEh3Cds8ZoZCV\n0u2x21obCMM5ZGSk9PaSIUnj0rP+HJeWNh+/eGMnAB9eb5g3PaffvvZA0melZxqXnkXTuGRkpPCJ\ne6bzoxeO8Ms3C1k2N5fkxNiwvZe8l8bk5oQznOUD9wHPGmOWAgVhOofKyoabLnKwyshI0bj0oL/H\n5cevHKe8upkxmcncNis7Ksdcn5WeaVx6Fo3jstRksCk3laKSep58Zh9P3D8DVz8v2InGcQk3jUnP\n+hJYw3n95Xmg1RiTT+jG/q8aYz5ijPn0jZwTxvpEbsmeExVsKygjxuvm0/dNx+vR5UyRSOR2u/j0\nvdOJi/Ww90QF2w6XOV2SyHWFbebMWhsEnrji6cIeXre2l3NEIk51XSs/ezW0OvOR2ycxOiPZ4YpE\n5Hoyhyfy6Pop/Oil4/zqzZNMHj1Mq6olYumf+iI3KBAI8tSLR2lu8zF30kjWzlOzWZFosGxGNkum\nZ9HW4eeHfzqKz9/rLc0ijlA4E7lBL+88R+GFOtKSYvnzu6f2+70rIhIeLpeLR9cbRqbFc668gee3\nnna6JJEeKZyJ3ICikjpe2HoGgMfvnU5qmFZ9iUh4JMZ7+cx9M3C54LWdxRw7e8npkkSuonAm0kct\nbT5++KejBIJB7lo8hhnj050uSURuwqTRady/YjxB4EcvHaOxpcPpkkTeQ+FMpA+CwSA/f91SVddK\nXlYyD66e6HRJInIL7lk+lkmj06htbOfpl44R0OboEkEUzkT64K29F9h17CJxMR4++4EZxHj1V0ck\nmnncbj5z33SS4r0cKqrm5e1nnS5J5DL9hBHphS2u4XebTgHwyXumkTMiyeGKRKQ/jExL4NP3zcAF\n/HHrGQqKqp0uSQRQOBO5rpqGNv7zhaP4A0HetySPRVMznS5JRPrR7IkjuH9V6P6zp148SkVti9Ml\niSiciVyLzx/gB88fpr6pnal5w3jotglOlyQiYXDv8nHMnTSSplYf3//DYdo6/E6XJEOcwpnINfx6\n40mKSutJT43jcxtm4nHrr4vIYOR2uXj83mlkDk/gfEUjP3vtBEEtEBAH6aeNSA+2FZSxaX8JXo+L\nLzwwS/3MRAa5xPgYvvjgLGJj3Ow8epGN+y44XZIMYQpnIlc4U1bPL96wAHx8vWF8TqrDFYnIQBid\nkcwn754GwG/fPsWJczUOVyRDlcKZSDeVtS1899lDdPgCrJ4zitVzRjldkogMoMXTsrhr8Rj8gSD/\n8YfDlFY1OV2SDEEKZyKdmlo7+LdnD1Hf3MH0ccP5+PopTpckIg54eM0k5k0eSXObj3979hB1Te1O\nlyRDjMKZCKGVmd//w2HKqpvJHZnE5zfMwuvRXw+RocjtdvGZ+2YwPieFqrpW/v33BVrBKQNKP31k\nyAsGg/zklROcKK4lLSmWrzw8h8R4r9NliYiD4mI9fPmDcxiZFs+ZsnqeevEYgYBWcMrAUDiTIe+F\nbWfYcbScuBgPX3l4DiPS4p0uSUQiwOV/rMV52V9YeXmnEJFwUziTIS3/cBl/yj+LywWfvX8GY7NT\nnC5JRCLIqJFJfOHBWXjcLt7Yc14tNmRAKJzJkLXPVvKTV04A8LF1U5g7aaTDFYlIJJo2djiP3T0V\ngF+9WciOI+UOVySDncKZDEmHT1fzXy8cIRAMcu/ysdw+f7TTJYlIBFs+M4eH10wkCDz98nH22Qqn\nS5JBTOFMhpwT52r4jz8cxh8Ism7hGB5YpT0zRaR37186lvuWjyMQDPJfLxyloKjK6ZJkkFI4kyHl\nxLlLfPf3BXT4Atw2dxQfvmMSLpfL6bJEJEpsWDWe9YtCTWq///wRjmsXAQkDhTMZMs6VN/AP/72D\ntg4/S2dk8eh6o2AmIjfE5XLxyO2TWDMvlw5fgH//fQGnLtQ5XZYMMmrmJEPChcpGnvztQZpafSyY\nksGn7pmG261gJiI3zuVy8fH1U2jv8LP9SDn//7MHGTkyiWHqjyj9RDNnMuidKavnX57ZT2NLBwum\nZvLZ+2fgceujLyI3z+1y8djdU1k4NZOWNj//4z+3U3i+1umyZJDQTygZ1GxxDd/+9QGaWn3MmTiC\nv/3zxdqWSUT6hcft5jP3TWfxtExa2nx857cHOXy62umyZBDQTykZtA6fruY7vztEa7ufxdMy+cKD\ns4iL8ThdlogMIl6Pm8/cN4N1i/No77wHbe8JtdmQW6NwJoPS3hMV/HvnqszVc3L4zH0zNGMmImHh\ndrv40ofmsm5haBXnf75whPzDZU6XJVFMdy/KoLOtoIyfvHqcYBDWLxrDI7erXYaIhJfL5eLDd0wi\nIc7Dn/LP8vTLx2lt93PHAjW4lhuncCaDRjAY5MX8s/xx2xkA7l85ng+sGKdgJiIDwuVysWHVBOJj\nvfxu0ymeebOQS/WtPLRmIm59H5IboHAmg0KHL8BPXz3BjqPluIAP3zmZdQvHOF2WiAxB71uSR2K8\nl5+/Znl1VzEVNS08ft903fMqfaabcCTqNbZ08ORvDrDjaDlxMR6+9NBsBTMRcdTqOaP46iNzSIjz\nsq+wkn/91X7qGtucLkuihMKZRLWLl5r5p5/vpfBCHcOSY/nax+Yzd/JIp8sSEWHGuHT+7tEFjEyL\n50xZA//4s71cqGx0uiyJAgpnErVOnKvhmz/fy8WaFvIyk/mfn1jI2OwUp8sSEbksd2QS/+MTC8lK\nc3OpoY1/+vlebZguvQrbPWfGGDfwA2A20AY8bq0t6nb8PuDvAR/wY2vtjzqf3w90bVR22lr7qXDV\nKNEpGAzy6q5inttcRDAIsyeO4HP3zyA+VrdQikjkSUuK5cFFSbxR0ERRRYDvPlvAvcvHcf/K8dpG\nTnoUzp9mG4BYa+1yY8wS4MnO5zDGxADfARYCzUC+MeYFoAHAWrs2jHVJFGtu7eDpl49z4GToX573\nLBvLA6sm6BuciEQ0r8fFnTNiSE/ys+dMBy9uP8vp0jo+84EZpCTGOl2eRJhwXtZcAbwGYK3dRSiI\ndZkGnLLW1llrO4BtwG3AHCDRGPO6MWZjZ6gTAaD4YgPf+OleDpysIiHOy5cfms1Dt01UMBORqOBy\nuVgw3su9c2OJ88LRszX8w0/2UFRa1/vJMqSEM5ylAvXdHvs7L3V2Hev+aWwA0oAm4NvW2ruAzwHP\ndDtHhqhgMMjWQ6X80y/2UVEbur/s648t0o3/IhKVRqd7eHhxHJkpLmoa2vjWL/ezcd8FgsGg06VJ\nhAjnZc16oPvd2W5rbaDz93VXHEsBaoBC4BSAtfakMaYayAFKrvdGGRm6Cbwng2FcGprb+cHvD7Ht\nUCkA6xbn8dkHZ99Sv6DBMC79TWPSM41LzzQuPbveuKSlJdLS8u4sf1ISfHR1HJuPtXLgTDvPvFnI\nyZJ6vvihOQxPiR+IcgeEPis3J5zhLB+4D3jWGLMUKOh27AQw2RgznNBs2Wrg28BjhBYQfMEYM4rQ\nDFuvG5RVVjb0c+nRLyMjJerH5ciZan788nFqG9uJi/Hw0XWTWTV7FPW1zTf9NQfDuPQ3jUnPNC49\n07j0rLdxqatrpqOj/arnl4x3MyIxhs0n2tl9rJzP/0sVj909jXmTM8JZ7oDQZ6VnfQms4QxnzwPr\njDH5nY8fM8Z8BEi21j5ljPl/gNcJXVp92lpbZox5GviJMWZL1zndZttkiGjr8PP7TUVs3H8BgIm5\nqXz63ulkDk90uDIRkZvT1tZ2zftjJ2V5yEqLZ9OxdkprfXzvucOsmp3Dh++YTEKcVqEPRa5BcI07\nqGR+tWj9F8uZsnp+9NIxyqqb8bhd3L9yPO9fmofH3T+3HkbruISTxqRnGpeeaVx61tu4vPLKi/j9\nHWRlZV/zNcFgkILzfnYVdRAIuhiZFs/j905nyphh4Sg57PRZ6VlGRkqvq9h0s71EhJY2H796q5Bv\n/nwvZdXN5IxI5H9+YiH3Lh/Xb8FMRMQp6enpbN26lYsXy6/5GpfLxZw8Lx9cFEd6ElTVtfKtZ/bz\ns9dO0NTaMYDVitM0XyqOO1BYyS/fLKSmoQ23y8X6xaN5YNUEYrVJsIgMEnFxcaxatYqtW7eyatWq\n686gpSe7eWhRHPvO+jh4zsfmg6UcKKzko+umsGhqJi6X2gcNdgpn4phL9a0882bh5Yay47JT+LP3\nTdUWTCIyKGVlZfc5oHncLhZPiGFSpofNJzq4WN/Bf71wlG2Hy3h0vSFjWMIAVi4DTeFMBlyHz8+b\ney/w0vaztLb7iYv18ODqCdwxf7QayorIoHYjAQ1Cs2gbFsRyvNTPzlMdHDl9if/51E7uXjaO9y3O\nIy5WVxgGI4UzGTDBYJA9Jyr4/TtFVNW1AjBv8kg+tm4K6amDp6+PiMj13GhAc7lcTM/1Mi7Dw/aT\nHZy6GOCFbWfYfLCEh26byLKZ2bh1qXNQUTiTAXG6tJ7fbDzJqZLQxhC5GUk8cvskZo4f4XBlIiID\n70YDGkBirIs7Z8QyfVSA7Sc7qGps5+mXj7Nx3wU+fMfkqF3VKVdTOJOwKqtu4k/5Z9l17CIAqYkx\nbFg9gVWzc7QKU0SGtJsJaACjhrt5aFEsheUBdhV1cLa8gW89s5/5UzLYsGo8ozOSw1y5hJvCmYRF\nRU0zf8o/y46j5QSD4PW4Wb9oDPcsG6umiiIinW42oLlcLkyOhwmZbg6e83Gw2Mf+wkoOFFayaFom\n968cT86IpDBXL+Gin5LSr6pqW3hx+1nyD5cTCAbxuF2snJPDvcvGMSJN95WJiFzpZgMaQIzHxaIJ\nMUzP9XLgnI9jJT52H69gz4kKlk7P4gMrxpOVrt1Voo3CmfSLkspGXttdzM6jF/EHgrhdLlbOyuHe\nFePI1JJvEZHrupWABpAU52LllBjm5nnZf87HiVIfO45eZNexiyyelsX7luSRl6U2RdFC4UxuWjAY\npPB8La/uKqagqBoAlwuWzdC/1kREbtStBjSA5HgXq00Mc/M87D/rx5b52HnsIjuPXWTGuOG8b8lY\npo8brka2EU7hTG6Yzx9gf2Elr+8u5kxZaN+0GK+blbNzuGvRGG1QLiJyk/ojoAGkJrhZM83NgnFe\nCi74OF7i4+jZGo6erWFMZjLvW5zHwqmZxHi1MCsSKZxJn9U0tLH5YAmbD5VS19gOQHJCDLfPz+X2\nBaNJTYx1uEIRkejXXwENICXBxYrJMSwc5+VoiZ/D532cr2jkqZeO8euNhdw2N5fb5o5iZJpuP4kk\nCmdyXcFgkOPnati0v4QDJ6sIBIMA5IxI5Pb5o1k5O4c47YEpItKv+jOgAcTFuJg/zsvsMR4Ky/0c\nueDjUpOPl3ec45Wd55gzcSRr5+cyY3y6GtpGAIUz6VFlbQvbj5Sz/UgZlbWhbv4et4uFJpPb5+Vi\n8obpngURkTDq74AG4PWEdhuYNspDeV2Q/UWNnK/1cPBUFQdPVZGeEsfyWdmsmJmj+4YdpHAml7W0\n+dhrK9h+uBx7vvby88NT4rht7ihWzxnFsOQ4BysUERlawhHQINQnLWeYi3sWpFJccpF3DpQSTJvC\npd5ANlEAABGHSURBVIY2Xtp+jpe2n2NSbirLZ+WweGomifEx/fK+0jcKZ0NcW7ufgtPV7Dl+kYKi\natp9AQBivW7mmwxWzMphWt5wbUguIuKQcAW0Lnm5WdzlDbJl6yss+L/t3Xl0XOV5x/HvaBttM5JG\nuy0bGy+PIdhgY5cANstpU1JISkmTLidNCsGHJD2lJGnLaQqF0CYkLUlLUiihKQkUApzCIe2hOSFA\n4lPAxCyJE2wHHuN9k2Rts2g0Gi1z+8e9MiN5ZBlsae5Iz+ecObPce1+981rW/Oa9733fNZfTNVjD\n7qMj7DocZ9fhOI8+t5OVZ9azbkUT5y5tsInEZ4C18ByUHhpl254eXn3rKG/s7mZoOHNs2/K2Gi5a\n2cq6FU32H9AYY3xiugNac3MLl2zYwIsvbmLDhg2sl2b2Hs3wVvsIR6IZtr7dzda3uykpDrBqSQNr\nVzRy7hILatPFWnWO6Euk+dXubn75djdv7u9jeOSdQLZkXpi1K5pYK002i78xxvjUTAS07PKXt7aw\nvLWYZNphz9FRdh8dpSPmTqX0i51dFBcFOOuMOs5b1sB5SxuIhO3z43SxcDZLjWYc9hyJs31PD7/c\n1c2+jsS47Ytbw6xb0cTaFY12CbUxxhSImQ5ozc0tVAUDrFxQwsoFJfSnHfZmBbXte3vZvreXR57d\nyYKmas5d2sCqM+tZPM9WIzgVFs5mke5Yih17e9mxt5e3DkTpTw0f21ZWUsTZiyKct6yBVUvqbWC/\nMcYUqHwEtDHVWUEtNeSwv2eU/d0ZDvaMcvBoPweP9vO/L++jvKyY1dLE0tYQ71scscnJ3yULZwWs\nJzaIHuxDD0TRg1GO9qXGbW+qreDsxRFWLann7DPqKLP5yIwxZlbIZ0AbU1EWYEVrCStaYWTU4Ug0\nw4EeN6jFUqP8bFs7P9vWDkB9OMiKhXUsX1jLioV1NNSU23RMJ2DhrEBkHIcj3Ul2H46x61AMPRil\nOzY4bp+KYDFnnRHhfYsjbFizgBInM0lpxhhjZlI6nT7tV737IaCNKSkOsLC+mIX1xUAp8VSGrmQx\nu9vTHOrN0BNPs3l7B5u3dwDuFE2ysJZlbbUsmRemrbHaZgXIYuHMp+LJIfZ1JNhzJMbuwzH2tMdJ\npUfH7VMRLGF5Ww2ysA5ZWMvC5mqKi9x10hobqujqSuQq2hhjzAzr7e1ldHQ4rwFqJssPVxTR2lDG\nkgaHjOPQ0+9wpC9DezTDkWiGvkSaLTs62bKjE4BgaRFnzqthyfwwZ86rYXFLiJo5PPzGwpkPxJJD\nHOhMsK8jwf6OBPs64vTG08ftFwkHWTKvhiXza5AFtSxosm8axhhTCCKRCE899aSvAtRMlV8UCNAY\nCtAYKuLche6ygL1Jh/Zoho5Yho5ohv50hjf39/Hm/r5jx9VWl7GoJcyilhCLWkMsbA5RU1U2J06H\nWjibQcMjGTp6BzjkDZo82OXex5NDx+0bLC3mjOZqFrWGWTrfDWR1obn7LcIYYwpZMBj0dYCayfID\ngQD11QHqq4s4p819bSDtoAd6eWNnO1X1i4ili4n2Dx1bVmpMqKKUtqZqFmTdWusrKS2ZXWOqLZxN\ng1R6hKN9Kdp7khzpSXK4K8mRngG6+lLHFg7PVl5WTFtTtfvtoCXEopYwLZFK6xUzxphZpJAC1EyX\nXxkMsHpZPfPCw7z44o+4av0GysNNdMUduhIZuhIZuhMOidTwcT1sgQA01lQwr6HKu1XSWl9FS6Sy\nYCfJDTg5wkKBcfIxtio9NEpXNMXRaIqjfSk6+wbo7B2gvXeAWP/xPWHg/QLVVrCg0U37Y+m/vqac\notPcTdvYGLIxZzlYuxzP2iQ3a5fcrF1ym6pdtm59neFh97Ohs7Nj2gKUn8qvqgqSTB4/ROe9lu84\nDv2D0JPM0JNwvPsM8ZSDQ+7P0HBlKS31VbREKmiOVNJUW0Gjd8tXcGtsDE35gV+YkXIGDI9k6I0P\n0h0fpCc2SHcsRU9skK7oIEejqZynIseUFBfRXFdBS6SS1oYq5ntpviVSMeu6Xo0xxrw7hdzDlc/y\nA4EAoQoIVRSzqOGd/UczDrEBdxxbXzJDX9IhOuAQG8gQHxgmPhBl58HocT8nVFFKU50b1Opryqmv\nKaehppyGmgrqw8G8fl7PyXCWHhol2p8m2p+mL+HeehNpeuODxx6fKHyBe9lwQ437j9pUW0FzxA1j\nzZFK6sPldkrSGGPMpGZrgMpH+cVFASLVASLVAO8EqrGetmgqQ2zADWzxlEM85fa2JVLDJFLD7D4S\nz1luqLKUSKicSDhIXShIJFxOXShIbXWQ2uoyaquD09b7NmvC2fDIKImBYeIDQ8STw8STQ8SSaeLJ\nYe9+iFhyiGh/+rgpKXIpCgSIhIPUh90k/U6qdsNYXShoAcwYY8x75qeAMxvLz+5pWxAZv81xHJJp\n2H+km63bd9G2eAVOSTWJlENiMEN/2iExMExiYJj9nZOfrg6WFnlhLUhNdRnhyjL3vqqMmqoyQpXu\na6HK0nc1EXzBjzm74c7nnb7EIINDUweuMSXFRdRWl1EXClJTHSQScm914XL3cbiccFXpsTnDCpGN\nC8nN2uV41ia5WbvkZu2S27sZczaRX8aIne7y3+uYs5Mt/3TJVX7GcUgNQX/aITnojLsfSDskvduo\nc/KdNMHSIsJVZXz3766Y/WPO2nuSgNutGaos9VJqqZdag8fSa7i6jJrKMmpDQarKS+bEPCnGGGP8\nz+89UHOx/KJAgKogVAUDEM59nOM4DI1AMu0wMOQwMASpIfdxyns+mPU8PZyhKzqYu7AJCr7n7HBX\nvzM8OERl0AJXNvt2m5u1y/GsTXKzdsnN2iW3U+k5GzPbetBOV8/ZZOWfbtNZvuM4HG7vZNMLW3j8\n4fumDCvTdt5ORIpE5Nsi8rKIbBKRJRO2f1hEXvW2bzyZY3KZ31hNVXmpBTNjjDEFLbsHp7Ozw8qf\nReUHAgHa5rWw/oKVJ7X/dA6q+j2gTFUvAv4G+MbYBhEpBf4Z+ABwKXCDiDR5xwRzHWOMMcbMdoUc\nQCaW39FR2PWfjvIbG5tPar/pDGcXA88AqOorwNqsbWcBu1Q1pqrDwEvAJd4xP5rkGGOMMWbWK/QA\nMlb+pk2bCrr+01X+yZjOCwLCQPbkIaMiUqSqGW9bLGtbAqiZ4hhjjDGmIDlOgJ6e3pPev6SkjNWr\n17BlyxbOOWcltbV1p7U+M1H+unXrCrr+01F+On1yFwRMZziLA6Gs59khKzZhWwiITnHMZAKNjaEp\ndpmbrF1ys3Y5nrVJbtYuuVm75HaidrniistmriI+snHjxnxXoSBN52nNzcCVACLyfuCNrG1vActE\npE5EynBPab48xTHGGGOMMbPetE2lISIB4N+AVd5L1wHnA9Wq+h0R+RBwG25AfEBV78t1jKrunJYK\nGmOMMcb4UMHPc2aMMcYYM5sU7vpExhhjjDGzkIUzY4wxxhgfsXBmjDHGGOMjBb/w+RgRWQFsAZpU\n9cQLmM0BIlIFPArUAkPAn6rqkfzWKr9EpAZ4BHe6ljLgC6q6Jb+18hcRuQb4qKp+PN91yRcRKeKd\nC5PSwEZV3Z3fWvmDiFwAfE1VL893XfzAW+3mu8AZQBD4sqo+nd9a5Z+IFAPfAZYDDvAZVd2R31r5\nh7ci0s+B35zsosdZ0XMmImHcpZ5Obna3uWEj8JqqXoobSG7Oc3384PPAc6p6GXAtcG9ea+MzIvJN\n4E5gri9UO+nSc3OZiNyM+4EbzHddfOTjQJeqXgJ8ELgnz/Xxiw8BGVVdD9wKfCXP9fENL9DfDyRP\ntF/BhzNv+o37gS8CqTxXxzdUdeyDFtxvdX15rI5f/Avw797jUuz3ZaLNwGexcHaipefmsl3AR7Df\nj2xP4E4JBe7n6Uge6+Ibqvo/wKe9p4uwz59sdwH3Ae0n2qmgTmuKyPXA5ya8vB94XFXfEBGYg384\nJmmXa1X15yLyE+Ac4Ldnvmb5M0WbtAAPAzfNfM3y7wRt818iclkequQ3toxcDqr6lIgsync9/ERV\nkwAiEsINarfkt0b+oaqjIvIgcA3w0TxXxxdE5FrcntZnReSLnCCvFPw8ZyLyNnDIe/p+4BXvtJXx\niJtaf6iqS/Ndl3wTkZXAY8BfquqP810fv/HC2adV9Y/zXZd8EZFvAFtU9Qnv+UFVXZDnavmCF84e\nU9UL810XvxCRBcBTwL2q+mCeq+M7ItIMvAKcpapz+myFiPwf7hg8BzgPUOBqVe2cuG9B9ZzloqrL\nxh6LyF7mWA/RZLxUfkhVH8Y9tz3nu9tF5Gzcb7cfU9Vt+a6P8a3NwIeBJ2wZOXMiXvB4FvgzVd2U\n7/r4hYh8AmhT1a/iDh/JeLc5zRsDDoCIbML9InxcMINZEM4mKOxuwNPrAeAhEfkUUIy7fNZcdyfu\nVZrf8k6BR1X1mvxWyXfGvtXNZT8APiAim73n9n9nvLn++5Htb4Ea4DYRGRt79juqOtcvTnsSeNDr\nKSoFblLVdJ7rVFAK/rSmMcYYY8xsUvBXaxpjjDHGzCYWzowxxhhjfMTCmTHGGGOMj1g4M8YYY4zx\nEQtnxhhjjDE+YuHMGGOMMcZHZts8Z8aYAiMid+AuSP/SaShrO3Clqh44heOvAlYBa1X19lOszz3A\na6r60CmW80PgeqACuEVVN55KecYYf7NwZozJt0uAn56msk514kYHcFT1aeBpH9QHAFW9Co4tr7Xk\ndJRpjPEvm4TWGDMjRKQN+D5QibuUy18AAtwLtAMfAeqBL3v71AE3q+qT3gLKUeB8oA24Q1UfFJE6\n3EXszwB2AmuAS719HwDmA/OAF1T1k164+SfcIR3bgM8Dj0w4/jLgcq+cLwH/nf02gFuBu4Gve/sU\nAw+q6t0iEgDuwl3+qRMYAh7O7jnz1qfcpKqLvedfwg2Ed4hIO+4SY+txl1z7A1XdJyL7vJ/1NLAY\neBD4x4ntqaqvnNy/hjHGz2zMmTFmpnwKeFpV1wE3Axer6n8CrwMbVXU78OfA9ap6PrARuC3r+DZV\n3YAbfL7uvfb3wK9UdSVuWBlboPxK4BeqehGwHLhQRNZ425YBl6vqdcA/5Dj+2BJWqrpfVVer6mpv\n323APcANuIHqfOAC4GoRWY8bMNcCZwNXA0uZuvcse8msZuB5VV0DvOC1R/Y+NwKvq+qNuKc5s9tz\n/RQ/xxhTICycGWNmyvPAX4nI93F7tO7N2hbw7v8EWCUitwJfAKq81x3cBaYBdgAR7/FlwGMAqvoq\nsN17/DjwExH5HPCvuD1yY2WpqiZOcHwgqz4AiMgq3B6x31fVIeC3gN8Vka3AFu/9rPTKe1JVR1W1\nD7fXbVxZJ+EZ73571vsck13Wc4xvz3ve5c8xxviUhTNjzIxQ1Zdxe5R+DPwh48d0jfUcvYTb8/Q6\n8BXG/41Ke+U4E47L3mcECIjIjbinLzuBbwG/5p1gk5ri+Oz6ICINuAs5X6eqh7yXi4C/zupVuxj4\nXo7yRie2g7dPdsgqy97ohb8xkwa7KdrTGFPALJwZY2aEiHwV+IR3KvNGYLW3aQQoFZEI7inH21X1\nGeAK3PFcMHlIeQ641it/JW7vFbg9W/er6mPe8/PIfQHUZMcHvNdKcIPZN1X1hazjfgrcICIlIhIC\nXgR+wyvvj0SkTETCuFd+TjytGQXqRKRBRILAByd5b7mMjL0PEfka49tzzYkONMYUDrta0xgzU+4F\nHhWRa3F7lD7rvf4M8G3gk8B/ADtEpBP4ARAUkUrGj8si6/HtwPdEZAewC3jL23Y3cJ+I3ATsx+1V\nWgTsnlBOruPHyneAjwEXAhUicj1uaHsWuAU3SG7F/Tv6wFh4E5G1uKcku7LKO0ZVYyJyF/AacBD3\ntOjE95Vdh2y/BmpF5CGvDtnt+ZmJP8sYU5jsak1jjDHGGB+x05rGGGOMMT5i4cwYY4wxxkcsnBlj\njDHG+IiFM2OMMcYYH7FwZowxxhjjIxbOjDHGGGN8xMKZMcYYY4yPWDgzxhhjjPGR/wfXtLN6JkYV\nVAAAAABJRU5ErkJggg==\n",
       "text": [
        "<matplotlib.figure.Figure at 0x112f341d0>"
       ]
      }
     ],
     "prompt_number": 48
    },
    {
     "cell_type": "markdown",
     "metadata": {
      "slideshow": {
       "slide_type": "slide"
      }
     },
     "source": [
      "## Confidence intervals\n",
      "\n",
      "* Instead of testing a particular hypothesis, we might be interested\n",
      "in coming up with a reasonable range for the mean of our \"box\".\n",
      "\n",
      "* Statistically, this is done via a *confidence interval*.\n",
      "\n",
      "* If the 5% cutoff is $q$ for our test, then the 95% confidence interval is\n",
      "$$\n",
      "[\\bar{X} - q S_X / \\sqrt{n}, \\bar{X} + q S_X / \\sqrt{n}]\n",
      "$$\n",
      "where we recall $q=t_{n-1,0.975}$ with $n=20$. \n",
      "\n",
      "* If we wanted 90% confidence interval, we would use $q=t_{19,0.95}$. Why?"
     ]
    },
    {
     "cell_type": "code",
     "collapsed": false,
     "input": [
      "L = mysample.mean() - cutoff*mysample.std()/np.sqrt(20)\n",
      "U = mysample.mean() + cutoff*mysample.std()/np.sqrt(20)\n",
      "print \"L: {}\\tU: {}\".format(L, U)"
     ],
     "language": "python",
     "metadata": {
      "slideshow": {
       "slide_type": "fragment"
      }
     },
     "outputs": [
      {
       "output_type": "stream",
       "stream": "stdout",
       "text": [
        "L: 0.295574592029\tU: 3.30442540797\n"
       ]
      }
     ],
     "prompt_number": 49
    },
    {
     "cell_type": "markdown",
     "metadata": {
      "slideshow": {
       "slide_type": "slide"
      }
     },
     "source": [
      "Note that the endpoints above depend on the data. Not every interval will cover\n",
      "the true mean of our \"box\" which is 1.5. Let's take a look at 100 intervals of size 90%. We would expect\n",
      "that roughly 90 of them cover 1.5."
     ]
    },
    {
     "cell_type": "code",
     "collapsed": false,
     "input": [
      "cutoff = stats.t.ppf(.95, 19)\n",
      "L, U, covered = [], [], []\n",
      "for i in range(100):\n",
      "    mysample = np.random.randint(-3, 7, 20)\n",
      "    l = mysample.mean() - cutoff*mysample.std()/np.sqrt(20)\n",
      "    u = mysample.mean() + cutoff*mysample.std()/np.sqrt(20)\n",
      "    L.append(l)\n",
      "    U.append(u)\n",
      "    covered.append((l < 1.5) * (u > 1.5))\n",
      "\n",
      "sum(covered)"
     ],
     "language": "python",
     "metadata": {
      "slideshow": {
       "slide_type": "fragment"
      }
     },
     "outputs": [
      {
       "latex": [
        "$$90$$"
       ],
       "metadata": {},
       "output_type": "pyout",
       "png": "iVBORw0KGgoAAAANSUhEUgAAABQAAAAOBAMAAADd6iHDAAAAMFBMVEX///8AAAAAAAAAAAAAAAAA\nAAAAAAAAAAAAAAAAAAAAAAAAAAAAAAAAAAAAAAAAAAAv3aB7AAAAD3RSTlMAEJmJdiLvZqu7zURU\nMt3PQnSBAAAAmElEQVQIHWNgEDJRZQASugwMjOkMYQEMaxjkAhg4Ehg4JrAnMDAvYOBfwMD8kbOB\ngecjg/wEBpbf/A0M3H8Y2ICi3+UVGLi/MDB/YOD6Em/AwPuZgWEJw+HvUCa7y+U/8gYgBUDA8ZFf\ngYHnD4jJ1cA3gYH9IwN7KsP9AJYEBqYFDCwLGZczMLxhELvAwGCkuYGBQdillwEArPwlMBZoFTEA\nAAAASUVORK5CYII=\n",
       "prompt_number": 50,
       "text": [
        "90"
       ]
      }
     ],
     "prompt_number": 50
    },
    {
     "cell_type": "markdown",
     "metadata": {
      "slideshow": {
       "slide_type": "slide"
      }
     },
     "source": [
      "A useful picture is to plot all these intervals so we can see the randomness\n",
      "in the intervals, why the true mean of the box is unchanged."
     ]
    },
    {
     "cell_type": "code",
     "collapsed": false,
     "input": [
      "mu = 1.5\n",
      "plt.figure(figsize=(12,6))\n",
      "plt.xlabel('Sample')\n",
      "plt.xlim((0,100))\n",
      "plt.ylabel('Confidence Intervals')\n",
      "plt.ylim((-2.5+mu,2.5+mu))\n",
      "for i in range(100):\n",
      "    if covered[i]:\n",
      "        col='g'\n",
      "    else:\n",
      "        col='r'\n",
      "    plt.plot([i,i], [L[i],U[i]], color=col, linewidth=2)\n",
      "plt.plot([0, 100], [mu, mu], '--', color='k', linewidth=4)"
     ],
     "language": "python",
     "metadata": {
      "slideshow": {
       "slide_type": "fragment"
      }
     },
     "outputs": [
      {
       "metadata": {},
       "output_type": "pyout",
       "prompt_number": 51,
       "text": [
        "[<matplotlib.lines.Line2D at 0x113316f50>]"
       ]
      },
      {
       "metadata": {},
       "output_type": "display_data",
       "png": "iVBORw0KGgoAAAANSUhEUgAAAtIAAAGACAYAAACAxIXLAAAABHNCSVQICAgIfAhkiAAAAAlwSFlz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\nrkJggg==\n",
       "text": [
        "<matplotlib.figure.Figure at 0x10bc55a90>"
       ]
      }
     ],
     "prompt_number": 51
    },
    {
     "cell_type": "heading",
     "level": 1,
     "metadata": {},
     "source": [
      "Blood pressure example"
     ]
    },
    {
     "cell_type": "markdown",
     "metadata": {
      "slideshow": {
       "slide_type": "slide"
      }
     },
     "source": [
      "* A study was conducted to study the effect of calcium supplements\n",
      "on blood pressure.\n",
      "\n",
      "* More detailed data description can be [here](http://lib.stat.cmu.edu/DASL/Datafiles/Calcium.html).\n",
      "\n",
      "* We had loaded the data above, storing the two samples in the variables `treated` and `placebo`.\n",
      "\n",
      "* Some questions might be:\n",
      "    - What is the mean decrease in BP in the treated group? placebo group?\n",
      "    - What is the median decrease in BP in the treated group? placebo group?\n",
      "    -  What is the standard deviation of decrease in BP in the treated group? placebo group?\n",
      "    - Is there a difference between the two groups? Did BP decrease more in \\\n",
      "the treated group?"
     ]
    },
    {
     "cell_type": "code",
     "collapsed": false,
     "input": [
      "print pd.DataFrame({'treated': treated.describe(), 'placebo': placebo.describe()}).T\n",
      "calcium.boxplot('Decrease', 'Treatment', figsize=(12,6))"
     ],
     "language": "python",
     "metadata": {
      "slideshow": {
       "slide_type": "subslide"
      }
     },
     "outputs": [
      {
       "output_type": "stream",
       "stream": "stdout",
       "text": [
        "         count      mean       std  min   25%  50%    75%  max\n",
        "placebo     11 -0.272727  5.900693  -11 -3.00   -1   2.50   12\n",
        "treated     10  5.000000  8.743251   -5 -2.75    4  10.75   18\n"
       ]
      },
      {
       "metadata": {},
       "output_type": "pyout",
       "prompt_number": 52,
       "text": [
        "<matplotlib.axes._subplots.AxesSubplot at 0x11279f9d0>"
       ]
      },
      {
       "metadata": {},
       "output_type": "display_data",
       "png": "iVBORw0KGgoAAAANSUhEUgAAAtgAAAGTCAYAAAASpGU3AAAABHNCSVQICAgIfAhkiAAAAAlwSFlz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\nkqSCDNiSJElSQf8DKwiLHsd8g+kAAAAASUVORK5CYII=\n",
       "text": [
        "<matplotlib.figure.Figure at 0x1119b3f10>"
       ]
      }
     ],
     "prompt_number": 52
    },
    {
     "cell_type": "markdown",
     "metadata": {
      "slideshow": {
       "slide_type": "slide"
      }
     },
     "source": [
      "## A hypothesis test\n",
      "\n",
      "In our setting, we have two groups that we have reason to believe are \n",
      "different.\n",
      "\n",
      "* We have two samples:\n",
      "   - $(X_1, \\dots, X_{10})$ (`treated`)\n",
      "   - $(Z_1, \\dots, Z_{11})$ (`placebo`)\n",
      "   \n",
      "* We can answer this statistically by testing the null hypothesis \n",
      "$$H_0:\\mu_X = \\mu_Z.$$\n",
      "\n",
      "* If variances are equal, the *pooled $t$-test* is appropriate."
     ]
    },
    {
     "cell_type": "markdown",
     "metadata": {
      "slideshow": {
       "slide_type": "slide"
      }
     },
     "source": [
      "## Pooled $t$ test\n",
      "\n",
      "* The test statistic is $$ T = \\frac{\\overline{X} - \\overline{Z}}{S_P \\sqrt{\\frac{1}{10} + \\frac{1}{11}}}, \\qquad S^2_P = \\frac{9 \\cdot S^2_X + 10 \\cdot S^2_Z}{19}.$$\n",
      "   \n",
      "*  For two-sided test at level $\\alpha=0.05$, reject if $|T| > t_{19, 0.975}$.\n",
      "   \n",
      "* Confidence interval: for example, a $90\\%$ confidence interval\n",
      "for $\\mu_X-\\mu_Z$ is $$ \\overline{X}-\\overline{Z} \\pm S_P \\sqrt{\\frac{1}{10} + \\frac{1}{11}} \\cdot  t_{19,0.95}.$$"
     ]
    },
    {
     "cell_type": "code",
     "collapsed": false,
     "input": [
      "sdP = np.sqrt((9*treated.std()**2 + 10*placebo.std()**2)/19)\n",
      "T = (treated.mean() - placebo.mean()) / (sdP * np.sqrt(1/10 + 1/11))\n",
      "T"
     ],
     "language": "python",
     "metadata": {
      "slideshow": {
       "slide_type": "fragment"
      }
     },
     "outputs": [
      {
       "latex": [
        "$$1.63410824159$$"
       ],
       "metadata": {},
       "output_type": "pyout",
       "png": "iVBORw0KGgoAAAANSUhEUgAAAH8AAAAPBAMAAAA/sQ3hAAAAMFBMVEX///8AAAAAAAAAAAAAAAAA\nAAAAAAAAAAAAAAAAAAAAAAAAAAAAAAAAAAAAAAAAAAAv3aB7AAAAD3RSTlMAzRAiu5mrdu/dZoky\nRFRd1xrCAAACVUlEQVQoFaWST0gUURzHPzOj6+7OuolEt+gFgUEHF8pLp4EiCgo3UAlENKhNvDgV\nilBgZUQHESM7dWgiIvHQTmAJGex2qIuH9tjNoUOnQDQztT/T7+3MbnbuwXsz7/t+v8/7/X7vB7RS\nHfbCG6zF+UA2mbwsIpu9I2Vou9YHHV2nReOdXuTEuJLp08c52R5Z0yLmXs7SQXZb/lNOJBuBeR/y\nJAJzgFJFTmZkaodkGLoc9KwJONATAQyf44wHbInJmBPJs/CCrIfVklAkb0DT7djBeHUVBuGCWDdF\ngKKO5mPFXAXrsRPJJ2BF2Q7mdHKaxE84ujt2SMgXMS2pOuCklqimYBtOJG/ActC8rmzPWKsC/J0A\ncx3GJa84gtWlEZ2kkYcnMcD8JgCX4e3XGp1aI52rA+akvDclAq8GMFc9pmDpgZTTjQHWD/jg0xi2\nasCyTxs1QIOyflGCfW4dECrOKbAnsfkX8PTtpo5tBvw6QPanMNzs3wh09Yva7q76UgOYEsGymx6g\neAsaHbLlnYD+HM+ul4JaBDqhoncYOj/5NQBSg5Ugqcj8hlE4RB1wXtLX1w2rOkBeoViRPDqfFwrD\nd9xqbSXqomoXuyGyeQ5/LhQ2L0UOcl2/+LJHZvwKK1IDpE8e5aTPnEgeQ7ozKcIx3cPSOtqg6pCH\ne8zmMl/jfXsLDb45xRzZ7yLtciKzVGBO0txK2rUeLvZMy8l67NBBeoLLar8nxRncGiI1AC97yjR3\nd1XkJTo3vKpsLoyW4X1vH0YYhgKYD4ciB6v3osLuPiO8/x1/AFEazGXDv2UuAAAAAElFTkSuQmCC\n",
       "prompt_number": 53,
       "text": [
        "1.63410824159"
       ]
      }
     ],
     "prompt_number": 53
    },
    {
     "cell_type": "markdown",
     "metadata": {
      "slideshow": {
       "slide_type": "slide"
      }
     },
     "source": [
      "`scipy.stats` has a builtin function to perform such $t$-tests."
     ]
    },
    {
     "cell_type": "code",
     "collapsed": false,
     "input": [
      "t, p = stats.ttest_ind(treated, placebo, equal_var=True)\n",
      "'t-statistic = {:6.6} p-value = {:.4}'.format(t, p)"
     ],
     "language": "python",
     "metadata": {
      "slideshow": {
       "slide_type": "fragment"
      }
     },
     "outputs": [
      {
       "metadata": {},
       "output_type": "pyout",
       "prompt_number": 54,
       "text": [
        "'t-statistic = 1.63411 p-value = 0.1187'"
       ]
      }
     ],
     "prompt_number": 54
    },
    {
     "cell_type": "markdown",
     "metadata": {
      "slideshow": {
       "slide_type": "fragment"
      }
     },
     "source": [
      "If we don't make the assumption of equal variance, `R` will give a slightly different result."
     ]
    },
    {
     "cell_type": "code",
     "collapsed": false,
     "input": [
      "t, p = stats.ttest_ind(treated, placebo, equal_var=False)\n",
      "'t-statistic = {:6.6} p-value = {:.4}'.format(t, p)"
     ],
     "language": "python",
     "metadata": {
      "slideshow": {
       "slide_type": "fragment"
      }
     },
     "outputs": [
      {
       "metadata": {},
       "output_type": "pyout",
       "prompt_number": 55,
       "text": [
        "'t-statistic = 1.60372 p-value = 0.1288'"
       ]
      }
     ],
     "prompt_number": 55
    },
    {
     "cell_type": "markdown",
     "metadata": {
      "slideshow": {
       "slide_type": "slide"
      }
     },
     "source": [
      "## Pooled estimate of variance\n",
      "\n",
      "* The rule for the $SD$ of differences is\n",
      "   $$\n",
      "   SD(\\overline{X}-\\overline{Z}) = \\sqrt{SD(\\overline{X})^2+SD(\\overline{Z})^2}$$\n",
      "   \n",
      "* By this rule, we might take our estimate to be\n",
      "   $$\n",
      "   \\widehat{SD(\\overline{X}-\\overline{Z})} = \\sqrt{\\frac{S^2_X}{10} + \\frac{S^2_Z}{11}}.\n",
      "   $$\n",
      "   \n",
      "* The pooled estimate assumes $\\mathbb{E}(S^2_X)=\\mathbb{E}(S^2_Z)=\\sigma^2$ and replaces\n",
      "   the $S^2$'s above with $S^2_P$, a better estimate of\n",
      "   $\\sigma^2$ than either $S^2_X$ or $S^2_Z$.\n",
      "\n",
      "## Where do we get $df=19$?\n",
      "\n",
      "Well, the $X$  sample has $10-1=9$ degrees of freedom\n",
      "   to estimate $\\sigma^2$ while the $Z$  sample\n",
      "   has $11-1=10$ degrees of freedom.\n",
      "   \n",
      "Therefore, the total degrees of freedom is $9+10=19$."
     ]
    },
    {
     "cell_type": "markdown",
     "metadata": {
      "slideshow": {
       "slide_type": "slide"
      }
     },
     "source": [
      "## Our first regression model\n",
      "\n",
      "* We can put the two samples together:\n",
      "   $$Y=(X_1,\\dots, X_{10}, Z_1, \\dots, Z_{11}).$$\n",
      "\n",
      "*  Under the same assumptions as the pooled $t$-test:\n",
      "   $$\n",
      "   \\begin{aligned}\n",
      "   Y_i &\\sim N(\\mu_i, \\sigma^2)\\\\\n",
      "   \\mu_i &=\n",
      "   \\begin{cases}\n",
      "   \\mu_X & 1 \\leq i \\leq 10 \\\\ \\mu_Z & 11 \\leq i \\leq 21.\n",
      "   \\end{cases}\n",
      "   \\end{aligned}\n",
      "   $$\n",
      "   \n",
      "* This is a (regression) model for the sample $Y$. The\n",
      "   (qualitative) variable `Treatment` is\n",
      "   called a *covariate* or *predictor*.\n",
      "   \n",
      "* The decrease in BP is the *outcome*.\n",
      "\n",
      "* We assume that the relationship between treatment and average\n",
      "   decrease in BP is simple: it depends only on which group a subject is in.\n",
      "   \n",
      "* This relationship is *modelled* through the mean\n",
      "   vector $\\mu=(\\mu_1, \\dots, \\mu_{21})$.\n"
     ]
    },
    {
     "cell_type": "code",
     "collapsed": false,
     "input": [
      "mod = sm.OLS.from_formula(formula='Decrease ~ Treatment', data=calcium)\n",
      "res = mod.fit()\n",
      "print res.summary()"
     ],
     "language": "python",
     "metadata": {
      "slideshow": {
       "slide_type": "slide"
      }
     },
     "outputs": [
      {
       "output_type": "stream",
       "stream": "stdout",
       "text": [
        "                            OLS Regression Results                            \n",
        "==============================================================================\n",
        "Dep. Variable:               Decrease   R-squared:                       0.123\n",
        "Model:                            OLS   Adj. R-squared:                  0.077\n",
        "Method:                 Least Squares   F-statistic:                     2.670\n",
        "Date:                Wed, 11 Feb 2015   Prob (F-statistic):              0.119\n",
        "Time:                        12:43:12   Log-Likelihood:                -70.735\n",
        "No. Observations:                  21   AIC:                             145.5\n",
        "Df Residuals:                      19   BIC:                             147.6\n",
        "Df Model:                           1                                         \n",
        "Covariance Type:            nonrobust                                         \n",
        "========================================================================================\n",
        "                           coef    std err          t      P>|t|      [95.0% Conf. Int.]\n",
        "----------------------------------------------------------------------------------------\n",
        "Intercept                5.0000      2.335      2.141      0.045         0.112     9.888\n",
        "Treatment[T.Placebo]    -5.2727      3.227     -1.634      0.119       -12.026     1.481\n",
        "==============================================================================\n",
        "Omnibus:                        1.015   Durbin-Watson:                   2.085\n",
        "Prob(Omnibus):                  0.602   Jarque-Bera (JB):                0.918\n",
        "Skew:                           0.314   Prob(JB):                        0.632\n",
        "Kurtosis:                       2.191   Cond. No.                         2.68\n",
        "==============================================================================\n",
        "\n",
        "Warnings:\n",
        "[1] Standard Errors assume that the covariance matrix of the errors is correctly specified.\n"
       ]
      }
     ],
     "prompt_number": 56
    }
   ],
   "metadata": {}
  }
 ]
}