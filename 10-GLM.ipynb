{
 "metadata": {
  "name": "",
  "signature": "sha256:3725000766431fa433570a665fe337e3336d4dee6e9797d4866ab6b8f2dbd8e8"
 },
 "nbformat": 3,
 "nbformat_minor": 0,
 "worksheets": [
  {
   "cells": [
    {
     "cell_type": "markdown",
     "metadata": {},
     "source": [
      "Data Science\n",
      "================================\n",
      "Generalized Linear Model\n",
      "--------------------------------\n",
      "Alessandro D. Gagliardi"
     ]
    },
    {
     "cell_type": "markdown",
     "metadata": {},
     "source": [
      "Last Time\n",
      "---------\n",
      "* Visualizing distributions of data\n",
      "* Linear Models\n",
      "* Ordinary Least Squares\n",
      "* Multiple Regression\n",
      "* Inference for Multiple Regression"
     ]
    },
    {
     "cell_type": "markdown",
     "metadata": {},
     "source": [
      "Agenda\n",
      "---------\n",
      "* [The Whickham Survey](#The-Whickham-survey)\n",
      "* [Logistic Regression](#Logistic-Regression)\n",
      "* [Generalized Linear Model](#GLM)\n",
      "* [Bernoulli (binomial) Distribution](#Bernoulli-Distribution)\n",
      "* [Interpreting Results](#Interpreting-Results)"
     ]
    },
    {
     "cell_type": "heading",
     "level": 1,
     "metadata": {},
     "source": [
      "The Whickham survey"
     ]
    },
    {
     "cell_type": "markdown",
     "metadata": {},
     "source": [
      "Data on age, smoking, and mortality from a one-in-six survey of the electoral roll in Whickham, in the UK. The survey was conducted in 1972-1974 among women who were classified as current smokers or as never having smoked. A follow-up on those in the survey was conducted twenty years later."
     ]
    },
    {
     "cell_type": "code",
     "collapsed": false,
     "input": [
      "%matplotlib inline\n",
      "\n",
      "from __future__ import division\n",
      "\n",
      "import numpy as np\n",
      "import pandas as pd\n",
      "import pandas.rpy.common as com\n",
      "import seaborn as sns\n",
      "import statsmodels.api as sm\n",
      "import statsmodels.formula.api as smf\n",
      "\n",
      "from ipy_table import apply_theme, make_table\n",
      "from seaborn import plt\n",
      "from statsmodels.stats.anova import anova_lm"
     ],
     "language": "python",
     "metadata": {},
     "outputs": [],
     "prompt_number": 3
    },
    {
     "cell_type": "code",
     "collapsed": false,
     "input": [
      "whickham = pd.read_csv('data/Whickham.csv', index_col=0)\n",
      "whickham.head()"
     ],
     "language": "python",
     "metadata": {},
     "outputs": [
      {
       "html": [
        "<div style=\"max-height:1000px;max-width:1500px;overflow:auto;\">\n",
        "<table border=\"1\" class=\"dataframe\">\n",
        "  <thead>\n",
        "    <tr style=\"text-align: right;\">\n",
        "      <th></th>\n",
        "      <th>outcome</th>\n",
        "      <th>smoker</th>\n",
        "      <th>age</th>\n",
        "    </tr>\n",
        "  </thead>\n",
        "  <tbody>\n",
        "    <tr>\n",
        "      <th>1</th>\n",
        "      <td> Alive</td>\n",
        "      <td> Yes</td>\n",
        "      <td> 23</td>\n",
        "    </tr>\n",
        "    <tr>\n",
        "      <th>2</th>\n",
        "      <td> Alive</td>\n",
        "      <td> Yes</td>\n",
        "      <td> 18</td>\n",
        "    </tr>\n",
        "    <tr>\n",
        "      <th>3</th>\n",
        "      <td>  Dead</td>\n",
        "      <td> Yes</td>\n",
        "      <td> 71</td>\n",
        "    </tr>\n",
        "    <tr>\n",
        "      <th>4</th>\n",
        "      <td> Alive</td>\n",
        "      <td>  No</td>\n",
        "      <td> 67</td>\n",
        "    </tr>\n",
        "    <tr>\n",
        "      <th>5</th>\n",
        "      <td> Alive</td>\n",
        "      <td>  No</td>\n",
        "      <td> 64</td>\n",
        "    </tr>\n",
        "  </tbody>\n",
        "</table>\n",
        "</div>"
       ],
       "metadata": {},
       "output_type": "pyout",
       "prompt_number": 4,
       "text": [
        "  outcome smoker  age\n",
        "1   Alive    Yes   23\n",
        "2   Alive    Yes   18\n",
        "3    Dead    Yes   71\n",
        "4   Alive     No   67\n",
        "5   Alive     No   64"
       ]
      }
     ],
     "prompt_number": 4
    },
    {
     "cell_type": "code",
     "collapsed": false,
     "input": [
      "whickham.groupby('outcome').outcome.count()"
     ],
     "language": "python",
     "metadata": {},
     "outputs": [
      {
       "metadata": {},
       "output_type": "pyout",
       "prompt_number": 5,
       "text": [
        "outcome\n",
        "Alive      945\n",
        "Dead       369\n",
        "Name: outcome, dtype: int64"
       ]
      }
     ],
     "prompt_number": 5
    },
    {
     "cell_type": "code",
     "collapsed": false,
     "input": [
      "whickham.groupby('smoker').smoker.count()"
     ],
     "language": "python",
     "metadata": {},
     "outputs": [
      {
       "metadata": {},
       "output_type": "pyout",
       "prompt_number": 6,
       "text": [
        "smoker\n",
        "No        732\n",
        "Yes       582\n",
        "Name: smoker, dtype: int64"
       ]
      }
     ],
     "prompt_number": 6
    },
    {
     "cell_type": "code",
     "collapsed": false,
     "input": [
      "whickham.hist()"
     ],
     "language": "python",
     "metadata": {},
     "outputs": [
      {
       "metadata": {},
       "output_type": "pyout",
       "prompt_number": 7,
       "text": [
        "array([[<matplotlib.axes._subplots.AxesSubplot object at 0x10d2422d0>]], dtype=object)"
       ]
      },
      {
       "metadata": {},
       "output_type": "display_data",
       "png": "[encoded data removed]",
       "text": [
        "<matplotlib.figure.Figure at 0x104c9ced0>"
       ]
      }
     ],
     "prompt_number": 7
    },
    {
     "cell_type": "heading",
     "level": 2,
     "metadata": {},
     "source": [
      "Convert categories to integers:"
     ]
    },
    {
     "cell_type": "code",
     "collapsed": false,
     "input": [
      "whickham.outcome = whickham.outcome.map(lambda o: 1 if o == 'Alive' else 0)\n",
      "whickham.head()"
     ],
     "language": "python",
     "metadata": {},
     "outputs": [
      {
       "html": [
        "<div style=\"max-height:1000px;max-width:1500px;overflow:auto;\">\n",
        "<table border=\"1\" class=\"dataframe\">\n",
        "  <thead>\n",
        "    <tr style=\"text-align: right;\">\n",
        "      <th></th>\n",
        "      <th>outcome</th>\n",
        "      <th>smoker</th>\n",
        "      <th>age</th>\n",
        "    </tr>\n",
        "  </thead>\n",
        "  <tbody>\n",
        "    <tr>\n",
        "      <th>1</th>\n",
        "      <td> 1</td>\n",
        "      <td> Yes</td>\n",
        "      <td> 23</td>\n",
        "    </tr>\n",
        "    <tr>\n",
        "      <th>2</th>\n",
        "      <td> 1</td>\n",
        "      <td> Yes</td>\n",
        "      <td> 18</td>\n",
        "    </tr>\n",
        "    <tr>\n",
        "      <th>3</th>\n",
        "      <td> 0</td>\n",
        "      <td> Yes</td>\n",
        "      <td> 71</td>\n",
        "    </tr>\n",
        "    <tr>\n",
        "      <th>4</th>\n",
        "      <td> 1</td>\n",
        "      <td>  No</td>\n",
        "      <td> 67</td>\n",
        "    </tr>\n",
        "    <tr>\n",
        "      <th>5</th>\n",
        "      <td> 1</td>\n",
        "      <td>  No</td>\n",
        "      <td> 64</td>\n",
        "    </tr>\n",
        "  </tbody>\n",
        "</table>\n",
        "</div>"
       ],
       "metadata": {},
       "output_type": "pyout",
       "prompt_number": 8,
       "text": [
        "   outcome smoker  age\n",
        "1        1    Yes   23\n",
        "2        1    Yes   18\n",
        "3        0    Yes   71\n",
        "4        1     No   67\n",
        "5        1     No   64"
       ]
      }
     ],
     "prompt_number": 8
    },
    {
     "cell_type": "code",
     "collapsed": false,
     "input": [
      "lm = smf.ols(\"outcome ~ 1\", data=whickham).fit()\n",
      "lm.params"
     ],
     "language": "python",
     "metadata": {},
     "outputs": [
      {
       "metadata": {},
       "output_type": "pyout",
       "prompt_number": 9,
       "text": [
        "Intercept    0.719178\n",
        "dtype: float64"
       ]
      }
     ],
     "prompt_number": 9
    },
    {
     "cell_type": "markdown",
     "metadata": {},
     "source": [
      "Modeling the intercept tells us that 71.9% of women surveyed were still alive 20-years later.\n",
      "\n",
      "Modeling smoker\n",
      "========================================================\n",
      "Add whether or not the woman was a smoker to the model:"
     ]
    },
    {
     "cell_type": "code",
     "collapsed": false,
     "input": [
      "lm = smf.ols(\"outcome ~ smoker\", data=whickham).fit()\n",
      "lm.params"
     ],
     "language": "python",
     "metadata": {},
     "outputs": [
      {
       "metadata": {},
       "output_type": "pyout",
       "prompt_number": 10,
       "text": [
        "Intercept        0.685792\n",
        "smoker[T.Yes]    0.075376\n",
        "dtype: float64"
       ]
      }
     ],
     "prompt_number": 10
    },
    {
     "cell_type": "markdown",
     "metadata": {},
     "source": [
      "...smokers are 7.54% more likely to survive?!?\n",
      "\n",
      "Modeling smoker + age\n",
      "========================================================"
     ]
    },
    {
     "cell_type": "code",
     "collapsed": false,
     "input": [
      "lm = smf.ols(\"outcome ~ smoker + age\", data=whickham).fit()\n",
      "lm.params"
     ],
     "language": "python",
     "metadata": {},
     "outputs": [
      {
       "metadata": {},
       "output_type": "pyout",
       "prompt_number": 11,
       "text": [
        "Intercept        1.472554\n",
        "smoker[T.Yes]    0.010474\n",
        "age             -0.016155\n",
        "dtype: float64"
       ]
      }
     ],
     "prompt_number": 11
    },
    {
     "cell_type": "markdown",
     "metadata": {},
     "source": [
      "A 20-year old smoker: $1.47 + 0.01 - 0.016 \\times 20 = 1.16$  \n",
      "...has a $116\\%$ chance of being a live 20-years later??\n",
      "\n",
      "Probability(?) of Outcome\n",
      "========================================================"
     ]
    },
    {
     "cell_type": "code",
     "collapsed": false,
     "input": [
      "sns.lmplot(\"age\", \"outcome\", whickham, hue=\"smoker\", size=8, aspect=1.5, y_jitter=.1);"
     ],
     "language": "python",
     "metadata": {},
     "outputs": [
      {
       "ename": "NameError",
       "evalue": "name 'sns' is not defined",
       "output_type": "pyerr",
       "traceback": [
        "\u001b[1;31m---------------------------------------------------------------------------\u001b[0m\n\u001b[1;31mNameError\u001b[0m                                 Traceback (most recent call last)",
        "\u001b[1;32m<ipython-input-2-b4d993fecd51>\u001b[0m in \u001b[0;36m<module>\u001b[1;34m()\u001b[0m\n\u001b[1;32m----> 1\u001b[1;33m \u001b[0msns\u001b[0m\u001b[1;33m.\u001b[0m\u001b[0mlmplot\u001b[0m\u001b[1;33m(\u001b[0m\u001b[1;34m\"age\"\u001b[0m\u001b[1;33m,\u001b[0m \u001b[1;34m\"outcome\"\u001b[0m\u001b[1;33m,\u001b[0m \u001b[0mwhickham\u001b[0m\u001b[1;33m,\u001b[0m \u001b[0mhue\u001b[0m\u001b[1;33m=\u001b[0m\u001b[1;34m\"smoker\"\u001b[0m\u001b[1;33m,\u001b[0m \u001b[0msize\u001b[0m\u001b[1;33m=\u001b[0m\u001b[1;36m8\u001b[0m\u001b[1;33m,\u001b[0m \u001b[0maspect\u001b[0m\u001b[1;33m=\u001b[0m\u001b[1;36m1.5\u001b[0m\u001b[1;33m,\u001b[0m \u001b[0my_jitter\u001b[0m\u001b[1;33m=\u001b[0m\u001b[1;36m.1\u001b[0m\u001b[1;33m)\u001b[0m\u001b[1;33m;\u001b[0m\u001b[1;33m\u001b[0m\u001b[0m\n\u001b[0m",
        "\u001b[1;31mNameError\u001b[0m: name 'sns' is not defined"
       ]
      }
     ],
     "prompt_number": 2
    },
    {
     "cell_type": "heading",
     "level": 1,
     "metadata": {},
     "source": [
      "Logistic Regression"
     ]
    },
    {
     "cell_type": "markdown",
     "metadata": {},
     "source": [
      "## What is logistic regression?\n",
      "\n",
      "**Definition: A generalization** of linear regression used to solve **classification problems**.\n",
      "\n",
      "**Logistic regression** is used to solve similar problems as KNN or Na\u00efve Bayes.\n",
      "\n",
      "##Logistic Regression\n",
      "\n",
      "In linear regression, we used a set of covariates to predict the value of a **(continuous) outcome variable.**\n",
      "\n",
      "In logistic regression, we use a set of covariates to predict _probabilities_ of **(binary) class membership.**\n",
      "\n",
      "These probabilities are then mapped to _class labels_, thus solving the classification problem.\n",
      "\n",
      "We use logistic regression to convert probabilities...\n",
      "========================================================\n",
      "![probabilities](assets/logistic_regression1.png)\n",
      "\n",
      "...into class labels!\n",
      "========================================================\n",
      "![class labels](assets/logistic_regression2.png)\n",
      "\n",
      "Probabilities are \u201csnapped\u201d to class labels  \n",
      "(e.g. by threshholding at 50%).\n",
      "\n",
      "Example problems: Logistic Regression\n",
      "========================================================\n",
      "Credit Transactions: Fraudulent? (Yes, No)\n",
      "\n",
      "Gender of a user: (boy, girl)\n",
      "\n",
      "Do I have $x$ disease: (yes, no)\n",
      "\n",
      "Will a student get the question right on the test? (yes, no)\n",
      "\n",
      "Logistic vs Linear Regression\n",
      "========================================================\n",
      "Both of these models work similarly. In fact, we can think of logistic regression as an extension of linear regression.\n",
      "\n",
      "There are a couple important differences, however\n",
      "\n",
      "- Difference 1: Outcome Variables\n",
      "- Difference 2: Error Terms"
     ]
    },
    {
     "cell_type": "heading",
     "level": 1,
     "metadata": {},
     "source": [
      "Outcome Variables"
     ]
    },
    {
     "cell_type": "markdown",
     "metadata": {},
     "source": [
      "The key variable in any regression problem is the **conditional mean** of the outcome variable y given the value of the covariate x:\n",
      "\n",
      "_Conditional mean_: $E(y|x)$\n",
      "\n",
      "In linear regression, we assume that this conditional mean is a linear function taking values in $(-\\infty, +\\infty)$:\n",
      "\n",
      "$$ E(y|x) = \\alpha + \\beta x $$\n",
      "\n",
      "## Why we shouldn't use linear regression for classification problems\n",
      "\n",
      "Bounds can be greater than 0 and 1\n",
      "\n",
      "Sometimes extra data can really throw off our thresholds\n",
      "\n",
      "Impossible to scale/predict when data throws off the regression\n",
      "\n",
      "## Outcome Variables\n",
      "\n",
      "In logistic regression, we\u2019ve seen that the _conditional mean of the outcome variable takes values only in the unit interval [0, 1]_.\n",
      "\n",
      "0 = negative class (false)\n",
      "\n",
      "1 = positive class (true)\n",
      "\n",
      "The first step in extending linear regression to logistic regression is to map the outcome variable $E(y|x)$ into the unit interval.\n",
      "\n",
      "## How do we do this?\n",
      "\n",
      "By using a transformation called the **logistic function**:\n",
      "$$ E(y|x) = \\pi(x) = \\frac{e^{\\alpha + \\beta x}}{1 + e^{\\alpha + \\beta x}} $$\n",
      "\n",
      "We've already seen what this looks like:  \n",
      "![probabilities](assets/logistic_regression1.png)\n",
      "\n",
      "For any value of x, y is in the interval [0, 1]  \n",
      "This is a nonlinear transformation!\n",
      "\n",
      "##The Logistic Function\n",
      "\n",
      "The **logit function** is an important transformation of the logistic function. Notice that it returns the linear model!  \n",
      "$$ g(x) = ln\\left(\\frac{\\pi(x)}{1-\\pi(x)}\\right) = \\alpha + \\beta x $$\n",
      "\n",
      "Here, $\\pi(x)$ ($pi$ of $x$) is the probability of $x$ occuring\n",
      "\n",
      "(The logit function is also called the **log-odds function**)\n",
      "\n",
      "## Outcome Variables - Review\n",
      "\n",
      "The expected outcome for a logistic regression is anywhere in the range of 0 and 1.\n",
      "\n",
      "A conditional mean just represents the average expected value from a prediction\n",
      "\n",
      "The logistic formula transformation is what allows us to scale our regression results"
     ]
    },
    {
     "cell_type": "heading",
     "level": 1,
     "metadata": {},
     "source": [
      "Error Terms"
     ]
    },
    {
     "cell_type": "markdown",
     "metadata": {},
     "source": [
      "The second difference between linear regression and the logistic regression model is in the error term.\n",
      "\n",
      "One of the key assumptions of linear regression is that the error terms follow independent Gaussian distributions with zero mean and constant variance:  \n",
      "$$ \\epsilon \\sim N(0, \\sigma^2) $$\n",
      "\n",
      "## OLS vs. MLE\n",
      "\n",
      "Consider the following:  \n",
      "\n",
      "| Case | Model 1 | Model 2 | Observed Value |\n",
      "|:----:|:-------:|:-------:|:----:|\n",
      "|   1   |    0.8 |     1.0 | 1 |\n",
      "|   2   |    0.1 |     0.0 | 1 |\n",
      "|   3   |    0.9 |     1.0 | 1 |\n",
      "|   4   |    0.5 |     0.0 | 0 |\n",
      "| Sum Sq. Resid | 1.11 | 1.00 |\n",
      "\n",
      "According to OLS, Model 2 is superior than model _even though Model 2 says it's **impossible** to have an outcome of 1 in case 2_.\n",
      "\n",
      "## Logistic Regression\n",
      "\n",
      "In logistic regression, the outcome variable can take only two values: 0 or 1.\n",
      "\n",
      "It\u2019s easy to show from this that instead of following a Gaussian distribution, the error term in logistic regression follows a Bernoulli distribution:  \n",
      "$$ \\epsilon \\sim B(0, \\pi(1-\\pi)) $$\n",
      "\n",
      "This is the same distribution followed by a coin toss.  \n",
      "Think about why this makes sense!\n",
      "\n",
      "## OLS vs. MLE\n",
      "\n",
      "This is no good. If our model says an event is _impossible_ but it happens anyway, _that is not a good model_. \n",
      "\n",
      "Remember: we are dealing with probabilities. We should _treat_ them like probabilities.\n",
      "\n",
      "Model 1: $P(1,1,1,0) = 0.8 \\times 0.1 \\times 0.9 \\times (1-0.5) = 0.036$\n",
      "\n",
      "Model 2: $P(1,1,1,0) = 1 \\times 0 \\times 1 \\times (1 - 0) = 0$\n",
      "\n",
      "**Conclusion:** Model 1 is better.\n",
      "\n",
      "This is called the Maximum Liklihood Estimate or MLE"
     ]
    },
    {
     "cell_type": "heading",
     "level": 1,
     "metadata": {},
     "source": [
      "GLM"
     ]
    },
    {
     "cell_type": "markdown",
     "metadata": {},
     "source": [
      "These two key differences define the logistic regression model, and they also lead us to a kind of unification of regression techniques called **generalized linear models**.\n",
      "\n",
      "Briefly, GLMs generalize the distribution of the error term, and allow the conditional mean of the response variable to be related to the linear model by a **link function**.\n",
      "\n",
      "In the present case, the error term follows a Bernoulli distribution, and the logit is the link function that connects us to the linear predictor.\n",
      "\n",
      "$$ g(x) = ln\\left(\\frac{\\pi(x)}{1-\\pi(x)}\\right) = \\alpha + \\beta x $$\n",
      "\n",
      "Since the Bernoulli distribution and the logit function share a common parameter $\\pi$, we say that the logit is the **canonical link function** for the Bernoulli distribution."
     ]
    },
    {
     "cell_type": "heading",
     "level": 2,
     "metadata": {},
     "source": [
      "Linear Regression using OLS in `statsmodels`"
     ]
    },
    {
     "cell_type": "code",
     "collapsed": false,
     "input": [
      "lm = smf.ols(\"outcome ~ smoker + age\", data=whickham).fit()\n",
      "lm.params"
     ],
     "language": "python",
     "metadata": {},
     "outputs": [
      {
       "metadata": {},
       "output_type": "pyout",
       "prompt_number": 13,
       "text": [
        "Intercept        1.472554\n",
        "smoker[T.Yes]    0.010474\n",
        "age             -0.016155\n",
        "dtype: float64"
       ]
      }
     ],
     "prompt_number": 13
    },
    {
     "cell_type": "heading",
     "level": 2,
     "metadata": {},
     "source": [
      "Linear Regression using GLM in `statsmodels`"
     ]
    },
    {
     "cell_type": "code",
     "collapsed": false,
     "input": [
      "glm_norm = smf.glm(\"outcome ~ smoker + age\", data=whickham).fit()\n",
      "glm_norm.params"
     ],
     "language": "python",
     "metadata": {},
     "outputs": [
      {
       "metadata": {},
       "output_type": "pyout",
       "prompt_number": 27,
       "text": [
        "Intercept        1.472554\n",
        "smoker[T.Yes]    0.010474\n",
        "age             -0.016155\n",
        "dtype: float64"
       ]
      }
     ],
     "prompt_number": 27
    },
    {
     "cell_type": "heading",
     "level": 2,
     "metadata": {},
     "source": [
      "Linear Regression using GLM (with `family` specified)"
     ]
    },
    {
     "cell_type": "code",
     "collapsed": false,
     "input": [
      "glm_norm = smf.glm(\"outcome ~ smoker + age\", data=whickham, family=sm.families.Gaussian()).fit()\n",
      "glm_norm.params"
     ],
     "language": "python",
     "metadata": {},
     "outputs": [
      {
       "metadata": {},
       "output_type": "pyout",
       "prompt_number": 29,
       "text": [
        "Intercept        1.472554\n",
        "smoker[T.Yes]    0.010474\n",
        "age             -0.016155\n",
        "dtype: float64"
       ]
      }
     ],
     "prompt_number": 29
    },
    {
     "cell_type": "heading",
     "level": 2,
     "metadata": {},
     "source": [
      "Logistic Regression using GLM"
     ]
    },
    {
     "cell_type": "code",
     "collapsed": false,
     "input": [
      "glm_binom = smf.glm(\"outcome ~ smoker + age\", data=whickham, family=sm.families.Binomial()).fit()\n",
      "glm_binom.params"
     ],
     "language": "python",
     "metadata": {},
     "outputs": [
      {
       "metadata": {},
       "output_type": "pyout",
       "prompt_number": 26,
       "text": [
        "Intercept        7.599221\n",
        "smoker[T.Yes]   -0.204699\n",
        "age             -0.123683\n",
        "dtype: float64"
       ]
      }
     ],
     "prompt_number": 26
    },
    {
     "cell_type": "heading",
     "level": 2,
     "metadata": {},
     "source": [
      "Logistic Regression using Logit"
     ]
    },
    {
     "cell_type": "code",
     "collapsed": false,
     "input": [
      "smf.logit(\"outcome ~ smoker + age\", data=whickham).fit().params"
     ],
     "language": "python",
     "metadata": {},
     "outputs": [
      {
       "output_type": "stream",
       "stream": "stdout",
       "text": [
        "Optimization terminated successfully.\n",
        "         Current function value: 0.359597\n",
        "         Iterations 7\n"
       ]
      },
      {
       "metadata": {},
       "output_type": "pyout",
       "prompt_number": 28,
       "text": [
        "Intercept        7.599221\n",
        "smoker[T.Yes]   -0.204699\n",
        "age             -0.123683\n",
        "dtype: float64"
       ]
      }
     ],
     "prompt_number": 28
    },
    {
     "cell_type": "heading",
     "level": 1,
     "metadata": {},
     "source": [
      "Bernoulli Distribution"
     ]
    },
    {
     "cell_type": "code",
     "collapsed": false,
     "input": [
      "sns.lmplot(\"age\", \"outcome\", whickham, hue=\"smoker\", logistic=True, size=8, aspect=1.5, y_jitter=.1);"
     ],
     "language": "python",
     "metadata": {},
     "outputs": [
      {
       "metadata": {},
       "output_type": "display_data",
       "png": "[encoded data removed]",
       "text": [
        "<matplotlib.figure.Figure at 0x10e298490>"
       ]
      }
     ],
     "prompt_number": 30
    },
    {
     "cell_type": "markdown",
     "metadata": {},
     "source": [
      "This utilizes logit for our link function."
     ]
    },
    {
     "cell_type": "markdown",
     "metadata": {},
     "source": [
      "Error terms - Review\n",
      "========================================================\n",
      "The Gaussian discribution represents the typical distribution we'd see in a linear regression\n",
      "\n",
      "The Bernoulli represents the typical distribution we'd see in a logistic regression\n",
      "\n",
      "Understanding these two distrubutions helps us better understand what should be expected in our outcomes"
     ]
    },
    {
     "cell_type": "heading",
     "level": 1,
     "metadata": {},
     "source": [
      "Interpreting Results"
     ]
    },
    {
     "cell_type": "markdown",
     "metadata": {},
     "source": [
      "Linear Regression Coefficients\n",
      "========================================================\n",
      "Linear regression coefficients are fairly easy to interpret:\n",
      "\n",
      "```\n",
      "(Intercept)   smokerYes         age \n",
      "    1.47255     0.01047    -0.01616 \n",
      "```\n",
      "\n",
      "$$ y = 1.47 + 0.01 \\times (smoker = Yes) - 0.016 \\times age $$  \n",
      "\n",
      "$y$ is the dependant variable"
     ]
    },
    {
     "cell_type": "markdown",
     "metadata": {},
     "source": [
      "Logistic Regression Coefficients\n",
      "========================================================\n",
      "Logistic regression coefficients are less straightforward:\n",
      "\n",
      "```\n",
      "(Intercept)   smokerYes         age \n",
      "     7.5992     -0.2047     -0.1237 \n",
      "```\n",
      "\n",
      "$$ y = 7.599 - 0.205 \\times (smoker = Yes) - 0.124 \\times age $$\n",
      "\n",
      "Take our 20-year old smoker:  \n",
      "$$ y = 7.6 - 0.2 - 0.123 \\times 20 = 4.9 $$  \n",
      "\n",
      "But what does $y = 4.9$ mean?"
     ]
    },
    {
     "cell_type": "markdown",
     "metadata": {},
     "source": [
      "Interepeting Results\n",
      "========================================================\n",
      "In linear regression, the parameter $\\beta$ represents the change in the response variable for a unit change in the covariate.\n",
      "\n",
      "In logistic regression, $\\beta$ represents the change in the logit function for a unit change in the covariate.\n",
      "\n",
      "$$ \\pi(1) = \\frac{e^\\beta}{1+e^\\beta} $$\n",
      "\n",
      "$$ \\frac{e^{4.9}}{1+e^{4.9}} = 0.99 $$\n",
      "\n",
      "In other words, our 20-year-old smoker has a 99% chance of surviving another 20 years."
     ]
    },
    {
     "cell_type": "heading",
     "level": 1,
     "metadata": {},
     "source": [
      "Odds"
     ]
    },
    {
     "cell_type": "markdown",
     "metadata": {},
     "source": [
      "\"**Odds** are another way of talking about probability $\\pi$. Rather than being a number between 0 and 1, an odds is a number between 0 and $\\infty$. The odds is calculated as: \n",
      "$$ O(1) = \\frac{\\pi(1)}{1 - \\pi(1)} $$  \n",
      "For example:  given a probability 50.0%: $O(1) = ^{0.50}/_{1 - 0.50} = 1$\"\n",
      "\n",
      "(from [Statistical Modeling](http://www.mosaic-web.org/go/StatisticalModeling/))"
     ]
    },
    {
     "cell_type": "markdown",
     "metadata": {},
     "source": [
      "Odds Ratio\n",
      "========================================================\n",
      "The **odds ratio** of a binary event is given by the odds of the event divided by the odds of its complement:  \n",
      "$$ OR = \\frac{O(x=1)}{O(x=0)} = \\frac{^{\\pi(1)}/_{1 - \\pi(1)}}{^{\\pi(0)}/_{1 - \\pi(0)}} $$"
     ]
    },
    {
     "cell_type": "markdown",
     "metadata": {},
     "source": [
      "Interepeting Results\n",
      "========================================================\n",
      "incremental: true\n",
      "Substituting the definition of $\\pi(x)$ into this equation yields:  \n",
      "$$ OR = e^\\beta $$\n",
      "\n",
      "This simple relationship between the odds ratio and the parameter $\\beta$ is what makes logistic regression such a powerful tool."
     ]
    },
    {
     "cell_type": "markdown",
     "metadata": {},
     "source": [
      "How do we interpret this?\n",
      "========================================================\n",
      "The odds ratio of a binary event gives the increase in likelihood of an outcome if the event occurs."
     ]
    },
    {
     "cell_type": "markdown",
     "metadata": {},
     "source": [
      "Example\n",
      "========================================================\n",
      "Suppose we are flipping coins.\n",
      "\n",
      "In this case, we know that the probability of it landing on tails is .5, and the probability of it landing on heads is .5\n",
      "\n",
      "Therefore, we know our odds ratio is $\\frac{^{.5}/_{.5}}{^{.5}/_{.5}} = 1$\n",
      "\n"
     ]
    },
    {
     "cell_type": "markdown",
     "metadata": {},
     "source": [
      "Example\n",
      "========================================================\n",
      "Suppose we are interested in mobile purchase behavior. Let $y$ be a class label denoting purchase/no purchase, and let $x$ denote a mobile OS (for example, iOS). Say:  \n",
      "$P(purchase|Android) = 69.8\\%$ and  \n",
      "$P(purchase|iOS) = 83.1\\%$ \n",
      "\n",
      "* $O_{Android}(1) = \\frac{0.698}{0.302} = 2.31$\n",
      "* $O_{iOS}(1) = \\frac{0.831}{0.179} = 4.6$\n",
      "\n",
      "In this case, an odds ratio of $^{4.6}/_{2.3} = 2$ indicates that a purchase is twice as likely for an iOS user as for an Android user."
     ]
    },
    {
     "cell_type": "markdown",
     "metadata": {},
     "source": [
      "Intrepreting Results - Review\n",
      "========================================================\n",
      "We measure change using the logit function\n",
      "\n",
      "Odds let us know how likely some even will occur\n",
      "\n",
      "An odds ratio provides the change in likelihood for some event\n",
      "\n",
      "Odds ratio helps us understand how different features effect the final probability!"
     ]
    },
    {
     "cell_type": "markdown",
     "metadata": {},
     "source": [
      "Logistic Regression vs KNN\n",
      "========================================================\n",
      "$k$-NN is always distance based and not (always) a linear relationship\n",
      "\n",
      "_Logistic regression is a generalization and always linear_\n",
      "\n",
      "**Generalization**: making for a simpler representation of data given"
     ]
    },
    {
     "cell_type": "markdown",
     "metadata": {},
     "source": [
      "Logistic Regression vs Na\u00efve Bayes\n",
      "========================================================\n",
      "Bayes is **generative**: based on general assumptions given about the data to classify answers\n",
      "\n",
      "_Logistic regression is **discriminative**: classification does not depend completely on the data set_"
     ]
    },
    {
     "cell_type": "heading",
     "level": 1,
     "metadata": {},
     "source": [
      "GLM for Poisson Data"
     ]
    },
    {
     "cell_type": "markdown",
     "metadata": {},
     "source": [
      "### GLM for Counts\n",
      "\n",
      "Situation: The outcome variable $Y$ is a count\n",
      "\n",
      "GLM for counts have as it\u2019s random component the **Poisson Distribution**\n",
      "\n",
      "1. Number of cargo ships damaged by waves (classic example given by McCullagh & Nelder, 1989)\n",
      "2. Number of deaths due to AIDs in Australia per quarter\n",
      "3. Daily homicide counts in California"
     ]
    },
    {
     "cell_type": "markdown",
     "metadata": {},
     "source": [
      "### Poisson Rates\n",
      "\n",
      "In some cases, the counts are affected by the amount of \u201cexposure\u201d.\n",
      "\n",
      "For example, the number of homicides may be affected by\n",
      "\n",
      "1. The underlying population size\n",
      "2. The local gun laws\n",
      "3. The size of the police force\n",
      "\n",
      "When this occurs, we may want to take into account the \u201cdenominator\u201d and form a rate such as\n",
      "\n",
      "$$Y/t = rate$$\n",
      "\n",
      "where $t$ represents a quantification of exposure.\n",
      "\n",
      "We will also look that this defined as\n",
      "$$Y = rate \u2217 t$$"
     ]
    },
    {
     "cell_type": "markdown",
     "metadata": {},
     "source": [
      "### Components of the GLM\n",
      "\n",
      "The components of a GLM for a count response are\n",
      "\n",
      "1. Random Component: Poisson distribution and model the expected value of $Y$, denoted by $E(Y) = \\mu$.\n",
      "2. Systematic component: For now we will look at just one explanatory variable $x$\n",
      "3. Link: We could use\n",
      "    1. **Identity Link** which would give us $$\\mu = \\alpha + \\beta x$$ But, just as for binomial data, the model can yield $\\mu < 0$ (Note $\\mu \\geq 0$)\n",
      "    2. **Log Link** (most common and the canonical link) $$log(\\mu) = \\alpha + \\beta x$$"
     ]
    },
    {
     "cell_type": "markdown",
     "metadata": {},
     "source": [
      "### Poisson Loglinear Model\n",
      "\n",
      "Our model is\n",
      "$$log(\\mu) = \\alpha + \\beta x$$\n",
      "\n",
      "Since the log of the expected value of $Y$ is a linear function of explanatory variable(s), and\n",
      "the expected value of $Y$ is a multiplicative function of $x$:\n",
      "\n",
      "$$\\mu = e^{\\alpha+\\beta x}\\\\\n",
      "\\mu = e^\\alpha e^{\\beta x}$$\n",
      "What does this mean for $\\mu$? How do we interpret $\\beta$?"
     ]
    },
    {
     "cell_type": "markdown",
     "metadata": {},
     "source": [
      "Consider 2 values of $x$, say ($x_1$ & $x_2$) such that the difference between them equals 1. For\n",
      "example, $x_1 = 10$ and $x_2 = 11$.\n",
      "\n",
      "Denote, $\\mu_1 = E(Y | x = 10)$. Then\n",
      "$$\\mu_1 = e^\\alpha e^{\\beta 10}$$\n",
      "and the expected value when $x = 11$ is\n",
      "$$\\mu_2 = e^\\alpha e^{\\beta 11}\\\\\n",
      "= e^\\alpha e^{\\beta 10} e^\\beta\\\\\n",
      "= \\mu_1 e^\\beta$$\n",
      "Thus, a 1-unit change in $x$ has a multiplicative effect on the mean of $Y$."
     ]
    },
    {
     "cell_type": "markdown",
     "metadata": {},
     "source": [
      "1. If $\\beta = 0$, then $e^0 = 1$ and $\\mu_2$ is the same as $\\mu_1$. That is, $\\mu = E(Y)$ is not related to $x$.\n",
      "2. if $\\beta > 0$, then $e^\\beta > 1$ and $\\mu_2$ is $e^\\beta$ times **larger** than $\\mu_1$.\n",
      "3. if $\\beta < 0$, then $e^\\beta < 1$ and $\\mu_2$ is $e^\\beta$ times **smaller** than $\\mu_1$."
     ]
    },
    {
     "cell_type": "markdown",
     "metadata": {},
     "source": [
      "### Example \n",
      "\n",
      "<small>Adapted from [stat.umn.edu/geyer/5931/mle/seeds.pdf](http://www.stat.umn.edu/geyer/5931/mle/seeds.pdf)</small>\n",
      "\n",
      "As part of a research program to assess the evolutionary consequences of extreme\n",
      "population fragmentation, Stuart Wagenius has conducted a field experiment to \n",
      "study seedling recruitment in *Echinacea angustifolia*\n",
      "(purple coneflower).  The \n",
      "experiment was designed to test the effect of different vegetation types and \n",
      "burn treatments on recruitment.  Interactions between these factors were also\n",
      "of interest.\n",
      "\n",
      "Approximately 100 seeds were sown into each plot.  In order to establish the \n",
      "viability of each seed lot, germination trials were conducted in the lab on\n",
      "randomly chosen lots of a known number of seeds (also around 100).  It was \n",
      "of interest to take into account the results of the germination trials in \n",
      "the analysis of the data from the field experiment.\n",
      "\n",
      "The experiment was conducted for three years, with new lots of seeds sown \n",
      "into a separate set of plots in the fall of each year and seedling \n",
      "establishment monitored in the spring.  \n",
      "\n",
      "The data for the year 2003 can be read into `python` and inspected by"
     ]
    },
    {
     "cell_type": "code",
     "collapsed": false,
     "input": [
      "mydata = pd.read_table(\"data/seeds.txt\", delim_whitespace=True)\n",
      "mydata.head()"
     ],
     "language": "python",
     "metadata": {},
     "outputs": [
      {
       "html": [
        "<div style=\"max-height:1000px;max-width:1500px;overflow:auto;\">\n",
        "<table border=\"1\" class=\"dataframe\">\n",
        "  <thead>\n",
        "    <tr style=\"text-align: right;\">\n",
        "      <th></th>\n",
        "      <th>vegtype</th>\n",
        "      <th>burn01</th>\n",
        "      <th>burn02</th>\n",
        "      <th>burn03</th>\n",
        "      <th>totalseeds</th>\n",
        "      <th>seedlings</th>\n",
        "    </tr>\n",
        "  </thead>\n",
        "  <tbody>\n",
        "    <tr>\n",
        "      <th>1</th>\n",
        "      <td> oldfieldcool</td>\n",
        "      <td> yes</td>\n",
        "      <td> no</td>\n",
        "      <td> no</td>\n",
        "      <td> 100</td>\n",
        "      <td> 5</td>\n",
        "    </tr>\n",
        "    <tr>\n",
        "      <th>2</th>\n",
        "      <td> oldfieldcool</td>\n",
        "      <td> yes</td>\n",
        "      <td> no</td>\n",
        "      <td> no</td>\n",
        "      <td> 100</td>\n",
        "      <td> 3</td>\n",
        "    </tr>\n",
        "    <tr>\n",
        "      <th>3</th>\n",
        "      <td> oldfieldcool</td>\n",
        "      <td> yes</td>\n",
        "      <td> no</td>\n",
        "      <td> no</td>\n",
        "      <td> 100</td>\n",
        "      <td> 4</td>\n",
        "    </tr>\n",
        "    <tr>\n",
        "      <th>4</th>\n",
        "      <td> oldfieldcool</td>\n",
        "      <td>  no</td>\n",
        "      <td> no</td>\n",
        "      <td> no</td>\n",
        "      <td> 100</td>\n",
        "      <td> 0</td>\n",
        "    </tr>\n",
        "    <tr>\n",
        "      <th>5</th>\n",
        "      <td> oldfieldcool</td>\n",
        "      <td>  no</td>\n",
        "      <td> no</td>\n",
        "      <td> no</td>\n",
        "      <td> 100</td>\n",
        "      <td> 3</td>\n",
        "    </tr>\n",
        "  </tbody>\n",
        "</table>\n",
        "</div>"
       ],
       "metadata": {},
       "output_type": "pyout",
       "prompt_number": 39,
       "text": [
        "        vegtype burn01 burn02 burn03  totalseeds  seedlings\n",
        "1  oldfieldcool    yes     no     no         100          5\n",
        "2  oldfieldcool    yes     no     no         100          3\n",
        "3  oldfieldcool    yes     no     no         100          4\n",
        "4  oldfieldcool     no     no     no         100          0\n",
        "5  oldfieldcool     no     no     no         100          3"
       ]
      }
     ],
     "prompt_number": 39
    },
    {
     "cell_type": "markdown",
     "metadata": {},
     "source": [
      "from which we see there are six variables in the data set\n",
      "`vegtype`, `burn01`, `burn02`, `burn03`,\n",
      "`totalseeds`, and `seedlings`.\n",
      "\n",
      "Working backwards from the end, `seedlings` is the number of seedlings\n",
      "that sprouted.  This is the response and is assumed to be\n",
      "$\\text{Poisson}(n \\lambda)$, where $n$ is the number of seeds sown,\n",
      "the variable `totalseeds` in the data set, and $\\lambda$ is some\n",
      "function of the other covariates (`vegtype` and the three `burn`\n",
      "variables).\n",
      "\n",
      "The variable `vegtype` indicates the type of field.  The `oldfield`\n",
      "part of a value (in both `oldfieldcool` and `oldfieldwarm`)\n",
      "indicates that the field was once used for agriculture.  The\n",
      "`warm` part of a value (in both `oldfieldwarm` and `plantwarm`)\n",
      "indicates warm weather grasses were growing in the field and\n",
      "the `cool` part of a value indicates cool weather grasses.\n",
      "The value `yes` for the variables `burn01`, `burn02`,\n",
      "and `burn03` indicates that a field was burned in 2001, 2002, or 2003,\n",
      "respectively.  Owing to a mistake in the experimental design `burn03`\n",
      "is completely confounded with `vegtype` and hence has been omitted from\n",
      "the analysis (this isn't right, but it is not clear what else to do)."
     ]
    },
    {
     "cell_type": "code",
     "collapsed": false,
     "input": [
      "out = smf.glm('seedlings ~ vegtype + burn01 == \"no\" + burn02 == \"no\"', data=mydata, \n",
      "              offset=np.log(mydata.totalseeds), \n",
      "              family=sm.families.Poisson()).fit()\n",
      "out.summary()"
     ],
     "language": "python",
     "metadata": {},
     "outputs": [
      {
       "html": [
        "<table class=\"simpletable\">\n",
        "<caption>Generalized Linear Model Regression Results</caption>\n",
        "<tr>\n",
        "  <th>Dep. Variable:</th>      <td>seedlings</td>    <th>  No. Observations:  </th>  <td>   177</td> \n",
        "</tr>\n",
        "<tr>\n",
        "  <th>Model:</th>                 <td>GLM</td>       <th>  Df Residuals:      </th>  <td>   170</td> \n",
        "</tr>\n",
        "<tr>\n",
        "  <th>Model Family:</th>        <td>Poisson</td>     <th>  Df Model:          </th>  <td>     6</td> \n",
        "</tr>\n",
        "<tr>\n",
        "  <th>Link Function:</th>         <td>log</td>       <th>  Scale:             </th>    <td>1.0</td>  \n",
        "</tr>\n",
        "<tr>\n",
        "  <th>Method:</th>               <td>IRLS</td>       <th>  Log-Likelihood:    </th> <td> -410.11</td>\n",
        "</tr>\n",
        "<tr>\n",
        "  <th>Date:</th>           <td>Wed, 11 Feb 2015</td> <th>  Deviance:          </th> <td>  639.64</td>\n",
        "</tr>\n",
        "<tr>\n",
        "  <th>Time:</th>               <td>14:58:58</td>     <th>  Pearson chi2:      </th>  <td>  563.</td> \n",
        "</tr>\n",
        "<tr>\n",
        "  <th>No. Iterations:</th>         <td>8</td>        <th>                     </th>     <td> </td>   \n",
        "</tr>\n",
        "</table>\n",
        "<table class=\"simpletable\">\n",
        "<tr>\n",
        "             <td></td>                <th>coef</th>     <th>std err</th>      <th>t</th>      <th>P>|t|</th> <th>[95.0% Conf. Int.]</th> \n",
        "</tr>\n",
        "<tr>\n",
        "  <th>Intercept</th>               <td>   -1.6353</td> <td>    0.058</td> <td>  -28.229</td> <td> 0.000</td> <td>   -1.749    -1.522</td>\n",
        "</tr>\n",
        "<tr>\n",
        "  <th>vegtype[T.oldfieldcool]</th> <td>   -1.1184</td> <td>    0.193</td> <td>   -5.805</td> <td> 0.000</td> <td>   -1.496    -0.741</td>\n",
        "</tr>\n",
        "<tr>\n",
        "  <th>vegtype[T.oldfieldwarm]</th> <td>   -0.9849</td> <td>    0.224</td> <td>   -4.390</td> <td> 0.000</td> <td>   -1.425    -0.545</td>\n",
        "</tr>\n",
        "<tr>\n",
        "  <th>vegtype[T.plantcool]</th>    <td>   -2.5315</td> <td>    0.274</td> <td>   -9.225</td> <td> 0.000</td> <td>   -3.069    -1.994</td>\n",
        "</tr>\n",
        "<tr>\n",
        "  <th>vegtype[T.plantwarm]</th>    <td>   -1.7280</td> <td>    0.229</td> <td>   -7.551</td> <td> 0.000</td> <td>   -2.176    -1.279</td>\n",
        "</tr>\n",
        "<tr>\n",
        "  <th>burn01 == \"no\"[T.True]</th>  <td>   -0.6843</td> <td>    0.153</td> <td>   -4.476</td> <td> 0.000</td> <td>   -0.984    -0.385</td>\n",
        "</tr>\n",
        "<tr>\n",
        "  <th>burn02 == \"no\"[T.True]</th>  <td>   -0.7204</td> <td>    0.156</td> <td>   -4.611</td> <td> 0.000</td> <td>   -1.027    -0.414</td>\n",
        "</tr>\n",
        "</table>"
       ],
       "metadata": {},
       "output_type": "pyout",
       "prompt_number": 58,
       "text": [
        "<class 'statsmodels.iolib.summary.Summary'>\n",
        "\"\"\"\n",
        "                 Generalized Linear Model Regression Results                  \n",
        "==============================================================================\n",
        "Dep. Variable:              seedlings   No. Observations:                  177\n",
        "Model:                            GLM   Df Residuals:                      170\n",
        "Model Family:                 Poisson   Df Model:                            6\n",
        "Link Function:                    log   Scale:                             1.0\n",
        "Method:                          IRLS   Log-Likelihood:                -410.11\n",
        "Date:                Wed, 11 Feb 2015   Deviance:                       639.64\n",
        "Time:                        14:58:58   Pearson chi2:                     563.\n",
        "No. Iterations:                     8                                         \n",
        "===========================================================================================\n",
        "                              coef    std err          t      P>|t|      [95.0% Conf. Int.]\n",
        "-------------------------------------------------------------------------------------------\n",
        "Intercept                  -1.6353      0.058    -28.229      0.000        -1.749    -1.522\n",
        "vegtype[T.oldfieldcool]    -1.1184      0.193     -5.805      0.000        -1.496    -0.741\n",
        "vegtype[T.oldfieldwarm]    -0.9849      0.224     -4.390      0.000        -1.425    -0.545\n",
        "vegtype[T.plantcool]       -2.5315      0.274     -9.225      0.000        -3.069    -1.994\n",
        "vegtype[T.plantwarm]       -1.7280      0.229     -7.551      0.000        -2.176    -1.279\n",
        "burn01 == \"no\"[T.True]     -0.6843      0.153     -4.476      0.000        -0.984    -0.385\n",
        "burn02 == \"no\"[T.True]     -0.7204      0.156     -4.611      0.000        -1.027    -0.414\n",
        "===========================================================================================\n",
        "\"\"\""
       ]
      }
     ],
     "prompt_number": 58
    },
    {
     "cell_type": "markdown",
     "metadata": {},
     "source": [
      "The way this works is that the mean value parameter is n\u0015. The link function\n",
      "we are using is \u201clog\u201d (the default for the poisson family), which makes the linear\n",
      "predictor the same as the canonical parameter\n",
      "$$\\eta = \\log(n) + \\log(\\lambda)$$\n",
      "thus we see that $\\log(n)$ is just a *known* constant additive term in the linear\n",
      "predictor. The way `statsmodels` handles such a term in the linear predictor that does\n",
      "not contain an unknown parameter to fit is as an \u201coffset\u201d. Since the variable\n",
      "$n$ in the math formula is the variable `totalseeds` in python, the \u201coffset\u201d is\n",
      "`log(totalseeds)`.\n",
      "\n",
      "Thus the model being fit is that the linear predictor value of the $i$-th case is\n",
      "$$\\eta_i = \\log(n_i) + \\sum_{j=1}^k d_{ij}\\beta_j$$\n",
      "where the $\\beta_j$ are the regression coefficients and $d_{ij}$ the value of the $j$-th dummy\n",
      "variable for the $i$-th case. You don\u2019t create the dummy variables. `statsmodels` does that\n",
      "for itself."
     ]
    }
   ],
   "metadata": {}
  }
 ]
}